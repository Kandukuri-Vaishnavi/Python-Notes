{
 "cells": [
  {
   "cell_type": "code",
   "execution_count": 2,
   "metadata": {},
   "outputs": [],
   "source": [
    "import numpy as np\n",
    "import pandas as pd\n",
    "import matplotlib.pyplot as plt\n",
    "import seaborn as sns\n",
    "import os,sys"
   ]
  },
  {
   "cell_type": "code",
   "execution_count": 3,
   "metadata": {},
   "outputs": [
    {
     "data": {
      "text/plain": [
       "'C:\\\\Users\\\\890234.CTS\\\\Python notes\\\\stats and ML\\\\sundaram\\\\parkisons'"
      ]
     },
     "execution_count": 3,
     "metadata": {},
     "output_type": "execute_result"
    }
   ],
   "source": [
    "os.getcwd()"
   ]
  },
  {
   "cell_type": "code",
   "execution_count": 7,
   "metadata": {},
   "outputs": [],
   "source": [
    "pd.set_option(\"display.max_rows\",200)\n",
    "pd.set_option(\"display.max_columns\",25)\n",
    "pd.set_option(\"display.width\",200)"
   ]
  },
  {
   "cell_type": "code",
   "execution_count": 10,
   "metadata": {},
   "outputs": [],
   "source": [
    "df=pd.read_csv(\"parkinsons.data\")"
   ]
  },
  {
   "cell_type": "code",
   "execution_count": 13,
   "metadata": {},
   "outputs": [
    {
     "data": {
      "text/plain": [
       "name                0\n",
       "MDVP:Fo(Hz)         0\n",
       "MDVP:Fhi(Hz)        0\n",
       "MDVP:Flo(Hz)        0\n",
       "MDVP:Jitter(%)      0\n",
       "MDVP:Jitter(Abs)    0\n",
       "MDVP:RAP            0\n",
       "MDVP:PPQ            0\n",
       "Jitter:DDP          0\n",
       "MDVP:Shimmer        0\n",
       "MDVP:Shimmer(dB)    0\n",
       "Shimmer:APQ3        0\n",
       "Shimmer:APQ5        0\n",
       "MDVP:APQ            0\n",
       "Shimmer:DDA         0\n",
       "NHR                 0\n",
       "HNR                 0\n",
       "status              0\n",
       "RPDE                0\n",
       "DFA                 0\n",
       "spread1             0\n",
       "spread2             0\n",
       "D2                  0\n",
       "PPE                 0\n",
       "dtype: int64"
      ]
     },
     "execution_count": 13,
     "metadata": {},
     "output_type": "execute_result"
    }
   ],
   "source": [
    "df.isnull().sum()"
   ]
  },
  {
   "cell_type": "code",
   "execution_count": 15,
   "metadata": {},
   "outputs": [
    {
     "data": {
      "text/plain": [
       "array([0.02211, 0.01929, 0.01309, 0.01353, 0.01767, 0.01222, 0.00607,\n",
       "       0.00344, 0.0107 , 0.01022, 0.01166, 0.01141, 0.00581, 0.01041,\n",
       "       0.00609, 0.00839, 0.01859, 0.02919, 0.0316 , 0.03365, 0.03871,\n",
       "       0.01849, 0.0128 , 0.0184 , 0.01778, 0.02887, 0.01095, 0.01328,\n",
       "       0.00677, 0.0117 , 0.00339, 0.00167, 0.00119, 0.00072, 0.00065,\n",
       "       0.00135, 0.00586, 0.0034 , 0.00231, 0.00265, 0.00257, 0.0074 ,\n",
       "       0.00675, 0.00454, 0.00476, 0.00432, 0.00462, 0.00479, 0.00474,\n",
       "       0.00481, 0.00484, 0.01036, 0.0118 , 0.00969, 0.00681, 0.00786,\n",
       "       0.01143, 0.00871, 0.00301, 0.00351, 0.003  , 0.0042 , 0.02183,\n",
       "       0.02659, 0.04882, 0.02431, 0.02599, 0.03361, 0.00442, 0.00623,\n",
       "       0.00472, 0.00905, 0.01062, 0.0222 , 0.01823, 0.01825, 0.01237,\n",
       "       0.00882, 0.0547 , 0.02782, 0.03151, 0.04824, 0.04214, 0.07223,\n",
       "       0.08725, 0.01658, 0.01914, 0.01211, 0.0085 , 0.01018, 0.00852,\n",
       "       0.08151, 0.10323, 0.16744, 0.31482, 0.11843, 0.2593 , 0.00495,\n",
       "       0.00243, 0.00578, 0.00233, 0.00659, 0.00238, 0.00947, 0.00704,\n",
       "       0.0083 , 0.01316, 0.0062 , 0.01048, 0.06051, 0.01554, 0.01802,\n",
       "       0.00856, 0.0235 , 0.01161, 0.01968, 0.01813, 0.0202 , 0.01874,\n",
       "       0.01794, 0.01796, 0.01724, 0.00487, 0.0161 , 0.01015, 0.00903,\n",
       "       0.00504, 0.03031, 0.02529, 0.02278, 0.0369 , 0.02629, 0.01827,\n",
       "       0.02485, 0.04238, 0.01728, 0.0201 , 0.01049, 0.01493, 0.0753 ,\n",
       "       0.06057, 0.08069, 0.07889, 0.10952, 0.21713, 0.16265, 0.04179,\n",
       "       0.04611, 0.02631, 0.03191, 0.10748, 0.03828, 0.02663, 0.02073,\n",
       "       0.0281 , 0.02707, 0.01435, 0.03882, 0.00533, 0.0091 , 0.01337,\n",
       "       0.00965, 0.00435, 0.0043 , 0.00478, 0.0059 , 0.00401, 0.00415,\n",
       "       0.0057 , 0.00488, 0.0054 , 0.00611, 0.00639, 0.00595, 0.00955,\n",
       "       0.01179, 0.00737, 0.01397, 0.0068 , 0.00703, 0.04441, 0.02764,\n",
       "       0.0181 , 0.10715, 0.04398])"
      ]
     },
     "execution_count": 15,
     "metadata": {},
     "output_type": "execute_result"
    }
   ],
   "source": []
  },
  {
   "cell_type": "code",
   "execution_count": null,
   "metadata": {},
   "outputs": [],
   "source": []
  }
 ],
 "metadata": {
  "kernelspec": {
   "display_name": "Python 3",
   "language": "python",
   "name": "python3"
  },
  "language_info": {
   "codemirror_mode": {
    "name": "ipython",
    "version": 3
   },
   "file_extension": ".py",
   "mimetype": "text/x-python",
   "name": "python",
   "nbconvert_exporter": "python",
   "pygments_lexer": "ipython3",
   "version": "3.8.3"
  }
 },
 "nbformat": 4,
 "nbformat_minor": 4
}
