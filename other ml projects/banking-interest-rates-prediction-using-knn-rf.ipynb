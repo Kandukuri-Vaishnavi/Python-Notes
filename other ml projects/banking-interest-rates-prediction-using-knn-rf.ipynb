{
 "cells": [
  {
   "cell_type": "code",
   "execution_count": 1,
   "metadata": {
    "execution": {
     "iopub.execute_input": "2020-08-13T09:01:04.513551Z",
     "iopub.status.busy": "2020-08-13T09:01:04.512719Z",
     "iopub.status.idle": "2020-08-13T09:01:05.766080Z",
     "shell.execute_reply": "2020-08-13T09:01:05.765262Z"
    },
    "papermill": {
     "duration": 1.289985,
     "end_time": "2020-08-13T09:01:05.766250",
     "exception": false,
     "start_time": "2020-08-13T09:01:04.476265",
     "status": "completed"
    },
    "tags": []
   },
   "outputs": [],
   "source": [
    "import pandas as pd\n",
    "import numpy as np\n",
    "import matplotlib.pyplot as plt\n",
    "%matplotlib inline\n",
    "import seaborn as sns\n",
    "import warnings\n",
    "warnings.filterwarnings('ignore')"
   ]
  },
  {
   "cell_type": "code",
   "execution_count": 2,
   "metadata": {
    "execution": {
     "iopub.execute_input": "2020-08-13T09:01:05.821848Z",
     "iopub.status.busy": "2020-08-13T09:01:05.820749Z",
     "iopub.status.idle": "2020-08-13T09:01:05.824501Z",
     "shell.execute_reply": "2020-08-13T09:01:05.823749Z"
    },
    "papermill": {
     "duration": 0.033013,
     "end_time": "2020-08-13T09:01:05.824631",
     "exception": false,
     "start_time": "2020-08-13T09:01:05.791618",
     "status": "completed"
    },
    "tags": []
   },
   "outputs": [],
   "source": [
    "pd.set_option('float_format', '{:f}'.format)"
   ]
  },
  {
   "cell_type": "code",
   "execution_count": 3,
   "metadata": {
    "execution": {
     "iopub.execute_input": "2020-08-13T09:01:05.883806Z",
     "iopub.status.busy": "2020-08-13T09:01:05.882982Z",
     "iopub.status.idle": "2020-08-13T09:01:06.536428Z",
     "shell.execute_reply": "2020-08-13T09:01:06.535602Z"
    },
    "papermill": {
     "duration": 0.68808,
     "end_time": "2020-08-13T09:01:06.536563",
     "exception": false,
     "start_time": "2020-08-13T09:01:05.848483",
     "status": "completed"
    },
    "tags": []
   },
   "outputs": [],
   "source": [
    "train = pd.read_csv('../input/janata-hack-machine-learning-for-banking/train_fNxu4vz.csv',thousands=',')\n",
    "test = pd.read_csv('../input/janata-hack-machine-learning-for-banking/test_fjtUOL8.csv',thousands=',')"
   ]
  },
  {
   "cell_type": "code",
   "execution_count": 4,
   "metadata": {
    "execution": {
     "iopub.execute_input": "2020-08-13T09:01:06.605878Z",
     "iopub.status.busy": "2020-08-13T09:01:06.600072Z",
     "iopub.status.idle": "2020-08-13T09:01:06.621289Z",
     "shell.execute_reply": "2020-08-13T09:01:06.621913Z"
    },
    "papermill": {
     "duration": 0.061519,
     "end_time": "2020-08-13T09:01:06.622084",
     "exception": false,
     "start_time": "2020-08-13T09:01:06.560565",
     "status": "completed"
    },
    "tags": []
   },
   "outputs": [
    {
     "name": "stdout",
     "output_type": "stream",
     "text": [
      "(164309, 14)\n"
     ]
    },
    {
     "data": {
      "text/html": [
       "<div>\n",
       "<style scoped>\n",
       "    .dataframe tbody tr th:only-of-type {\n",
       "        vertical-align: middle;\n",
       "    }\n",
       "\n",
       "    .dataframe tbody tr th {\n",
       "        vertical-align: top;\n",
       "    }\n",
       "\n",
       "    .dataframe thead th {\n",
       "        text-align: right;\n",
       "    }\n",
       "</style>\n",
       "<table border=\"1\" class=\"dataframe\">\n",
       "  <thead>\n",
       "    <tr style=\"text-align: right;\">\n",
       "      <th></th>\n",
       "      <th>Loan_ID</th>\n",
       "      <th>Loan_Amount_Requested</th>\n",
       "      <th>Length_Employed</th>\n",
       "      <th>Home_Owner</th>\n",
       "      <th>Annual_Income</th>\n",
       "      <th>Income_Verified</th>\n",
       "      <th>Purpose_Of_Loan</th>\n",
       "      <th>Debt_To_Income</th>\n",
       "      <th>Inquiries_Last_6Mo</th>\n",
       "      <th>Months_Since_Deliquency</th>\n",
       "      <th>Number_Open_Accounts</th>\n",
       "      <th>Total_Accounts</th>\n",
       "      <th>Gender</th>\n",
       "      <th>Interest_Rate</th>\n",
       "    </tr>\n",
       "  </thead>\n",
       "  <tbody>\n",
       "    <tr>\n",
       "      <th>0</th>\n",
       "      <td>10000001</td>\n",
       "      <td>7000</td>\n",
       "      <td>&lt; 1 year</td>\n",
       "      <td>Rent</td>\n",
       "      <td>68000.000000</td>\n",
       "      <td>not verified</td>\n",
       "      <td>car</td>\n",
       "      <td>18.370000</td>\n",
       "      <td>0</td>\n",
       "      <td>nan</td>\n",
       "      <td>9</td>\n",
       "      <td>14</td>\n",
       "      <td>Female</td>\n",
       "      <td>1</td>\n",
       "    </tr>\n",
       "    <tr>\n",
       "      <th>1</th>\n",
       "      <td>10000002</td>\n",
       "      <td>30000</td>\n",
       "      <td>4 years</td>\n",
       "      <td>Mortgage</td>\n",
       "      <td>nan</td>\n",
       "      <td>VERIFIED - income</td>\n",
       "      <td>debt_consolidation</td>\n",
       "      <td>14.930000</td>\n",
       "      <td>0</td>\n",
       "      <td>17.000000</td>\n",
       "      <td>12</td>\n",
       "      <td>24</td>\n",
       "      <td>Female</td>\n",
       "      <td>3</td>\n",
       "    </tr>\n",
       "    <tr>\n",
       "      <th>2</th>\n",
       "      <td>10000003</td>\n",
       "      <td>24725</td>\n",
       "      <td>7 years</td>\n",
       "      <td>Mortgage</td>\n",
       "      <td>75566.400000</td>\n",
       "      <td>VERIFIED - income source</td>\n",
       "      <td>debt_consolidation</td>\n",
       "      <td>15.880000</td>\n",
       "      <td>0</td>\n",
       "      <td>nan</td>\n",
       "      <td>12</td>\n",
       "      <td>16</td>\n",
       "      <td>Male</td>\n",
       "      <td>3</td>\n",
       "    </tr>\n",
       "    <tr>\n",
       "      <th>3</th>\n",
       "      <td>10000004</td>\n",
       "      <td>16000</td>\n",
       "      <td>&lt; 1 year</td>\n",
       "      <td>NaN</td>\n",
       "      <td>56160.000000</td>\n",
       "      <td>VERIFIED - income source</td>\n",
       "      <td>debt_consolidation</td>\n",
       "      <td>14.340000</td>\n",
       "      <td>3</td>\n",
       "      <td>nan</td>\n",
       "      <td>16</td>\n",
       "      <td>22</td>\n",
       "      <td>Male</td>\n",
       "      <td>3</td>\n",
       "    </tr>\n",
       "    <tr>\n",
       "      <th>4</th>\n",
       "      <td>10000005</td>\n",
       "      <td>17000</td>\n",
       "      <td>8 years</td>\n",
       "      <td>Own</td>\n",
       "      <td>96000.000000</td>\n",
       "      <td>VERIFIED - income source</td>\n",
       "      <td>debt_consolidation</td>\n",
       "      <td>22.170000</td>\n",
       "      <td>1</td>\n",
       "      <td>nan</td>\n",
       "      <td>19</td>\n",
       "      <td>30</td>\n",
       "      <td>Female</td>\n",
       "      <td>1</td>\n",
       "    </tr>\n",
       "  </tbody>\n",
       "</table>\n",
       "</div>"
      ],
      "text/plain": [
       "    Loan_ID  Loan_Amount_Requested Length_Employed Home_Owner  Annual_Income  \\\n",
       "0  10000001                   7000        < 1 year       Rent   68000.000000   \n",
       "1  10000002                  30000         4 years   Mortgage            nan   \n",
       "2  10000003                  24725         7 years   Mortgage   75566.400000   \n",
       "3  10000004                  16000        < 1 year        NaN   56160.000000   \n",
       "4  10000005                  17000         8 years        Own   96000.000000   \n",
       "\n",
       "            Income_Verified     Purpose_Of_Loan  Debt_To_Income  \\\n",
       "0              not verified                 car       18.370000   \n",
       "1         VERIFIED - income  debt_consolidation       14.930000   \n",
       "2  VERIFIED - income source  debt_consolidation       15.880000   \n",
       "3  VERIFIED - income source  debt_consolidation       14.340000   \n",
       "4  VERIFIED - income source  debt_consolidation       22.170000   \n",
       "\n",
       "   Inquiries_Last_6Mo  Months_Since_Deliquency  Number_Open_Accounts  \\\n",
       "0                   0                      nan                     9   \n",
       "1                   0                17.000000                    12   \n",
       "2                   0                      nan                    12   \n",
       "3                   3                      nan                    16   \n",
       "4                   1                      nan                    19   \n",
       "\n",
       "   Total_Accounts  Gender  Interest_Rate  \n",
       "0              14  Female              1  \n",
       "1              24  Female              3  \n",
       "2              16    Male              3  \n",
       "3              22    Male              3  \n",
       "4              30  Female              1  "
      ]
     },
     "execution_count": 4,
     "metadata": {},
     "output_type": "execute_result"
    }
   ],
   "source": [
    "print(train.shape)\n",
    "train.head()"
   ]
  },
  {
   "cell_type": "code",
   "execution_count": 5,
   "metadata": {
    "execution": {
     "iopub.execute_input": "2020-08-13T09:01:06.680959Z",
     "iopub.status.busy": "2020-08-13T09:01:06.680129Z",
     "iopub.status.idle": "2020-08-13T09:01:06.722147Z",
     "shell.execute_reply": "2020-08-13T09:01:06.721448Z"
    },
    "papermill": {
     "duration": 0.074712,
     "end_time": "2020-08-13T09:01:06.722306",
     "exception": false,
     "start_time": "2020-08-13T09:01:06.647594",
     "status": "completed"
    },
    "tags": []
   },
   "outputs": [],
   "source": [
    "train_original = train.copy()\n",
    "test_original = test.copy()"
   ]
  },
  {
   "cell_type": "code",
   "execution_count": 6,
   "metadata": {
    "execution": {
     "iopub.execute_input": "2020-08-13T09:01:06.782313Z",
     "iopub.status.busy": "2020-08-13T09:01:06.781395Z",
     "iopub.status.idle": "2020-08-13T09:01:06.786713Z",
     "shell.execute_reply": "2020-08-13T09:01:06.785951Z"
    },
    "papermill": {
     "duration": 0.038854,
     "end_time": "2020-08-13T09:01:06.786849",
     "exception": false,
     "start_time": "2020-08-13T09:01:06.747995",
     "status": "completed"
    },
    "tags": []
   },
   "outputs": [
    {
     "data": {
      "text/plain": [
       "Loan_ID                      int64\n",
       "Loan_Amount_Requested        int64\n",
       "Length_Employed             object\n",
       "Home_Owner                  object\n",
       "Annual_Income              float64\n",
       "Income_Verified             object\n",
       "Purpose_Of_Loan             object\n",
       "Debt_To_Income             float64\n",
       "Inquiries_Last_6Mo           int64\n",
       "Months_Since_Deliquency    float64\n",
       "Number_Open_Accounts         int64\n",
       "Total_Accounts               int64\n",
       "Gender                      object\n",
       "Interest_Rate                int64\n",
       "dtype: object"
      ]
     },
     "execution_count": 6,
     "metadata": {},
     "output_type": "execute_result"
    }
   ],
   "source": [
    "train.dtypes"
   ]
  },
  {
   "cell_type": "code",
   "execution_count": 7,
   "metadata": {
    "execution": {
     "iopub.execute_input": "2020-08-13T09:01:06.848073Z",
     "iopub.status.busy": "2020-08-13T09:01:06.846959Z",
     "iopub.status.idle": "2020-08-13T09:01:06.852151Z",
     "shell.execute_reply": "2020-08-13T09:01:06.851393Z"
    },
    "papermill": {
     "duration": 0.039466,
     "end_time": "2020-08-13T09:01:06.852292",
     "exception": false,
     "start_time": "2020-08-13T09:01:06.812826",
     "status": "completed"
    },
    "tags": []
   },
   "outputs": [
    {
     "data": {
      "text/plain": [
       "['Length_Employed',\n",
       " 'Home_Owner',\n",
       " 'Income_Verified',\n",
       " 'Purpose_Of_Loan',\n",
       " 'Gender']"
      ]
     },
     "execution_count": 7,
     "metadata": {},
     "output_type": "execute_result"
    }
   ],
   "source": [
    "category = []\n",
    "for col in train.columns:\n",
    "    if train[col].dtypes == 'object':\n",
    "        category.append(col)\n",
    "category"
   ]
  },
  {
   "cell_type": "code",
   "execution_count": 8,
   "metadata": {
    "execution": {
     "iopub.execute_input": "2020-08-13T09:01:06.913584Z",
     "iopub.status.busy": "2020-08-13T09:01:06.912772Z",
     "iopub.status.idle": "2020-08-13T09:01:06.924260Z",
     "shell.execute_reply": "2020-08-13T09:01:06.923467Z"
    },
    "papermill": {
     "duration": 0.045569,
     "end_time": "2020-08-13T09:01:06.924398",
     "exception": false,
     "start_time": "2020-08-13T09:01:06.878829",
     "status": "completed"
    },
    "tags": []
   },
   "outputs": [
    {
     "data": {
      "text/plain": [
       "2    70580\n",
       "3    59923\n",
       "1    33806\n",
       "Name: Interest_Rate, dtype: int64"
      ]
     },
     "execution_count": 8,
     "metadata": {},
     "output_type": "execute_result"
    }
   ],
   "source": [
    "train['Interest_Rate'].value_counts()"
   ]
  },
  {
   "cell_type": "code",
   "execution_count": 9,
   "metadata": {
    "execution": {
     "iopub.execute_input": "2020-08-13T09:01:06.986733Z",
     "iopub.status.busy": "2020-08-13T09:01:06.985980Z",
     "iopub.status.idle": "2020-08-13T09:01:07.340996Z",
     "shell.execute_reply": "2020-08-13T09:01:07.340184Z"
    },
    "papermill": {
     "duration": 0.389608,
     "end_time": "2020-08-13T09:01:07.341137",
     "exception": false,
     "start_time": "2020-08-13T09:01:06.951529",
     "status": "completed"
    },
    "tags": []
   },
   "outputs": [
    {
     "data": {
      "text/plain": [
       "<matplotlib.axes._subplots.AxesSubplot at 0x7f62b8d4e190>"
      ]
     },
     "execution_count": 9,
     "metadata": {},
     "output_type": "execute_result"
    },
    {
     "data": {
      "image/png": "[encoded data removed]",
      "text/plain": [
       "<Figure size 1296x576 with 2 Axes>"
      ]
     },
     "metadata": {
      "needs_background": "light"
     },
     "output_type": "display_data"
    }
   ],
   "source": [
    "#f,ax = plt.subplots(1,2,figsize = (18,8))\n",
    "plt.subplot(121)\n",
    "train['Interest_Rate'].value_counts().plot.pie(autopct = '%1.2f%%',figsize = (18,8),title = 'Target Variable classification')\n",
    "plt.subplot(122)\n",
    "train['Interest_Rate'].value_counts().plot.bar(figsize = (18,8))"
   ]
  },
  {
   "cell_type": "markdown",
   "execution_count": null,
   "metadata": {
    "papermill": {
     "duration": 0.028663,
     "end_time": "2020-08-13T09:01:07.399129",
     "exception": false,
     "start_time": "2020-08-13T09:01:07.370466",
     "status": "completed"
    },
    "tags": []
   },
   "source": [
    "categorical variables:\n",
    "    Nominal:\n",
    "        'Home_Owner','Income_Verified','Purpose_Of_Loan','Gender'\n",
    "    Ordinal:\n",
    "        'Length_Employed', Inquiries_Last_6Mo\n",
    "\n",
    "Continous:\n",
    "    Loan_Amount_Requested        \n",
    "    Annual_Income              \n",
    "    Debt_To_Income                        \n",
    "    Months_Since_Deliquency    \n",
    "    Number_Open_Accounts         \n",
    "    Total_Accounts               \n",
    "\n",
    "\n"
   ]
  },
  {
   "cell_type": "code",
   "execution_count": 10,
   "metadata": {
    "execution": {
     "iopub.execute_input": "2020-08-13T09:01:07.467989Z",
     "iopub.status.busy": "2020-08-13T09:01:07.467116Z",
     "iopub.status.idle": "2020-08-13T09:01:07.470854Z",
     "shell.execute_reply": "2020-08-13T09:01:07.470086Z"
    },
    "papermill": {
     "duration": 0.040985,
     "end_time": "2020-08-13T09:01:07.471011",
     "exception": false,
     "start_time": "2020-08-13T09:01:07.430026",
     "status": "completed"
    },
    "tags": []
   },
   "outputs": [],
   "source": [
    "cont_col = ['Loan_Amount_Requested','Annual_Income','Debt_To_Income','Months_Since_Deliquency','Number_Open_Accounts',\n",
    " 'Total_Accounts']\n",
    "ord_col = ['Length_Employed', 'Inquiries_Last_6Mo']\n",
    "nom_col = ['Home_Owner','Income_Verified','Purpose_Of_Loan','Gender']"
   ]
  },
  {
   "cell_type": "code",
   "execution_count": 11,
   "metadata": {
    "execution": {
     "iopub.execute_input": "2020-08-13T09:01:07.553242Z",
     "iopub.status.busy": "2020-08-13T09:01:07.545134Z",
     "iopub.status.idle": "2020-08-13T09:01:08.487132Z",
     "shell.execute_reply": "2020-08-13T09:01:08.486331Z"
    },
    "papermill": {
     "duration": 0.986853,
     "end_time": "2020-08-13T09:01:08.487275",
     "exception": false,
     "start_time": "2020-08-13T09:01:07.500422",
     "status": "completed"
    },
    "scrolled": false,
    "tags": []
   },
   "outputs": [
    {
     "name": "stdout",
     "output_type": "stream",
     "text": [
      "Figure(432x288)\n"
     ]
    },
    {
     "data": {
      "image/png": "[encoded data removed]",
      "text/plain": [
       "<Figure size 1440x1296 with 4 Axes>"
      ]
     },
     "metadata": {
      "needs_background": "light"
     },
     "output_type": "display_data"
    }
   ],
   "source": [
    "#Independent Variable (Categorical)\n",
    "#'Home_Owner','Income_Verified','Purpose_Of_Loan','Gender'\n",
    "print(plt.figure(1) )\n",
    "ax = plt.subplot(221) \n",
    "#ax.xaxis.label.set_color('red')\n",
    "ax.tick_params(axis='x', colors='red')\n",
    "ax.tick_params(axis='y', colors='red')\n",
    "train['Gender'].value_counts(normalize=True).plot.bar(figsize=(20,18), title= 'Gender',colormap = 'viridis',fontsize = 16) \n",
    "ax = plt.subplot(222)\n",
    "ax.tick_params(axis='x', colors='red')\n",
    "ax.tick_params(axis='y', colors='red')\n",
    "train['Home_Owner'].value_counts(normalize=True).plot.bar(title= 'Home_Owner',colormap = 'Accent',fontsize = 16) \n",
    "plt.subplot(223) \n",
    "train['Income_Verified'].value_counts(normalize=True).plot.bar(title= 'Income_Verified',colormap = 'Set2_r',fontsize = 16) \n",
    "plt.subplot(224) \n",
    "train['Purpose_Of_Loan'].value_counts(normalize=True).plot.bar(title= 'Purpose_Of_Loan',colormap = 'Set1',fontsize = 16) \n",
    "plt.show()\n",
    "ax.xaxis.label.set_color('red')\n",
    "ax.tick_params(axis='x', colors='red')"
   ]
  },
  {
   "cell_type": "code",
   "execution_count": 12,
   "metadata": {
    "execution": {
     "iopub.execute_input": "2020-08-13T09:01:08.576512Z",
     "iopub.status.busy": "2020-08-13T09:01:08.560062Z",
     "iopub.status.idle": "2020-08-13T09:01:08.588246Z",
     "shell.execute_reply": "2020-08-13T09:01:08.587163Z"
    },
    "papermill": {
     "duration": 0.070914,
     "end_time": "2020-08-13T09:01:08.588435",
     "exception": false,
     "start_time": "2020-08-13T09:01:08.517521",
     "status": "completed"
    },
    "tags": []
   },
   "outputs": [
    {
     "name": "stdout",
     "output_type": "stream",
     "text": [
      "['< 1 year' '4 years' '7 years' '8 years' '2 years' '10+ years' '1 year'\n",
      " nan '6 years' '9 years' '3 years' '5 years']\n",
      "[0 3 1 2 4 5 6 7 8]\n",
      "[ 9 12 16 19 25  8 24  7  5 20 10 15  6 14 11 29  4 13 21  3 22 18 26 17\n",
      "  2 27 23 31 32 33 35 28 36 30 34 44 37 39  1 40  0 38 62 42 43 41 49 47\n",
      " 50 45 48 58 53 76 46 54 51 52]\n",
      "[ 14  24  16  22  30  15  12  31   9  43  13  17  28  26  21  20  34  27\n",
      "  10  44  25   8   7  19  41  18  11  65   6  29  23  37  32  45  38  36\n",
      "  71  40  42  51  53  35  47  39  54  46  33  58  49  59  62   4  69  60\n",
      "  52  56  48   5  63   3  50  55  61  57  64  76   2  75  67  66  70  77\n",
      "  86  68  72  90  89  81  98  73 105  74  79  85  82  80  93  78  87  88\n",
      "  91  84  83  94 156 102 116  97  92  99]\n"
     ]
    }
   ],
   "source": [
    "## 'Loan_Amount_Requested','Length_Employed'\n",
    "#Inquiries_Last_6Mo, Number_Open_Accounts,Total_Accounts               int64\n",
    "#Independent Variable (Ordinal)\n",
    "print(train['Length_Employed'].unique())\n",
    "print(train['Inquiries_Last_6Mo'].unique())\n",
    "print(train['Number_Open_Accounts'].unique())\n",
    "print(train['Total_Accounts'].unique())"
   ]
  },
  {
   "cell_type": "code",
   "execution_count": 13,
   "metadata": {
    "execution": {
     "iopub.execute_input": "2020-08-13T09:01:08.773262Z",
     "iopub.status.busy": "2020-08-13T09:01:08.771546Z",
     "iopub.status.idle": "2020-08-13T09:01:09.235950Z",
     "shell.execute_reply": "2020-08-13T09:01:09.235160Z"
    },
    "papermill": {
     "duration": 0.610698,
     "end_time": "2020-08-13T09:01:09.236088",
     "exception": false,
     "start_time": "2020-08-13T09:01:08.625390",
     "status": "completed"
    },
    "tags": []
   },
   "outputs": [
    {
     "name": "stdout",
     "output_type": "stream",
     "text": [
      "Figure(432x288)\n"
     ]
    },
    {
     "data": {
      "text/plain": [
       "<matplotlib.axes._subplots.AxesSubplot at 0x7f62acad7b50>"
      ]
     },
     "execution_count": 13,
     "metadata": {},
     "output_type": "execute_result"
    },
    {
     "data": {
      "image/png": "[encoded data removed]",
      "text/plain": [
       "<Figure size 1440x1296 with 2 Axes>"
      ]
     },
     "metadata": {
      "needs_background": "light"
     },
     "output_type": "display_data"
    }
   ],
   "source": [
    "#Independent Variable (Ordinal)\n",
    "#'Length_Employed', Inquiries_Last_6Mo\n",
    "print(plt.figure(1) )\n",
    "ax = plt.subplot(221) \n",
    "#ax.xaxis.label.set_color('red')\n",
    "ax.tick_params(axis='x', colors='red')\n",
    "ax.tick_params(axis='y', colors='red')\n",
    "train['Length_Employed'].value_counts(normalize=True).plot.bar(figsize=(20,18), title= 'Length_Employed',colormap = 'spring',fontsize = 16) \n",
    "ax = plt.subplot(222) \n",
    "#ax.xaxis.label.set_color('red')\n",
    "ax.tick_params(axis='x', colors='red')\n",
    "ax.tick_params(axis='y', colors='red')\n",
    "train['Inquiries_Last_6Mo'].value_counts(normalize=True).plot.bar(figsize=(20,18), title= 'Inquiries_Last_6Mo',colormap = 'cool',fontsize = 16) \n"
   ]
  },
  {
   "cell_type": "markdown",
   "execution_count": null,
   "metadata": {
    "papermill": {
     "duration": 0.030821,
     "end_time": "2020-08-13T09:01:09.298026",
     "exception": false,
     "start_time": "2020-08-13T09:01:09.267205",
     "status": "completed"
    },
    "tags": []
   },
   "source": [
    "#Independent Variable (Numerical)\n",
    "#Till now we have seen the categorical and ordinal variables and now lets visualize the numerical variables. Lets look at the distribution of Applicant income first.\n",
    "#Loan_Amount_Requested,Annual_Income,Debt_To_Income,Months_Since_Deliquency,Number_Open_Accounts,Total_Accounts               \n"
   ]
  },
  {
   "cell_type": "code",
   "execution_count": 14,
   "metadata": {
    "execution": {
     "iopub.execute_input": "2020-08-13T09:01:09.375164Z",
     "iopub.status.busy": "2020-08-13T09:01:09.374330Z",
     "iopub.status.idle": "2020-08-13T09:01:12.444435Z",
     "shell.execute_reply": "2020-08-13T09:01:12.443735Z"
    },
    "papermill": {
     "duration": 3.11578,
     "end_time": "2020-08-13T09:01:12.444578",
     "exception": false,
     "start_time": "2020-08-13T09:01:09.328798",
     "status": "completed"
    },
    "tags": []
   },
   "outputs": [
    {
     "data": {
      "image/png": "[encoded data removed]",
      "text/plain": [
       "<Figure size 1800x2520 with 2 Axes>"
      ]
     },
     "metadata": {
      "needs_background": "light"
     },
     "output_type": "display_data"
    },
    {
     "data": {
      "image/png": "[encoded data removed]",
      "text/plain": [
       "<Figure size 1800x2520 with 2 Axes>"
      ]
     },
     "metadata": {
      "needs_background": "light"
     },
     "output_type": "display_data"
    },
    {
     "data": {
      "image/png": "[encoded data removed]",
      "text/plain": [
       "<Figure size 1800x2520 with 2 Axes>"
      ]
     },
     "metadata": {
      "needs_background": "light"
     },
     "output_type": "display_data"
    },
    {
     "data": {
      "image/png": "[encoded data removed]",
      "text/plain": [
       "<Figure size 1800x2520 with 2 Axes>"
      ]
     },
     "metadata": {
      "needs_background": "light"
     },
     "output_type": "display_data"
    },
    {
     "data": {
      "image/png": "[encoded data removed]",
      "text/plain": [
       "<Figure size 1800x2520 with 2 Axes>"
      ]
     },
     "metadata": {
      "needs_background": "light"
     },
     "output_type": "display_data"
    },
    {
     "data": {
      "image/png": "[encoded data removed]",
      "text/plain": [
       "<Figure size 1800x2520 with 2 Axes>"
      ]
     },
     "metadata": {
      "needs_background": "light"
     },
     "output_type": "display_data"
    }
   ],
   "source": [
    "\n",
    "i = 1\n",
    "\n",
    "for col in cont_col:\n",
    "    plt.figure(figsize = (25,35))\n",
    "    plt.subplot(7,2,i)\n",
    "    sns.distplot(train[col]); \n",
    "    plt.subplot(7,2,i+1) \n",
    "    train[col].plot.box()\n",
    "    i += 2\n",
    "    plt.show()"
   ]
  },
  {
   "cell_type": "code",
   "execution_count": 15,
   "metadata": {
    "execution": {
     "iopub.execute_input": "2020-08-13T09:01:12.522403Z",
     "iopub.status.busy": "2020-08-13T09:01:12.521221Z",
     "iopub.status.idle": "2020-08-13T09:01:13.633330Z",
     "shell.execute_reply": "2020-08-13T09:01:13.634075Z"
    },
    "papermill": {
     "duration": 1.155101,
     "end_time": "2020-08-13T09:01:13.634253",
     "exception": false,
     "start_time": "2020-08-13T09:01:12.479152",
     "status": "completed"
    },
    "tags": []
   },
   "outputs": [
    {
     "data": {
      "image/png": "[encoded data removed]",
      "text/plain": [
       "<Figure size 1080x288 with 1 Axes>"
      ]
     },
     "metadata": {
      "needs_background": "light"
     },
     "output_type": "display_data"
    },
    {
     "data": {
      "image/png": "[encoded data removed]",
      "text/plain": [
       "<Figure size 1080x288 with 1 Axes>"
      ]
     },
     "metadata": {
      "needs_background": "light"
     },
     "output_type": "display_data"
    },
    {
     "data": {
      "image/png": "[encoded data removed]",
      "text/plain": [
       "<Figure size 1080x288 with 1 Axes>"
      ]
     },
     "metadata": {
      "needs_background": "light"
     },
     "output_type": "display_data"
    },
    {
     "data": {
      "image/png": "[encoded data removed]",
      "text/plain": [
       "<Figure size 1080x288 with 1 Axes>"
      ]
     },
     "metadata": {
      "needs_background": "light"
     },
     "output_type": "display_data"
    }
   ],
   "source": [
    "for col in nom_col:\n",
    "    Gender=pd.crosstab(train[col],train['Interest_Rate']) \n",
    "    #print(Gender)\n",
    "    Gender.div(Gender.sum(1).astype(float), axis=0).plot(kind=\"bar\", stacked=True, figsize=(15,4))"
   ]
  },
  {
   "cell_type": "code",
   "execution_count": 16,
   "metadata": {
    "execution": {
     "iopub.execute_input": "2020-08-13T09:01:13.711741Z",
     "iopub.status.busy": "2020-08-13T09:01:13.710533Z",
     "iopub.status.idle": "2020-08-13T09:01:14.354340Z",
     "shell.execute_reply": "2020-08-13T09:01:14.355127Z"
    },
    "papermill": {
     "duration": 0.686787,
     "end_time": "2020-08-13T09:01:14.355376",
     "exception": false,
     "start_time": "2020-08-13T09:01:13.668589",
     "status": "completed"
    },
    "tags": []
   },
   "outputs": [
    {
     "data": {
      "image/png": "[encoded data removed]",
      "text/plain": [
       "<Figure size 1080x288 with 1 Axes>"
      ]
     },
     "metadata": {
      "needs_background": "light"
     },
     "output_type": "display_data"
    },
    {
     "data": {
      "image/png": "[encoded data removed]",
      "text/plain": [
       "<Figure size 1080x288 with 1 Axes>"
      ]
     },
     "metadata": {
      "needs_background": "light"
     },
     "output_type": "display_data"
    }
   ],
   "source": [
    "for col in ord_col:\n",
    "    Gender=pd.crosstab(train[col],train['Interest_Rate']) \n",
    "    #print(Gender)\n",
    "    Gender.div(Gender.sum(1).astype(float), axis=0).plot(kind=\"bar\", stacked=True, figsize=(15,4))"
   ]
  },
  {
   "cell_type": "code",
   "execution_count": 17,
   "metadata": {
    "execution": {
     "iopub.execute_input": "2020-08-13T09:01:14.440146Z",
     "iopub.status.busy": "2020-08-13T09:01:14.439323Z",
     "iopub.status.idle": "2020-08-13T09:01:14.618100Z",
     "shell.execute_reply": "2020-08-13T09:01:14.617282Z"
    },
    "papermill": {
     "duration": 0.223367,
     "end_time": "2020-08-13T09:01:14.618255",
     "exception": false,
     "start_time": "2020-08-13T09:01:14.394888",
     "status": "completed"
    },
    "tags": []
   },
   "outputs": [
    {
     "data": {
      "text/plain": [
       "<matplotlib.axes._subplots.AxesSubplot at 0x7f62ac7933d0>"
      ]
     },
     "execution_count": 17,
     "metadata": {},
     "output_type": "execute_result"
    },
    {
     "data": {
      "image/png": "[encoded data removed]",
      "text/plain": [
       "<Figure size 432x288 with 1 Axes>"
      ]
     },
     "metadata": {
      "needs_background": "light"
     },
     "output_type": "display_data"
    }
   ],
   "source": [
    "train.groupby('Interest_Rate')['Annual_Income'].mean().plot.bar()"
   ]
  },
  {
   "cell_type": "code",
   "execution_count": 18,
   "metadata": {
    "execution": {
     "iopub.execute_input": "2020-08-13T09:01:14.695508Z",
     "iopub.status.busy": "2020-08-13T09:01:14.694664Z",
     "iopub.status.idle": "2020-08-13T09:01:14.701731Z",
     "shell.execute_reply": "2020-08-13T09:01:14.701076Z"
    },
    "papermill": {
     "duration": 0.047878,
     "end_time": "2020-08-13T09:01:14.701921",
     "exception": false,
     "start_time": "2020-08-13T09:01:14.654043",
     "status": "completed"
    },
    "tags": []
   },
   "outputs": [
    {
     "name": "stdout",
     "output_type": "stream",
     "text": [
      "7500000.0\n",
      "4000.0\n",
      "73331.15943386468\n"
     ]
    }
   ],
   "source": [
    "print(train['Annual_Income'].max())\n",
    "print(train['Annual_Income'].min())\n",
    "print(train['Annual_Income'].mean())"
   ]
  },
  {
   "cell_type": "code",
   "execution_count": 19,
   "metadata": {
    "execution": {
     "iopub.execute_input": "2020-08-13T09:01:14.784337Z",
     "iopub.status.busy": "2020-08-13T09:01:14.783269Z",
     "iopub.status.idle": "2020-08-13T09:01:14.793979Z",
     "shell.execute_reply": "2020-08-13T09:01:14.793222Z"
    },
    "papermill": {
     "duration": 0.055084,
     "end_time": "2020-08-13T09:01:14.794119",
     "exception": false,
     "start_time": "2020-08-13T09:01:14.739035",
     "status": "completed"
    },
    "tags": []
   },
   "outputs": [],
   "source": [
    "bins=[0,100000,500000,1000000,7600000] \n",
    "group=['Low','Average','High', 'Very high'] \n",
    "train['Annual_Income_bin']=pd.cut(train['Annual_Income'],bins,labels=group)"
   ]
  },
  {
   "cell_type": "code",
   "execution_count": 20,
   "metadata": {
    "execution": {
     "iopub.execute_input": "2020-08-13T09:01:14.874717Z",
     "iopub.status.busy": "2020-08-13T09:01:14.873846Z",
     "iopub.status.idle": "2020-08-13T09:01:15.128459Z",
     "shell.execute_reply": "2020-08-13T09:01:15.127596Z"
    },
    "papermill": {
     "duration": 0.299139,
     "end_time": "2020-08-13T09:01:15.128612",
     "exception": false,
     "start_time": "2020-08-13T09:01:14.829473",
     "status": "completed"
    },
    "tags": []
   },
   "outputs": [
    {
     "data": {
      "image/png": "[encoded data removed]",
      "text/plain": [
       "<Figure size 432x288 with 1 Axes>"
      ]
     },
     "metadata": {
      "needs_background": "light"
     },
     "output_type": "display_data"
    }
   ],
   "source": [
    "Annual_Income_bin=pd.crosstab(train['Annual_Income_bin'],train['Interest_Rate']) \n",
    "Annual_Income_bin.div(Annual_Income_bin.sum(1).astype(float), axis=0).plot(kind=\"bar\", stacked=True) \n",
    "plt.xlabel('Annual_Income') \n",
    "P = plt.ylabel('Percentage')"
   ]
  },
  {
   "cell_type": "code",
   "execution_count": 21,
   "metadata": {
    "execution": {
     "iopub.execute_input": "2020-08-13T09:01:15.211804Z",
     "iopub.status.busy": "2020-08-13T09:01:15.211006Z",
     "iopub.status.idle": "2020-08-13T09:01:15.295615Z",
     "shell.execute_reply": "2020-08-13T09:01:15.294982Z"
    },
    "papermill": {
     "duration": 0.131087,
     "end_time": "2020-08-13T09:01:15.295754",
     "exception": false,
     "start_time": "2020-08-13T09:01:15.164667",
     "status": "completed"
    },
    "tags": []
   },
   "outputs": [
    {
     "data": {
      "text/html": [
       "<div>\n",
       "<style scoped>\n",
       "    .dataframe tbody tr th:only-of-type {\n",
       "        vertical-align: middle;\n",
       "    }\n",
       "\n",
       "    .dataframe tbody tr th {\n",
       "        vertical-align: top;\n",
       "    }\n",
       "\n",
       "    .dataframe thead th {\n",
       "        text-align: right;\n",
       "    }\n",
       "</style>\n",
       "<table border=\"1\" class=\"dataframe\">\n",
       "  <thead>\n",
       "    <tr style=\"text-align: right;\">\n",
       "      <th></th>\n",
       "      <th>Loan_ID</th>\n",
       "      <th>Loan_Amount_Requested</th>\n",
       "      <th>Annual_Income</th>\n",
       "      <th>Debt_To_Income</th>\n",
       "      <th>Inquiries_Last_6Mo</th>\n",
       "      <th>Months_Since_Deliquency</th>\n",
       "      <th>Number_Open_Accounts</th>\n",
       "      <th>Total_Accounts</th>\n",
       "      <th>Interest_Rate</th>\n",
       "    </tr>\n",
       "  </thead>\n",
       "  <tbody>\n",
       "    <tr>\n",
       "      <th>count</th>\n",
       "      <td>164309.000000</td>\n",
       "      <td>164309.000000</td>\n",
       "      <td>139207.000000</td>\n",
       "      <td>164309.000000</td>\n",
       "      <td>164309.000000</td>\n",
       "      <td>75930.000000</td>\n",
       "      <td>164309.000000</td>\n",
       "      <td>164309.000000</td>\n",
       "      <td>164309.000000</td>\n",
       "    </tr>\n",
       "    <tr>\n",
       "      <th>mean</th>\n",
       "      <td>10082155.000000</td>\n",
       "      <td>14349.336920</td>\n",
       "      <td>73331.159434</td>\n",
       "      <td>17.207189</td>\n",
       "      <td>0.781698</td>\n",
       "      <td>34.229356</td>\n",
       "      <td>11.193818</td>\n",
       "      <td>25.067665</td>\n",
       "      <td>2.158951</td>\n",
       "    </tr>\n",
       "    <tr>\n",
       "      <th>std</th>\n",
       "      <td>47432.067027</td>\n",
       "      <td>8281.868700</td>\n",
       "      <td>60377.498294</td>\n",
       "      <td>7.845083</td>\n",
       "      <td>1.034747</td>\n",
       "      <td>21.761180</td>\n",
       "      <td>4.991813</td>\n",
       "      <td>11.583067</td>\n",
       "      <td>0.738364</td>\n",
       "    </tr>\n",
       "    <tr>\n",
       "      <th>min</th>\n",
       "      <td>10000001.000000</td>\n",
       "      <td>500.000000</td>\n",
       "      <td>4000.000000</td>\n",
       "      <td>0.000000</td>\n",
       "      <td>0.000000</td>\n",
       "      <td>0.000000</td>\n",
       "      <td>0.000000</td>\n",
       "      <td>2.000000</td>\n",
       "      <td>1.000000</td>\n",
       "    </tr>\n",
       "    <tr>\n",
       "      <th>25%</th>\n",
       "      <td>10041078.000000</td>\n",
       "      <td>8000.000000</td>\n",
       "      <td>45000.000000</td>\n",
       "      <td>11.370000</td>\n",
       "      <td>0.000000</td>\n",
       "      <td>16.000000</td>\n",
       "      <td>8.000000</td>\n",
       "      <td>17.000000</td>\n",
       "      <td>2.000000</td>\n",
       "    </tr>\n",
       "    <tr>\n",
       "      <th>50%</th>\n",
       "      <td>10082155.000000</td>\n",
       "      <td>12075.000000</td>\n",
       "      <td>63000.000000</td>\n",
       "      <td>16.840000</td>\n",
       "      <td>0.000000</td>\n",
       "      <td>31.000000</td>\n",
       "      <td>10.000000</td>\n",
       "      <td>23.000000</td>\n",
       "      <td>2.000000</td>\n",
       "    </tr>\n",
       "    <tr>\n",
       "      <th>75%</th>\n",
       "      <td>10123232.000000</td>\n",
       "      <td>20000.000000</td>\n",
       "      <td>88697.500000</td>\n",
       "      <td>22.780000</td>\n",
       "      <td>1.000000</td>\n",
       "      <td>50.000000</td>\n",
       "      <td>14.000000</td>\n",
       "      <td>32.000000</td>\n",
       "      <td>3.000000</td>\n",
       "    </tr>\n",
       "    <tr>\n",
       "      <th>max</th>\n",
       "      <td>10164309.000000</td>\n",
       "      <td>35000.000000</td>\n",
       "      <td>7500000.000000</td>\n",
       "      <td>39.990000</td>\n",
       "      <td>8.000000</td>\n",
       "      <td>180.000000</td>\n",
       "      <td>76.000000</td>\n",
       "      <td>156.000000</td>\n",
       "      <td>3.000000</td>\n",
       "    </tr>\n",
       "  </tbody>\n",
       "</table>\n",
       "</div>"
      ],
      "text/plain": [
       "              Loan_ID  Loan_Amount_Requested  Annual_Income  Debt_To_Income  \\\n",
       "count   164309.000000          164309.000000  139207.000000   164309.000000   \n",
       "mean  10082155.000000           14349.336920   73331.159434       17.207189   \n",
       "std      47432.067027            8281.868700   60377.498294        7.845083   \n",
       "min   10000001.000000             500.000000    4000.000000        0.000000   \n",
       "25%   10041078.000000            8000.000000   45000.000000       11.370000   \n",
       "50%   10082155.000000           12075.000000   63000.000000       16.840000   \n",
       "75%   10123232.000000           20000.000000   88697.500000       22.780000   \n",
       "max   10164309.000000           35000.000000 7500000.000000       39.990000   \n",
       "\n",
       "       Inquiries_Last_6Mo  Months_Since_Deliquency  Number_Open_Accounts  \\\n",
       "count       164309.000000             75930.000000         164309.000000   \n",
       "mean             0.781698                34.229356             11.193818   \n",
       "std              1.034747                21.761180              4.991813   \n",
       "min              0.000000                 0.000000              0.000000   \n",
       "25%              0.000000                16.000000              8.000000   \n",
       "50%              0.000000                31.000000             10.000000   \n",
       "75%              1.000000                50.000000             14.000000   \n",
       "max              8.000000               180.000000             76.000000   \n",
       "\n",
       "       Total_Accounts  Interest_Rate  \n",
       "count   164309.000000  164309.000000  \n",
       "mean        25.067665       2.158951  \n",
       "std         11.583067       0.738364  \n",
       "min          2.000000       1.000000  \n",
       "25%         17.000000       2.000000  \n",
       "50%         23.000000       2.000000  \n",
       "75%         32.000000       3.000000  \n",
       "max        156.000000       3.000000  "
      ]
     },
     "execution_count": 21,
     "metadata": {},
     "output_type": "execute_result"
    }
   ],
   "source": [
    "train.describe()"
   ]
  },
  {
   "cell_type": "code",
   "execution_count": 22,
   "metadata": {
    "execution": {
     "iopub.execute_input": "2020-08-13T09:01:15.378492Z",
     "iopub.status.busy": "2020-08-13T09:01:15.377648Z",
     "iopub.status.idle": "2020-08-13T09:01:16.597730Z",
     "shell.execute_reply": "2020-08-13T09:01:16.596847Z"
    },
    "papermill": {
     "duration": 1.264992,
     "end_time": "2020-08-13T09:01:16.597875",
     "exception": false,
     "start_time": "2020-08-13T09:01:15.332883",
     "status": "completed"
    },
    "tags": []
   },
   "outputs": [
    {
     "data": {
      "image/png": "[encoded data removed]",
      "text/plain": [
       "<Figure size 1800x2520 with 1 Axes>"
      ]
     },
     "metadata": {
      "needs_background": "light"
     },
     "output_type": "display_data"
    },
    {
     "data": {
      "image/png": "[encoded data removed]",
      "text/plain": [
       "<Figure size 1800x2520 with 1 Axes>"
      ]
     },
     "metadata": {
      "needs_background": "light"
     },
     "output_type": "display_data"
    },
    {
     "data": {
      "image/png": "[encoded data removed]",
      "text/plain": [
       "<Figure size 1800x2520 with 1 Axes>"
      ]
     },
     "metadata": {
      "needs_background": "light"
     },
     "output_type": "display_data"
    },
    {
     "data": {
      "image/png": "[encoded data removed]",
      "text/plain": [
       "<Figure size 1800x2520 with 1 Axes>"
      ]
     },
     "metadata": {
      "needs_background": "light"
     },
     "output_type": "display_data"
    },
    {
     "data": {
      "image/png": "[encoded data removed]",
      "text/plain": [
       "<Figure size 1800x2520 with 1 Axes>"
      ]
     },
     "metadata": {
      "needs_background": "light"
     },
     "output_type": "display_data"
    },
    {
     "data": {
      "image/png": "[encoded data removed]",
      "text/plain": [
       "<Figure size 1800x2520 with 1 Axes>"
      ]
     },
     "metadata": {
      "needs_background": "light"
     },
     "output_type": "display_data"
    }
   ],
   "source": [
    "i = 1\n",
    "for col in cont_col:\n",
    "    plt.figure(figsize = (25,35))\n",
    "    plt.subplot(len(cont_col),1,i)\n",
    "    train.groupby('Interest_Rate')[col].mean().plot.bar(title = col)\n",
    "    i += 1"
   ]
  },
  {
   "cell_type": "code",
   "execution_count": 23,
   "metadata": {
    "execution": {
     "iopub.execute_input": "2020-08-13T09:01:16.683465Z",
     "iopub.status.busy": "2020-08-13T09:01:16.682608Z",
     "iopub.status.idle": "2020-08-13T09:01:16.913075Z",
     "shell.execute_reply": "2020-08-13T09:01:16.912259Z"
    },
    "papermill": {
     "duration": 0.277678,
     "end_time": "2020-08-13T09:01:16.913212",
     "exception": false,
     "start_time": "2020-08-13T09:01:16.635534",
     "status": "completed"
    },
    "tags": []
   },
   "outputs": [
    {
     "data": {
      "image/png": "[encoded data removed]",
      "text/plain": [
       "<Figure size 432x288 with 1 Axes>"
      ]
     },
     "metadata": {
      "needs_background": "light"
     },
     "output_type": "display_data"
    }
   ],
   "source": [
    "bins=[0,8000,12000,20000,36000] \n",
    "group=['Low','Average','High','veryhigh'] \n",
    "train['LoanAmount_bin']=pd.cut(train['Loan_Amount_Requested'],bins,labels=group)\n",
    "LoanAmount_bin=pd.crosstab(train['LoanAmount_bin'],train['Interest_Rate']) \n",
    "LoanAmount_bin.div(LoanAmount_bin.sum(1).astype(float), axis=0).plot(kind=\"bar\", stacked=True) \n",
    "plt.xlabel('LoanAmount') \n",
    "P = plt.ylabel('Percentage')"
   ]
  },
  {
   "cell_type": "code",
   "execution_count": 24,
   "metadata": {
    "execution": {
     "iopub.execute_input": "2020-08-13T09:01:17.000822Z",
     "iopub.status.busy": "2020-08-13T09:01:16.999585Z",
     "iopub.status.idle": "2020-08-13T09:01:17.003853Z",
     "shell.execute_reply": "2020-08-13T09:01:17.004503Z"
    },
    "papermill": {
     "duration": 0.051931,
     "end_time": "2020-08-13T09:01:17.004686",
     "exception": false,
     "start_time": "2020-08-13T09:01:16.952755",
     "status": "completed"
    },
    "tags": []
   },
   "outputs": [
    {
     "data": {
      "text/plain": [
       "Index(['Loan_ID', 'Loan_Amount_Requested', 'Length_Employed', 'Home_Owner',\n",
       "       'Annual_Income', 'Income_Verified', 'Purpose_Of_Loan', 'Debt_To_Income',\n",
       "       'Inquiries_Last_6Mo', 'Months_Since_Deliquency', 'Number_Open_Accounts',\n",
       "       'Total_Accounts', 'Gender', 'Interest_Rate', 'Annual_Income_bin',\n",
       "       'LoanAmount_bin'],\n",
       "      dtype='object')"
      ]
     },
     "execution_count": 24,
     "metadata": {},
     "output_type": "execute_result"
    }
   ],
   "source": [
    "train.columns"
   ]
  },
  {
   "cell_type": "code",
   "execution_count": 25,
   "metadata": {
    "execution": {
     "iopub.execute_input": "2020-08-13T09:01:17.111484Z",
     "iopub.status.busy": "2020-08-13T09:01:17.110629Z",
     "iopub.status.idle": "2020-08-13T09:01:17.605648Z",
     "shell.execute_reply": "2020-08-13T09:01:17.604872Z"
    },
    "papermill": {
     "duration": 0.555178,
     "end_time": "2020-08-13T09:01:17.605778",
     "exception": false,
     "start_time": "2020-08-13T09:01:17.050600",
     "status": "completed"
    },
    "scrolled": true,
    "tags": []
   },
   "outputs": [
    {
     "data": {
      "text/html": [
       "<div>\n",
       "<style scoped>\n",
       "    .dataframe tbody tr th:only-of-type {\n",
       "        vertical-align: middle;\n",
       "    }\n",
       "\n",
       "    .dataframe tbody tr th {\n",
       "        vertical-align: top;\n",
       "    }\n",
       "\n",
       "    .dataframe thead th {\n",
       "        text-align: right;\n",
       "    }\n",
       "</style>\n",
       "<table border=\"1\" class=\"dataframe\">\n",
       "  <thead>\n",
       "    <tr style=\"text-align: right;\">\n",
       "      <th></th>\n",
       "      <th>0</th>\n",
       "    </tr>\n",
       "  </thead>\n",
       "  <tbody>\n",
       "    <tr>\n",
       "      <th>0</th>\n",
       "      <td>1</td>\n",
       "    </tr>\n",
       "    <tr>\n",
       "      <th>1</th>\n",
       "      <td>4</td>\n",
       "    </tr>\n",
       "    <tr>\n",
       "      <th>2</th>\n",
       "      <td>7</td>\n",
       "    </tr>\n",
       "    <tr>\n",
       "      <th>3</th>\n",
       "      <td>1</td>\n",
       "    </tr>\n",
       "    <tr>\n",
       "      <th>4</th>\n",
       "      <td>8</td>\n",
       "    </tr>\n",
       "    <tr>\n",
       "      <th>...</th>\n",
       "      <td>...</td>\n",
       "    </tr>\n",
       "    <tr>\n",
       "      <th>164304</th>\n",
       "      <td>10</td>\n",
       "    </tr>\n",
       "    <tr>\n",
       "      <th>164305</th>\n",
       "      <td>8</td>\n",
       "    </tr>\n",
       "    <tr>\n",
       "      <th>164306</th>\n",
       "      <td>10</td>\n",
       "    </tr>\n",
       "    <tr>\n",
       "      <th>164307</th>\n",
       "      <td>4</td>\n",
       "    </tr>\n",
       "    <tr>\n",
       "      <th>164308</th>\n",
       "      <td>10</td>\n",
       "    </tr>\n",
       "  </tbody>\n",
       "</table>\n",
       "<p>164309 rows × 1 columns</p>\n",
       "</div>"
      ],
      "text/plain": [
       "         0\n",
       "0        1\n",
       "1        4\n",
       "2        7\n",
       "3        1\n",
       "4        8\n",
       "...     ..\n",
       "164304  10\n",
       "164305   8\n",
       "164306  10\n",
       "164307   4\n",
       "164308  10\n",
       "\n",
       "[164309 rows x 1 columns]"
      ]
     },
     "execution_count": 25,
     "metadata": {},
     "output_type": "execute_result"
    }
   ],
   "source": [
    "train['Length_Employed'].str.extract('(\\d+)')\n"
   ]
  },
  {
   "cell_type": "code",
   "execution_count": 26,
   "metadata": {
    "execution": {
     "iopub.execute_input": "2020-08-13T09:01:17.811586Z",
     "iopub.status.busy": "2020-08-13T09:01:17.801145Z",
     "iopub.status.idle": "2020-08-13T09:01:18.634479Z",
     "shell.execute_reply": "2020-08-13T09:01:18.635141Z"
    },
    "papermill": {
     "duration": 0.990491,
     "end_time": "2020-08-13T09:01:18.635320",
     "exception": false,
     "start_time": "2020-08-13T09:01:17.644829",
     "status": "completed"
    },
    "tags": []
   },
   "outputs": [],
   "source": [
    "#train=train.drop(['Annual_Income_bin', 'LoanAmount_bin'], axis=1)\n",
    "train['Length_Employed'] = train['Length_Employed'].str.extract('(\\d+)').astype('int64',errors='ignore')\n",
    "test['Length_Employed'] = test['Length_Employed'].str.extract('(\\d+)').astype('int64',errors='ignore')\n"
   ]
  },
  {
   "cell_type": "code",
   "execution_count": 27,
   "metadata": {
    "execution": {
     "iopub.execute_input": "2020-08-13T09:01:18.746912Z",
     "iopub.status.busy": "2020-08-13T09:01:18.742322Z",
     "iopub.status.idle": "2020-08-13T09:01:18.765540Z",
     "shell.execute_reply": "2020-08-13T09:01:18.764855Z"
    },
    "papermill": {
     "duration": 0.091269,
     "end_time": "2020-08-13T09:01:18.765673",
     "exception": false,
     "start_time": "2020-08-13T09:01:18.674404",
     "status": "completed"
    },
    "tags": []
   },
   "outputs": [
    {
     "data": {
      "text/html": [
       "<div>\n",
       "<style scoped>\n",
       "    .dataframe tbody tr th:only-of-type {\n",
       "        vertical-align: middle;\n",
       "    }\n",
       "\n",
       "    .dataframe tbody tr th {\n",
       "        vertical-align: top;\n",
       "    }\n",
       "\n",
       "    .dataframe thead th {\n",
       "        text-align: right;\n",
       "    }\n",
       "</style>\n",
       "<table border=\"1\" class=\"dataframe\">\n",
       "  <thead>\n",
       "    <tr style=\"text-align: right;\">\n",
       "      <th></th>\n",
       "      <th>Loan_ID</th>\n",
       "      <th>Loan_Amount_Requested</th>\n",
       "      <th>Length_Employed</th>\n",
       "      <th>Home_Owner</th>\n",
       "      <th>Annual_Income</th>\n",
       "      <th>Income_Verified</th>\n",
       "      <th>Purpose_Of_Loan</th>\n",
       "      <th>Debt_To_Income</th>\n",
       "      <th>Inquiries_Last_6Mo</th>\n",
       "      <th>Months_Since_Deliquency</th>\n",
       "      <th>Number_Open_Accounts</th>\n",
       "      <th>Total_Accounts</th>\n",
       "      <th>Gender</th>\n",
       "      <th>Interest_Rate</th>\n",
       "      <th>Annual_Income_bin</th>\n",
       "      <th>LoanAmount_bin</th>\n",
       "    </tr>\n",
       "  </thead>\n",
       "  <tbody>\n",
       "    <tr>\n",
       "      <th>0</th>\n",
       "      <td>10000001</td>\n",
       "      <td>7000</td>\n",
       "      <td>1</td>\n",
       "      <td>Rent</td>\n",
       "      <td>68000.000000</td>\n",
       "      <td>not verified</td>\n",
       "      <td>car</td>\n",
       "      <td>18.370000</td>\n",
       "      <td>0</td>\n",
       "      <td>nan</td>\n",
       "      <td>9</td>\n",
       "      <td>14</td>\n",
       "      <td>Female</td>\n",
       "      <td>1</td>\n",
       "      <td>Low</td>\n",
       "      <td>Low</td>\n",
       "    </tr>\n",
       "    <tr>\n",
       "      <th>1</th>\n",
       "      <td>10000002</td>\n",
       "      <td>30000</td>\n",
       "      <td>4</td>\n",
       "      <td>Mortgage</td>\n",
       "      <td>nan</td>\n",
       "      <td>VERIFIED - income</td>\n",
       "      <td>debt_consolidation</td>\n",
       "      <td>14.930000</td>\n",
       "      <td>0</td>\n",
       "      <td>17.000000</td>\n",
       "      <td>12</td>\n",
       "      <td>24</td>\n",
       "      <td>Female</td>\n",
       "      <td>3</td>\n",
       "      <td>NaN</td>\n",
       "      <td>veryhigh</td>\n",
       "    </tr>\n",
       "    <tr>\n",
       "      <th>2</th>\n",
       "      <td>10000003</td>\n",
       "      <td>24725</td>\n",
       "      <td>7</td>\n",
       "      <td>Mortgage</td>\n",
       "      <td>75566.400000</td>\n",
       "      <td>VERIFIED - income source</td>\n",
       "      <td>debt_consolidation</td>\n",
       "      <td>15.880000</td>\n",
       "      <td>0</td>\n",
       "      <td>nan</td>\n",
       "      <td>12</td>\n",
       "      <td>16</td>\n",
       "      <td>Male</td>\n",
       "      <td>3</td>\n",
       "      <td>Low</td>\n",
       "      <td>veryhigh</td>\n",
       "    </tr>\n",
       "    <tr>\n",
       "      <th>3</th>\n",
       "      <td>10000004</td>\n",
       "      <td>16000</td>\n",
       "      <td>1</td>\n",
       "      <td>NaN</td>\n",
       "      <td>56160.000000</td>\n",
       "      <td>VERIFIED - income source</td>\n",
       "      <td>debt_consolidation</td>\n",
       "      <td>14.340000</td>\n",
       "      <td>3</td>\n",
       "      <td>nan</td>\n",
       "      <td>16</td>\n",
       "      <td>22</td>\n",
       "      <td>Male</td>\n",
       "      <td>3</td>\n",
       "      <td>Low</td>\n",
       "      <td>High</td>\n",
       "    </tr>\n",
       "    <tr>\n",
       "      <th>4</th>\n",
       "      <td>10000005</td>\n",
       "      <td>17000</td>\n",
       "      <td>8</td>\n",
       "      <td>Own</td>\n",
       "      <td>96000.000000</td>\n",
       "      <td>VERIFIED - income source</td>\n",
       "      <td>debt_consolidation</td>\n",
       "      <td>22.170000</td>\n",
       "      <td>1</td>\n",
       "      <td>nan</td>\n",
       "      <td>19</td>\n",
       "      <td>30</td>\n",
       "      <td>Female</td>\n",
       "      <td>1</td>\n",
       "      <td>Low</td>\n",
       "      <td>High</td>\n",
       "    </tr>\n",
       "    <tr>\n",
       "      <th>...</th>\n",
       "      <td>...</td>\n",
       "      <td>...</td>\n",
       "      <td>...</td>\n",
       "      <td>...</td>\n",
       "      <td>...</td>\n",
       "      <td>...</td>\n",
       "      <td>...</td>\n",
       "      <td>...</td>\n",
       "      <td>...</td>\n",
       "      <td>...</td>\n",
       "      <td>...</td>\n",
       "      <td>...</td>\n",
       "      <td>...</td>\n",
       "      <td>...</td>\n",
       "      <td>...</td>\n",
       "      <td>...</td>\n",
       "    </tr>\n",
       "    <tr>\n",
       "      <th>164304</th>\n",
       "      <td>10164305</td>\n",
       "      <td>20725</td>\n",
       "      <td>10</td>\n",
       "      <td>Rent</td>\n",
       "      <td>nan</td>\n",
       "      <td>VERIFIED - income source</td>\n",
       "      <td>credit_card</td>\n",
       "      <td>13.560000</td>\n",
       "      <td>0</td>\n",
       "      <td>nan</td>\n",
       "      <td>13</td>\n",
       "      <td>16</td>\n",
       "      <td>Male</td>\n",
       "      <td>2</td>\n",
       "      <td>NaN</td>\n",
       "      <td>veryhigh</td>\n",
       "    </tr>\n",
       "    <tr>\n",
       "      <th>164305</th>\n",
       "      <td>10164306</td>\n",
       "      <td>6000</td>\n",
       "      <td>8</td>\n",
       "      <td>Own</td>\n",
       "      <td>nan</td>\n",
       "      <td>VERIFIED - income source</td>\n",
       "      <td>small_business</td>\n",
       "      <td>9.120000</td>\n",
       "      <td>0</td>\n",
       "      <td>36.000000</td>\n",
       "      <td>13</td>\n",
       "      <td>30</td>\n",
       "      <td>Male</td>\n",
       "      <td>2</td>\n",
       "      <td>NaN</td>\n",
       "      <td>Low</td>\n",
       "    </tr>\n",
       "    <tr>\n",
       "      <th>164306</th>\n",
       "      <td>10164307</td>\n",
       "      <td>20250</td>\n",
       "      <td>10</td>\n",
       "      <td>Mortgage</td>\n",
       "      <td>nan</td>\n",
       "      <td>VERIFIED - income</td>\n",
       "      <td>credit_card</td>\n",
       "      <td>18.170000</td>\n",
       "      <td>1</td>\n",
       "      <td>nan</td>\n",
       "      <td>17</td>\n",
       "      <td>30</td>\n",
       "      <td>Male</td>\n",
       "      <td>1</td>\n",
       "      <td>NaN</td>\n",
       "      <td>veryhigh</td>\n",
       "    </tr>\n",
       "    <tr>\n",
       "      <th>164307</th>\n",
       "      <td>10164308</td>\n",
       "      <td>10000</td>\n",
       "      <td>4</td>\n",
       "      <td>Rent</td>\n",
       "      <td>nan</td>\n",
       "      <td>not verified</td>\n",
       "      <td>major_purchase</td>\n",
       "      <td>18.750000</td>\n",
       "      <td>1</td>\n",
       "      <td>48.000000</td>\n",
       "      <td>16</td>\n",
       "      <td>62</td>\n",
       "      <td>Female</td>\n",
       "      <td>3</td>\n",
       "      <td>NaN</td>\n",
       "      <td>Average</td>\n",
       "    </tr>\n",
       "    <tr>\n",
       "      <th>164308</th>\n",
       "      <td>10164309</td>\n",
       "      <td>9250</td>\n",
       "      <td>10</td>\n",
       "      <td>Rent</td>\n",
       "      <td>nan</td>\n",
       "      <td>VERIFIED - income</td>\n",
       "      <td>credit_card</td>\n",
       "      <td>19.440000</td>\n",
       "      <td>1</td>\n",
       "      <td>nan</td>\n",
       "      <td>5</td>\n",
       "      <td>9</td>\n",
       "      <td>Female</td>\n",
       "      <td>2</td>\n",
       "      <td>NaN</td>\n",
       "      <td>Average</td>\n",
       "    </tr>\n",
       "  </tbody>\n",
       "</table>\n",
       "<p>164309 rows × 16 columns</p>\n",
       "</div>"
      ],
      "text/plain": [
       "         Loan_ID  Loan_Amount_Requested Length_Employed Home_Owner  \\\n",
       "0       10000001                   7000               1       Rent   \n",
       "1       10000002                  30000               4   Mortgage   \n",
       "2       10000003                  24725               7   Mortgage   \n",
       "3       10000004                  16000               1        NaN   \n",
       "4       10000005                  17000               8        Own   \n",
       "...          ...                    ...             ...        ...   \n",
       "164304  10164305                  20725              10       Rent   \n",
       "164305  10164306                   6000               8        Own   \n",
       "164306  10164307                  20250              10   Mortgage   \n",
       "164307  10164308                  10000               4       Rent   \n",
       "164308  10164309                   9250              10       Rent   \n",
       "\n",
       "        Annual_Income           Income_Verified     Purpose_Of_Loan  \\\n",
       "0        68000.000000              not verified                 car   \n",
       "1                 nan         VERIFIED - income  debt_consolidation   \n",
       "2        75566.400000  VERIFIED - income source  debt_consolidation   \n",
       "3        56160.000000  VERIFIED - income source  debt_consolidation   \n",
       "4        96000.000000  VERIFIED - income source  debt_consolidation   \n",
       "...               ...                       ...                 ...   \n",
       "164304            nan  VERIFIED - income source         credit_card   \n",
       "164305            nan  VERIFIED - income source      small_business   \n",
       "164306            nan         VERIFIED - income         credit_card   \n",
       "164307            nan              not verified      major_purchase   \n",
       "164308            nan         VERIFIED - income         credit_card   \n",
       "\n",
       "        Debt_To_Income  Inquiries_Last_6Mo  Months_Since_Deliquency  \\\n",
       "0            18.370000                   0                      nan   \n",
       "1            14.930000                   0                17.000000   \n",
       "2            15.880000                   0                      nan   \n",
       "3            14.340000                   3                      nan   \n",
       "4            22.170000                   1                      nan   \n",
       "...                ...                 ...                      ...   \n",
       "164304       13.560000                   0                      nan   \n",
       "164305        9.120000                   0                36.000000   \n",
       "164306       18.170000                   1                      nan   \n",
       "164307       18.750000                   1                48.000000   \n",
       "164308       19.440000                   1                      nan   \n",
       "\n",
       "        Number_Open_Accounts  Total_Accounts  Gender  Interest_Rate  \\\n",
       "0                          9              14  Female              1   \n",
       "1                         12              24  Female              3   \n",
       "2                         12              16    Male              3   \n",
       "3                         16              22    Male              3   \n",
       "4                         19              30  Female              1   \n",
       "...                      ...             ...     ...            ...   \n",
       "164304                    13              16    Male              2   \n",
       "164305                    13              30    Male              2   \n",
       "164306                    17              30    Male              1   \n",
       "164307                    16              62  Female              3   \n",
       "164308                     5               9  Female              2   \n",
       "\n",
       "       Annual_Income_bin LoanAmount_bin  \n",
       "0                    Low            Low  \n",
       "1                    NaN       veryhigh  \n",
       "2                    Low       veryhigh  \n",
       "3                    Low           High  \n",
       "4                    Low           High  \n",
       "...                  ...            ...  \n",
       "164304               NaN       veryhigh  \n",
       "164305               NaN            Low  \n",
       "164306               NaN       veryhigh  \n",
       "164307               NaN        Average  \n",
       "164308               NaN        Average  \n",
       "\n",
       "[164309 rows x 16 columns]"
      ]
     },
     "execution_count": 27,
     "metadata": {},
     "output_type": "execute_result"
    }
   ],
   "source": [
    "train"
   ]
  },
  {
   "cell_type": "code",
   "execution_count": 28,
   "metadata": {
    "execution": {
     "iopub.execute_input": "2020-08-13T09:01:18.859073Z",
     "iopub.status.busy": "2020-08-13T09:01:18.857729Z",
     "iopub.status.idle": "2020-08-13T09:01:19.536371Z",
     "shell.execute_reply": "2020-08-13T09:01:19.535630Z"
    },
    "papermill": {
     "duration": 0.730994,
     "end_time": "2020-08-13T09:01:19.536513",
     "exception": false,
     "start_time": "2020-08-13T09:01:18.805519",
     "status": "completed"
    },
    "tags": []
   },
   "outputs": [
    {
     "data": {
      "image/png": "[encoded data removed]",
      "text/plain": [
       "<Figure size 2016x864 with 2 Axes>"
      ]
     },
     "metadata": {
      "needs_background": "light"
     },
     "output_type": "display_data"
    }
   ],
   "source": [
    " \n",
    "f, ax = plt.subplots(figsize=(28, 12)) \n",
    "sns.heatmap(train.corr(), vmax=.8, square=True, cmap=\"RdYlGn\",annot = True);"
   ]
  },
  {
   "cell_type": "markdown",
   "execution_count": null,
   "metadata": {
    "papermill": {
     "duration": 0.039109,
     "end_time": "2020-08-13T09:01:19.615866",
     "exception": false,
     "start_time": "2020-08-13T09:01:19.576757",
     "status": "completed"
    },
    "tags": []
   },
   "source": [
    "## Handle Null Values"
   ]
  },
  {
   "cell_type": "code",
   "execution_count": 29,
   "metadata": {
    "execution": {
     "iopub.execute_input": "2020-08-13T09:01:19.715128Z",
     "iopub.status.busy": "2020-08-13T09:01:19.714294Z",
     "iopub.status.idle": "2020-08-13T09:01:19.817134Z",
     "shell.execute_reply": "2020-08-13T09:01:19.816338Z"
    },
    "papermill": {
     "duration": 0.155593,
     "end_time": "2020-08-13T09:01:19.817272",
     "exception": false,
     "start_time": "2020-08-13T09:01:19.661679",
     "status": "completed"
    },
    "scrolled": true,
    "tags": []
   },
   "outputs": [
    {
     "data": {
      "text/plain": [
       "Loan_ID                        0\n",
       "Loan_Amount_Requested          0\n",
       "Length_Employed             7371\n",
       "Home_Owner                 25349\n",
       "Annual_Income              25102\n",
       "Income_Verified                0\n",
       "Purpose_Of_Loan                0\n",
       "Debt_To_Income                 0\n",
       "Inquiries_Last_6Mo             0\n",
       "Months_Since_Deliquency    88379\n",
       "Number_Open_Accounts           0\n",
       "Total_Accounts                 0\n",
       "Gender                         0\n",
       "Interest_Rate                  0\n",
       "Annual_Income_bin          25102\n",
       "LoanAmount_bin                 0\n",
       "dtype: int64"
      ]
     },
     "execution_count": 29,
     "metadata": {},
     "output_type": "execute_result"
    }
   ],
   "source": [
    "train.isnull().sum()"
   ]
  },
  {
   "cell_type": "code",
   "execution_count": 30,
   "metadata": {
    "execution": {
     "iopub.execute_input": "2020-08-13T09:01:19.905140Z",
     "iopub.status.busy": "2020-08-13T09:01:19.904115Z",
     "iopub.status.idle": "2020-08-13T09:01:19.985740Z",
     "shell.execute_reply": "2020-08-13T09:01:19.984950Z"
    },
    "papermill": {
     "duration": 0.128145,
     "end_time": "2020-08-13T09:01:19.985892",
     "exception": false,
     "start_time": "2020-08-13T09:01:19.857747",
     "status": "completed"
    },
    "tags": []
   },
   "outputs": [
    {
     "data": {
      "text/plain": [
       "Loan_ID                        0\n",
       "Loan_Amount_Requested          0\n",
       "Length_Employed             4936\n",
       "Home_Owner                 16711\n",
       "Annual_Income              16898\n",
       "Income_Verified                0\n",
       "Purpose_Of_Loan                0\n",
       "Debt_To_Income                 0\n",
       "Inquiries_Last_6Mo             0\n",
       "Months_Since_Deliquency    58859\n",
       "Number_Open_Accounts           0\n",
       "Total_Accounts                 0\n",
       "Gender                         0\n",
       "dtype: int64"
      ]
     },
     "execution_count": 30,
     "metadata": {},
     "output_type": "execute_result"
    }
   ],
   "source": [
    "test.isnull().sum()"
   ]
  },
  {
   "cell_type": "code",
   "execution_count": 31,
   "metadata": {
    "execution": {
     "iopub.execute_input": "2020-08-13T09:01:20.080118Z",
     "iopub.status.busy": "2020-08-13T09:01:20.079288Z",
     "iopub.status.idle": "2020-08-13T09:01:20.100406Z",
     "shell.execute_reply": "2020-08-13T09:01:20.099550Z"
    },
    "papermill": {
     "duration": 0.072215,
     "end_time": "2020-08-13T09:01:20.100554",
     "exception": false,
     "start_time": "2020-08-13T09:01:20.028339",
     "status": "completed"
    },
    "tags": []
   },
   "outputs": [],
   "source": [
    "train.drop('Months_Since_Deliquency',axis = 1,inplace = True)\n",
    "test.drop('Months_Since_Deliquency',axis = 1,inplace = True)"
   ]
  },
  {
   "cell_type": "code",
   "execution_count": 32,
   "metadata": {
    "execution": {
     "iopub.execute_input": "2020-08-13T09:01:20.263731Z",
     "iopub.status.busy": "2020-08-13T09:01:20.231714Z",
     "iopub.status.idle": "2020-08-13T09:01:20.309000Z",
     "shell.execute_reply": "2020-08-13T09:01:20.307682Z"
    },
    "papermill": {
     "duration": 0.167134,
     "end_time": "2020-08-13T09:01:20.309277",
     "exception": false,
     "start_time": "2020-08-13T09:01:20.142143",
     "status": "completed"
    },
    "tags": []
   },
   "outputs": [
    {
     "data": {
      "text/plain": [
       "Mortgage    70345\n",
       "Rent        56031\n",
       "Own         12525\n",
       "Other          49\n",
       "None           10\n",
       "Name: Home_Owner, dtype: int64"
      ]
     },
     "execution_count": 32,
     "metadata": {},
     "output_type": "execute_result"
    }
   ],
   "source": [
    "train['Length_Employed'].value_counts()\n",
    "train['Home_Owner'].value_counts()\n"
   ]
  },
  {
   "cell_type": "code",
   "execution_count": 33,
   "metadata": {
    "execution": {
     "iopub.execute_input": "2020-08-13T09:01:20.593609Z",
     "iopub.status.busy": "2020-08-13T09:01:20.549408Z",
     "iopub.status.idle": "2020-08-13T09:01:20.679721Z",
     "shell.execute_reply": "2020-08-13T09:01:20.678833Z"
    },
    "papermill": {
     "duration": 0.299378,
     "end_time": "2020-08-13T09:01:20.679875",
     "exception": false,
     "start_time": "2020-08-13T09:01:20.380497",
     "status": "completed"
    },
    "tags": []
   },
   "outputs": [],
   "source": [
    "train['Length_Employed'].fillna(train['Length_Employed'].mode()[0],inplace = True)\n",
    "train['Home_Owner'].fillna(train['Home_Owner'].mode()[0],inplace = True)\n",
    "\n",
    "test['Length_Employed'].fillna(train['Length_Employed'].mode()[0],inplace = True)\n",
    "test['Home_Owner'].fillna(train['Home_Owner'].mode()[0],inplace = True)"
   ]
  },
  {
   "cell_type": "code",
   "execution_count": 34,
   "metadata": {
    "execution": {
     "iopub.execute_input": "2020-08-13T09:01:20.774613Z",
     "iopub.status.busy": "2020-08-13T09:01:20.773535Z",
     "iopub.status.idle": "2020-08-13T09:01:20.786783Z",
     "shell.execute_reply": "2020-08-13T09:01:20.786134Z"
    },
    "papermill": {
     "duration": 0.063634,
     "end_time": "2020-08-13T09:01:20.786944",
     "exception": false,
     "start_time": "2020-08-13T09:01:20.723310",
     "status": "completed"
    },
    "tags": []
   },
   "outputs": [],
   "source": [
    "train['Annual_Income'].fillna(train['Annual_Income'].median(),inplace = True)\n",
    "test['Annual_Income'].fillna(train['Annual_Income'].median(),inplace = True)"
   ]
  },
  {
   "cell_type": "markdown",
   "execution_count": null,
   "metadata": {
    "papermill": {
     "duration": 0.040312,
     "end_time": "2020-08-13T09:01:20.868009",
     "exception": false,
     "start_time": "2020-08-13T09:01:20.827697",
     "status": "completed"
    },
    "tags": []
   },
   "source": [
    "# Outliers"
   ]
  },
  {
   "cell_type": "code",
   "execution_count": 35,
   "metadata": {
    "execution": {
     "iopub.execute_input": "2020-08-13T09:01:21.032109Z",
     "iopub.status.busy": "2020-08-13T09:01:21.004560Z",
     "iopub.status.idle": "2020-08-13T09:01:21.039679Z",
     "shell.execute_reply": "2020-08-13T09:01:21.039015Z"
    },
    "papermill": {
     "duration": 0.126766,
     "end_time": "2020-08-13T09:01:21.039810",
     "exception": false,
     "start_time": "2020-08-13T09:01:20.913044",
     "status": "completed"
    },
    "tags": []
   },
   "outputs": [],
   "source": [
    "minvalue=min(train['Annual_Income'])\n",
    "maxvalue=max(train['Annual_Income'])\n",
    "meanvalue=np.mean(train['Annual_Income'])\n",
    "medianvalue=np.median(train['Annual_Income'])\n",
    "\n",
    "points=[minvalue, maxvalue, meanvalue, medianvalue]\n",
    "names=[\"min\",\"max\",\"mean\",\"mid\"]"
   ]
  },
  {
   "cell_type": "code",
   "execution_count": 36,
   "metadata": {
    "execution": {
     "iopub.execute_input": "2020-08-13T09:01:21.139097Z",
     "iopub.status.busy": "2020-08-13T09:01:21.130340Z",
     "iopub.status.idle": "2020-08-13T09:01:25.831836Z",
     "shell.execute_reply": "2020-08-13T09:01:25.832808Z"
    },
    "papermill": {
     "duration": 4.752867,
     "end_time": "2020-08-13T09:01:25.833044",
     "exception": false,
     "start_time": "2020-08-13T09:01:21.080177",
     "status": "completed"
    },
    "tags": []
   },
   "outputs": [
    {
     "data": {
      "text/plain": [
       "<matplotlib.legend.Legend at 0x7f62ac9b2f10>"
      ]
     },
     "execution_count": 36,
     "metadata": {},
     "output_type": "execute_result"
    },
    {
     "data": {
      "image/png": "[encoded data removed]",
      "text/plain": [
       "<Figure size 1152x576 with 1 Axes>"
      ]
     },
     "metadata": {
      "needs_background": "light"
     },
     "output_type": "display_data"
    }
   ],
   "source": [
    "#Lets see scatter plot\n",
    "fig, ax = plt.subplots(figsize=(16,8))\n",
    "ax.scatter(train.index,train['Annual_Income'],color = 'deeppink')\n",
    "ax.axhline(y=minvalue, label=\"min\",color='blue')\n",
    "ax.axhline(y=maxvalue, label=\"max\",color='cyan')\n",
    "ax.axhline(y=meanvalue, label=\"mean\",color='red')\n",
    "ax.axhline(y=medianvalue, label=\"mid\",color='green')\n",
    "ax.legend()"
   ]
  },
  {
   "cell_type": "markdown",
   "execution_count": null,
   "metadata": {
    "papermill": {
     "duration": 0.057519,
     "end_time": "2020-08-13T09:01:25.944774",
     "exception": false,
     "start_time": "2020-08-13T09:01:25.887255",
     "status": "completed"
    },
    "tags": []
   },
   "source": [
    "You can see the outliers clearly"
   ]
  },
  {
   "cell_type": "code",
   "execution_count": 37,
   "metadata": {
    "execution": {
     "iopub.execute_input": "2020-08-13T09:01:26.056664Z",
     "iopub.status.busy": "2020-08-13T09:01:26.055723Z",
     "iopub.status.idle": "2020-08-13T09:01:26.064454Z",
     "shell.execute_reply": "2020-08-13T09:01:26.063414Z"
    },
    "papermill": {
     "duration": 0.065237,
     "end_time": "2020-08-13T09:01:26.064653",
     "exception": false,
     "start_time": "2020-08-13T09:01:25.999416",
     "status": "completed"
    },
    "tags": []
   },
   "outputs": [
    {
     "name": "stdout",
     "output_type": "stream",
     "text": [
      "[0.06737783 0.15714705 0.06846814 ... 0.15714705 0.15714705 0.15714705]\n"
     ]
    }
   ],
   "source": [
    "#Lets see Z-score\n",
    "from scipy import stats\n",
    "import numpy as np\n",
    "z = np.abs(stats.zscore(train['Annual_Income']))\n",
    "print(z)"
   ]
  },
  {
   "cell_type": "code",
   "execution_count": 38,
   "metadata": {
    "execution": {
     "iopub.execute_input": "2020-08-13T09:01:26.155795Z",
     "iopub.status.busy": "2020-08-13T09:01:26.154627Z",
     "iopub.status.idle": "2020-08-13T09:01:26.159941Z",
     "shell.execute_reply": "2020-08-13T09:01:26.161118Z"
    },
    "papermill": {
     "duration": 0.054109,
     "end_time": "2020-08-13T09:01:26.161380",
     "exception": false,
     "start_time": "2020-08-13T09:01:26.107271",
     "status": "completed"
    },
    "tags": []
   },
   "outputs": [
    {
     "name": "stdout",
     "output_type": "stream",
     "text": [
      "(array([    98,    177,    292, ..., 164066, 164101, 164112]),)\n"
     ]
    }
   ],
   "source": [
    "threshold = 3\n",
    "print(np.where(z > 3))"
   ]
  },
  {
   "cell_type": "code",
   "execution_count": 39,
   "metadata": {
    "execution": {
     "iopub.execute_input": "2020-08-13T09:01:26.260410Z",
     "iopub.status.busy": "2020-08-13T09:01:26.259301Z",
     "iopub.status.idle": "2020-08-13T09:01:26.264935Z",
     "shell.execute_reply": "2020-08-13T09:01:26.264144Z"
    },
    "papermill": {
     "duration": 0.057702,
     "end_time": "2020-08-13T09:01:26.265076",
     "exception": false,
     "start_time": "2020-08-13T09:01:26.207374",
     "status": "completed"
    },
    "tags": []
   },
   "outputs": [
    {
     "data": {
      "text/plain": [
       "5.893298454755342"
      ]
     },
     "execution_count": 39,
     "metadata": {},
     "output_type": "execute_result"
    }
   ],
   "source": [
    "z[98]"
   ]
  },
  {
   "cell_type": "code",
   "execution_count": 40,
   "metadata": {
    "execution": {
     "iopub.execute_input": "2020-08-13T09:01:26.361446Z",
     "iopub.status.busy": "2020-08-13T09:01:26.360577Z",
     "iopub.status.idle": "2020-08-13T09:01:26.765010Z",
     "shell.execute_reply": "2020-08-13T09:01:26.765629Z"
    },
    "papermill": {
     "duration": 0.457975,
     "end_time": "2020-08-13T09:01:26.765822",
     "exception": false,
     "start_time": "2020-08-13T09:01:26.307847",
     "status": "completed"
    },
    "tags": []
   },
   "outputs": [
    {
     "data": {
      "image/png": "[encoded data removed]",
      "text/plain": [
       "<Figure size 432x288 with 1 Axes>"
      ]
     },
     "metadata": {
      "needs_background": "light"
     },
     "output_type": "display_data"
    }
   ],
   "source": [
    "train['Annual_Income_log'] = np.log(train['Annual_Income']) \n",
    "train['Annual_Income_log'].hist(bins=20) \n",
    "test['Annual_Income_log'] = np.log(test['Annual_Income'])"
   ]
  },
  {
   "cell_type": "code",
   "execution_count": 41,
   "metadata": {
    "execution": {
     "iopub.execute_input": "2020-08-13T09:01:26.862561Z",
     "iopub.status.busy": "2020-08-13T09:01:26.861648Z",
     "iopub.status.idle": "2020-08-13T09:01:26.901335Z",
     "shell.execute_reply": "2020-08-13T09:01:26.900511Z"
    },
    "papermill": {
     "duration": 0.092355,
     "end_time": "2020-08-13T09:01:26.901474",
     "exception": false,
     "start_time": "2020-08-13T09:01:26.809119",
     "status": "completed"
    },
    "scrolled": true,
    "tags": []
   },
   "outputs": [
    {
     "data": {
      "text/html": [
       "<div>\n",
       "<style scoped>\n",
       "    .dataframe tbody tr th:only-of-type {\n",
       "        vertical-align: middle;\n",
       "    }\n",
       "\n",
       "    .dataframe tbody tr th {\n",
       "        vertical-align: top;\n",
       "    }\n",
       "\n",
       "    .dataframe thead th {\n",
       "        text-align: right;\n",
       "    }\n",
       "</style>\n",
       "<table border=\"1\" class=\"dataframe\">\n",
       "  <thead>\n",
       "    <tr style=\"text-align: right;\">\n",
       "      <th></th>\n",
       "      <th>Annual_Income</th>\n",
       "      <th>Annual_Income_log</th>\n",
       "    </tr>\n",
       "  </thead>\n",
       "  <tbody>\n",
       "    <tr>\n",
       "      <th>29808</th>\n",
       "      <td>4000.000000</td>\n",
       "      <td>8.294050</td>\n",
       "    </tr>\n",
       "    <tr>\n",
       "      <th>137615</th>\n",
       "      <td>4000.000000</td>\n",
       "      <td>8.294050</td>\n",
       "    </tr>\n",
       "    <tr>\n",
       "      <th>113045</th>\n",
       "      <td>4200.000000</td>\n",
       "      <td>8.342840</td>\n",
       "    </tr>\n",
       "    <tr>\n",
       "      <th>151827</th>\n",
       "      <td>4800.000000</td>\n",
       "      <td>8.476371</td>\n",
       "    </tr>\n",
       "    <tr>\n",
       "      <th>32343</th>\n",
       "      <td>4800.000000</td>\n",
       "      <td>8.476371</td>\n",
       "    </tr>\n",
       "    <tr>\n",
       "      <th>...</th>\n",
       "      <td>...</td>\n",
       "      <td>...</td>\n",
       "    </tr>\n",
       "    <tr>\n",
       "      <th>111833</th>\n",
       "      <td>4560077.000000</td>\n",
       "      <td>15.332850</td>\n",
       "    </tr>\n",
       "    <tr>\n",
       "      <th>159569</th>\n",
       "      <td>4900000.000000</td>\n",
       "      <td>15.404746</td>\n",
       "    </tr>\n",
       "    <tr>\n",
       "      <th>135686</th>\n",
       "      <td>5000000.000000</td>\n",
       "      <td>15.424948</td>\n",
       "    </tr>\n",
       "    <tr>\n",
       "      <th>156075</th>\n",
       "      <td>7141778.000000</td>\n",
       "      <td>15.781472</td>\n",
       "    </tr>\n",
       "    <tr>\n",
       "      <th>88088</th>\n",
       "      <td>7500000.000000</td>\n",
       "      <td>15.830414</td>\n",
       "    </tr>\n",
       "  </tbody>\n",
       "</table>\n",
       "<p>164309 rows × 2 columns</p>\n",
       "</div>"
      ],
      "text/plain": [
       "        Annual_Income  Annual_Income_log\n",
       "29808     4000.000000           8.294050\n",
       "137615    4000.000000           8.294050\n",
       "113045    4200.000000           8.342840\n",
       "151827    4800.000000           8.476371\n",
       "32343     4800.000000           8.476371\n",
       "...               ...                ...\n",
       "111833 4560077.000000          15.332850\n",
       "159569 4900000.000000          15.404746\n",
       "135686 5000000.000000          15.424948\n",
       "156075 7141778.000000          15.781472\n",
       "88088  7500000.000000          15.830414\n",
       "\n",
       "[164309 rows x 2 columns]"
      ]
     },
     "execution_count": 41,
     "metadata": {},
     "output_type": "execute_result"
    }
   ],
   "source": [
    "train[['Annual_Income','Annual_Income_log']].sort_values('Annual_Income')"
   ]
  },
  {
   "cell_type": "code",
   "execution_count": 42,
   "metadata": {
    "execution": {
     "iopub.execute_input": "2020-08-13T09:01:27.073492Z",
     "iopub.status.busy": "2020-08-13T09:01:27.072606Z",
     "iopub.status.idle": "2020-08-13T09:02:04.269664Z",
     "shell.execute_reply": "2020-08-13T09:02:04.270291Z"
    },
    "papermill": {
     "duration": 37.320042,
     "end_time": "2020-08-13T09:02:04.270480",
     "exception": false,
     "start_time": "2020-08-13T09:01:26.950438",
     "status": "completed"
    },
    "tags": []
   },
   "outputs": [
    {
     "data": {
      "image/png": "[encoded data removed]",
      "text/plain": [
       "<Figure size 1152x288 with 1 Axes>"
      ]
     },
     "metadata": {
      "needs_background": "light"
     },
     "output_type": "display_data"
    },
    {
     "data": {
      "image/png": "[encoded data removed]",
      "text/plain": [
       "<Figure size 1152x288 with 1 Axes>"
      ]
     },
     "metadata": {
      "needs_background": "light"
     },
     "output_type": "display_data"
    },
    {
     "data": {
      "image/png": "[encoded data removed]",
      "text/plain": [
       "<Figure size 1152x288 with 1 Axes>"
      ]
     },
     "metadata": {
      "needs_background": "light"
     },
     "output_type": "display_data"
    },
    {
     "data": {
      "image/png": "[encoded data removed]",
      "text/plain": [
       "<Figure size 1152x288 with 1 Axes>"
      ]
     },
     "metadata": {
      "needs_background": "light"
     },
     "output_type": "display_data"
    },
    {
     "data": {
      "image/png": "[encoded data removed]",
      "text/plain": [
       "<Figure size 1152x288 with 1 Axes>"
      ]
     },
     "metadata": {
      "needs_background": "light"
     },
     "output_type": "display_data"
    }
   ],
   "source": [
    "#Lets see scatter plot\n",
    "cont_col.remove('Months_Since_Deliquency')\n",
    "for col in cont_col:\n",
    "    minvalue=min(train[col])\n",
    "    maxvalue=max(train[col])\n",
    "    meanvalue=np.mean(train[col])\n",
    "    medianvalue=np.median(train[col])\n",
    "\n",
    "    #points=[minvalue, maxvalue, meanvalue, medianvalue]\n",
    "    #names=[\"min\",\"max\",\"mean\",\"mid\"]\n",
    "    fig, ax = plt.subplots(figsize=(16,4))\n",
    "    ax.scatter(train.index,train[col],color = 'deeppink',label = col)\n",
    "    ax.axhline(y=minvalue, label=\"min\",color='blue')\n",
    "    ax.axhline(y=maxvalue, label=\"max\",color='cyan')\n",
    "    ax.axhline(y=meanvalue, label=\"mean\",color='red')\n",
    "    ax.axhline(y=medianvalue, label=\"mid\",color='green')\n",
    "    ax.legend()"
   ]
  },
  {
   "cell_type": "code",
   "execution_count": 43,
   "metadata": {
    "execution": {
     "iopub.execute_input": "2020-08-13T09:02:04.368445Z",
     "iopub.status.busy": "2020-08-13T09:02:04.367621Z",
     "iopub.status.idle": "2020-08-13T09:02:04.388097Z",
     "shell.execute_reply": "2020-08-13T09:02:04.388858Z"
    },
    "papermill": {
     "duration": 0.074384,
     "end_time": "2020-08-13T09:02:04.389107",
     "exception": false,
     "start_time": "2020-08-13T09:02:04.314723",
     "status": "completed"
    },
    "tags": []
   },
   "outputs": [
    {
     "name": "stdout",
     "output_type": "stream",
     "text": [
      "No. of outliers in  Loan_Amount_Requested : 0\n",
      "[]\n",
      "\n",
      "No. of outliers in  Annual_Income : 1465\n",
      "[    98    177    292 ... 164066 164101 164112]\n",
      "\n",
      "No. of outliers in  Debt_To_Income : 0\n",
      "[]\n",
      "\n",
      "No. of outliers in  Number_Open_Accounts : 1671\n",
      "[    31    233    270 ... 163922 164174 164235]\n",
      "\n",
      "No. of outliers in  Total_Accounts : 1576\n",
      "[    47    117    339 ... 164235 164260 164307]\n",
      "\n"
     ]
    }
   ],
   "source": [
    "threshold = 3\n",
    "for col in cont_col:\n",
    "    z = np.abs(stats.zscore(train[col]))\n",
    "    outlier = np.where(z > threshold)\n",
    "    print(\"No. of outliers in \",col,\":\",len(outlier[0]))\n",
    "    print(outlier[0])\n",
    "    print()\n",
    "\n",
    "#type(outlier[0])"
   ]
  },
  {
   "cell_type": "code",
   "execution_count": 44,
   "metadata": {
    "execution": {
     "iopub.execute_input": "2020-08-13T09:02:04.485140Z",
     "iopub.status.busy": "2020-08-13T09:02:04.484200Z",
     "iopub.status.idle": "2020-08-13T09:02:04.489729Z",
     "shell.execute_reply": "2020-08-13T09:02:04.489080Z"
    },
    "papermill": {
     "duration": 0.05583,
     "end_time": "2020-08-13T09:02:04.489860",
     "exception": false,
     "start_time": "2020-08-13T09:02:04.434030",
     "status": "completed"
    },
    "tags": []
   },
   "outputs": [
    {
     "data": {
      "text/plain": [
       "350000.0"
      ]
     },
     "execution_count": 44,
     "metadata": {},
     "output_type": "execute_result"
    }
   ],
   "source": [
    "train['Annual_Income'][177]"
   ]
  },
  {
   "cell_type": "code",
   "execution_count": 45,
   "metadata": {
    "execution": {
     "iopub.execute_input": "2020-08-13T09:02:04.586737Z",
     "iopub.status.busy": "2020-08-13T09:02:04.585923Z",
     "iopub.status.idle": "2020-08-13T09:02:04.598431Z",
     "shell.execute_reply": "2020-08-13T09:02:04.597728Z"
    },
    "papermill": {
     "duration": 0.063151,
     "end_time": "2020-08-13T09:02:04.598562",
     "exception": false,
     "start_time": "2020-08-13T09:02:04.535411",
     "status": "completed"
    },
    "scrolled": true,
    "tags": []
   },
   "outputs": [
    {
     "data": {
      "text/plain": [
       "64435     239000.000000\n",
       "154441    239000.000000\n",
       "57369     240000.000000\n",
       "69920     240000.000000\n",
       "69967     240000.000000\n",
       "              ...      \n",
       "111833   4560077.000000\n",
       "159569   4900000.000000\n",
       "135686   5000000.000000\n",
       "156075   7141778.000000\n",
       "88088    7500000.000000\n",
       "Name: Annual_Income, Length: 1465, dtype: float64"
      ]
     },
     "execution_count": 45,
     "metadata": {},
     "output_type": "execute_result"
    }
   ],
   "source": [
    "#Annual Income outliered values\n",
    "train[(np.abs(stats.zscore(train['Annual_Income'])) > 3)]['Annual_Income'].sort_values()"
   ]
  },
  {
   "cell_type": "code",
   "execution_count": 46,
   "metadata": {
    "execution": {
     "iopub.execute_input": "2020-08-13T09:02:04.695791Z",
     "iopub.status.busy": "2020-08-13T09:02:04.694953Z",
     "iopub.status.idle": "2020-08-13T09:02:04.707598Z",
     "shell.execute_reply": "2020-08-13T09:02:04.706922Z"
    },
    "papermill": {
     "duration": 0.063814,
     "end_time": "2020-08-13T09:02:04.707731",
     "exception": false,
     "start_time": "2020-08-13T09:02:04.643917",
     "status": "completed"
    },
    "scrolled": true,
    "tags": []
   },
   "outputs": [
    {
     "data": {
      "text/plain": [
       "136079    27\n",
       "122440    27\n",
       "78488     27\n",
       "78550     27\n",
       "30841     27\n",
       "          ..\n",
       "104667    58\n",
       "134036    58\n",
       "54698     58\n",
       "14930     62\n",
       "72015     76\n",
       "Name: Number_Open_Accounts, Length: 1671, dtype: int64"
      ]
     },
     "execution_count": 46,
     "metadata": {},
     "output_type": "execute_result"
    }
   ],
   "source": [
    "#Annual Income outliered values\n",
    "train[(np.abs(stats.zscore(train['Number_Open_Accounts'])) > 3)]['Number_Open_Accounts'].sort_values()"
   ]
  },
  {
   "cell_type": "code",
   "execution_count": 47,
   "metadata": {
    "execution": {
     "iopub.execute_input": "2020-08-13T09:02:04.809218Z",
     "iopub.status.busy": "2020-08-13T09:02:04.808086Z",
     "iopub.status.idle": "2020-08-13T09:02:05.373279Z",
     "shell.execute_reply": "2020-08-13T09:02:05.372653Z"
    },
    "papermill": {
     "duration": 0.61993,
     "end_time": "2020-08-13T09:02:05.373428",
     "exception": false,
     "start_time": "2020-08-13T09:02:04.753498",
     "status": "completed"
    },
    "tags": []
   },
   "outputs": [
    {
     "data": {
      "image/png": "[encoded data removed]",
      "text/plain": [
       "<Figure size 864x288 with 2 Axes>"
      ]
     },
     "metadata": {
      "needs_background": "light"
     },
     "output_type": "display_data"
    }
   ],
   "source": [
    "#As we have 0's in the sample, if we apply log those will be -inf, to overcome this we apply sqrt instead of log\n",
    "train['Number_Open_Accounts_log'] = np.sqrt(train['Number_Open_Accounts'])\n",
    "plt.figure(figsize = (12,4))\n",
    "plt.subplot(1,2,1)\n",
    "train['Number_Open_Accounts_log'].hist() \n",
    "plt.subplot(1,2,2)\n",
    "sns.distplot(train['Number_Open_Accounts_log'])\n",
    "test['Number_Open_Accounts_log'] = np.sqrt(test['Number_Open_Accounts'])"
   ]
  },
  {
   "cell_type": "code",
   "execution_count": 48,
   "metadata": {
    "execution": {
     "iopub.execute_input": "2020-08-13T09:02:05.472129Z",
     "iopub.status.busy": "2020-08-13T09:02:05.471313Z",
     "iopub.status.idle": "2020-08-13T09:02:05.507951Z",
     "shell.execute_reply": "2020-08-13T09:02:05.507167Z"
    },
    "papermill": {
     "duration": 0.08908,
     "end_time": "2020-08-13T09:02:05.508086",
     "exception": false,
     "start_time": "2020-08-13T09:02:05.419006",
     "status": "completed"
    },
    "scrolled": true,
    "tags": []
   },
   "outputs": [
    {
     "data": {
      "text/html": [
       "<div>\n",
       "<style scoped>\n",
       "    .dataframe tbody tr th:only-of-type {\n",
       "        vertical-align: middle;\n",
       "    }\n",
       "\n",
       "    .dataframe tbody tr th {\n",
       "        vertical-align: top;\n",
       "    }\n",
       "\n",
       "    .dataframe thead th {\n",
       "        text-align: right;\n",
       "    }\n",
       "</style>\n",
       "<table border=\"1\" class=\"dataframe\">\n",
       "  <thead>\n",
       "    <tr style=\"text-align: right;\">\n",
       "      <th></th>\n",
       "      <th>Number_Open_Accounts_log</th>\n",
       "      <th>Number_Open_Accounts</th>\n",
       "    </tr>\n",
       "  </thead>\n",
       "  <tbody>\n",
       "    <tr>\n",
       "      <th>8867</th>\n",
       "      <td>0.000000</td>\n",
       "      <td>0</td>\n",
       "    </tr>\n",
       "    <tr>\n",
       "      <th>72538</th>\n",
       "      <td>0.000000</td>\n",
       "      <td>0</td>\n",
       "    </tr>\n",
       "    <tr>\n",
       "      <th>13497</th>\n",
       "      <td>1.000000</td>\n",
       "      <td>1</td>\n",
       "    </tr>\n",
       "    <tr>\n",
       "      <th>57321</th>\n",
       "      <td>1.000000</td>\n",
       "      <td>1</td>\n",
       "    </tr>\n",
       "    <tr>\n",
       "      <th>31964</th>\n",
       "      <td>1.000000</td>\n",
       "      <td>1</td>\n",
       "    </tr>\n",
       "    <tr>\n",
       "      <th>...</th>\n",
       "      <td>...</td>\n",
       "      <td>...</td>\n",
       "    </tr>\n",
       "    <tr>\n",
       "      <th>159794</th>\n",
       "      <td>7.615773</td>\n",
       "      <td>58</td>\n",
       "    </tr>\n",
       "    <tr>\n",
       "      <th>54698</th>\n",
       "      <td>7.615773</td>\n",
       "      <td>58</td>\n",
       "    </tr>\n",
       "    <tr>\n",
       "      <th>134036</th>\n",
       "      <td>7.615773</td>\n",
       "      <td>58</td>\n",
       "    </tr>\n",
       "    <tr>\n",
       "      <th>14930</th>\n",
       "      <td>7.874008</td>\n",
       "      <td>62</td>\n",
       "    </tr>\n",
       "    <tr>\n",
       "      <th>72015</th>\n",
       "      <td>8.717798</td>\n",
       "      <td>76</td>\n",
       "    </tr>\n",
       "  </tbody>\n",
       "</table>\n",
       "<p>164309 rows × 2 columns</p>\n",
       "</div>"
      ],
      "text/plain": [
       "        Number_Open_Accounts_log  Number_Open_Accounts\n",
       "8867                    0.000000                     0\n",
       "72538                   0.000000                     0\n",
       "13497                   1.000000                     1\n",
       "57321                   1.000000                     1\n",
       "31964                   1.000000                     1\n",
       "...                          ...                   ...\n",
       "159794                  7.615773                    58\n",
       "54698                   7.615773                    58\n",
       "134036                  7.615773                    58\n",
       "14930                   7.874008                    62\n",
       "72015                   8.717798                    76\n",
       "\n",
       "[164309 rows x 2 columns]"
      ]
     },
     "execution_count": 48,
     "metadata": {},
     "output_type": "execute_result"
    }
   ],
   "source": [
    "train[['Number_Open_Accounts_log','Number_Open_Accounts']].sort_values('Number_Open_Accounts_log')"
   ]
  },
  {
   "cell_type": "code",
   "execution_count": 49,
   "metadata": {
    "execution": {
     "iopub.execute_input": "2020-08-13T09:02:05.624957Z",
     "iopub.status.busy": "2020-08-13T09:02:05.624187Z",
     "iopub.status.idle": "2020-08-13T09:02:05.637156Z",
     "shell.execute_reply": "2020-08-13T09:02:05.636352Z"
    },
    "papermill": {
     "duration": 0.073825,
     "end_time": "2020-08-13T09:02:05.637295",
     "exception": false,
     "start_time": "2020-08-13T09:02:05.563470",
     "status": "completed"
    },
    "scrolled": true,
    "tags": []
   },
   "outputs": [
    {
     "data": {
      "text/plain": [
       "123623     60\n",
       "40119      60\n",
       "39620      60\n",
       "18191      60\n",
       "18531      60\n",
       "         ... \n",
       "137376     99\n",
       "86968     102\n",
       "16509     105\n",
       "87447     116\n",
       "76601     156\n",
       "Name: Total_Accounts, Length: 1576, dtype: int64"
      ]
     },
     "execution_count": 49,
     "metadata": {},
     "output_type": "execute_result"
    }
   ],
   "source": [
    "train[(np.abs(stats.zscore(train['Total_Accounts'])) > 3)]['Total_Accounts'].sort_values()"
   ]
  },
  {
   "cell_type": "code",
   "execution_count": 50,
   "metadata": {
    "execution": {
     "iopub.execute_input": "2020-08-13T09:02:05.739523Z",
     "iopub.status.busy": "2020-08-13T09:02:05.738730Z",
     "iopub.status.idle": "2020-08-13T09:02:06.249380Z",
     "shell.execute_reply": "2020-08-13T09:02:06.248547Z"
    },
    "papermill": {
     "duration": 0.565212,
     "end_time": "2020-08-13T09:02:06.249524",
     "exception": false,
     "start_time": "2020-08-13T09:02:05.684312",
     "status": "completed"
    },
    "tags": []
   },
   "outputs": [
    {
     "data": {
      "image/png": "[encoded data removed]",
      "text/plain": [
       "<Figure size 864x288 with 2 Axes>"
      ]
     },
     "metadata": {
      "needs_background": "light"
     },
     "output_type": "display_data"
    }
   ],
   "source": [
    "#As we have 0's in the sample, if we apply log those will be -inf, to overcome this we apply sqrt instead of log\n",
    "train['Total_Accounts_log'] = np.sqrt(train['Total_Accounts'])\n",
    "plt.figure(figsize = (12,4))\n",
    "plt.subplot(1,2,1)\n",
    "train['Total_Accounts_log'].hist() \n",
    "plt.subplot(1,2,2)\n",
    "sns.distplot(train['Total_Accounts_log'])\n",
    "test['Total_Accounts_log'] = np.sqrt(test['Number_Open_Accounts'])"
   ]
  },
  {
   "cell_type": "code",
   "execution_count": 51,
   "metadata": {
    "execution": {
     "iopub.execute_input": "2020-08-13T09:02:06.355324Z",
     "iopub.status.busy": "2020-08-13T09:02:06.354493Z",
     "iopub.status.idle": "2020-08-13T09:02:06.394660Z",
     "shell.execute_reply": "2020-08-13T09:02:06.393855Z"
    },
    "papermill": {
     "duration": 0.096191,
     "end_time": "2020-08-13T09:02:06.394793",
     "exception": false,
     "start_time": "2020-08-13T09:02:06.298602",
     "status": "completed"
    },
    "scrolled": true,
    "tags": []
   },
   "outputs": [
    {
     "data": {
      "text/html": [
       "<div>\n",
       "<style scoped>\n",
       "    .dataframe tbody tr th:only-of-type {\n",
       "        vertical-align: middle;\n",
       "    }\n",
       "\n",
       "    .dataframe tbody tr th {\n",
       "        vertical-align: top;\n",
       "    }\n",
       "\n",
       "    .dataframe thead th {\n",
       "        text-align: right;\n",
       "    }\n",
       "</style>\n",
       "<table border=\"1\" class=\"dataframe\">\n",
       "  <thead>\n",
       "    <tr style=\"text-align: right;\">\n",
       "      <th></th>\n",
       "      <th>Total_Accounts_log</th>\n",
       "      <th>Total_Accounts</th>\n",
       "    </tr>\n",
       "  </thead>\n",
       "  <tbody>\n",
       "    <tr>\n",
       "      <th>2248</th>\n",
       "      <td>1.414214</td>\n",
       "      <td>2</td>\n",
       "    </tr>\n",
       "    <tr>\n",
       "      <th>101452</th>\n",
       "      <td>1.414214</td>\n",
       "      <td>2</td>\n",
       "    </tr>\n",
       "    <tr>\n",
       "      <th>62138</th>\n",
       "      <td>1.414214</td>\n",
       "      <td>2</td>\n",
       "    </tr>\n",
       "    <tr>\n",
       "      <th>86244</th>\n",
       "      <td>1.414214</td>\n",
       "      <td>2</td>\n",
       "    </tr>\n",
       "    <tr>\n",
       "      <th>146771</th>\n",
       "      <td>1.414214</td>\n",
       "      <td>2</td>\n",
       "    </tr>\n",
       "    <tr>\n",
       "      <th>...</th>\n",
       "      <td>...</td>\n",
       "      <td>...</td>\n",
       "    </tr>\n",
       "    <tr>\n",
       "      <th>137376</th>\n",
       "      <td>9.949874</td>\n",
       "      <td>99</td>\n",
       "    </tr>\n",
       "    <tr>\n",
       "      <th>86968</th>\n",
       "      <td>10.099505</td>\n",
       "      <td>102</td>\n",
       "    </tr>\n",
       "    <tr>\n",
       "      <th>16509</th>\n",
       "      <td>10.246951</td>\n",
       "      <td>105</td>\n",
       "    </tr>\n",
       "    <tr>\n",
       "      <th>87447</th>\n",
       "      <td>10.770330</td>\n",
       "      <td>116</td>\n",
       "    </tr>\n",
       "    <tr>\n",
       "      <th>76601</th>\n",
       "      <td>12.489996</td>\n",
       "      <td>156</td>\n",
       "    </tr>\n",
       "  </tbody>\n",
       "</table>\n",
       "<p>164309 rows × 2 columns</p>\n",
       "</div>"
      ],
      "text/plain": [
       "        Total_Accounts_log  Total_Accounts\n",
       "2248              1.414214               2\n",
       "101452            1.414214               2\n",
       "62138             1.414214               2\n",
       "86244             1.414214               2\n",
       "146771            1.414214               2\n",
       "...                    ...             ...\n",
       "137376            9.949874              99\n",
       "86968            10.099505             102\n",
       "16509            10.246951             105\n",
       "87447            10.770330             116\n",
       "76601            12.489996             156\n",
       "\n",
       "[164309 rows x 2 columns]"
      ]
     },
     "execution_count": 51,
     "metadata": {},
     "output_type": "execute_result"
    }
   ],
   "source": [
    "train[['Total_Accounts_log','Total_Accounts']].sort_values('Total_Accounts_log')"
   ]
  },
  {
   "cell_type": "code",
   "execution_count": 52,
   "metadata": {
    "execution": {
     "iopub.execute_input": "2020-08-13T09:02:06.495505Z",
     "iopub.status.busy": "2020-08-13T09:02:06.494408Z",
     "iopub.status.idle": "2020-08-13T09:02:06.500000Z",
     "shell.execute_reply": "2020-08-13T09:02:06.499386Z"
    },
    "papermill": {
     "duration": 0.059018,
     "end_time": "2020-08-13T09:02:06.500139",
     "exception": false,
     "start_time": "2020-08-13T09:02:06.441121",
     "status": "completed"
    },
    "tags": []
   },
   "outputs": [
    {
     "data": {
      "text/plain": [
       "Index(['Loan_ID', 'Loan_Amount_Requested', 'Length_Employed', 'Home_Owner',\n",
       "       'Annual_Income', 'Income_Verified', 'Purpose_Of_Loan', 'Debt_To_Income',\n",
       "       'Inquiries_Last_6Mo', 'Number_Open_Accounts', 'Total_Accounts',\n",
       "       'Gender', 'Interest_Rate', 'Annual_Income_bin', 'LoanAmount_bin',\n",
       "       'Annual_Income_log', 'Number_Open_Accounts_log', 'Total_Accounts_log'],\n",
       "      dtype='object')"
      ]
     },
     "execution_count": 52,
     "metadata": {},
     "output_type": "execute_result"
    }
   ],
   "source": [
    "train.columns"
   ]
  },
  {
   "cell_type": "markdown",
   "execution_count": null,
   "metadata": {
    "papermill": {
     "duration": 0.046254,
     "end_time": "2020-08-13T09:02:06.593192",
     "exception": false,
     "start_time": "2020-08-13T09:02:06.546938",
     "status": "completed"
    },
    "tags": []
   },
   "source": [
    "## Model Building\n",
    "Support Vector Machine (SVM)\n",
    "k-Nearest Neighbors (KNN)\n",
    "Bagged Decision Trees (BAG)\n",
    "Random Forest (RF)\n",
    "Extra Trees (ET)"
   ]
  },
  {
   "cell_type": "code",
   "execution_count": 53,
   "metadata": {
    "execution": {
     "iopub.execute_input": "2020-08-13T09:02:06.707740Z",
     "iopub.status.busy": "2020-08-13T09:02:06.706496Z",
     "iopub.status.idle": "2020-08-13T09:02:06.747681Z",
     "shell.execute_reply": "2020-08-13T09:02:06.746867Z"
    },
    "papermill": {
     "duration": 0.10188,
     "end_time": "2020-08-13T09:02:06.747814",
     "exception": false,
     "start_time": "2020-08-13T09:02:06.645934",
     "status": "completed"
    },
    "tags": []
   },
   "outputs": [],
   "source": [
    "train=train.drop('Loan_ID',axis=1) \n",
    "test=test.drop('Loan_ID',axis=1)"
   ]
  },
  {
   "cell_type": "code",
   "execution_count": 54,
   "metadata": {
    "execution": {
     "iopub.execute_input": "2020-08-13T09:02:06.872047Z",
     "iopub.status.busy": "2020-08-13T09:02:06.870969Z",
     "iopub.status.idle": "2020-08-13T09:02:06.876390Z",
     "shell.execute_reply": "2020-08-13T09:02:06.875782Z"
    },
    "papermill": {
     "duration": 0.081841,
     "end_time": "2020-08-13T09:02:06.876532",
     "exception": false,
     "start_time": "2020-08-13T09:02:06.794691",
     "status": "completed"
    },
    "tags": []
   },
   "outputs": [
    {
     "data": {
      "text/html": [
       "<div>\n",
       "<style scoped>\n",
       "    .dataframe tbody tr th:only-of-type {\n",
       "        vertical-align: middle;\n",
       "    }\n",
       "\n",
       "    .dataframe tbody tr th {\n",
       "        vertical-align: top;\n",
       "    }\n",
       "\n",
       "    .dataframe thead th {\n",
       "        text-align: right;\n",
       "    }\n",
       "</style>\n",
       "<table border=\"1\" class=\"dataframe\">\n",
       "  <thead>\n",
       "    <tr style=\"text-align: right;\">\n",
       "      <th></th>\n",
       "      <th>Loan_Amount_Requested</th>\n",
       "      <th>Length_Employed</th>\n",
       "      <th>Home_Owner</th>\n",
       "      <th>Annual_Income</th>\n",
       "      <th>Income_Verified</th>\n",
       "      <th>Purpose_Of_Loan</th>\n",
       "      <th>Debt_To_Income</th>\n",
       "      <th>Inquiries_Last_6Mo</th>\n",
       "      <th>Number_Open_Accounts</th>\n",
       "      <th>Total_Accounts</th>\n",
       "      <th>Gender</th>\n",
       "      <th>Annual_Income_log</th>\n",
       "      <th>Number_Open_Accounts_log</th>\n",
       "      <th>Total_Accounts_log</th>\n",
       "    </tr>\n",
       "  </thead>\n",
       "  <tbody>\n",
       "    <tr>\n",
       "      <th>0</th>\n",
       "      <td>27500</td>\n",
       "      <td>10</td>\n",
       "      <td>Mortgage</td>\n",
       "      <td>129000.000000</td>\n",
       "      <td>VERIFIED - income</td>\n",
       "      <td>debt_consolidation</td>\n",
       "      <td>12.870000</td>\n",
       "      <td>0</td>\n",
       "      <td>10</td>\n",
       "      <td>37</td>\n",
       "      <td>Male</td>\n",
       "      <td>11.767568</td>\n",
       "      <td>3.162278</td>\n",
       "      <td>3.162278</td>\n",
       "    </tr>\n",
       "    <tr>\n",
       "      <th>1</th>\n",
       "      <td>26000</td>\n",
       "      <td>10</td>\n",
       "      <td>Mortgage</td>\n",
       "      <td>110000.000000</td>\n",
       "      <td>not verified</td>\n",
       "      <td>credit_card</td>\n",
       "      <td>11.370000</td>\n",
       "      <td>0</td>\n",
       "      <td>6</td>\n",
       "      <td>23</td>\n",
       "      <td>Male</td>\n",
       "      <td>11.608236</td>\n",
       "      <td>2.449490</td>\n",
       "      <td>2.449490</td>\n",
       "    </tr>\n",
       "    <tr>\n",
       "      <th>2</th>\n",
       "      <td>6075</td>\n",
       "      <td>1</td>\n",
       "      <td>Rent</td>\n",
       "      <td>75000.000000</td>\n",
       "      <td>VERIFIED - income</td>\n",
       "      <td>debt_consolidation</td>\n",
       "      <td>6.830000</td>\n",
       "      <td>2</td>\n",
       "      <td>5</td>\n",
       "      <td>20</td>\n",
       "      <td>Male</td>\n",
       "      <td>11.225243</td>\n",
       "      <td>2.236068</td>\n",
       "      <td>2.236068</td>\n",
       "    </tr>\n",
       "    <tr>\n",
       "      <th>3</th>\n",
       "      <td>12000</td>\n",
       "      <td>10</td>\n",
       "      <td>Mortgage</td>\n",
       "      <td>73000.000000</td>\n",
       "      <td>VERIFIED - income source</td>\n",
       "      <td>debt_consolidation</td>\n",
       "      <td>7.760000</td>\n",
       "      <td>0</td>\n",
       "      <td>6</td>\n",
       "      <td>8</td>\n",
       "      <td>Male</td>\n",
       "      <td>11.198215</td>\n",
       "      <td>2.449490</td>\n",
       "      <td>2.449490</td>\n",
       "    </tr>\n",
       "    <tr>\n",
       "      <th>4</th>\n",
       "      <td>35000</td>\n",
       "      <td>1</td>\n",
       "      <td>Mortgage</td>\n",
       "      <td>156000.000000</td>\n",
       "      <td>not verified</td>\n",
       "      <td>debt_consolidation</td>\n",
       "      <td>9.620000</td>\n",
       "      <td>0</td>\n",
       "      <td>9</td>\n",
       "      <td>21</td>\n",
       "      <td>Male</td>\n",
       "      <td>11.957611</td>\n",
       "      <td>3.000000</td>\n",
       "      <td>3.000000</td>\n",
       "    </tr>\n",
       "    <tr>\n",
       "      <th>...</th>\n",
       "      <td>...</td>\n",
       "      <td>...</td>\n",
       "      <td>...</td>\n",
       "      <td>...</td>\n",
       "      <td>...</td>\n",
       "      <td>...</td>\n",
       "      <td>...</td>\n",
       "      <td>...</td>\n",
       "      <td>...</td>\n",
       "      <td>...</td>\n",
       "      <td>...</td>\n",
       "      <td>...</td>\n",
       "      <td>...</td>\n",
       "      <td>...</td>\n",
       "    </tr>\n",
       "    <tr>\n",
       "      <th>109536</th>\n",
       "      <td>15000</td>\n",
       "      <td>9</td>\n",
       "      <td>Mortgage</td>\n",
       "      <td>120000.000000</td>\n",
       "      <td>VERIFIED - income</td>\n",
       "      <td>other</td>\n",
       "      <td>8.150000</td>\n",
       "      <td>2</td>\n",
       "      <td>13</td>\n",
       "      <td>57</td>\n",
       "      <td>Male</td>\n",
       "      <td>11.695247</td>\n",
       "      <td>3.605551</td>\n",
       "      <td>3.605551</td>\n",
       "    </tr>\n",
       "    <tr>\n",
       "      <th>109537</th>\n",
       "      <td>9600</td>\n",
       "      <td>10</td>\n",
       "      <td>Mortgage</td>\n",
       "      <td>125000.000000</td>\n",
       "      <td>not verified</td>\n",
       "      <td>credit_card</td>\n",
       "      <td>9.080000</td>\n",
       "      <td>1</td>\n",
       "      <td>9</td>\n",
       "      <td>34</td>\n",
       "      <td>Male</td>\n",
       "      <td>11.736069</td>\n",
       "      <td>3.000000</td>\n",
       "      <td>3.000000</td>\n",
       "    </tr>\n",
       "    <tr>\n",
       "      <th>109538</th>\n",
       "      <td>2000</td>\n",
       "      <td>5</td>\n",
       "      <td>Rent</td>\n",
       "      <td>37850.000000</td>\n",
       "      <td>not verified</td>\n",
       "      <td>credit_card</td>\n",
       "      <td>11.600000</td>\n",
       "      <td>0</td>\n",
       "      <td>10</td>\n",
       "      <td>11</td>\n",
       "      <td>Male</td>\n",
       "      <td>10.541386</td>\n",
       "      <td>3.162278</td>\n",
       "      <td>3.162278</td>\n",
       "    </tr>\n",
       "    <tr>\n",
       "      <th>109539</th>\n",
       "      <td>2125</td>\n",
       "      <td>6</td>\n",
       "      <td>Rent</td>\n",
       "      <td>30000.000000</td>\n",
       "      <td>not verified</td>\n",
       "      <td>other</td>\n",
       "      <td>24.880000</td>\n",
       "      <td>0</td>\n",
       "      <td>5</td>\n",
       "      <td>6</td>\n",
       "      <td>Male</td>\n",
       "      <td>10.308953</td>\n",
       "      <td>2.236068</td>\n",
       "      <td>2.236068</td>\n",
       "    </tr>\n",
       "    <tr>\n",
       "      <th>109540</th>\n",
       "      <td>15000</td>\n",
       "      <td>2</td>\n",
       "      <td>Mortgage</td>\n",
       "      <td>137000.000000</td>\n",
       "      <td>not verified</td>\n",
       "      <td>medical</td>\n",
       "      <td>8.660000</td>\n",
       "      <td>1</td>\n",
       "      <td>8</td>\n",
       "      <td>17</td>\n",
       "      <td>Male</td>\n",
       "      <td>11.827736</td>\n",
       "      <td>2.828427</td>\n",
       "      <td>2.828427</td>\n",
       "    </tr>\n",
       "  </tbody>\n",
       "</table>\n",
       "<p>109541 rows × 14 columns</p>\n",
       "</div>"
      ],
      "text/plain": [
       "        Loan_Amount_Requested Length_Employed Home_Owner  Annual_Income  \\\n",
       "0                       27500              10   Mortgage  129000.000000   \n",
       "1                       26000              10   Mortgage  110000.000000   \n",
       "2                        6075               1       Rent   75000.000000   \n",
       "3                       12000              10   Mortgage   73000.000000   \n",
       "4                       35000               1   Mortgage  156000.000000   \n",
       "...                       ...             ...        ...            ...   \n",
       "109536                  15000               9   Mortgage  120000.000000   \n",
       "109537                   9600              10   Mortgage  125000.000000   \n",
       "109538                   2000               5       Rent   37850.000000   \n",
       "109539                   2125               6       Rent   30000.000000   \n",
       "109540                  15000               2   Mortgage  137000.000000   \n",
       "\n",
       "                 Income_Verified     Purpose_Of_Loan  Debt_To_Income  \\\n",
       "0              VERIFIED - income  debt_consolidation       12.870000   \n",
       "1                   not verified         credit_card       11.370000   \n",
       "2              VERIFIED - income  debt_consolidation        6.830000   \n",
       "3       VERIFIED - income source  debt_consolidation        7.760000   \n",
       "4                   not verified  debt_consolidation        9.620000   \n",
       "...                          ...                 ...             ...   \n",
       "109536         VERIFIED - income               other        8.150000   \n",
       "109537              not verified         credit_card        9.080000   \n",
       "109538              not verified         credit_card       11.600000   \n",
       "109539              not verified               other       24.880000   \n",
       "109540              not verified             medical        8.660000   \n",
       "\n",
       "        Inquiries_Last_6Mo  Number_Open_Accounts  Total_Accounts Gender  \\\n",
       "0                        0                    10              37   Male   \n",
       "1                        0                     6              23   Male   \n",
       "2                        2                     5              20   Male   \n",
       "3                        0                     6               8   Male   \n",
       "4                        0                     9              21   Male   \n",
       "...                    ...                   ...             ...    ...   \n",
       "109536                   2                    13              57   Male   \n",
       "109537                   1                     9              34   Male   \n",
       "109538                   0                    10              11   Male   \n",
       "109539                   0                     5               6   Male   \n",
       "109540                   1                     8              17   Male   \n",
       "\n",
       "        Annual_Income_log  Number_Open_Accounts_log  Total_Accounts_log  \n",
       "0               11.767568                  3.162278            3.162278  \n",
       "1               11.608236                  2.449490            2.449490  \n",
       "2               11.225243                  2.236068            2.236068  \n",
       "3               11.198215                  2.449490            2.449490  \n",
       "4               11.957611                  3.000000            3.000000  \n",
       "...                   ...                       ...                 ...  \n",
       "109536          11.695247                  3.605551            3.605551  \n",
       "109537          11.736069                  3.000000            3.000000  \n",
       "109538          10.541386                  3.162278            3.162278  \n",
       "109539          10.308953                  2.236068            2.236068  \n",
       "109540          11.827736                  2.828427            2.828427  \n",
       "\n",
       "[109541 rows x 14 columns]"
      ]
     },
     "execution_count": 54,
     "metadata": {},
     "output_type": "execute_result"
    }
   ],
   "source": [
    "test"
   ]
  },
  {
   "cell_type": "code",
   "execution_count": 55,
   "metadata": {
    "execution": {
     "iopub.execute_input": "2020-08-13T09:02:06.984327Z",
     "iopub.status.busy": "2020-08-13T09:02:06.983071Z",
     "iopub.status.idle": "2020-08-13T09:02:07.009376Z",
     "shell.execute_reply": "2020-08-13T09:02:07.008566Z"
    },
    "papermill": {
     "duration": 0.084574,
     "end_time": "2020-08-13T09:02:07.009513",
     "exception": false,
     "start_time": "2020-08-13T09:02:06.924939",
     "status": "completed"
    },
    "tags": []
   },
   "outputs": [],
   "source": [
    "X = train.drop(['Interest_Rate','Total_Accounts','Number_Open_Accounts','Annual_Income','Annual_Income_bin','LoanAmount_bin'],1) \n",
    "y = train['Interest_Rate']\n",
    "test = test.drop(['Total_Accounts','Number_Open_Accounts','Annual_Income'],1)"
   ]
  },
  {
   "cell_type": "code",
   "execution_count": 56,
   "metadata": {
    "execution": {
     "iopub.execute_input": "2020-08-13T09:02:07.131940Z",
     "iopub.status.busy": "2020-08-13T09:02:07.130682Z",
     "iopub.status.idle": "2020-08-13T09:02:07.136013Z",
     "shell.execute_reply": "2020-08-13T09:02:07.135262Z"
    },
    "papermill": {
     "duration": 0.069413,
     "end_time": "2020-08-13T09:02:07.136158",
     "exception": false,
     "start_time": "2020-08-13T09:02:07.066745",
     "status": "completed"
    },
    "tags": []
   },
   "outputs": [
    {
     "data": {
      "text/plain": [
       "Index(['Loan_Amount_Requested', 'Length_Employed', 'Home_Owner',\n",
       "       'Income_Verified', 'Purpose_Of_Loan', 'Debt_To_Income',\n",
       "       'Inquiries_Last_6Mo', 'Gender', 'Annual_Income_log',\n",
       "       'Number_Open_Accounts_log', 'Total_Accounts_log'],\n",
       "      dtype='object')"
      ]
     },
     "execution_count": 56,
     "metadata": {},
     "output_type": "execute_result"
    }
   ],
   "source": [
    "X.columns"
   ]
  },
  {
   "cell_type": "code",
   "execution_count": 57,
   "metadata": {
    "execution": {
     "iopub.execute_input": "2020-08-13T09:02:07.262288Z",
     "iopub.status.busy": "2020-08-13T09:02:07.261466Z",
     "iopub.status.idle": "2020-08-13T09:02:07.652717Z",
     "shell.execute_reply": "2020-08-13T09:02:07.653497Z"
    },
    "papermill": {
     "duration": 0.468705,
     "end_time": "2020-08-13T09:02:07.653691",
     "exception": false,
     "start_time": "2020-08-13T09:02:07.184986",
     "status": "completed"
    },
    "tags": []
   },
   "outputs": [],
   "source": [
    "X=pd.get_dummies(X) \n",
    "train=pd.get_dummies(train) \n",
    "test=pd.get_dummies(test)"
   ]
  },
  {
   "cell_type": "code",
   "execution_count": 58,
   "metadata": {
    "execution": {
     "iopub.execute_input": "2020-08-13T09:02:07.768977Z",
     "iopub.status.busy": "2020-08-13T09:02:07.768143Z",
     "iopub.status.idle": "2020-08-13T09:02:07.931336Z",
     "shell.execute_reply": "2020-08-13T09:02:07.931928Z"
    },
    "papermill": {
     "duration": 0.229559,
     "end_time": "2020-08-13T09:02:07.932116",
     "exception": false,
     "start_time": "2020-08-13T09:02:07.702557",
     "status": "completed"
    },
    "tags": []
   },
   "outputs": [],
   "source": [
    "from sklearn.model_selection import train_test_split\n",
    "x_train, x_cv, y_train, y_cv = train_test_split(X,y, test_size =0.3)"
   ]
  },
  {
   "cell_type": "code",
   "execution_count": 59,
   "metadata": {
    "execution": {
     "iopub.execute_input": "2020-08-13T09:02:08.044796Z",
     "iopub.status.busy": "2020-08-13T09:02:08.043881Z",
     "iopub.status.idle": "2020-08-13T09:02:08.144157Z",
     "shell.execute_reply": "2020-08-13T09:02:08.143357Z"
    },
    "papermill": {
     "duration": 0.16356,
     "end_time": "2020-08-13T09:02:08.144305",
     "exception": false,
     "start_time": "2020-08-13T09:02:07.980745",
     "status": "completed"
    },
    "tags": []
   },
   "outputs": [],
   "source": [
    "from sklearn.metrics import confusion_matrix \n",
    "from sklearn.model_selection import train_test_split \n",
    "from sklearn.svm import SVC \n",
    "from sklearn.utils import shuffle\n",
    "from sklearn.svm import SVC\n",
    "from sklearn.metrics import confusion_matrix,classification_report\n",
    "from sklearn.model_selection import cross_val_score, GridSearchCV\n",
    "from sklearn import preprocessing\n",
    "from sklearn.metrics import accuracy_score"
   ]
  },
  {
   "cell_type": "code",
   "execution_count": 60,
   "metadata": {
    "execution": {
     "iopub.execute_input": "2020-08-13T09:02:08.255279Z",
     "iopub.status.busy": "2020-08-13T09:02:08.254385Z",
     "iopub.status.idle": "2020-08-13T09:02:21.006175Z",
     "shell.execute_reply": "2020-08-13T09:02:21.005404Z"
    },
    "papermill": {
     "duration": 12.810542,
     "end_time": "2020-08-13T09:02:21.006319",
     "exception": false,
     "start_time": "2020-08-13T09:02:08.195777",
     "status": "completed"
    },
    "tags": []
   },
   "outputs": [
    {
     "data": {
      "text/plain": [
       "0.459821881403039"
      ]
     },
     "execution_count": 60,
     "metadata": {},
     "output_type": "execute_result"
    }
   ],
   "source": [
    "from sklearn.neighbors import KNeighborsClassifier \n",
    "knn = KNeighborsClassifier(n_neighbors = 7).fit(x_train, y_train) \n",
    "pred_cv = knn.predict(x_cv)\n",
    "accuracy_score(y_cv,pred_cv)"
   ]
  },
  {
   "cell_type": "code",
   "execution_count": null,
   "metadata": {
    "papermill": {
     "duration": 0.047709,
     "end_time": "2020-08-13T09:02:21.102527",
     "exception": false,
     "start_time": "2020-08-13T09:02:21.054818",
     "status": "completed"
    },
    "tags": []
   },
   "outputs": [],
   "source": []
  },
  {
   "cell_type": "code",
   "execution_count": 61,
   "metadata": {
    "execution": {
     "iopub.execute_input": "2020-08-13T09:02:21.208790Z",
     "iopub.status.busy": "2020-08-13T09:02:21.207924Z",
     "iopub.status.idle": "2020-08-13T09:02:42.802620Z",
     "shell.execute_reply": "2020-08-13T09:02:42.801968Z"
    },
    "papermill": {
     "duration": 21.651731,
     "end_time": "2020-08-13T09:02:42.802766",
     "exception": false,
     "start_time": "2020-08-13T09:02:21.151035",
     "status": "completed"
    },
    "tags": []
   },
   "outputs": [
    {
     "name": "stdout",
     "output_type": "stream",
     "text": [
      "0.459821881403039\n"
     ]
    }
   ],
   "source": [
    "# accuracy on X_test \n",
    "\n",
    "accuracy = knn.score(x_cv, y_cv) \n",
    "print(accuracy)\n",
    "  \n",
    "# creating a confusion matrix \n",
    "knn_predictions = knn.predict(x_cv)  \n",
    "cm = confusion_matrix(y_cv, knn_predictions)"
   ]
  },
  {
   "cell_type": "code",
   "execution_count": 62,
   "metadata": {
    "execution": {
     "iopub.execute_input": "2020-08-13T09:02:42.914605Z",
     "iopub.status.busy": "2020-08-13T09:02:42.912303Z",
     "iopub.status.idle": "2020-08-13T09:02:43.268918Z",
     "shell.execute_reply": "2020-08-13T09:02:43.269504Z"
    },
    "papermill": {
     "duration": 0.418547,
     "end_time": "2020-08-13T09:02:43.269694",
     "exception": false,
     "start_time": "2020-08-13T09:02:42.851147",
     "status": "completed"
    },
    "tags": []
   },
   "outputs": [
    {
     "data": {
      "text/plain": [
       "<matplotlib.axes._subplots.AxesSubplot at 0x7f62aa322710>"
      ]
     },
     "execution_count": 62,
     "metadata": {},
     "output_type": "execute_result"
    },
    {
     "data": {
      "image/png": "[encoded data removed]",
      "text/plain": [
       "<Figure size 432x288 with 2 Axes>"
      ]
     },
     "metadata": {
      "needs_background": "light"
     },
     "output_type": "display_data"
    }
   ],
   "source": [
    "sns.heatmap(cm,annot=True,fmt = '')"
   ]
  },
  {
   "cell_type": "code",
   "execution_count": 63,
   "metadata": {
    "execution": {
     "iopub.execute_input": "2020-08-13T09:02:43.378646Z",
     "iopub.status.busy": "2020-08-13T09:02:43.377817Z",
     "iopub.status.idle": "2020-08-13T09:03:06.847760Z",
     "shell.execute_reply": "2020-08-13T09:03:06.847095Z"
    },
    "papermill": {
     "duration": 23.528644,
     "end_time": "2020-08-13T09:03:06.847937",
     "exception": false,
     "start_time": "2020-08-13T09:02:43.319293",
     "status": "completed"
    },
    "tags": []
   },
   "outputs": [],
   "source": [
    "pred_test = knn.predict(test)"
   ]
  },
  {
   "cell_type": "code",
   "execution_count": 64,
   "metadata": {
    "execution": {
     "iopub.execute_input": "2020-08-13T09:03:06.956485Z",
     "iopub.status.busy": "2020-08-13T09:03:06.955681Z",
     "iopub.status.idle": "2020-08-13T09:03:07.345141Z",
     "shell.execute_reply": "2020-08-13T09:03:07.344346Z"
    },
    "papermill": {
     "duration": 0.448095,
     "end_time": "2020-08-13T09:03:07.345276",
     "exception": false,
     "start_time": "2020-08-13T09:03:06.897181",
     "status": "completed"
    },
    "tags": []
   },
   "outputs": [
    {
     "data": {
      "text/html": [
       "<div>\n",
       "<style scoped>\n",
       "    .dataframe tbody tr th:only-of-type {\n",
       "        vertical-align: middle;\n",
       "    }\n",
       "\n",
       "    .dataframe tbody tr th {\n",
       "        vertical-align: top;\n",
       "    }\n",
       "\n",
       "    .dataframe thead th {\n",
       "        text-align: right;\n",
       "    }\n",
       "</style>\n",
       "<table border=\"1\" class=\"dataframe\">\n",
       "  <thead>\n",
       "    <tr style=\"text-align: right;\">\n",
       "      <th></th>\n",
       "      <th>Loan_ID</th>\n",
       "      <th>Interest_Rate</th>\n",
       "    </tr>\n",
       "  </thead>\n",
       "  <tbody>\n",
       "    <tr>\n",
       "      <th>0</th>\n",
       "      <td>10164310</td>\n",
       "      <td>2</td>\n",
       "    </tr>\n",
       "    <tr>\n",
       "      <th>1</th>\n",
       "      <td>10164311</td>\n",
       "      <td>2</td>\n",
       "    </tr>\n",
       "    <tr>\n",
       "      <th>2</th>\n",
       "      <td>10164312</td>\n",
       "      <td>2</td>\n",
       "    </tr>\n",
       "    <tr>\n",
       "      <th>3</th>\n",
       "      <td>10164313</td>\n",
       "      <td>3</td>\n",
       "    </tr>\n",
       "    <tr>\n",
       "      <th>4</th>\n",
       "      <td>10164314</td>\n",
       "      <td>3</td>\n",
       "    </tr>\n",
       "  </tbody>\n",
       "</table>\n",
       "</div>"
      ],
      "text/plain": [
       "    Loan_ID  Interest_Rate\n",
       "0  10164310              2\n",
       "1  10164311              2\n",
       "2  10164312              2\n",
       "3  10164313              3\n",
       "4  10164314              3"
      ]
     },
     "execution_count": 64,
     "metadata": {},
     "output_type": "execute_result"
    }
   ],
   "source": [
    "submission=pd.read_csv(\"../input/janata-hack-machine-learning-for-banking/sample_submission_HSqiq1Q.csv\")\n",
    "submission['Interest_Rate']=pred_test \n",
    "submission['Loan_ID']=test_original['Loan_ID']\n",
    "submission.to_csv('knn.csv',index = False)\n",
    "submission.head()"
   ]
  },
  {
   "cell_type": "code",
   "execution_count": 65,
   "metadata": {
    "execution": {
     "iopub.execute_input": "2020-08-13T09:03:07.465064Z",
     "iopub.status.busy": "2020-08-13T09:03:07.464223Z",
     "iopub.status.idle": "2020-08-13T09:03:07.715476Z",
     "shell.execute_reply": "2020-08-13T09:03:07.714542Z"
    },
    "papermill": {
     "duration": 0.312944,
     "end_time": "2020-08-13T09:03:07.715694",
     "exception": false,
     "start_time": "2020-08-13T09:03:07.402750",
     "status": "completed"
    },
    "tags": []
   },
   "outputs": [],
   "source": [
    "submission.to_csv('knn.csv',index = False)"
   ]
  },
  {
   "cell_type": "code",
   "execution_count": 66,
   "metadata": {
    "execution": {
     "iopub.execute_input": "2020-08-13T09:03:07.842288Z",
     "iopub.status.busy": "2020-08-13T09:03:07.841156Z",
     "iopub.status.idle": "2020-08-13T09:03:07.844759Z",
     "shell.execute_reply": "2020-08-13T09:03:07.844025Z"
    },
    "papermill": {
     "duration": 0.068946,
     "end_time": "2020-08-13T09:03:07.844890",
     "exception": false,
     "start_time": "2020-08-13T09:03:07.775944",
     "status": "completed"
    },
    "tags": []
   },
   "outputs": [],
   "source": [
    "from sklearn.model_selection import StratifiedKFold"
   ]
  },
  {
   "cell_type": "code",
   "execution_count": null,
   "metadata": {
    "papermill": {
     "duration": 0.052234,
     "end_time": "2020-08-13T09:03:07.949187",
     "exception": false,
     "start_time": "2020-08-13T09:03:07.896953",
     "status": "completed"
    },
    "tags": []
   },
   "outputs": [],
   "source": []
  },
  {
   "cell_type": "code",
   "execution_count": 67,
   "metadata": {
    "execution": {
     "iopub.execute_input": "2020-08-13T09:03:08.065544Z",
     "iopub.status.busy": "2020-08-13T09:03:08.064660Z",
     "iopub.status.idle": "2020-08-13T09:04:48.570657Z",
     "shell.execute_reply": "2020-08-13T09:04:48.571242Z"
    },
    "papermill": {
     "duration": 100.569972,
     "end_time": "2020-08-13T09:04:48.571459",
     "exception": false,
     "start_time": "2020-08-13T09:03:08.001487",
     "status": "completed"
    },
    "tags": []
   },
   "outputs": [
    {
     "name": "stdout",
     "output_type": "stream",
     "text": [
      "\n",
      "1 of kfold 5\n",
      "accuracy_score 0.5099202726553466\n",
      "\n",
      "2 of kfold 5\n",
      "accuracy_score 0.5171018197309963\n",
      "\n",
      "3 of kfold 5\n",
      "accuracy_score 0.513389325056296\n",
      "\n",
      "4 of kfold 5\n",
      "accuracy_score 0.5168279471730266\n",
      "\n",
      "5 of kfold 5\n",
      "accuracy_score 0.510696570402605\n"
     ]
    }
   ],
   "source": [
    "from sklearn.ensemble import RandomForestClassifier\n",
    "i=1 \n",
    "kf = StratifiedKFold(n_splits=5,random_state=1,shuffle=True) \n",
    "for train_index,test_index in kf.split(X,y):     \n",
    "    print('\\n{} of kfold {}'.format(i,kf.n_splits))     \n",
    "    xtr,xvl = X.loc[train_index],X.loc[test_index]     \n",
    "    ytr,yvl = y[train_index],y[test_index]         \n",
    "    model = RandomForestClassifier(random_state=1, max_depth=10)     \n",
    "    model.fit(xtr, ytr)     \n",
    "    pred_test = model.predict(xvl)     \n",
    "    score = accuracy_score(yvl,pred_test)     \n",
    "    print('accuracy_score',score)     \n",
    "    i+=1 \n",
    "\n",
    "    rf_test = model.predict(test)"
   ]
  },
  {
   "cell_type": "code",
   "execution_count": 68,
   "metadata": {
    "execution": {
     "iopub.execute_input": "2020-08-13T09:04:48.678267Z",
     "iopub.status.busy": "2020-08-13T09:04:48.677473Z",
     "iopub.status.idle": "2020-08-13T09:04:48.923173Z",
     "shell.execute_reply": "2020-08-13T09:04:48.921890Z"
    },
    "papermill": {
     "duration": 0.302005,
     "end_time": "2020-08-13T09:04:48.923400",
     "exception": false,
     "start_time": "2020-08-13T09:04:48.621395",
     "status": "completed"
    },
    "tags": []
   },
   "outputs": [],
   "source": [
    "submission['Interest_Rate']=rf_test \n",
    "submission['Loan_ID']=test_original['Loan_ID']\n",
    "submission.to_csv('rf1.csv',index = False)"
   ]
  },
  {
   "cell_type": "code",
   "execution_count": 69,
   "metadata": {
    "execution": {
     "iopub.execute_input": "2020-08-13T09:04:49.054451Z",
     "iopub.status.busy": "2020-08-13T09:04:49.053612Z",
     "iopub.status.idle": "2020-08-13T09:05:04.325959Z",
     "shell.execute_reply": "2020-08-13T09:05:04.325321Z"
    },
    "papermill": {
     "duration": 15.3414,
     "end_time": "2020-08-13T09:05:04.326101",
     "exception": false,
     "start_time": "2020-08-13T09:04:48.984701",
     "status": "completed"
    },
    "tags": []
   },
   "outputs": [
    {
     "data": {
      "text/plain": [
       "0.5152455723936462"
      ]
     },
     "execution_count": 69,
     "metadata": {},
     "output_type": "execute_result"
    }
   ],
   "source": [
    "rf = RandomForestClassifier(max_depth=10).fit(x_train, y_train) \n",
    "pred_cv = rf.predict(x_cv)\n",
    "accuracy_score(y_cv,pred_cv)"
   ]
  },
  {
   "cell_type": "code",
   "execution_count": 70,
   "metadata": {
    "execution": {
     "iopub.execute_input": "2020-08-13T09:05:04.435407Z",
     "iopub.status.busy": "2020-08-13T09:05:04.434543Z",
     "iopub.status.idle": "2020-08-13T09:05:06.211693Z",
     "shell.execute_reply": "2020-08-13T09:05:06.210762Z"
    },
    "papermill": {
     "duration": 1.835363,
     "end_time": "2020-08-13T09:05:06.211947",
     "exception": false,
     "start_time": "2020-08-13T09:05:04.376584",
     "status": "completed"
    },
    "tags": []
   },
   "outputs": [],
   "source": [
    "pred_test = rf.predict(test)"
   ]
  },
  {
   "cell_type": "code",
   "execution_count": 71,
   "metadata": {
    "execution": {
     "iopub.execute_input": "2020-08-13T09:05:06.333000Z",
     "iopub.status.busy": "2020-08-13T09:05:06.332183Z",
     "iopub.status.idle": "2020-08-13T09:05:06.577029Z",
     "shell.execute_reply": "2020-08-13T09:05:06.576007Z"
    },
    "papermill": {
     "duration": 0.303544,
     "end_time": "2020-08-13T09:05:06.577206",
     "exception": false,
     "start_time": "2020-08-13T09:05:06.273662",
     "status": "completed"
    },
    "tags": []
   },
   "outputs": [],
   "source": [
    "submission['Interest_Rate']=pred_test \n",
    "submission['Loan_ID']=test_original['Loan_ID']\n",
    "submission.to_csv('rf1.csv',index = False)"
   ]
  },
  {
   "cell_type": "code",
   "execution_count": 72,
   "metadata": {
    "execution": {
     "iopub.execute_input": "2020-08-13T09:05:06.709730Z",
     "iopub.status.busy": "2020-08-13T09:05:06.708610Z",
     "iopub.status.idle": "2020-08-13T09:05:06.712025Z",
     "shell.execute_reply": "2020-08-13T09:05:06.711392Z"
    },
    "papermill": {
     "duration": 0.072541,
     "end_time": "2020-08-13T09:05:06.712168",
     "exception": false,
     "start_time": "2020-08-13T09:05:06.639627",
     "status": "completed"
    },
    "tags": []
   },
   "outputs": [],
   "source": [
    "from sklearn.model_selection import GridSearchCV\n",
    "# Provide range for max_depth from 1 to 20 with an interval of 2 and from 1 to 200 with an interval of 20 for n_estimators \n",
    "paramgrid = {'max_depth': list(range(1, 20, 2)), 'n_estimators': list(range(1, 200, 20))}\n",
    "grid_search=GridSearchCV(RandomForestClassifier(random_state=1),paramgrid)"
   ]
  },
  {
   "cell_type": "code",
   "execution_count": 73,
   "metadata": {
    "execution": {
     "iopub.execute_input": "2020-08-13T09:05:06.826339Z",
     "iopub.status.busy": "2020-08-13T09:05:06.821542Z",
     "iopub.status.idle": "2020-08-13T10:32:12.969008Z",
     "shell.execute_reply": "2020-08-13T10:32:12.969773Z"
    },
    "papermill": {
     "duration": 5226.207403,
     "end_time": "2020-08-13T10:32:12.970221",
     "exception": false,
     "start_time": "2020-08-13T09:05:06.762818",
     "status": "completed"
    },
    "tags": []
   },
   "outputs": [
    {
     "data": {
      "text/plain": [
       "GridSearchCV(estimator=RandomForestClassifier(random_state=1),\n",
       "             param_grid={'max_depth': [1, 3, 5, 7, 9, 11, 13, 15, 17, 19],\n",
       "                         'n_estimators': [1, 21, 41, 61, 81, 101, 121, 141, 161,\n",
       "                                          181]})"
      ]
     },
     "execution_count": 73,
     "metadata": {},
     "output_type": "execute_result"
    }
   ],
   "source": [
    "from sklearn.model_selection import train_test_split \n",
    "x_train, x_cv, y_train, y_cv = train_test_split(X,y, test_size =0.3, random_state=1)\n",
    "# Fit the grid search model \n",
    "grid_search.fit(x_train,y_train)"
   ]
  },
  {
   "cell_type": "code",
   "execution_count": 74,
   "metadata": {
    "execution": {
     "iopub.execute_input": "2020-08-13T10:32:13.086188Z",
     "iopub.status.busy": "2020-08-13T10:32:13.085225Z",
     "iopub.status.idle": "2020-08-13T10:32:13.090202Z",
     "shell.execute_reply": "2020-08-13T10:32:13.089470Z"
    },
    "papermill": {
     "duration": 0.068201,
     "end_time": "2020-08-13T10:32:13.090336",
     "exception": false,
     "start_time": "2020-08-13T10:32:13.022135",
     "status": "completed"
    },
    "tags": []
   },
   "outputs": [
    {
     "data": {
      "text/plain": [
       "RandomForestClassifier(max_depth=15, n_estimators=181, random_state=1)"
      ]
     },
     "execution_count": 74,
     "metadata": {},
     "output_type": "execute_result"
    }
   ],
   "source": [
    "grid_search.best_estimator_"
   ]
  },
  {
   "cell_type": "code",
   "execution_count": 75,
   "metadata": {
    "execution": {
     "iopub.execute_input": "2020-08-13T10:32:13.207609Z",
     "iopub.status.busy": "2020-08-13T10:32:13.206806Z",
     "iopub.status.idle": "2020-08-13T10:36:22.795923Z",
     "shell.execute_reply": "2020-08-13T10:36:22.795074Z"
    },
    "papermill": {
     "duration": 249.654305,
     "end_time": "2020-08-13T10:36:22.796074",
     "exception": false,
     "start_time": "2020-08-13T10:32:13.141769",
     "status": "completed"
    },
    "tags": []
   },
   "outputs": [
    {
     "name": "stdout",
     "output_type": "stream",
     "text": [
      "\n",
      "1 of kfold 5\n",
      "accuracy_score 0.5168888077414643\n",
      "\n",
      "2 of kfold 5\n",
      "accuracy_score 0.5227314223114844\n",
      "\n",
      "3 of kfold 5\n",
      "accuracy_score 0.5205708721319457\n",
      "\n",
      "4 of kfold 5\n",
      "accuracy_score 0.5214533503742925\n",
      "\n",
      "5 of kfold 5\n",
      "accuracy_score 0.5152308207297405\n"
     ]
    }
   ],
   "source": [
    "i=1 \n",
    "kf = StratifiedKFold(n_splits=5,random_state=1,shuffle=True) \n",
    "for train_index,test_index in kf.split(X,y):     \n",
    "    print('\\n{} of kfold {}'.format(i,kf.n_splits))     \n",
    "    xtr,xvl = X.loc[train_index],X.loc[test_index]     \n",
    "    ytr,yvl = y[train_index],y[test_index]         \n",
    "    model = RandomForestClassifier(random_state=1, max_depth=15, n_estimators=181)    \n",
    "    model.fit(xtr, ytr)     \n",
    "    pred_test = model.predict(xvl)     \n",
    "    score = accuracy_score(yvl,pred_test)     \n",
    "    print('accuracy_score',score)     \n",
    "    i+=1 \n",
    "    pred_test = model.predict(test) \n",
    "    #pred2=model.predict_proba(test)[:,1]\n",
    "    "
   ]
  },
  {
   "cell_type": "code",
   "execution_count": null,
   "metadata": {
    "papermill": {
     "duration": 0.051045,
     "end_time": "2020-08-13T10:36:22.898513",
     "exception": false,
     "start_time": "2020-08-13T10:36:22.847468",
     "status": "completed"
    },
    "tags": []
   },
   "outputs": [],
   "source": [
    "\n",
    "\n"
   ]
  },
  {
   "cell_type": "code",
   "execution_count": null,
   "metadata": {
    "papermill": {
     "duration": 0.051342,
     "end_time": "2020-08-13T10:36:23.003743",
     "exception": false,
     "start_time": "2020-08-13T10:36:22.952401",
     "status": "completed"
    },
    "tags": []
   },
   "outputs": [],
   "source": []
  }
 ],
 "metadata": {
  "kernelspec": {
   "display_name": "Python 3",
   "language": "python",
   "name": "python3"
  },
  "language_info": {
   "codemirror_mode": {
    "name": "ipython",
    "version": 3
   },
   "file_extension": ".py",
   "mimetype": "text/x-python",
   "name": "python",
   "nbconvert_exporter": "python",
   "pygments_lexer": "ipython3",
   "version": "3.7.6"
  },
  "papermill": {
   "duration": 5723.978534,
   "end_time": "2020-08-13T10:36:23.166603",
   "environment_variables": {},
   "exception": null,
   "input_path": "__notebook__.ipynb",
   "output_path": "__notebook__.ipynb",
   "parameters": {},
   "start_time": "2020-08-13T09:00:59.188069",
   "version": "2.1.0"
  }
 },
 "nbformat": 4,
 "nbformat_minor": 4
}
