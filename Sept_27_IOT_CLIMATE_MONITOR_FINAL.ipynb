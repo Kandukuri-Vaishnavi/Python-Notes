{
 "cells": [
  {
   "cell_type": "code",
   "execution_count": 1,
   "metadata": {},
   "outputs": [],
   "source": [
    "# import the basic library\n",
    "import os\n",
    "import numpy as np # linear algebra\n",
    "import pandas as pd # data processing, CSV file I/O (e.g. pd.read_csv)\n",
    "#For plotting graphs\n",
    "import matplotlib.pyplot as plt\n",
    "import seaborn as sns\n",
    "%matplotlib inline\n",
    "import warnings\n",
    "warnings.filterwarnings(\"ignore\")\n",
    "\n"
   ]
  },
  {
   "cell_type": "code",
   "execution_count": null,
   "metadata": {},
   "outputs": [],
   "source": []
  },
  {
   "cell_type": "code",
   "execution_count": null,
   "metadata": {},
   "outputs": [],
   "source": []
  },
  {
   "cell_type": "code",
   "execution_count": null,
   "metadata": {},
   "outputs": [],
   "source": []
  },
  {
   "cell_type": "code",
   "execution_count": 2,
   "metadata": {},
   "outputs": [],
   "source": [
    "df = pd.read_csv('IOT-CLIMATE.csv')"
   ]
  },
  {
   "cell_type": "code",
   "execution_count": 3,
   "metadata": {},
   "outputs": [
    {
     "data": {
      "text/plain": [
       "(97606, 5)"
      ]
     },
     "execution_count": 3,
     "metadata": {},
     "output_type": "execute_result"
    }
   ],
   "source": [
    "df.shape"
   ]
  },
  {
   "cell_type": "code",
   "execution_count": 4,
   "metadata": {},
   "outputs": [
    {
     "name": "stdout",
     "output_type": "stream",
     "text": [
      "<class 'pandas.core.frame.DataFrame'>\n",
      "RangeIndex: 97606 entries, 0 to 97605\n",
      "Data columns (total 5 columns):\n",
      " #   Column      Non-Null Count  Dtype \n",
      "---  ------      --------------  ----- \n",
      " 0   id          97606 non-null  object\n",
      " 1   room_id/id  97606 non-null  object\n",
      " 2   noted_date  97606 non-null  object\n",
      " 3   temp        97606 non-null  int64 \n",
      " 4   out/in      97606 non-null  object\n",
      "dtypes: int64(1), object(4)\n",
      "memory usage: 3.7+ MB\n"
     ]
    }
   ],
   "source": [
    "df.info()"
   ]
  },
  {
   "cell_type": "code",
   "execution_count": 5,
   "metadata": {},
   "outputs": [
    {
     "data": {
      "text/html": [
       "<div>\n",
       "<style scoped>\n",
       "    .dataframe tbody tr th:only-of-type {\n",
       "        vertical-align: middle;\n",
       "    }\n",
       "\n",
       "    .dataframe tbody tr th {\n",
       "        vertical-align: top;\n",
       "    }\n",
       "\n",
       "    .dataframe thead th {\n",
       "        text-align: right;\n",
       "    }\n",
       "</style>\n",
       "<table border=\"1\" class=\"dataframe\">\n",
       "  <thead>\n",
       "    <tr style=\"text-align: right;\">\n",
       "      <th></th>\n",
       "      <th>id</th>\n",
       "      <th>room_id/id</th>\n",
       "      <th>noted_date</th>\n",
       "      <th>temp</th>\n",
       "      <th>out/in</th>\n",
       "    </tr>\n",
       "  </thead>\n",
       "  <tbody>\n",
       "    <tr>\n",
       "      <th>0</th>\n",
       "      <td>__export__.temp_log_196134_bd201015</td>\n",
       "      <td>Room Admin</td>\n",
       "      <td>8/12/2018 9:30</td>\n",
       "      <td>29</td>\n",
       "      <td>In</td>\n",
       "    </tr>\n",
       "    <tr>\n",
       "      <th>1</th>\n",
       "      <td>__export__.temp_log_196131_7bca51bc</td>\n",
       "      <td>Room Admin</td>\n",
       "      <td>8/12/2018 9:30</td>\n",
       "      <td>29</td>\n",
       "      <td>In</td>\n",
       "    </tr>\n",
       "    <tr>\n",
       "      <th>2</th>\n",
       "      <td>__export__.temp_log_196127_522915e3</td>\n",
       "      <td>Room Admin</td>\n",
       "      <td>8/12/2018 9:29</td>\n",
       "      <td>41</td>\n",
       "      <td>Out</td>\n",
       "    </tr>\n",
       "    <tr>\n",
       "      <th>3</th>\n",
       "      <td>__export__.temp_log_196128_be0919cf</td>\n",
       "      <td>Room Admin</td>\n",
       "      <td>8/12/2018 9:29</td>\n",
       "      <td>41</td>\n",
       "      <td>Out</td>\n",
       "    </tr>\n",
       "    <tr>\n",
       "      <th>4</th>\n",
       "      <td>__export__.temp_log_196126_d30b72fb</td>\n",
       "      <td>Room Admin</td>\n",
       "      <td>8/12/2018 9:29</td>\n",
       "      <td>31</td>\n",
       "      <td>In</td>\n",
       "    </tr>\n",
       "  </tbody>\n",
       "</table>\n",
       "</div>"
      ],
      "text/plain": [
       "                                    id  room_id/id      noted_date  temp  \\\n",
       "0  __export__.temp_log_196134_bd201015  Room Admin  8/12/2018 9:30    29   \n",
       "1  __export__.temp_log_196131_7bca51bc  Room Admin  8/12/2018 9:30    29   \n",
       "2  __export__.temp_log_196127_522915e3  Room Admin  8/12/2018 9:29    41   \n",
       "3  __export__.temp_log_196128_be0919cf  Room Admin  8/12/2018 9:29    41   \n",
       "4  __export__.temp_log_196126_d30b72fb  Room Admin  8/12/2018 9:29    31   \n",
       "\n",
       "  out/in  \n",
       "0     In  \n",
       "1     In  \n",
       "2    Out  \n",
       "3    Out  \n",
       "4     In  "
      ]
     },
     "execution_count": 5,
     "metadata": {},
     "output_type": "execute_result"
    }
   ],
   "source": [
    "df.head()"
   ]
  },
  {
   "cell_type": "code",
   "execution_count": 6,
   "metadata": {},
   "outputs": [],
   "source": [
    "df.rename(columns = {'room_id/id':'room_id', 'out/in':'out_in'}, inplace = True)"
   ]
  },
  {
   "cell_type": "code",
   "execution_count": 7,
   "metadata": {},
   "outputs": [
    {
     "data": {
      "text/html": [
       "<div>\n",
       "<style scoped>\n",
       "    .dataframe tbody tr th:only-of-type {\n",
       "        vertical-align: middle;\n",
       "    }\n",
       "\n",
       "    .dataframe tbody tr th {\n",
       "        vertical-align: top;\n",
       "    }\n",
       "\n",
       "    .dataframe thead th {\n",
       "        text-align: right;\n",
       "    }\n",
       "</style>\n",
       "<table border=\"1\" class=\"dataframe\">\n",
       "  <thead>\n",
       "    <tr style=\"text-align: right;\">\n",
       "      <th></th>\n",
       "      <th>id</th>\n",
       "      <th>room_id</th>\n",
       "      <th>noted_date</th>\n",
       "      <th>temp</th>\n",
       "      <th>out_in</th>\n",
       "    </tr>\n",
       "  </thead>\n",
       "  <tbody>\n",
       "    <tr>\n",
       "      <th>0</th>\n",
       "      <td>__export__.temp_log_196134_bd201015</td>\n",
       "      <td>Room Admin</td>\n",
       "      <td>8/12/2018 9:30</td>\n",
       "      <td>29</td>\n",
       "      <td>In</td>\n",
       "    </tr>\n",
       "    <tr>\n",
       "      <th>1</th>\n",
       "      <td>__export__.temp_log_196131_7bca51bc</td>\n",
       "      <td>Room Admin</td>\n",
       "      <td>8/12/2018 9:30</td>\n",
       "      <td>29</td>\n",
       "      <td>In</td>\n",
       "    </tr>\n",
       "    <tr>\n",
       "      <th>2</th>\n",
       "      <td>__export__.temp_log_196127_522915e3</td>\n",
       "      <td>Room Admin</td>\n",
       "      <td>8/12/2018 9:29</td>\n",
       "      <td>41</td>\n",
       "      <td>Out</td>\n",
       "    </tr>\n",
       "    <tr>\n",
       "      <th>3</th>\n",
       "      <td>__export__.temp_log_196128_be0919cf</td>\n",
       "      <td>Room Admin</td>\n",
       "      <td>8/12/2018 9:29</td>\n",
       "      <td>41</td>\n",
       "      <td>Out</td>\n",
       "    </tr>\n",
       "    <tr>\n",
       "      <th>4</th>\n",
       "      <td>__export__.temp_log_196126_d30b72fb</td>\n",
       "      <td>Room Admin</td>\n",
       "      <td>8/12/2018 9:29</td>\n",
       "      <td>31</td>\n",
       "      <td>In</td>\n",
       "    </tr>\n",
       "  </tbody>\n",
       "</table>\n",
       "</div>"
      ],
      "text/plain": [
       "                                    id     room_id      noted_date  temp  \\\n",
       "0  __export__.temp_log_196134_bd201015  Room Admin  8/12/2018 9:30    29   \n",
       "1  __export__.temp_log_196131_7bca51bc  Room Admin  8/12/2018 9:30    29   \n",
       "2  __export__.temp_log_196127_522915e3  Room Admin  8/12/2018 9:29    41   \n",
       "3  __export__.temp_log_196128_be0919cf  Room Admin  8/12/2018 9:29    41   \n",
       "4  __export__.temp_log_196126_d30b72fb  Room Admin  8/12/2018 9:29    31   \n",
       "\n",
       "  out_in  \n",
       "0     In  \n",
       "1     In  \n",
       "2    Out  \n",
       "3    Out  \n",
       "4     In  "
      ]
     },
     "execution_count": 7,
     "metadata": {},
     "output_type": "execute_result"
    }
   ],
   "source": [
    "df.head()"
   ]
  },
  {
   "cell_type": "code",
   "execution_count": null,
   "metadata": {},
   "outputs": [],
   "source": []
  },
  {
   "cell_type": "code",
   "execution_count": null,
   "metadata": {},
   "outputs": [],
   "source": []
  },
  {
   "cell_type": "code",
   "execution_count": null,
   "metadata": {},
   "outputs": [],
   "source": []
  },
  {
   "cell_type": "code",
   "execution_count": 8,
   "metadata": {},
   "outputs": [
    {
     "data": {
      "text/plain": [
       "id            97605\n",
       "room_id           1\n",
       "noted_date    27920\n",
       "temp             31\n",
       "out_in            2\n",
       "dtype: int64"
      ]
     },
     "execution_count": 8,
     "metadata": {},
     "output_type": "execute_result"
    }
   ],
   "source": [
    "df.nunique()"
   ]
  },
  {
   "cell_type": "code",
   "execution_count": 9,
   "metadata": {},
   "outputs": [
    {
     "name": "stdout",
     "output_type": "stream",
     "text": [
      "<class 'pandas.core.frame.DataFrame'>\n",
      "RangeIndex: 97606 entries, 0 to 97605\n",
      "Data columns (total 5 columns):\n",
      " #   Column      Non-Null Count  Dtype \n",
      "---  ------      --------------  ----- \n",
      " 0   id          97606 non-null  object\n",
      " 1   room_id     97606 non-null  object\n",
      " 2   noted_date  97606 non-null  object\n",
      " 3   temp        97606 non-null  int64 \n",
      " 4   out_in      97606 non-null  object\n",
      "dtypes: int64(1), object(4)\n",
      "memory usage: 3.7+ MB\n"
     ]
    }
   ],
   "source": [
    "df.info()"
   ]
  },
  {
   "cell_type": "code",
   "execution_count": 10,
   "metadata": {},
   "outputs": [],
   "source": [
    "#Let us drop room_id variable as it contains one unique value only and hence won't be of any use in our data analysis."
   ]
  },
  {
   "cell_type": "code",
   "execution_count": 11,
   "metadata": {},
   "outputs": [],
   "source": [
    "df.drop(columns = 'room_id', inplace = True)"
   ]
  },
  {
   "cell_type": "code",
   "execution_count": 12,
   "metadata": {},
   "outputs": [
    {
     "name": "stdout",
     "output_type": "stream",
     "text": [
      "No. of duplicate records in the data set : 1\n"
     ]
    }
   ],
   "source": [
    "print('No. of duplicate records in the data set : {}'.format(df.duplicated().sum()))"
   ]
  },
  {
   "cell_type": "code",
   "execution_count": 13,
   "metadata": {},
   "outputs": [
    {
     "data": {
      "text/html": [
       "<div>\n",
       "<style scoped>\n",
       "    .dataframe tbody tr th:only-of-type {\n",
       "        vertical-align: middle;\n",
       "    }\n",
       "\n",
       "    .dataframe tbody tr th {\n",
       "        vertical-align: top;\n",
       "    }\n",
       "\n",
       "    .dataframe thead th {\n",
       "        text-align: right;\n",
       "    }\n",
       "</style>\n",
       "<table border=\"1\" class=\"dataframe\">\n",
       "  <thead>\n",
       "    <tr style=\"text-align: right;\">\n",
       "      <th></th>\n",
       "      <th>id</th>\n",
       "      <th>noted_date</th>\n",
       "      <th>temp</th>\n",
       "      <th>out_in</th>\n",
       "    </tr>\n",
       "  </thead>\n",
       "  <tbody>\n",
       "    <tr>\n",
       "      <th>11</th>\n",
       "      <td>__export__.temp_log_196108_4a983c7e</td>\n",
       "      <td>8/12/2018 9:25</td>\n",
       "      <td>42</td>\n",
       "      <td>Out</td>\n",
       "    </tr>\n",
       "  </tbody>\n",
       "</table>\n",
       "</div>"
      ],
      "text/plain": [
       "                                     id      noted_date  temp out_in\n",
       "11  __export__.temp_log_196108_4a983c7e  8/12/2018 9:25    42    Out"
      ]
     },
     "execution_count": 13,
     "metadata": {},
     "output_type": "execute_result"
    }
   ],
   "source": [
    "# Check for duplicate records.\n",
    "\n",
    "df[df.duplicated()]"
   ]
  },
  {
   "cell_type": "code",
   "execution_count": 14,
   "metadata": {},
   "outputs": [
    {
     "data": {
      "text/html": [
       "<div>\n",
       "<style scoped>\n",
       "    .dataframe tbody tr th:only-of-type {\n",
       "        vertical-align: middle;\n",
       "    }\n",
       "\n",
       "    .dataframe tbody tr th {\n",
       "        vertical-align: top;\n",
       "    }\n",
       "\n",
       "    .dataframe thead th {\n",
       "        text-align: right;\n",
       "    }\n",
       "</style>\n",
       "<table border=\"1\" class=\"dataframe\">\n",
       "  <thead>\n",
       "    <tr style=\"text-align: right;\">\n",
       "      <th></th>\n",
       "      <th>id</th>\n",
       "      <th>noted_date</th>\n",
       "      <th>temp</th>\n",
       "      <th>out_in</th>\n",
       "    </tr>\n",
       "  </thead>\n",
       "  <tbody>\n",
       "    <tr>\n",
       "      <th>10</th>\n",
       "      <td>__export__.temp_log_196108_4a983c7e</td>\n",
       "      <td>8/12/2018 9:25</td>\n",
       "      <td>42</td>\n",
       "      <td>Out</td>\n",
       "    </tr>\n",
       "    <tr>\n",
       "      <th>11</th>\n",
       "      <td>__export__.temp_log_196108_4a983c7e</td>\n",
       "      <td>8/12/2018 9:25</td>\n",
       "      <td>42</td>\n",
       "      <td>Out</td>\n",
       "    </tr>\n",
       "  </tbody>\n",
       "</table>\n",
       "</div>"
      ],
      "text/plain": [
       "                                     id      noted_date  temp out_in\n",
       "10  __export__.temp_log_196108_4a983c7e  8/12/2018 9:25    42    Out\n",
       "11  __export__.temp_log_196108_4a983c7e  8/12/2018 9:25    42    Out"
      ]
     },
     "execution_count": 14,
     "metadata": {},
     "output_type": "execute_result"
    }
   ],
   "source": [
    "df.loc[df['id'] == '__export__.temp_log_196108_4a983c7e']"
   ]
  },
  {
   "cell_type": "code",
   "execution_count": 15,
   "metadata": {},
   "outputs": [],
   "source": [
    "#As per the requirement, id variable is supposed to contain unique values for each reading, rows identified above with \n",
    "#same id value can easily be pronounced as duplicate rows."
   ]
  },
  {
   "cell_type": "code",
   "execution_count": 16,
   "metadata": {},
   "outputs": [],
   "source": [
    "# Drop duplicate records.\n",
    "\n",
    "df = df.drop_duplicates()"
   ]
  },
  {
   "cell_type": "code",
   "execution_count": 17,
   "metadata": {},
   "outputs": [
    {
     "data": {
      "text/html": [
       "<div>\n",
       "<style scoped>\n",
       "    .dataframe tbody tr th:only-of-type {\n",
       "        vertical-align: middle;\n",
       "    }\n",
       "\n",
       "    .dataframe tbody tr th {\n",
       "        vertical-align: top;\n",
       "    }\n",
       "\n",
       "    .dataframe thead th {\n",
       "        text-align: right;\n",
       "    }\n",
       "</style>\n",
       "<table border=\"1\" class=\"dataframe\">\n",
       "  <thead>\n",
       "    <tr style=\"text-align: right;\">\n",
       "      <th></th>\n",
       "      <th>id</th>\n",
       "      <th>noted_date</th>\n",
       "      <th>temp</th>\n",
       "      <th>out_in</th>\n",
       "    </tr>\n",
       "  </thead>\n",
       "  <tbody>\n",
       "  </tbody>\n",
       "</table>\n",
       "</div>"
      ],
      "text/plain": [
       "Empty DataFrame\n",
       "Columns: [id, noted_date, temp, out_in]\n",
       "Index: []"
      ]
     },
     "execution_count": 17,
     "metadata": {},
     "output_type": "execute_result"
    }
   ],
   "source": [
    "df[df.duplicated()]"
   ]
  },
  {
   "cell_type": "code",
   "execution_count": null,
   "metadata": {},
   "outputs": [],
   "source": []
  },
  {
   "cell_type": "code",
   "execution_count": 18,
   "metadata": {},
   "outputs": [],
   "source": [
    "# Convert noted_date into date-time.\n",
    "\n",
    "df['noted_date'] = pd.to_datetime(df['noted_date'])"
   ]
  },
  {
   "cell_type": "code",
   "execution_count": 19,
   "metadata": {},
   "outputs": [
    {
     "name": "stdout",
     "output_type": "stream",
     "text": [
      "<class 'pandas.core.frame.DataFrame'>\n",
      "Int64Index: 97605 entries, 0 to 97605\n",
      "Data columns (total 4 columns):\n",
      " #   Column      Non-Null Count  Dtype         \n",
      "---  ------      --------------  -----         \n",
      " 0   id          97605 non-null  object        \n",
      " 1   noted_date  97605 non-null  datetime64[ns]\n",
      " 2   temp        97605 non-null  int64         \n",
      " 3   out_in      97605 non-null  object        \n",
      "dtypes: datetime64[ns](1), int64(1), object(2)\n",
      "memory usage: 3.7+ MB\n"
     ]
    }
   ],
   "source": [
    "df.info()"
   ]
  },
  {
   "cell_type": "code",
   "execution_count": 20,
   "metadata": {},
   "outputs": [
    {
     "data": {
      "text/html": [
       "<div>\n",
       "<style scoped>\n",
       "    .dataframe tbody tr th:only-of-type {\n",
       "        vertical-align: middle;\n",
       "    }\n",
       "\n",
       "    .dataframe tbody tr th {\n",
       "        vertical-align: top;\n",
       "    }\n",
       "\n",
       "    .dataframe thead th {\n",
       "        text-align: right;\n",
       "    }\n",
       "</style>\n",
       "<table border=\"1\" class=\"dataframe\">\n",
       "  <thead>\n",
       "    <tr style=\"text-align: right;\">\n",
       "      <th></th>\n",
       "      <th>id</th>\n",
       "      <th>noted_date</th>\n",
       "      <th>temp</th>\n",
       "      <th>out_in</th>\n",
       "    </tr>\n",
       "  </thead>\n",
       "  <tbody>\n",
       "    <tr>\n",
       "      <th>0</th>\n",
       "      <td>__export__.temp_log_196134_bd201015</td>\n",
       "      <td>2018-08-12 09:30:00</td>\n",
       "      <td>29</td>\n",
       "      <td>In</td>\n",
       "    </tr>\n",
       "    <tr>\n",
       "      <th>1</th>\n",
       "      <td>__export__.temp_log_196131_7bca51bc</td>\n",
       "      <td>2018-08-12 09:30:00</td>\n",
       "      <td>29</td>\n",
       "      <td>In</td>\n",
       "    </tr>\n",
       "    <tr>\n",
       "      <th>2</th>\n",
       "      <td>__export__.temp_log_196127_522915e3</td>\n",
       "      <td>2018-08-12 09:29:00</td>\n",
       "      <td>41</td>\n",
       "      <td>Out</td>\n",
       "    </tr>\n",
       "    <tr>\n",
       "      <th>3</th>\n",
       "      <td>__export__.temp_log_196128_be0919cf</td>\n",
       "      <td>2018-08-12 09:29:00</td>\n",
       "      <td>41</td>\n",
       "      <td>Out</td>\n",
       "    </tr>\n",
       "    <tr>\n",
       "      <th>4</th>\n",
       "      <td>__export__.temp_log_196126_d30b72fb</td>\n",
       "      <td>2018-08-12 09:29:00</td>\n",
       "      <td>31</td>\n",
       "      <td>In</td>\n",
       "    </tr>\n",
       "    <tr>\n",
       "      <th>...</th>\n",
       "      <td>...</td>\n",
       "      <td>...</td>\n",
       "      <td>...</td>\n",
       "      <td>...</td>\n",
       "    </tr>\n",
       "    <tr>\n",
       "      <th>97601</th>\n",
       "      <td>__export__.temp_log_91076_7fbd08ca</td>\n",
       "      <td>2018-07-28 07:07:00</td>\n",
       "      <td>31</td>\n",
       "      <td>In</td>\n",
       "    </tr>\n",
       "    <tr>\n",
       "      <th>97602</th>\n",
       "      <td>__export__.temp_log_147733_62c03f31</td>\n",
       "      <td>2018-07-28 07:07:00</td>\n",
       "      <td>31</td>\n",
       "      <td>In</td>\n",
       "    </tr>\n",
       "    <tr>\n",
       "      <th>97603</th>\n",
       "      <td>__export__.temp_log_100386_84093a68</td>\n",
       "      <td>2018-07-28 07:06:00</td>\n",
       "      <td>31</td>\n",
       "      <td>In</td>\n",
       "    </tr>\n",
       "    <tr>\n",
       "      <th>97604</th>\n",
       "      <td>__export__.temp_log_123297_4d8e690b</td>\n",
       "      <td>2018-07-28 07:06:00</td>\n",
       "      <td>31</td>\n",
       "      <td>In</td>\n",
       "    </tr>\n",
       "    <tr>\n",
       "      <th>97605</th>\n",
       "      <td>__export__.temp_log_133741_32958703</td>\n",
       "      <td>2018-07-28 07:06:00</td>\n",
       "      <td>31</td>\n",
       "      <td>In</td>\n",
       "    </tr>\n",
       "  </tbody>\n",
       "</table>\n",
       "<p>97605 rows × 4 columns</p>\n",
       "</div>"
      ],
      "text/plain": [
       "                                        id          noted_date  temp out_in\n",
       "0      __export__.temp_log_196134_bd201015 2018-08-12 09:30:00    29     In\n",
       "1      __export__.temp_log_196131_7bca51bc 2018-08-12 09:30:00    29     In\n",
       "2      __export__.temp_log_196127_522915e3 2018-08-12 09:29:00    41    Out\n",
       "3      __export__.temp_log_196128_be0919cf 2018-08-12 09:29:00    41    Out\n",
       "4      __export__.temp_log_196126_d30b72fb 2018-08-12 09:29:00    31     In\n",
       "...                                    ...                 ...   ...    ...\n",
       "97601   __export__.temp_log_91076_7fbd08ca 2018-07-28 07:07:00    31     In\n",
       "97602  __export__.temp_log_147733_62c03f31 2018-07-28 07:07:00    31     In\n",
       "97603  __export__.temp_log_100386_84093a68 2018-07-28 07:06:00    31     In\n",
       "97604  __export__.temp_log_123297_4d8e690b 2018-07-28 07:06:00    31     In\n",
       "97605  __export__.temp_log_133741_32958703 2018-07-28 07:06:00    31     In\n",
       "\n",
       "[97605 rows x 4 columns]"
      ]
     },
     "execution_count": 20,
     "metadata": {},
     "output_type": "execute_result"
    }
   ],
   "source": [
    "df"
   ]
  },
  {
   "cell_type": "code",
   "execution_count": 21,
   "metadata": {},
   "outputs": [
    {
     "data": {
      "text/plain": [
       "'\\nMost important point to note here is, noted_date variable has date-time values without seconds though its clearly \\nmentioned in the requirement that the data has been recorded at seconds level.\\n\\nIn the absence of seconds component from noted_date variable values, the given data set would give a \\nperception of Data Duplicacy or Data Redundancy for the combination of noted_date, \\nout_in & temp variables.\\n\\n'"
      ]
     },
     "execution_count": 21,
     "metadata": {},
     "output_type": "execute_result"
    }
   ],
   "source": [
    "\"\"\"\n",
    "Most important point to note here is, noted_date variable has date-time values without seconds though its clearly \n",
    "mentioned in the requirement that the data has been recorded at seconds level.\n",
    "\n",
    "In the absence of seconds component from noted_date variable values, the given data set would give a \n",
    "perception of Data Duplicacy or Data Redundancy for the combination of noted_date, \n",
    "out_in & temp variables.\n",
    "\n",
    "\"\"\""
   ]
  },
  {
   "cell_type": "code",
   "execution_count": 22,
   "metadata": {},
   "outputs": [
    {
     "data": {
      "text/plain": [
       "noted_date\n",
       "2018-12-09 03:09:00    65\n",
       "2018-09-09 16:24:00    62\n",
       "2018-09-09 17:31:00    53\n",
       "2018-11-09 19:42:00    50\n",
       "2018-09-09 16:08:00    50\n",
       "Name: noted_date, dtype: int64"
      ]
     },
     "execution_count": 22,
     "metadata": {},
     "output_type": "execute_result"
    }
   ],
   "source": [
    "# Check data duplicacy/ recording in same time ,  based on noted_date variable.\n",
    "\n",
    "df.groupby(['noted_date'])['noted_date'].count().sort_values(ascending = False).head()"
   ]
  },
  {
   "cell_type": "code",
   "execution_count": null,
   "metadata": {},
   "outputs": [],
   "source": []
  },
  {
   "cell_type": "code",
   "execution_count": 23,
   "metadata": {},
   "outputs": [
    {
     "data": {
      "text/html": [
       "<div>\n",
       "<style scoped>\n",
       "    .dataframe tbody tr th:only-of-type {\n",
       "        vertical-align: middle;\n",
       "    }\n",
       "\n",
       "    .dataframe tbody tr th {\n",
       "        vertical-align: top;\n",
       "    }\n",
       "\n",
       "    .dataframe thead th {\n",
       "        text-align: right;\n",
       "    }\n",
       "</style>\n",
       "<table border=\"1\" class=\"dataframe\">\n",
       "  <thead>\n",
       "    <tr style=\"text-align: right;\">\n",
       "      <th></th>\n",
       "      <th>id</th>\n",
       "      <th>noted_date</th>\n",
       "      <th>temp</th>\n",
       "      <th>out_in</th>\n",
       "    </tr>\n",
       "  </thead>\n",
       "  <tbody>\n",
       "    <tr>\n",
       "      <th>0</th>\n",
       "      <td>__export__.temp_log_196134_bd201015</td>\n",
       "      <td>2018-08-12 09:30:00</td>\n",
       "      <td>29</td>\n",
       "      <td>In</td>\n",
       "    </tr>\n",
       "    <tr>\n",
       "      <th>1</th>\n",
       "      <td>__export__.temp_log_196131_7bca51bc</td>\n",
       "      <td>2018-08-12 09:30:00</td>\n",
       "      <td>29</td>\n",
       "      <td>In</td>\n",
       "    </tr>\n",
       "    <tr>\n",
       "      <th>2</th>\n",
       "      <td>__export__.temp_log_196127_522915e3</td>\n",
       "      <td>2018-08-12 09:29:00</td>\n",
       "      <td>41</td>\n",
       "      <td>Out</td>\n",
       "    </tr>\n",
       "    <tr>\n",
       "      <th>3</th>\n",
       "      <td>__export__.temp_log_196128_be0919cf</td>\n",
       "      <td>2018-08-12 09:29:00</td>\n",
       "      <td>41</td>\n",
       "      <td>Out</td>\n",
       "    </tr>\n",
       "    <tr>\n",
       "      <th>4</th>\n",
       "      <td>__export__.temp_log_196126_d30b72fb</td>\n",
       "      <td>2018-08-12 09:29:00</td>\n",
       "      <td>31</td>\n",
       "      <td>In</td>\n",
       "    </tr>\n",
       "    <tr>\n",
       "      <th>...</th>\n",
       "      <td>...</td>\n",
       "      <td>...</td>\n",
       "      <td>...</td>\n",
       "      <td>...</td>\n",
       "    </tr>\n",
       "    <tr>\n",
       "      <th>97601</th>\n",
       "      <td>__export__.temp_log_91076_7fbd08ca</td>\n",
       "      <td>2018-07-28 07:07:00</td>\n",
       "      <td>31</td>\n",
       "      <td>In</td>\n",
       "    </tr>\n",
       "    <tr>\n",
       "      <th>97602</th>\n",
       "      <td>__export__.temp_log_147733_62c03f31</td>\n",
       "      <td>2018-07-28 07:07:00</td>\n",
       "      <td>31</td>\n",
       "      <td>In</td>\n",
       "    </tr>\n",
       "    <tr>\n",
       "      <th>97603</th>\n",
       "      <td>__export__.temp_log_100386_84093a68</td>\n",
       "      <td>2018-07-28 07:06:00</td>\n",
       "      <td>31</td>\n",
       "      <td>In</td>\n",
       "    </tr>\n",
       "    <tr>\n",
       "      <th>97604</th>\n",
       "      <td>__export__.temp_log_123297_4d8e690b</td>\n",
       "      <td>2018-07-28 07:06:00</td>\n",
       "      <td>31</td>\n",
       "      <td>In</td>\n",
       "    </tr>\n",
       "    <tr>\n",
       "      <th>97605</th>\n",
       "      <td>__export__.temp_log_133741_32958703</td>\n",
       "      <td>2018-07-28 07:06:00</td>\n",
       "      <td>31</td>\n",
       "      <td>In</td>\n",
       "    </tr>\n",
       "  </tbody>\n",
       "</table>\n",
       "<p>97605 rows × 4 columns</p>\n",
       "</div>"
      ],
      "text/plain": [
       "                                        id          noted_date  temp out_in\n",
       "0      __export__.temp_log_196134_bd201015 2018-08-12 09:30:00    29     In\n",
       "1      __export__.temp_log_196131_7bca51bc 2018-08-12 09:30:00    29     In\n",
       "2      __export__.temp_log_196127_522915e3 2018-08-12 09:29:00    41    Out\n",
       "3      __export__.temp_log_196128_be0919cf 2018-08-12 09:29:00    41    Out\n",
       "4      __export__.temp_log_196126_d30b72fb 2018-08-12 09:29:00    31     In\n",
       "...                                    ...                 ...   ...    ...\n",
       "97601   __export__.temp_log_91076_7fbd08ca 2018-07-28 07:07:00    31     In\n",
       "97602  __export__.temp_log_147733_62c03f31 2018-07-28 07:07:00    31     In\n",
       "97603  __export__.temp_log_100386_84093a68 2018-07-28 07:06:00    31     In\n",
       "97604  __export__.temp_log_123297_4d8e690b 2018-07-28 07:06:00    31     In\n",
       "97605  __export__.temp_log_133741_32958703 2018-07-28 07:06:00    31     In\n",
       "\n",
       "[97605 rows x 4 columns]"
      ]
     },
     "execution_count": 23,
     "metadata": {},
     "output_type": "execute_result"
    }
   ],
   "source": [
    "df"
   ]
  },
  {
   "cell_type": "code",
   "execution_count": 24,
   "metadata": {},
   "outputs": [
    {
     "data": {
      "text/plain": [
       "'If we take a closer look at the values of id variable, it has numeric and alpha-numeric values embedded in it \\nwhich we may use as a primary key. We need to further analyse to determine if the numeric part can be used as a \\nsort order to sort the given data set. Definitely, the alpha-numeric part will not help us in sorting the data.\\n\\nFor e.g. \"export.temp_log_196134_bd201015\". It has two very distinct values: 196134 and bd201015 which we \\nneed to analyse further to re-confirm if any one of these can be used as unique identifier.'"
      ]
     },
     "execution_count": 24,
     "metadata": {},
     "output_type": "execute_result"
    }
   ],
   "source": [
    "\"\"\"If we take a closer look at the values of id variable, it has numeric and alpha-numeric values embedded in it \n",
    "which we may use as a primary key. We need to further analyse to determine if the numeric part can be used as a \n",
    "sort order to sort the given data set. Definitely, the alpha-numeric part will not help us in sorting the data.\n",
    "\n",
    "For e.g. \"export.temp_log_196134_bd201015\". It has two very distinct values: 196134 and bd201015 which we \n",
    "need to analyse further to re-confirm if any one of these can be used as unique identifier.\"\"\""
   ]
  },
  {
   "cell_type": "code",
   "execution_count": 25,
   "metadata": {},
   "outputs": [],
   "source": [
    "#Consider the numerical part and see if it can be used to uniquely identify the observations and sort the data."
   ]
  },
  {
   "cell_type": "code",
   "execution_count": 26,
   "metadata": {},
   "outputs": [
    {
     "data": {
      "text/plain": [
       "True"
      ]
     },
     "execution_count": 26,
     "metadata": {},
     "output_type": "execute_result"
    }
   ],
   "source": [
    "# Check if last but one bit of \"id\" can be used as primary key.\n",
    "\n",
    "df['id'].apply(lambda x : x.split('_')[6]).nunique() == df.shape[0]"
   ]
  },
  {
   "cell_type": "code",
   "execution_count": 27,
   "metadata": {},
   "outputs": [],
   "source": [
    "#Yes, the numerical part of id can be used as a primary key to uniquely identify the observations in the given data set."
   ]
  },
  {
   "cell_type": "code",
   "execution_count": 28,
   "metadata": {},
   "outputs": [],
   "source": [
    "#Let's further analyse numerical part of id in order to re-confirm if it can be used to sort the given data set."
   ]
  },
  {
   "cell_type": "code",
   "execution_count": 29,
   "metadata": {},
   "outputs": [],
   "source": [
    "# Create a new column to store last but one bit of id value.\n",
    "\n",
    "df['id_num'] = df['id'].apply(lambda x : int(x.split('_')[6]))\n"
   ]
  },
  {
   "cell_type": "code",
   "execution_count": 30,
   "metadata": {},
   "outputs": [
    {
     "data": {
      "text/html": [
       "<div>\n",
       "<style scoped>\n",
       "    .dataframe tbody tr th:only-of-type {\n",
       "        vertical-align: middle;\n",
       "    }\n",
       "\n",
       "    .dataframe tbody tr th {\n",
       "        vertical-align: top;\n",
       "    }\n",
       "\n",
       "    .dataframe thead th {\n",
       "        text-align: right;\n",
       "    }\n",
       "</style>\n",
       "<table border=\"1\" class=\"dataframe\">\n",
       "  <thead>\n",
       "    <tr style=\"text-align: right;\">\n",
       "      <th></th>\n",
       "      <th>id</th>\n",
       "      <th>noted_date</th>\n",
       "      <th>temp</th>\n",
       "      <th>out_in</th>\n",
       "      <th>id_num</th>\n",
       "    </tr>\n",
       "  </thead>\n",
       "  <tbody>\n",
       "    <tr>\n",
       "      <th>0</th>\n",
       "      <td>__export__.temp_log_196134_bd201015</td>\n",
       "      <td>2018-08-12 09:30:00</td>\n",
       "      <td>29</td>\n",
       "      <td>In</td>\n",
       "      <td>196134</td>\n",
       "    </tr>\n",
       "    <tr>\n",
       "      <th>1</th>\n",
       "      <td>__export__.temp_log_196131_7bca51bc</td>\n",
       "      <td>2018-08-12 09:30:00</td>\n",
       "      <td>29</td>\n",
       "      <td>In</td>\n",
       "      <td>196131</td>\n",
       "    </tr>\n",
       "    <tr>\n",
       "      <th>2</th>\n",
       "      <td>__export__.temp_log_196127_522915e3</td>\n",
       "      <td>2018-08-12 09:29:00</td>\n",
       "      <td>41</td>\n",
       "      <td>Out</td>\n",
       "      <td>196127</td>\n",
       "    </tr>\n",
       "    <tr>\n",
       "      <th>3</th>\n",
       "      <td>__export__.temp_log_196128_be0919cf</td>\n",
       "      <td>2018-08-12 09:29:00</td>\n",
       "      <td>41</td>\n",
       "      <td>Out</td>\n",
       "      <td>196128</td>\n",
       "    </tr>\n",
       "    <tr>\n",
       "      <th>4</th>\n",
       "      <td>__export__.temp_log_196126_d30b72fb</td>\n",
       "      <td>2018-08-12 09:29:00</td>\n",
       "      <td>31</td>\n",
       "      <td>In</td>\n",
       "      <td>196126</td>\n",
       "    </tr>\n",
       "    <tr>\n",
       "      <th>...</th>\n",
       "      <td>...</td>\n",
       "      <td>...</td>\n",
       "      <td>...</td>\n",
       "      <td>...</td>\n",
       "      <td>...</td>\n",
       "    </tr>\n",
       "    <tr>\n",
       "      <th>97601</th>\n",
       "      <td>__export__.temp_log_91076_7fbd08ca</td>\n",
       "      <td>2018-07-28 07:07:00</td>\n",
       "      <td>31</td>\n",
       "      <td>In</td>\n",
       "      <td>91076</td>\n",
       "    </tr>\n",
       "    <tr>\n",
       "      <th>97602</th>\n",
       "      <td>__export__.temp_log_147733_62c03f31</td>\n",
       "      <td>2018-07-28 07:07:00</td>\n",
       "      <td>31</td>\n",
       "      <td>In</td>\n",
       "      <td>147733</td>\n",
       "    </tr>\n",
       "    <tr>\n",
       "      <th>97603</th>\n",
       "      <td>__export__.temp_log_100386_84093a68</td>\n",
       "      <td>2018-07-28 07:06:00</td>\n",
       "      <td>31</td>\n",
       "      <td>In</td>\n",
       "      <td>100386</td>\n",
       "    </tr>\n",
       "    <tr>\n",
       "      <th>97604</th>\n",
       "      <td>__export__.temp_log_123297_4d8e690b</td>\n",
       "      <td>2018-07-28 07:06:00</td>\n",
       "      <td>31</td>\n",
       "      <td>In</td>\n",
       "      <td>123297</td>\n",
       "    </tr>\n",
       "    <tr>\n",
       "      <th>97605</th>\n",
       "      <td>__export__.temp_log_133741_32958703</td>\n",
       "      <td>2018-07-28 07:06:00</td>\n",
       "      <td>31</td>\n",
       "      <td>In</td>\n",
       "      <td>133741</td>\n",
       "    </tr>\n",
       "  </tbody>\n",
       "</table>\n",
       "<p>97605 rows × 5 columns</p>\n",
       "</div>"
      ],
      "text/plain": [
       "                                        id          noted_date  temp out_in  \\\n",
       "0      __export__.temp_log_196134_bd201015 2018-08-12 09:30:00    29     In   \n",
       "1      __export__.temp_log_196131_7bca51bc 2018-08-12 09:30:00    29     In   \n",
       "2      __export__.temp_log_196127_522915e3 2018-08-12 09:29:00    41    Out   \n",
       "3      __export__.temp_log_196128_be0919cf 2018-08-12 09:29:00    41    Out   \n",
       "4      __export__.temp_log_196126_d30b72fb 2018-08-12 09:29:00    31     In   \n",
       "...                                    ...                 ...   ...    ...   \n",
       "97601   __export__.temp_log_91076_7fbd08ca 2018-07-28 07:07:00    31     In   \n",
       "97602  __export__.temp_log_147733_62c03f31 2018-07-28 07:07:00    31     In   \n",
       "97603  __export__.temp_log_100386_84093a68 2018-07-28 07:06:00    31     In   \n",
       "97604  __export__.temp_log_123297_4d8e690b 2018-07-28 07:06:00    31     In   \n",
       "97605  __export__.temp_log_133741_32958703 2018-07-28 07:06:00    31     In   \n",
       "\n",
       "       id_num  \n",
       "0      196134  \n",
       "1      196131  \n",
       "2      196127  \n",
       "3      196128  \n",
       "4      196126  \n",
       "...       ...  \n",
       "97601   91076  \n",
       "97602  147733  \n",
       "97603  100386  \n",
       "97604  123297  \n",
       "97605  133741  \n",
       "\n",
       "[97605 rows x 5 columns]"
      ]
     },
     "execution_count": 30,
     "metadata": {},
     "output_type": "execute_result"
    }
   ],
   "source": [
    "df"
   ]
  },
  {
   "cell_type": "code",
   "execution_count": 31,
   "metadata": {},
   "outputs": [],
   "source": [
    "#Closer look at values of id_num variable for a specific noted_date is going to give us some more insights on how data is recorded."
   ]
  },
  {
   "cell_type": "code",
   "execution_count": 32,
   "metadata": {},
   "outputs": [],
   "source": [
    "#temp_iot_data.loc[temp_iot_data['noted_date'] == pd.to_datetime('2018-09-12 03:09:00', format = '%Y-%m-%d %H:%M:%S'), ].sort_values(by = 'id_num').head(10)"
   ]
  },
  {
   "cell_type": "code",
   "execution_count": 33,
   "metadata": {},
   "outputs": [
    {
     "data": {
      "text/html": [
       "<div>\n",
       "<style scoped>\n",
       "    .dataframe tbody tr th:only-of-type {\n",
       "        vertical-align: middle;\n",
       "    }\n",
       "\n",
       "    .dataframe tbody tr th {\n",
       "        vertical-align: top;\n",
       "    }\n",
       "\n",
       "    .dataframe thead th {\n",
       "        text-align: right;\n",
       "    }\n",
       "</style>\n",
       "<table border=\"1\" class=\"dataframe\">\n",
       "  <thead>\n",
       "    <tr style=\"text-align: right;\">\n",
       "      <th></th>\n",
       "      <th>id</th>\n",
       "      <th>noted_date</th>\n",
       "      <th>temp</th>\n",
       "      <th>out_in</th>\n",
       "      <th>id_num</th>\n",
       "    </tr>\n",
       "  </thead>\n",
       "  <tbody>\n",
       "    <tr>\n",
       "      <th>0</th>\n",
       "      <td>__export__.temp_log_196134_bd201015</td>\n",
       "      <td>2018-08-12 09:30:00</td>\n",
       "      <td>29</td>\n",
       "      <td>In</td>\n",
       "      <td>196134</td>\n",
       "    </tr>\n",
       "    <tr>\n",
       "      <th>1</th>\n",
       "      <td>__export__.temp_log_196131_7bca51bc</td>\n",
       "      <td>2018-08-12 09:30:00</td>\n",
       "      <td>29</td>\n",
       "      <td>In</td>\n",
       "      <td>196131</td>\n",
       "    </tr>\n",
       "    <tr>\n",
       "      <th>2</th>\n",
       "      <td>__export__.temp_log_196127_522915e3</td>\n",
       "      <td>2018-08-12 09:29:00</td>\n",
       "      <td>41</td>\n",
       "      <td>Out</td>\n",
       "      <td>196127</td>\n",
       "    </tr>\n",
       "    <tr>\n",
       "      <th>3</th>\n",
       "      <td>__export__.temp_log_196128_be0919cf</td>\n",
       "      <td>2018-08-12 09:29:00</td>\n",
       "      <td>41</td>\n",
       "      <td>Out</td>\n",
       "      <td>196128</td>\n",
       "    </tr>\n",
       "    <tr>\n",
       "      <th>4</th>\n",
       "      <td>__export__.temp_log_196126_d30b72fb</td>\n",
       "      <td>2018-08-12 09:29:00</td>\n",
       "      <td>31</td>\n",
       "      <td>In</td>\n",
       "      <td>196126</td>\n",
       "    </tr>\n",
       "    <tr>\n",
       "      <th>...</th>\n",
       "      <td>...</td>\n",
       "      <td>...</td>\n",
       "      <td>...</td>\n",
       "      <td>...</td>\n",
       "      <td>...</td>\n",
       "    </tr>\n",
       "    <tr>\n",
       "      <th>97601</th>\n",
       "      <td>__export__.temp_log_91076_7fbd08ca</td>\n",
       "      <td>2018-07-28 07:07:00</td>\n",
       "      <td>31</td>\n",
       "      <td>In</td>\n",
       "      <td>91076</td>\n",
       "    </tr>\n",
       "    <tr>\n",
       "      <th>97602</th>\n",
       "      <td>__export__.temp_log_147733_62c03f31</td>\n",
       "      <td>2018-07-28 07:07:00</td>\n",
       "      <td>31</td>\n",
       "      <td>In</td>\n",
       "      <td>147733</td>\n",
       "    </tr>\n",
       "    <tr>\n",
       "      <th>97603</th>\n",
       "      <td>__export__.temp_log_100386_84093a68</td>\n",
       "      <td>2018-07-28 07:06:00</td>\n",
       "      <td>31</td>\n",
       "      <td>In</td>\n",
       "      <td>100386</td>\n",
       "    </tr>\n",
       "    <tr>\n",
       "      <th>97604</th>\n",
       "      <td>__export__.temp_log_123297_4d8e690b</td>\n",
       "      <td>2018-07-28 07:06:00</td>\n",
       "      <td>31</td>\n",
       "      <td>In</td>\n",
       "      <td>123297</td>\n",
       "    </tr>\n",
       "    <tr>\n",
       "      <th>97605</th>\n",
       "      <td>__export__.temp_log_133741_32958703</td>\n",
       "      <td>2018-07-28 07:06:00</td>\n",
       "      <td>31</td>\n",
       "      <td>In</td>\n",
       "      <td>133741</td>\n",
       "    </tr>\n",
       "  </tbody>\n",
       "</table>\n",
       "<p>97605 rows × 5 columns</p>\n",
       "</div>"
      ],
      "text/plain": [
       "                                        id          noted_date  temp out_in  \\\n",
       "0      __export__.temp_log_196134_bd201015 2018-08-12 09:30:00    29     In   \n",
       "1      __export__.temp_log_196131_7bca51bc 2018-08-12 09:30:00    29     In   \n",
       "2      __export__.temp_log_196127_522915e3 2018-08-12 09:29:00    41    Out   \n",
       "3      __export__.temp_log_196128_be0919cf 2018-08-12 09:29:00    41    Out   \n",
       "4      __export__.temp_log_196126_d30b72fb 2018-08-12 09:29:00    31     In   \n",
       "...                                    ...                 ...   ...    ...   \n",
       "97601   __export__.temp_log_91076_7fbd08ca 2018-07-28 07:07:00    31     In   \n",
       "97602  __export__.temp_log_147733_62c03f31 2018-07-28 07:07:00    31     In   \n",
       "97603  __export__.temp_log_100386_84093a68 2018-07-28 07:06:00    31     In   \n",
       "97604  __export__.temp_log_123297_4d8e690b 2018-07-28 07:06:00    31     In   \n",
       "97605  __export__.temp_log_133741_32958703 2018-07-28 07:06:00    31     In   \n",
       "\n",
       "       id_num  \n",
       "0      196134  \n",
       "1      196131  \n",
       "2      196127  \n",
       "3      196128  \n",
       "4      196126  \n",
       "...       ...  \n",
       "97601   91076  \n",
       "97602  147733  \n",
       "97603  100386  \n",
       "97604  123297  \n",
       "97605  133741  \n",
       "\n",
       "[97605 rows x 5 columns]"
      ]
     },
     "execution_count": 33,
     "metadata": {},
     "output_type": "execute_result"
    }
   ],
   "source": [
    "df"
   ]
  },
  {
   "cell_type": "code",
   "execution_count": 34,
   "metadata": {},
   "outputs": [],
   "source": [
    "# we see gaps in values between 196126 to 196134 ."
   ]
  },
  {
   "cell_type": "code",
   "execution_count": 35,
   "metadata": {},
   "outputs": [
    {
     "data": {
      "text/html": [
       "<div>\n",
       "<style scoped>\n",
       "    .dataframe tbody tr th:only-of-type {\n",
       "        vertical-align: middle;\n",
       "    }\n",
       "\n",
       "    .dataframe tbody tr th {\n",
       "        vertical-align: top;\n",
       "    }\n",
       "\n",
       "    .dataframe thead th {\n",
       "        text-align: right;\n",
       "    }\n",
       "</style>\n",
       "<table border=\"1\" class=\"dataframe\">\n",
       "  <thead>\n",
       "    <tr style=\"text-align: right;\">\n",
       "      <th></th>\n",
       "      <th>id</th>\n",
       "      <th>noted_date</th>\n",
       "      <th>temp</th>\n",
       "      <th>out_in</th>\n",
       "      <th>id_num</th>\n",
       "    </tr>\n",
       "  </thead>\n",
       "  <tbody>\n",
       "    <tr>\n",
       "      <th>4</th>\n",
       "      <td>__export__.temp_log_196126_d30b72fb</td>\n",
       "      <td>2018-08-12 09:29:00</td>\n",
       "      <td>31</td>\n",
       "      <td>In</td>\n",
       "      <td>196126</td>\n",
       "    </tr>\n",
       "    <tr>\n",
       "      <th>2</th>\n",
       "      <td>__export__.temp_log_196127_522915e3</td>\n",
       "      <td>2018-08-12 09:29:00</td>\n",
       "      <td>41</td>\n",
       "      <td>Out</td>\n",
       "      <td>196127</td>\n",
       "    </tr>\n",
       "    <tr>\n",
       "      <th>3</th>\n",
       "      <td>__export__.temp_log_196128_be0919cf</td>\n",
       "      <td>2018-08-12 09:29:00</td>\n",
       "      <td>41</td>\n",
       "      <td>Out</td>\n",
       "      <td>196128</td>\n",
       "    </tr>\n",
       "    <tr>\n",
       "      <th>1</th>\n",
       "      <td>__export__.temp_log_196131_7bca51bc</td>\n",
       "      <td>2018-08-12 09:30:00</td>\n",
       "      <td>29</td>\n",
       "      <td>In</td>\n",
       "      <td>196131</td>\n",
       "    </tr>\n",
       "    <tr>\n",
       "      <th>0</th>\n",
       "      <td>__export__.temp_log_196134_bd201015</td>\n",
       "      <td>2018-08-12 09:30:00</td>\n",
       "      <td>29</td>\n",
       "      <td>In</td>\n",
       "      <td>196134</td>\n",
       "    </tr>\n",
       "  </tbody>\n",
       "</table>\n",
       "</div>"
      ],
      "text/plain": [
       "                                    id          noted_date  temp out_in  \\\n",
       "4  __export__.temp_log_196126_d30b72fb 2018-08-12 09:29:00    31     In   \n",
       "2  __export__.temp_log_196127_522915e3 2018-08-12 09:29:00    41    Out   \n",
       "3  __export__.temp_log_196128_be0919cf 2018-08-12 09:29:00    41    Out   \n",
       "1  __export__.temp_log_196131_7bca51bc 2018-08-12 09:30:00    29     In   \n",
       "0  __export__.temp_log_196134_bd201015 2018-08-12 09:30:00    29     In   \n",
       "\n",
       "   id_num  \n",
       "4  196126  \n",
       "2  196127  \n",
       "3  196128  \n",
       "1  196131  \n",
       "0  196134  "
      ]
     },
     "execution_count": 35,
     "metadata": {},
     "output_type": "execute_result"
    }
   ],
   "source": [
    "df.loc[df['id_num'].isin(range(196126, 196150))].sort_values(by = 'id_num')"
   ]
  },
  {
   "cell_type": "code",
   "execution_count": 36,
   "metadata": {},
   "outputs": [
    {
     "data": {
      "text/plain": [
       "'Some of the important observations we can make here are:\\n\\nThere is no data for id_num = 196129,196130,31,32,33.....\\nAlso, id_num = 17004 observation has been recorded at \"2018-09-12 03:08:00\" \\n\\nwhile observation for id_num = 196126,27,28 have been recorded at same time \"2018-08-12 09:29:00\".\\n\\n.'"
      ]
     },
     "execution_count": 36,
     "metadata": {},
     "output_type": "execute_result"
    }
   ],
   "source": [
    "\"\"\"Some of the important observations we can make here are:\n",
    "\n",
    "There is no data for id_num = 196129,196130,31,32,33.....\n",
    "Also, id_num = 17004 observation has been recorded at \"2018-09-12 03:08:00\" \n",
    "\n",
    "while observation for id_num = 196126,27,28 have been recorded at same time \"2018-08-12 09:29:00\".\n",
    "\n",
    ".\"\"\""
   ]
  },
  {
   "cell_type": "code",
   "execution_count": null,
   "metadata": {},
   "outputs": [],
   "source": []
  },
  {
   "cell_type": "code",
   "execution_count": 37,
   "metadata": {},
   "outputs": [
    {
     "data": {
      "text/html": [
       "<div>\n",
       "<style scoped>\n",
       "    .dataframe tbody tr th:only-of-type {\n",
       "        vertical-align: middle;\n",
       "    }\n",
       "\n",
       "    .dataframe tbody tr th {\n",
       "        vertical-align: top;\n",
       "    }\n",
       "\n",
       "    .dataframe thead th {\n",
       "        text-align: right;\n",
       "    }\n",
       "</style>\n",
       "<table border=\"1\" class=\"dataframe\">\n",
       "  <thead>\n",
       "    <tr style=\"text-align: right;\">\n",
       "      <th></th>\n",
       "      <th>id</th>\n",
       "      <th>noted_date</th>\n",
       "      <th>temp</th>\n",
       "      <th>out_in</th>\n",
       "      <th>id_num</th>\n",
       "    </tr>\n",
       "  </thead>\n",
       "  <tbody>\n",
       "    <tr>\n",
       "      <th>0</th>\n",
       "      <td>__export__.temp_log_196134_bd201015</td>\n",
       "      <td>2018-08-12 09:30:00</td>\n",
       "      <td>29</td>\n",
       "      <td>In</td>\n",
       "      <td>196134</td>\n",
       "    </tr>\n",
       "    <tr>\n",
       "      <th>1</th>\n",
       "      <td>__export__.temp_log_196131_7bca51bc</td>\n",
       "      <td>2018-08-12 09:30:00</td>\n",
       "      <td>29</td>\n",
       "      <td>In</td>\n",
       "      <td>196131</td>\n",
       "    </tr>\n",
       "    <tr>\n",
       "      <th>2</th>\n",
       "      <td>__export__.temp_log_196127_522915e3</td>\n",
       "      <td>2018-08-12 09:29:00</td>\n",
       "      <td>41</td>\n",
       "      <td>Out</td>\n",
       "      <td>196127</td>\n",
       "    </tr>\n",
       "    <tr>\n",
       "      <th>3</th>\n",
       "      <td>__export__.temp_log_196128_be0919cf</td>\n",
       "      <td>2018-08-12 09:29:00</td>\n",
       "      <td>41</td>\n",
       "      <td>Out</td>\n",
       "      <td>196128</td>\n",
       "    </tr>\n",
       "    <tr>\n",
       "      <th>4</th>\n",
       "      <td>__export__.temp_log_196126_d30b72fb</td>\n",
       "      <td>2018-08-12 09:29:00</td>\n",
       "      <td>31</td>\n",
       "      <td>In</td>\n",
       "      <td>196126</td>\n",
       "    </tr>\n",
       "    <tr>\n",
       "      <th>...</th>\n",
       "      <td>...</td>\n",
       "      <td>...</td>\n",
       "      <td>...</td>\n",
       "      <td>...</td>\n",
       "      <td>...</td>\n",
       "    </tr>\n",
       "    <tr>\n",
       "      <th>97601</th>\n",
       "      <td>__export__.temp_log_91076_7fbd08ca</td>\n",
       "      <td>2018-07-28 07:07:00</td>\n",
       "      <td>31</td>\n",
       "      <td>In</td>\n",
       "      <td>91076</td>\n",
       "    </tr>\n",
       "    <tr>\n",
       "      <th>97602</th>\n",
       "      <td>__export__.temp_log_147733_62c03f31</td>\n",
       "      <td>2018-07-28 07:07:00</td>\n",
       "      <td>31</td>\n",
       "      <td>In</td>\n",
       "      <td>147733</td>\n",
       "    </tr>\n",
       "    <tr>\n",
       "      <th>97603</th>\n",
       "      <td>__export__.temp_log_100386_84093a68</td>\n",
       "      <td>2018-07-28 07:06:00</td>\n",
       "      <td>31</td>\n",
       "      <td>In</td>\n",
       "      <td>100386</td>\n",
       "    </tr>\n",
       "    <tr>\n",
       "      <th>97604</th>\n",
       "      <td>__export__.temp_log_123297_4d8e690b</td>\n",
       "      <td>2018-07-28 07:06:00</td>\n",
       "      <td>31</td>\n",
       "      <td>In</td>\n",
       "      <td>123297</td>\n",
       "    </tr>\n",
       "    <tr>\n",
       "      <th>97605</th>\n",
       "      <td>__export__.temp_log_133741_32958703</td>\n",
       "      <td>2018-07-28 07:06:00</td>\n",
       "      <td>31</td>\n",
       "      <td>In</td>\n",
       "      <td>133741</td>\n",
       "    </tr>\n",
       "  </tbody>\n",
       "</table>\n",
       "<p>97605 rows × 5 columns</p>\n",
       "</div>"
      ],
      "text/plain": [
       "                                        id          noted_date  temp out_in  \\\n",
       "0      __export__.temp_log_196134_bd201015 2018-08-12 09:30:00    29     In   \n",
       "1      __export__.temp_log_196131_7bca51bc 2018-08-12 09:30:00    29     In   \n",
       "2      __export__.temp_log_196127_522915e3 2018-08-12 09:29:00    41    Out   \n",
       "3      __export__.temp_log_196128_be0919cf 2018-08-12 09:29:00    41    Out   \n",
       "4      __export__.temp_log_196126_d30b72fb 2018-08-12 09:29:00    31     In   \n",
       "...                                    ...                 ...   ...    ...   \n",
       "97601   __export__.temp_log_91076_7fbd08ca 2018-07-28 07:07:00    31     In   \n",
       "97602  __export__.temp_log_147733_62c03f31 2018-07-28 07:07:00    31     In   \n",
       "97603  __export__.temp_log_100386_84093a68 2018-07-28 07:06:00    31     In   \n",
       "97604  __export__.temp_log_123297_4d8e690b 2018-07-28 07:06:00    31     In   \n",
       "97605  __export__.temp_log_133741_32958703 2018-07-28 07:06:00    31     In   \n",
       "\n",
       "       id_num  \n",
       "0      196134  \n",
       "1      196131  \n",
       "2      196127  \n",
       "3      196128  \n",
       "4      196126  \n",
       "...       ...  \n",
       "97601   91076  \n",
       "97602  147733  \n",
       "97603  100386  \n",
       "97604  123297  \n",
       "97605  133741  \n",
       "\n",
       "[97605 rows x 5 columns]"
      ]
     },
     "execution_count": 37,
     "metadata": {},
     "output_type": "execute_result"
    }
   ],
   "source": [
    "df"
   ]
  },
  {
   "cell_type": "code",
   "execution_count": 38,
   "metadata": {},
   "outputs": [],
   "source": [
    "#We do not have data for id_nums 196129,30...even many more . Missing id_num values is really not a road block in sorting the data."
   ]
  },
  {
   "cell_type": "code",
   "execution_count": 39,
   "metadata": {},
   "outputs": [
    {
     "data": {
      "text/html": [
       "<div>\n",
       "<style scoped>\n",
       "    .dataframe tbody tr th:only-of-type {\n",
       "        vertical-align: middle;\n",
       "    }\n",
       "\n",
       "    .dataframe tbody tr th {\n",
       "        vertical-align: top;\n",
       "    }\n",
       "\n",
       "    .dataframe thead th {\n",
       "        text-align: right;\n",
       "    }\n",
       "</style>\n",
       "<table border=\"1\" class=\"dataframe\">\n",
       "  <thead>\n",
       "    <tr style=\"text-align: right;\">\n",
       "      <th></th>\n",
       "      <th>id</th>\n",
       "      <th>noted_date</th>\n",
       "      <th>temp</th>\n",
       "      <th>out_in</th>\n",
       "      <th>id_num</th>\n",
       "    </tr>\n",
       "  </thead>\n",
       "  <tbody>\n",
       "    <tr>\n",
       "      <th>84141</th>\n",
       "      <td>__export__.temp_log_4000_d0810820</td>\n",
       "      <td>2018-09-09 16:24:00</td>\n",
       "      <td>29</td>\n",
       "      <td>Out</td>\n",
       "      <td>4000</td>\n",
       "    </tr>\n",
       "    <tr>\n",
       "      <th>84142</th>\n",
       "      <td>__export__.temp_log_4002_3372baf8</td>\n",
       "      <td>2018-09-09 16:24:00</td>\n",
       "      <td>29</td>\n",
       "      <td>Out</td>\n",
       "      <td>4002</td>\n",
       "    </tr>\n",
       "    <tr>\n",
       "      <th>84128</th>\n",
       "      <td>__export__.temp_log_4006_75e9aa07</td>\n",
       "      <td>2018-09-09 16:24:00</td>\n",
       "      <td>28</td>\n",
       "      <td>Out</td>\n",
       "      <td>4006</td>\n",
       "    </tr>\n",
       "    <tr>\n",
       "      <th>84132</th>\n",
       "      <td>__export__.temp_log_4007_081bc47e</td>\n",
       "      <td>2018-09-09 16:24:00</td>\n",
       "      <td>29</td>\n",
       "      <td>Out</td>\n",
       "      <td>4007</td>\n",
       "    </tr>\n",
       "    <tr>\n",
       "      <th>84136</th>\n",
       "      <td>__export__.temp_log_4009_7c4f3581</td>\n",
       "      <td>2018-09-09 16:24:00</td>\n",
       "      <td>28</td>\n",
       "      <td>Out</td>\n",
       "      <td>4009</td>\n",
       "    </tr>\n",
       "    <tr>\n",
       "      <th>84137</th>\n",
       "      <td>__export__.temp_log_4010_c4fde86a</td>\n",
       "      <td>2018-09-09 16:24:00</td>\n",
       "      <td>28</td>\n",
       "      <td>Out</td>\n",
       "      <td>4010</td>\n",
       "    </tr>\n",
       "    <tr>\n",
       "      <th>84126</th>\n",
       "      <td>__export__.temp_log_4011_ec4e7131</td>\n",
       "      <td>2018-09-09 16:24:00</td>\n",
       "      <td>29</td>\n",
       "      <td>Out</td>\n",
       "      <td>4011</td>\n",
       "    </tr>\n",
       "    <tr>\n",
       "      <th>84122</th>\n",
       "      <td>__export__.temp_log_4012_cd72b48f</td>\n",
       "      <td>2018-09-09 16:24:00</td>\n",
       "      <td>29</td>\n",
       "      <td>Out</td>\n",
       "      <td>4012</td>\n",
       "    </tr>\n",
       "    <tr>\n",
       "      <th>84134</th>\n",
       "      <td>__export__.temp_log_4013_877ad0a7</td>\n",
       "      <td>2018-09-09 16:24:00</td>\n",
       "      <td>29</td>\n",
       "      <td>Out</td>\n",
       "      <td>4013</td>\n",
       "    </tr>\n",
       "    <tr>\n",
       "      <th>84123</th>\n",
       "      <td>__export__.temp_log_4014_a4d06122</td>\n",
       "      <td>2018-09-09 16:24:00</td>\n",
       "      <td>28</td>\n",
       "      <td>Out</td>\n",
       "      <td>4014</td>\n",
       "    </tr>\n",
       "  </tbody>\n",
       "</table>\n",
       "</div>"
      ],
      "text/plain": [
       "                                      id          noted_date  temp out_in  \\\n",
       "84141  __export__.temp_log_4000_d0810820 2018-09-09 16:24:00    29    Out   \n",
       "84142  __export__.temp_log_4002_3372baf8 2018-09-09 16:24:00    29    Out   \n",
       "84128  __export__.temp_log_4006_75e9aa07 2018-09-09 16:24:00    28    Out   \n",
       "84132  __export__.temp_log_4007_081bc47e 2018-09-09 16:24:00    29    Out   \n",
       "84136  __export__.temp_log_4009_7c4f3581 2018-09-09 16:24:00    28    Out   \n",
       "84137  __export__.temp_log_4010_c4fde86a 2018-09-09 16:24:00    28    Out   \n",
       "84126  __export__.temp_log_4011_ec4e7131 2018-09-09 16:24:00    29    Out   \n",
       "84122  __export__.temp_log_4012_cd72b48f 2018-09-09 16:24:00    29    Out   \n",
       "84134  __export__.temp_log_4013_877ad0a7 2018-09-09 16:24:00    29    Out   \n",
       "84123  __export__.temp_log_4014_a4d06122 2018-09-09 16:24:00    28    Out   \n",
       "\n",
       "       id_num  \n",
       "84141    4000  \n",
       "84142    4002  \n",
       "84128    4006  \n",
       "84132    4007  \n",
       "84136    4009  \n",
       "84137    4010  \n",
       "84126    4011  \n",
       "84122    4012  \n",
       "84134    4013  \n",
       "84123    4014  "
      ]
     },
     "execution_count": 39,
     "metadata": {},
     "output_type": "execute_result"
    }
   ],
   "source": [
    "df.loc[df['noted_date'] == pd.to_datetime('2018-09-09 16:24:00', format = '%Y-%m-%d %H:%M:%S'), ].sort_values(by = 'id_num').head(10)"
   ]
  },
  {
   "cell_type": "code",
   "execution_count": 40,
   "metadata": {},
   "outputs": [
    {
     "data": {
      "text/html": [
       "<div>\n",
       "<style scoped>\n",
       "    .dataframe tbody tr th:only-of-type {\n",
       "        vertical-align: middle;\n",
       "    }\n",
       "\n",
       "    .dataframe tbody tr th {\n",
       "        vertical-align: top;\n",
       "    }\n",
       "\n",
       "    .dataframe thead th {\n",
       "        text-align: right;\n",
       "    }\n",
       "</style>\n",
       "<table border=\"1\" class=\"dataframe\">\n",
       "  <thead>\n",
       "    <tr style=\"text-align: right;\">\n",
       "      <th></th>\n",
       "      <th>id</th>\n",
       "      <th>noted_date</th>\n",
       "      <th>temp</th>\n",
       "      <th>out_in</th>\n",
       "      <th>id_num</th>\n",
       "    </tr>\n",
       "  </thead>\n",
       "  <tbody>\n",
       "    <tr>\n",
       "      <th>84141</th>\n",
       "      <td>__export__.temp_log_4000_d0810820</td>\n",
       "      <td>2018-09-09 16:24:00</td>\n",
       "      <td>29</td>\n",
       "      <td>Out</td>\n",
       "      <td>4000</td>\n",
       "    </tr>\n",
       "    <tr>\n",
       "      <th>84142</th>\n",
       "      <td>__export__.temp_log_4002_3372baf8</td>\n",
       "      <td>2018-09-09 16:24:00</td>\n",
       "      <td>29</td>\n",
       "      <td>Out</td>\n",
       "      <td>4002</td>\n",
       "    </tr>\n",
       "    <tr>\n",
       "      <th>84144</th>\n",
       "      <td>__export__.temp_log_4004_b88f8bc8</td>\n",
       "      <td>2018-09-09 16:23:00</td>\n",
       "      <td>28</td>\n",
       "      <td>Out</td>\n",
       "      <td>4004</td>\n",
       "    </tr>\n",
       "  </tbody>\n",
       "</table>\n",
       "</div>"
      ],
      "text/plain": [
       "                                      id          noted_date  temp out_in  \\\n",
       "84141  __export__.temp_log_4000_d0810820 2018-09-09 16:24:00    29    Out   \n",
       "84142  __export__.temp_log_4002_3372baf8 2018-09-09 16:24:00    29    Out   \n",
       "84144  __export__.temp_log_4004_b88f8bc8 2018-09-09 16:23:00    28    Out   \n",
       "\n",
       "       id_num  \n",
       "84141    4000  \n",
       "84142    4002  \n",
       "84144    4004  "
      ]
     },
     "execution_count": 40,
     "metadata": {},
     "output_type": "execute_result"
    }
   ],
   "source": [
    "df.loc[df['id_num'].isin(range(4000, 4006))].sort_values(by = 'id_num')"
   ]
  },
  {
   "cell_type": "code",
   "execution_count": 41,
   "metadata": {},
   "outputs": [],
   "source": [
    "#As seen before, we see a gap in id_num values."
   ]
  },
  {
   "cell_type": "code",
   "execution_count": 42,
   "metadata": {},
   "outputs": [
    {
     "data": {
      "text/html": [
       "<div>\n",
       "<style scoped>\n",
       "    .dataframe tbody tr th:only-of-type {\n",
       "        vertical-align: middle;\n",
       "    }\n",
       "\n",
       "    .dataframe tbody tr th {\n",
       "        vertical-align: top;\n",
       "    }\n",
       "\n",
       "    .dataframe thead th {\n",
       "        text-align: right;\n",
       "    }\n",
       "</style>\n",
       "<table border=\"1\" class=\"dataframe\">\n",
       "  <thead>\n",
       "    <tr style=\"text-align: right;\">\n",
       "      <th></th>\n",
       "      <th>id</th>\n",
       "      <th>noted_date</th>\n",
       "      <th>temp</th>\n",
       "      <th>out_in</th>\n",
       "      <th>id_num</th>\n",
       "    </tr>\n",
       "  </thead>\n",
       "  <tbody>\n",
       "    <tr>\n",
       "      <th>84142</th>\n",
       "      <td>__export__.temp_log_4002_3372baf8</td>\n",
       "      <td>2018-09-09 16:24:00</td>\n",
       "      <td>29</td>\n",
       "      <td>Out</td>\n",
       "      <td>4002</td>\n",
       "    </tr>\n",
       "    <tr>\n",
       "      <th>84144</th>\n",
       "      <td>__export__.temp_log_4004_b88f8bc8</td>\n",
       "      <td>2018-09-09 16:23:00</td>\n",
       "      <td>28</td>\n",
       "      <td>Out</td>\n",
       "      <td>4004</td>\n",
       "    </tr>\n",
       "    <tr>\n",
       "      <th>84128</th>\n",
       "      <td>__export__.temp_log_4006_75e9aa07</td>\n",
       "      <td>2018-09-09 16:24:00</td>\n",
       "      <td>28</td>\n",
       "      <td>Out</td>\n",
       "      <td>4006</td>\n",
       "    </tr>\n",
       "    <tr>\n",
       "      <th>84132</th>\n",
       "      <td>__export__.temp_log_4007_081bc47e</td>\n",
       "      <td>2018-09-09 16:24:00</td>\n",
       "      <td>29</td>\n",
       "      <td>Out</td>\n",
       "      <td>4007</td>\n",
       "    </tr>\n",
       "    <tr>\n",
       "      <th>84136</th>\n",
       "      <td>__export__.temp_log_4009_7c4f3581</td>\n",
       "      <td>2018-09-09 16:24:00</td>\n",
       "      <td>28</td>\n",
       "      <td>Out</td>\n",
       "      <td>4009</td>\n",
       "    </tr>\n",
       "    <tr>\n",
       "      <th>...</th>\n",
       "      <td>...</td>\n",
       "      <td>...</td>\n",
       "      <td>...</td>\n",
       "      <td>...</td>\n",
       "      <td>...</td>\n",
       "    </tr>\n",
       "    <tr>\n",
       "      <th>51120</th>\n",
       "      <td>__export__.temp_log_40006_4e3a892e</td>\n",
       "      <td>2018-11-10 18:42:00</td>\n",
       "      <td>35</td>\n",
       "      <td>In</td>\n",
       "      <td>40006</td>\n",
       "    </tr>\n",
       "    <tr>\n",
       "      <th>51119</th>\n",
       "      <td>__export__.temp_log_40008_79648690</td>\n",
       "      <td>2018-11-10 18:43:00</td>\n",
       "      <td>49</td>\n",
       "      <td>Out</td>\n",
       "      <td>40008</td>\n",
       "    </tr>\n",
       "    <tr>\n",
       "      <th>51118</th>\n",
       "      <td>__export__.temp_log_40009_ee8cecb9</td>\n",
       "      <td>2018-11-10 18:44:00</td>\n",
       "      <td>35</td>\n",
       "      <td>In</td>\n",
       "      <td>40009</td>\n",
       "    </tr>\n",
       "    <tr>\n",
       "      <th>51117</th>\n",
       "      <td>__export__.temp_log_40011_d1499969</td>\n",
       "      <td>2018-11-10 18:45:00</td>\n",
       "      <td>48</td>\n",
       "      <td>Out</td>\n",
       "      <td>40011</td>\n",
       "    </tr>\n",
       "    <tr>\n",
       "      <th>51116</th>\n",
       "      <td>__export__.temp_log_40012_1deb6e31</td>\n",
       "      <td>2018-11-10 18:46:00</td>\n",
       "      <td>35</td>\n",
       "      <td>In</td>\n",
       "      <td>40012</td>\n",
       "    </tr>\n",
       "  </tbody>\n",
       "</table>\n",
       "<p>11306 rows × 5 columns</p>\n",
       "</div>"
      ],
      "text/plain": [
       "                                       id          noted_date  temp out_in  \\\n",
       "84142   __export__.temp_log_4002_3372baf8 2018-09-09 16:24:00    29    Out   \n",
       "84144   __export__.temp_log_4004_b88f8bc8 2018-09-09 16:23:00    28    Out   \n",
       "84128   __export__.temp_log_4006_75e9aa07 2018-09-09 16:24:00    28    Out   \n",
       "84132   __export__.temp_log_4007_081bc47e 2018-09-09 16:24:00    29    Out   \n",
       "84136   __export__.temp_log_4009_7c4f3581 2018-09-09 16:24:00    28    Out   \n",
       "...                                   ...                 ...   ...    ...   \n",
       "51120  __export__.temp_log_40006_4e3a892e 2018-11-10 18:42:00    35     In   \n",
       "51119  __export__.temp_log_40008_79648690 2018-11-10 18:43:00    49    Out   \n",
       "51118  __export__.temp_log_40009_ee8cecb9 2018-11-10 18:44:00    35     In   \n",
       "51117  __export__.temp_log_40011_d1499969 2018-11-10 18:45:00    48    Out   \n",
       "51116  __export__.temp_log_40012_1deb6e31 2018-11-10 18:46:00    35     In   \n",
       "\n",
       "       id_num  \n",
       "84142    4002  \n",
       "84144    4004  \n",
       "84128    4006  \n",
       "84132    4007  \n",
       "84136    4009  \n",
       "...       ...  \n",
       "51120   40006  \n",
       "51119   40008  \n",
       "51118   40009  \n",
       "51117   40011  \n",
       "51116   40012  \n",
       "\n",
       "[11306 rows x 5 columns]"
      ]
     },
     "execution_count": 42,
     "metadata": {},
     "output_type": "execute_result"
    }
   ],
   "source": [
    "df.loc[df['id_num'].isin(range(4002, 40015))].sort_values(by = 'id_num')"
   ]
  },
  {
   "cell_type": "code",
   "execution_count": 43,
   "metadata": {},
   "outputs": [],
   "source": [
    "#Based on the above observations, we can conclude that id_num variable can be used to sort the data set to get \n",
    "#the actual data in sorted order in spite of absence of seconds component in the noted_date variable."
   ]
  },
  {
   "cell_type": "code",
   "execution_count": 44,
   "metadata": {},
   "outputs": [],
   "source": [
    "#We'll use id_num as primary key to identify the observations uniquely. \n",
    "\n",
    "#Just bring the ID no. in the beginning of columen say 1 no. column.\n",
    "#Replace id variable values with id_num and \n",
    "\n",
    "# than drop id_num variable from the data set."
   ]
  },
  {
   "cell_type": "code",
   "execution_count": 45,
   "metadata": {},
   "outputs": [],
   "source": [
    "df.loc[:, 'id'] = df.loc[:, 'id_num']"
   ]
  },
  {
   "cell_type": "code",
   "execution_count": 46,
   "metadata": {},
   "outputs": [
    {
     "data": {
      "text/html": [
       "<div>\n",
       "<style scoped>\n",
       "    .dataframe tbody tr th:only-of-type {\n",
       "        vertical-align: middle;\n",
       "    }\n",
       "\n",
       "    .dataframe tbody tr th {\n",
       "        vertical-align: top;\n",
       "    }\n",
       "\n",
       "    .dataframe thead th {\n",
       "        text-align: right;\n",
       "    }\n",
       "</style>\n",
       "<table border=\"1\" class=\"dataframe\">\n",
       "  <thead>\n",
       "    <tr style=\"text-align: right;\">\n",
       "      <th></th>\n",
       "      <th>id</th>\n",
       "      <th>noted_date</th>\n",
       "      <th>temp</th>\n",
       "      <th>out_in</th>\n",
       "      <th>id_num</th>\n",
       "    </tr>\n",
       "  </thead>\n",
       "  <tbody>\n",
       "    <tr>\n",
       "      <th>0</th>\n",
       "      <td>196134</td>\n",
       "      <td>2018-08-12 09:30:00</td>\n",
       "      <td>29</td>\n",
       "      <td>In</td>\n",
       "      <td>196134</td>\n",
       "    </tr>\n",
       "    <tr>\n",
       "      <th>1</th>\n",
       "      <td>196131</td>\n",
       "      <td>2018-08-12 09:30:00</td>\n",
       "      <td>29</td>\n",
       "      <td>In</td>\n",
       "      <td>196131</td>\n",
       "    </tr>\n",
       "    <tr>\n",
       "      <th>2</th>\n",
       "      <td>196127</td>\n",
       "      <td>2018-08-12 09:29:00</td>\n",
       "      <td>41</td>\n",
       "      <td>Out</td>\n",
       "      <td>196127</td>\n",
       "    </tr>\n",
       "    <tr>\n",
       "      <th>3</th>\n",
       "      <td>196128</td>\n",
       "      <td>2018-08-12 09:29:00</td>\n",
       "      <td>41</td>\n",
       "      <td>Out</td>\n",
       "      <td>196128</td>\n",
       "    </tr>\n",
       "    <tr>\n",
       "      <th>4</th>\n",
       "      <td>196126</td>\n",
       "      <td>2018-08-12 09:29:00</td>\n",
       "      <td>31</td>\n",
       "      <td>In</td>\n",
       "      <td>196126</td>\n",
       "    </tr>\n",
       "    <tr>\n",
       "      <th>...</th>\n",
       "      <td>...</td>\n",
       "      <td>...</td>\n",
       "      <td>...</td>\n",
       "      <td>...</td>\n",
       "      <td>...</td>\n",
       "    </tr>\n",
       "    <tr>\n",
       "      <th>97601</th>\n",
       "      <td>91076</td>\n",
       "      <td>2018-07-28 07:07:00</td>\n",
       "      <td>31</td>\n",
       "      <td>In</td>\n",
       "      <td>91076</td>\n",
       "    </tr>\n",
       "    <tr>\n",
       "      <th>97602</th>\n",
       "      <td>147733</td>\n",
       "      <td>2018-07-28 07:07:00</td>\n",
       "      <td>31</td>\n",
       "      <td>In</td>\n",
       "      <td>147733</td>\n",
       "    </tr>\n",
       "    <tr>\n",
       "      <th>97603</th>\n",
       "      <td>100386</td>\n",
       "      <td>2018-07-28 07:06:00</td>\n",
       "      <td>31</td>\n",
       "      <td>In</td>\n",
       "      <td>100386</td>\n",
       "    </tr>\n",
       "    <tr>\n",
       "      <th>97604</th>\n",
       "      <td>123297</td>\n",
       "      <td>2018-07-28 07:06:00</td>\n",
       "      <td>31</td>\n",
       "      <td>In</td>\n",
       "      <td>123297</td>\n",
       "    </tr>\n",
       "    <tr>\n",
       "      <th>97605</th>\n",
       "      <td>133741</td>\n",
       "      <td>2018-07-28 07:06:00</td>\n",
       "      <td>31</td>\n",
       "      <td>In</td>\n",
       "      <td>133741</td>\n",
       "    </tr>\n",
       "  </tbody>\n",
       "</table>\n",
       "<p>97605 rows × 5 columns</p>\n",
       "</div>"
      ],
      "text/plain": [
       "           id          noted_date  temp out_in  id_num\n",
       "0      196134 2018-08-12 09:30:00    29     In  196134\n",
       "1      196131 2018-08-12 09:30:00    29     In  196131\n",
       "2      196127 2018-08-12 09:29:00    41    Out  196127\n",
       "3      196128 2018-08-12 09:29:00    41    Out  196128\n",
       "4      196126 2018-08-12 09:29:00    31     In  196126\n",
       "...       ...                 ...   ...    ...     ...\n",
       "97601   91076 2018-07-28 07:07:00    31     In   91076\n",
       "97602  147733 2018-07-28 07:07:00    31     In  147733\n",
       "97603  100386 2018-07-28 07:06:00    31     In  100386\n",
       "97604  123297 2018-07-28 07:06:00    31     In  123297\n",
       "97605  133741 2018-07-28 07:06:00    31     In  133741\n",
       "\n",
       "[97605 rows x 5 columns]"
      ]
     },
     "execution_count": 46,
     "metadata": {},
     "output_type": "execute_result"
    }
   ],
   "source": [
    "df"
   ]
  },
  {
   "cell_type": "code",
   "execution_count": 47,
   "metadata": {},
   "outputs": [],
   "source": [
    "# Drop id_num column from the data set.\n",
    "\n",
    "df.drop(columns = 'id_num', inplace = True)"
   ]
  },
  {
   "cell_type": "code",
   "execution_count": 48,
   "metadata": {},
   "outputs": [
    {
     "data": {
      "text/html": [
       "<div>\n",
       "<style scoped>\n",
       "    .dataframe tbody tr th:only-of-type {\n",
       "        vertical-align: middle;\n",
       "    }\n",
       "\n",
       "    .dataframe tbody tr th {\n",
       "        vertical-align: top;\n",
       "    }\n",
       "\n",
       "    .dataframe thead th {\n",
       "        text-align: right;\n",
       "    }\n",
       "</style>\n",
       "<table border=\"1\" class=\"dataframe\">\n",
       "  <thead>\n",
       "    <tr style=\"text-align: right;\">\n",
       "      <th></th>\n",
       "      <th>id</th>\n",
       "      <th>noted_date</th>\n",
       "      <th>temp</th>\n",
       "      <th>out_in</th>\n",
       "    </tr>\n",
       "  </thead>\n",
       "  <tbody>\n",
       "    <tr>\n",
       "      <th>0</th>\n",
       "      <td>196134</td>\n",
       "      <td>2018-08-12 09:30:00</td>\n",
       "      <td>29</td>\n",
       "      <td>In</td>\n",
       "    </tr>\n",
       "    <tr>\n",
       "      <th>1</th>\n",
       "      <td>196131</td>\n",
       "      <td>2018-08-12 09:30:00</td>\n",
       "      <td>29</td>\n",
       "      <td>In</td>\n",
       "    </tr>\n",
       "    <tr>\n",
       "      <th>2</th>\n",
       "      <td>196127</td>\n",
       "      <td>2018-08-12 09:29:00</td>\n",
       "      <td>41</td>\n",
       "      <td>Out</td>\n",
       "    </tr>\n",
       "    <tr>\n",
       "      <th>3</th>\n",
       "      <td>196128</td>\n",
       "      <td>2018-08-12 09:29:00</td>\n",
       "      <td>41</td>\n",
       "      <td>Out</td>\n",
       "    </tr>\n",
       "    <tr>\n",
       "      <th>4</th>\n",
       "      <td>196126</td>\n",
       "      <td>2018-08-12 09:29:00</td>\n",
       "      <td>31</td>\n",
       "      <td>In</td>\n",
       "    </tr>\n",
       "    <tr>\n",
       "      <th>...</th>\n",
       "      <td>...</td>\n",
       "      <td>...</td>\n",
       "      <td>...</td>\n",
       "      <td>...</td>\n",
       "    </tr>\n",
       "    <tr>\n",
       "      <th>97601</th>\n",
       "      <td>91076</td>\n",
       "      <td>2018-07-28 07:07:00</td>\n",
       "      <td>31</td>\n",
       "      <td>In</td>\n",
       "    </tr>\n",
       "    <tr>\n",
       "      <th>97602</th>\n",
       "      <td>147733</td>\n",
       "      <td>2018-07-28 07:07:00</td>\n",
       "      <td>31</td>\n",
       "      <td>In</td>\n",
       "    </tr>\n",
       "    <tr>\n",
       "      <th>97603</th>\n",
       "      <td>100386</td>\n",
       "      <td>2018-07-28 07:06:00</td>\n",
       "      <td>31</td>\n",
       "      <td>In</td>\n",
       "    </tr>\n",
       "    <tr>\n",
       "      <th>97604</th>\n",
       "      <td>123297</td>\n",
       "      <td>2018-07-28 07:06:00</td>\n",
       "      <td>31</td>\n",
       "      <td>In</td>\n",
       "    </tr>\n",
       "    <tr>\n",
       "      <th>97605</th>\n",
       "      <td>133741</td>\n",
       "      <td>2018-07-28 07:06:00</td>\n",
       "      <td>31</td>\n",
       "      <td>In</td>\n",
       "    </tr>\n",
       "  </tbody>\n",
       "</table>\n",
       "<p>97605 rows × 4 columns</p>\n",
       "</div>"
      ],
      "text/plain": [
       "           id          noted_date  temp out_in\n",
       "0      196134 2018-08-12 09:30:00    29     In\n",
       "1      196131 2018-08-12 09:30:00    29     In\n",
       "2      196127 2018-08-12 09:29:00    41    Out\n",
       "3      196128 2018-08-12 09:29:00    41    Out\n",
       "4      196126 2018-08-12 09:29:00    31     In\n",
       "...       ...                 ...   ...    ...\n",
       "97601   91076 2018-07-28 07:07:00    31     In\n",
       "97602  147733 2018-07-28 07:07:00    31     In\n",
       "97603  100386 2018-07-28 07:06:00    31     In\n",
       "97604  123297 2018-07-28 07:06:00    31     In\n",
       "97605  133741 2018-07-28 07:06:00    31     In\n",
       "\n",
       "[97605 rows x 4 columns]"
      ]
     },
     "execution_count": 48,
     "metadata": {},
     "output_type": "execute_result"
    }
   ],
   "source": [
    "df"
   ]
  },
  {
   "cell_type": "code",
   "execution_count": 49,
   "metadata": {},
   "outputs": [
    {
     "name": "stdout",
     "output_type": "stream",
     "text": [
      "No. of years data : 1\n"
     ]
    }
   ],
   "source": [
    "print('No. of years data : {}'.format(df['noted_date'].dt.year.nunique()))"
   ]
  },
  {
   "cell_type": "code",
   "execution_count": 50,
   "metadata": {},
   "outputs": [
    {
     "name": "stdout",
     "output_type": "stream",
     "text": [
      "No. of months data : 12\n"
     ]
    }
   ],
   "source": [
    "print('No. of months data : {}'.format(df['noted_date'].dt.month.nunique()))"
   ]
  },
  {
   "cell_type": "code",
   "execution_count": 51,
   "metadata": {},
   "outputs": [
    {
     "data": {
      "text/plain": [
       "[1, 2, 3, 4, 5, 6, 7, 8, 9, 10, 11, 12]"
      ]
     },
     "execution_count": 51,
     "metadata": {},
     "output_type": "execute_result"
    }
   ],
   "source": [
    "sorted(df['noted_date'].dt.month.unique())"
   ]
  },
  {
   "cell_type": "code",
   "execution_count": 52,
   "metadata": {},
   "outputs": [],
   "source": [
    "#We have got data onlyfor 1 year ."
   ]
  },
  {
   "cell_type": "code",
   "execution_count": 53,
   "metadata": {},
   "outputs": [
    {
     "name": "stdout",
     "output_type": "stream",
     "text": [
      "No. of days data : 24\n"
     ]
    }
   ],
   "source": [
    "print('No. of days data : {}'.format(df['noted_date'].dt.day.nunique()))"
   ]
  },
  {
   "cell_type": "code",
   "execution_count": 54,
   "metadata": {},
   "outputs": [],
   "source": [
    "#Variable : month column creation"
   ]
  },
  {
   "cell_type": "code",
   "execution_count": 55,
   "metadata": {},
   "outputs": [],
   "source": [
    "df['month'] = df['noted_date'].apply(lambda x : int(x.month))"
   ]
  },
  {
   "cell_type": "code",
   "execution_count": 56,
   "metadata": {},
   "outputs": [
    {
     "data": {
      "text/plain": [
       "array([ 8,  7,  6,  5,  4,  3,  2,  1, 11, 10, 12,  9], dtype=int64)"
      ]
     },
     "execution_count": 56,
     "metadata": {},
     "output_type": "execute_result"
    }
   ],
   "source": [
    "df['month'].unique()"
   ]
  },
  {
   "cell_type": "code",
   "execution_count": 57,
   "metadata": {},
   "outputs": [],
   "source": [
    "#Variable : day column creation"
   ]
  },
  {
   "cell_type": "code",
   "execution_count": 58,
   "metadata": {},
   "outputs": [],
   "source": [
    "df['day'] = df['noted_date'].apply(lambda x : int(x.day))"
   ]
  },
  {
   "cell_type": "code",
   "execution_count": 59,
   "metadata": {},
   "outputs": [
    {
     "name": "stdout",
     "output_type": "stream",
     "text": [
      "[8, 9, 10, 11, 12, 13, 14, 15, 16, 17, 18, 19, 20, 21, 22, 23, 24, 25, 26, 27, 28, 29, 30, 31]\n"
     ]
    }
   ],
   "source": [
    "print(sorted(df['day'].unique()))"
   ]
  },
  {
   "cell_type": "code",
   "execution_count": 60,
   "metadata": {},
   "outputs": [],
   "source": [
    "#Variable : day_name DAY NAME column creation"
   ]
  },
  {
   "cell_type": "code",
   "execution_count": 61,
   "metadata": {},
   "outputs": [],
   "source": [
    "df['day_name'] = df['noted_date'].apply(lambda x : x.day_name())"
   ]
  },
  {
   "cell_type": "code",
   "execution_count": 62,
   "metadata": {},
   "outputs": [
    {
     "name": "stdout",
     "output_type": "stream",
     "text": [
      "['Sunday' 'Thursday' 'Tuesday' 'Saturday' 'Monday' 'Friday' 'Wednesday']\n"
     ]
    }
   ],
   "source": [
    "print(df['day_name'].unique())"
   ]
  },
  {
   "cell_type": "code",
   "execution_count": 63,
   "metadata": {},
   "outputs": [],
   "source": [
    "#Variable : hour"
   ]
  },
  {
   "cell_type": "code",
   "execution_count": 64,
   "metadata": {},
   "outputs": [],
   "source": [
    "df['hour'] = df['noted_date'].apply(lambda x : int(x.hour))"
   ]
  },
  {
   "cell_type": "code",
   "execution_count": 65,
   "metadata": {},
   "outputs": [
    {
     "name": "stdout",
     "output_type": "stream",
     "text": [
      "[0, 1, 2, 3, 4, 5, 6, 7, 8, 9, 10, 11, 12, 13, 14, 15, 16, 17, 18, 19, 20, 21, 22, 23]\n"
     ]
    }
   ],
   "source": [
    "print(sorted(df['hour'].unique()))"
   ]
  },
  {
   "cell_type": "code",
   "execution_count": 66,
   "metadata": {},
   "outputs": [
    {
     "data": {
      "text/html": [
       "<div>\n",
       "<style scoped>\n",
       "    .dataframe tbody tr th:only-of-type {\n",
       "        vertical-align: middle;\n",
       "    }\n",
       "\n",
       "    .dataframe tbody tr th {\n",
       "        vertical-align: top;\n",
       "    }\n",
       "\n",
       "    .dataframe thead th {\n",
       "        text-align: right;\n",
       "    }\n",
       "</style>\n",
       "<table border=\"1\" class=\"dataframe\">\n",
       "  <thead>\n",
       "    <tr style=\"text-align: right;\">\n",
       "      <th></th>\n",
       "      <th>id</th>\n",
       "      <th>noted_date</th>\n",
       "      <th>temp</th>\n",
       "      <th>out_in</th>\n",
       "      <th>month</th>\n",
       "      <th>day</th>\n",
       "      <th>day_name</th>\n",
       "      <th>hour</th>\n",
       "    </tr>\n",
       "  </thead>\n",
       "  <tbody>\n",
       "    <tr>\n",
       "      <th>0</th>\n",
       "      <td>196134</td>\n",
       "      <td>2018-08-12 09:30:00</td>\n",
       "      <td>29</td>\n",
       "      <td>In</td>\n",
       "      <td>8</td>\n",
       "      <td>12</td>\n",
       "      <td>Sunday</td>\n",
       "      <td>9</td>\n",
       "    </tr>\n",
       "    <tr>\n",
       "      <th>1</th>\n",
       "      <td>196131</td>\n",
       "      <td>2018-08-12 09:30:00</td>\n",
       "      <td>29</td>\n",
       "      <td>In</td>\n",
       "      <td>8</td>\n",
       "      <td>12</td>\n",
       "      <td>Sunday</td>\n",
       "      <td>9</td>\n",
       "    </tr>\n",
       "    <tr>\n",
       "      <th>2</th>\n",
       "      <td>196127</td>\n",
       "      <td>2018-08-12 09:29:00</td>\n",
       "      <td>41</td>\n",
       "      <td>Out</td>\n",
       "      <td>8</td>\n",
       "      <td>12</td>\n",
       "      <td>Sunday</td>\n",
       "      <td>9</td>\n",
       "    </tr>\n",
       "    <tr>\n",
       "      <th>3</th>\n",
       "      <td>196128</td>\n",
       "      <td>2018-08-12 09:29:00</td>\n",
       "      <td>41</td>\n",
       "      <td>Out</td>\n",
       "      <td>8</td>\n",
       "      <td>12</td>\n",
       "      <td>Sunday</td>\n",
       "      <td>9</td>\n",
       "    </tr>\n",
       "    <tr>\n",
       "      <th>4</th>\n",
       "      <td>196126</td>\n",
       "      <td>2018-08-12 09:29:00</td>\n",
       "      <td>31</td>\n",
       "      <td>In</td>\n",
       "      <td>8</td>\n",
       "      <td>12</td>\n",
       "      <td>Sunday</td>\n",
       "      <td>9</td>\n",
       "    </tr>\n",
       "  </tbody>\n",
       "</table>\n",
       "</div>"
      ],
      "text/plain": [
       "       id          noted_date  temp out_in  month  day day_name  hour\n",
       "0  196134 2018-08-12 09:30:00    29     In      8   12   Sunday     9\n",
       "1  196131 2018-08-12 09:30:00    29     In      8   12   Sunday     9\n",
       "2  196127 2018-08-12 09:29:00    41    Out      8   12   Sunday     9\n",
       "3  196128 2018-08-12 09:29:00    41    Out      8   12   Sunday     9\n",
       "4  196126 2018-08-12 09:29:00    31     In      8   12   Sunday     9"
      ]
     },
     "execution_count": 66,
     "metadata": {},
     "output_type": "execute_result"
    }
   ],
   "source": [
    "df.head()"
   ]
  },
  {
   "cell_type": "code",
   "execution_count": 67,
   "metadata": {},
   "outputs": [
    {
     "data": {
      "text/plain": [
       "\"Let's assume this data has been recorded in India. Based on this assumption, we can presume two very important things:\\n\\n(A) Climatological Seasons:\\n\\u2003\\u2003India Meteorological Department (IMD) follows the international standard of four climatological seasons with \\n  some local adjustments:\\n\\n\\u2003\\u2003a. Winter (December, January and February).\\n\\u2003\\u2003b. Summer (March, April and May).\\n\\u2003\\u2003c. Monsoon means rainy season (June to September).\\n\\u2003\\u2003d. Post-monsoon period (October to November).\\n\\nAccordingly, we will create another variable season to hold the season which we are going derive based on month variable value.\\n\\n\\n(B) Unit of measurement used to measure temp**.\\n\\n\\u2003\\u2003As India follows SI units system of measurement, we assume that the temperature is recorded in degree celsius.\""
      ]
     },
     "execution_count": 67,
     "metadata": {},
     "output_type": "execute_result"
    }
   ],
   "source": [
    "\"\"\"Let's assume this data has been recorded in India. Based on this assumption, we can presume two very important things:\n",
    "\n",
    "(A) Climatological Seasons:\n",
    "  India Meteorological Department (IMD) follows the international standard of four climatological seasons with \n",
    "  some local adjustments:\n",
    "\n",
    "  a. Winter (December, January and February).\n",
    "  b. Summer (March, April and May).\n",
    "  c. Monsoon means rainy season (June to September).\n",
    "  d. Post-monsoon period (October to November).\n",
    "\n",
    "Accordingly, we will create another variable season to hold the season which we are going derive based on month variable value.\n",
    "\n",
    "\n",
    "(B) Unit of measurement used to measure temp**.\n",
    "\n",
    "  As India follows SI units system of measurement, we assume that the temperature is recorded in degree celsius.\"\"\""
   ]
  },
  {
   "cell_type": "code",
   "execution_count": 68,
   "metadata": {},
   "outputs": [],
   "source": [
    "#Variable : season"
   ]
  },
  {
   "cell_type": "code",
   "execution_count": 69,
   "metadata": {},
   "outputs": [],
   "source": [
    "def map_month_to_seasons(month_val):\n",
    "    if month_val in [12, 1, 2]:\n",
    "        season_val = 'Winter'\n",
    "    elif month_val in [3, 4, 5]:\n",
    "        season_val = 'Summer'\n",
    "    elif month_val in [6, 7, 8, 9]:\n",
    "        season_val = 'Monsoon'\n",
    "    elif month_val in [10, 11]:\n",
    "        season_val = 'Post_Monsoon'\n",
    "    \n",
    "    return season_val"
   ]
  },
  {
   "cell_type": "code",
   "execution_count": 70,
   "metadata": {},
   "outputs": [],
   "source": [
    "df['season'] = df['month'].apply(lambda x : map_month_to_seasons(x))"
   ]
  },
  {
   "cell_type": "code",
   "execution_count": 71,
   "metadata": {},
   "outputs": [
    {
     "data": {
      "text/html": [
       "<div>\n",
       "<style scoped>\n",
       "    .dataframe tbody tr th:only-of-type {\n",
       "        vertical-align: middle;\n",
       "    }\n",
       "\n",
       "    .dataframe tbody tr th {\n",
       "        vertical-align: top;\n",
       "    }\n",
       "\n",
       "    .dataframe thead th {\n",
       "        text-align: right;\n",
       "    }\n",
       "</style>\n",
       "<table border=\"1\" class=\"dataframe\">\n",
       "  <thead>\n",
       "    <tr style=\"text-align: right;\">\n",
       "      <th></th>\n",
       "      <th>id</th>\n",
       "      <th>noted_date</th>\n",
       "      <th>temp</th>\n",
       "      <th>out_in</th>\n",
       "      <th>month</th>\n",
       "      <th>day</th>\n",
       "      <th>day_name</th>\n",
       "      <th>hour</th>\n",
       "      <th>season</th>\n",
       "    </tr>\n",
       "  </thead>\n",
       "  <tbody>\n",
       "    <tr>\n",
       "      <th>0</th>\n",
       "      <td>196134</td>\n",
       "      <td>2018-08-12 09:30:00</td>\n",
       "      <td>29</td>\n",
       "      <td>In</td>\n",
       "      <td>8</td>\n",
       "      <td>12</td>\n",
       "      <td>Sunday</td>\n",
       "      <td>9</td>\n",
       "      <td>Monsoon</td>\n",
       "    </tr>\n",
       "    <tr>\n",
       "      <th>1</th>\n",
       "      <td>196131</td>\n",
       "      <td>2018-08-12 09:30:00</td>\n",
       "      <td>29</td>\n",
       "      <td>In</td>\n",
       "      <td>8</td>\n",
       "      <td>12</td>\n",
       "      <td>Sunday</td>\n",
       "      <td>9</td>\n",
       "      <td>Monsoon</td>\n",
       "    </tr>\n",
       "    <tr>\n",
       "      <th>2</th>\n",
       "      <td>196127</td>\n",
       "      <td>2018-08-12 09:29:00</td>\n",
       "      <td>41</td>\n",
       "      <td>Out</td>\n",
       "      <td>8</td>\n",
       "      <td>12</td>\n",
       "      <td>Sunday</td>\n",
       "      <td>9</td>\n",
       "      <td>Monsoon</td>\n",
       "    </tr>\n",
       "    <tr>\n",
       "      <th>3</th>\n",
       "      <td>196128</td>\n",
       "      <td>2018-08-12 09:29:00</td>\n",
       "      <td>41</td>\n",
       "      <td>Out</td>\n",
       "      <td>8</td>\n",
       "      <td>12</td>\n",
       "      <td>Sunday</td>\n",
       "      <td>9</td>\n",
       "      <td>Monsoon</td>\n",
       "    </tr>\n",
       "    <tr>\n",
       "      <th>4</th>\n",
       "      <td>196126</td>\n",
       "      <td>2018-08-12 09:29:00</td>\n",
       "      <td>31</td>\n",
       "      <td>In</td>\n",
       "      <td>8</td>\n",
       "      <td>12</td>\n",
       "      <td>Sunday</td>\n",
       "      <td>9</td>\n",
       "      <td>Monsoon</td>\n",
       "    </tr>\n",
       "    <tr>\n",
       "      <th>...</th>\n",
       "      <td>...</td>\n",
       "      <td>...</td>\n",
       "      <td>...</td>\n",
       "      <td>...</td>\n",
       "      <td>...</td>\n",
       "      <td>...</td>\n",
       "      <td>...</td>\n",
       "      <td>...</td>\n",
       "      <td>...</td>\n",
       "    </tr>\n",
       "    <tr>\n",
       "      <th>97601</th>\n",
       "      <td>91076</td>\n",
       "      <td>2018-07-28 07:07:00</td>\n",
       "      <td>31</td>\n",
       "      <td>In</td>\n",
       "      <td>7</td>\n",
       "      <td>28</td>\n",
       "      <td>Saturday</td>\n",
       "      <td>7</td>\n",
       "      <td>Monsoon</td>\n",
       "    </tr>\n",
       "    <tr>\n",
       "      <th>97602</th>\n",
       "      <td>147733</td>\n",
       "      <td>2018-07-28 07:07:00</td>\n",
       "      <td>31</td>\n",
       "      <td>In</td>\n",
       "      <td>7</td>\n",
       "      <td>28</td>\n",
       "      <td>Saturday</td>\n",
       "      <td>7</td>\n",
       "      <td>Monsoon</td>\n",
       "    </tr>\n",
       "    <tr>\n",
       "      <th>97603</th>\n",
       "      <td>100386</td>\n",
       "      <td>2018-07-28 07:06:00</td>\n",
       "      <td>31</td>\n",
       "      <td>In</td>\n",
       "      <td>7</td>\n",
       "      <td>28</td>\n",
       "      <td>Saturday</td>\n",
       "      <td>7</td>\n",
       "      <td>Monsoon</td>\n",
       "    </tr>\n",
       "    <tr>\n",
       "      <th>97604</th>\n",
       "      <td>123297</td>\n",
       "      <td>2018-07-28 07:06:00</td>\n",
       "      <td>31</td>\n",
       "      <td>In</td>\n",
       "      <td>7</td>\n",
       "      <td>28</td>\n",
       "      <td>Saturday</td>\n",
       "      <td>7</td>\n",
       "      <td>Monsoon</td>\n",
       "    </tr>\n",
       "    <tr>\n",
       "      <th>97605</th>\n",
       "      <td>133741</td>\n",
       "      <td>2018-07-28 07:06:00</td>\n",
       "      <td>31</td>\n",
       "      <td>In</td>\n",
       "      <td>7</td>\n",
       "      <td>28</td>\n",
       "      <td>Saturday</td>\n",
       "      <td>7</td>\n",
       "      <td>Monsoon</td>\n",
       "    </tr>\n",
       "  </tbody>\n",
       "</table>\n",
       "<p>97605 rows × 9 columns</p>\n",
       "</div>"
      ],
      "text/plain": [
       "           id          noted_date  temp out_in  month  day  day_name  hour  \\\n",
       "0      196134 2018-08-12 09:30:00    29     In      8   12    Sunday     9   \n",
       "1      196131 2018-08-12 09:30:00    29     In      8   12    Sunday     9   \n",
       "2      196127 2018-08-12 09:29:00    41    Out      8   12    Sunday     9   \n",
       "3      196128 2018-08-12 09:29:00    41    Out      8   12    Sunday     9   \n",
       "4      196126 2018-08-12 09:29:00    31     In      8   12    Sunday     9   \n",
       "...       ...                 ...   ...    ...    ...  ...       ...   ...   \n",
       "97601   91076 2018-07-28 07:07:00    31     In      7   28  Saturday     7   \n",
       "97602  147733 2018-07-28 07:07:00    31     In      7   28  Saturday     7   \n",
       "97603  100386 2018-07-28 07:06:00    31     In      7   28  Saturday     7   \n",
       "97604  123297 2018-07-28 07:06:00    31     In      7   28  Saturday     7   \n",
       "97605  133741 2018-07-28 07:06:00    31     In      7   28  Saturday     7   \n",
       "\n",
       "        season  \n",
       "0      Monsoon  \n",
       "1      Monsoon  \n",
       "2      Monsoon  \n",
       "3      Monsoon  \n",
       "4      Monsoon  \n",
       "...        ...  \n",
       "97601  Monsoon  \n",
       "97602  Monsoon  \n",
       "97603  Monsoon  \n",
       "97604  Monsoon  \n",
       "97605  Monsoon  \n",
       "\n",
       "[97605 rows x 9 columns]"
      ]
     },
     "execution_count": 71,
     "metadata": {},
     "output_type": "execute_result"
    }
   ],
   "source": [
    "df"
   ]
  },
  {
   "cell_type": "code",
   "execution_count": 72,
   "metadata": {},
   "outputs": [
    {
     "data": {
      "text/plain": [
       "Post_Monsoon    60920\n",
       "Monsoon         18812\n",
       "Summer           9137\n",
       "Winter           8736\n",
       "Name: season, dtype: int64"
      ]
     },
     "execution_count": 72,
     "metadata": {},
     "output_type": "execute_result"
    }
   ],
   "source": [
    "df['season'].value_counts(dropna = False)"
   ]
  },
  {
   "cell_type": "code",
   "execution_count": 73,
   "metadata": {},
   "outputs": [],
   "source": [
    "#Since, we have data for  complete year , we see Monsoon, Post_Monsoon, summer  and Winter in season variable."
   ]
  },
  {
   "cell_type": "code",
   "execution_count": 74,
   "metadata": {},
   "outputs": [
    {
     "data": {
      "text/html": [
       "<div>\n",
       "<style scoped>\n",
       "    .dataframe tbody tr th:only-of-type {\n",
       "        vertical-align: middle;\n",
       "    }\n",
       "\n",
       "    .dataframe tbody tr th {\n",
       "        vertical-align: top;\n",
       "    }\n",
       "\n",
       "    .dataframe thead th {\n",
       "        text-align: right;\n",
       "    }\n",
       "</style>\n",
       "<table border=\"1\" class=\"dataframe\">\n",
       "  <thead>\n",
       "    <tr style=\"text-align: right;\">\n",
       "      <th></th>\n",
       "      <th>id</th>\n",
       "      <th>noted_date</th>\n",
       "      <th>temp</th>\n",
       "      <th>out_in</th>\n",
       "      <th>month</th>\n",
       "      <th>day</th>\n",
       "      <th>day_name</th>\n",
       "      <th>hour</th>\n",
       "      <th>season</th>\n",
       "    </tr>\n",
       "  </thead>\n",
       "  <tbody>\n",
       "    <tr>\n",
       "      <th>0</th>\n",
       "      <td>196134</td>\n",
       "      <td>2018-08-12 09:30:00</td>\n",
       "      <td>29</td>\n",
       "      <td>In</td>\n",
       "      <td>8</td>\n",
       "      <td>12</td>\n",
       "      <td>Sunday</td>\n",
       "      <td>9</td>\n",
       "      <td>Monsoon</td>\n",
       "    </tr>\n",
       "    <tr>\n",
       "      <th>1</th>\n",
       "      <td>196131</td>\n",
       "      <td>2018-08-12 09:30:00</td>\n",
       "      <td>29</td>\n",
       "      <td>In</td>\n",
       "      <td>8</td>\n",
       "      <td>12</td>\n",
       "      <td>Sunday</td>\n",
       "      <td>9</td>\n",
       "      <td>Monsoon</td>\n",
       "    </tr>\n",
       "    <tr>\n",
       "      <th>2</th>\n",
       "      <td>196127</td>\n",
       "      <td>2018-08-12 09:29:00</td>\n",
       "      <td>41</td>\n",
       "      <td>Out</td>\n",
       "      <td>8</td>\n",
       "      <td>12</td>\n",
       "      <td>Sunday</td>\n",
       "      <td>9</td>\n",
       "      <td>Monsoon</td>\n",
       "    </tr>\n",
       "    <tr>\n",
       "      <th>3</th>\n",
       "      <td>196128</td>\n",
       "      <td>2018-08-12 09:29:00</td>\n",
       "      <td>41</td>\n",
       "      <td>Out</td>\n",
       "      <td>8</td>\n",
       "      <td>12</td>\n",
       "      <td>Sunday</td>\n",
       "      <td>9</td>\n",
       "      <td>Monsoon</td>\n",
       "    </tr>\n",
       "    <tr>\n",
       "      <th>4</th>\n",
       "      <td>196126</td>\n",
       "      <td>2018-08-12 09:29:00</td>\n",
       "      <td>31</td>\n",
       "      <td>In</td>\n",
       "      <td>8</td>\n",
       "      <td>12</td>\n",
       "      <td>Sunday</td>\n",
       "      <td>9</td>\n",
       "      <td>Monsoon</td>\n",
       "    </tr>\n",
       "  </tbody>\n",
       "</table>\n",
       "</div>"
      ],
      "text/plain": [
       "       id          noted_date  temp out_in  month  day day_name  hour   season\n",
       "0  196134 2018-08-12 09:30:00    29     In      8   12   Sunday     9  Monsoon\n",
       "1  196131 2018-08-12 09:30:00    29     In      8   12   Sunday     9  Monsoon\n",
       "2  196127 2018-08-12 09:29:00    41    Out      8   12   Sunday     9  Monsoon\n",
       "3  196128 2018-08-12 09:29:00    41    Out      8   12   Sunday     9  Monsoon\n",
       "4  196126 2018-08-12 09:29:00    31     In      8   12   Sunday     9  Monsoon"
      ]
     },
     "execution_count": 74,
     "metadata": {},
     "output_type": "execute_result"
    }
   ],
   "source": [
    "df.head()"
   ]
  },
  {
   "cell_type": "code",
   "execution_count": 75,
   "metadata": {},
   "outputs": [],
   "source": [
    "#Variable : month_name column creation"
   ]
  },
  {
   "cell_type": "code",
   "execution_count": 76,
   "metadata": {},
   "outputs": [],
   "source": [
    "df['month_name'] = df['noted_date'].apply(lambda x : x.month_name())"
   ]
  },
  {
   "cell_type": "code",
   "execution_count": 77,
   "metadata": {},
   "outputs": [
    {
     "data": {
      "text/plain": [
       "October      44651\n",
       "November     16269\n",
       "September    11892\n",
       "December      6298\n",
       "March         4579\n",
       "April         3334\n",
       "June          2976\n",
       "July          2181\n",
       "August        1763\n",
       "February      1250\n",
       "May           1224\n",
       "January       1188\n",
       "Name: month_name, dtype: int64"
      ]
     },
     "execution_count": 77,
     "metadata": {},
     "output_type": "execute_result"
    }
   ],
   "source": [
    "df['month_name'].value_counts(dropna = False)"
   ]
  },
  {
   "cell_type": "code",
   "execution_count": 78,
   "metadata": {},
   "outputs": [],
   "source": [
    "#Variable : Timing column variable"
   ]
  },
  {
   "cell_type": "code",
   "execution_count": 79,
   "metadata": {},
   "outputs": [
    {
     "data": {
      "text/plain": [
       "\"Let's bin the hour into four different timings i.e. Night, Morning, Afternoon and Evening.\\n\\nNight : 2200 - 2300 Hours & 0000 - 0359 Hours\\nMorning : 0400 - 1159 Hours\\nAfternoon : 1200 - 1659 Hours\\nEvening : 1700 - 2159 Hours\""
      ]
     },
     "execution_count": 79,
     "metadata": {},
     "output_type": "execute_result"
    }
   ],
   "source": [
    "\"\"\"Let's bin the hour into four different timings i.e. Night, Morning, Afternoon and Evening.\n",
    "\n",
    "Night : 2200 - 2300 Hours & 0000 - 0359 Hours\n",
    "Morning : 0400 - 1159 Hours\n",
    "Afternoon : 1200 - 1659 Hours\n",
    "Evening : 1700 - 2159 Hours\"\"\""
   ]
  },
  {
   "cell_type": "code",
   "execution_count": 80,
   "metadata": {},
   "outputs": [],
   "source": [
    "def bin_hours_into_timing(hour_val):\n",
    "    \n",
    "    if hour_val in [22,23,0,1,2,3]:\n",
    "        timing_val = 'Night (2200-0359 Hours)'\n",
    "    elif hour_val in range(4, 12):\n",
    "        timing_val = 'Morning (0400-1159 Hours)'\n",
    "    elif hour_val in range(12, 17):\n",
    "        timing_val = 'Afternoon (1200-1659 Hours)'\n",
    "    elif hour_val in range(17, 22):\n",
    "        timing_val = 'Evening (1700-2159 Hours)'\n",
    "    else:\n",
    "        timing_val = 'X'\n",
    "        \n",
    "    return timing_val"
   ]
  },
  {
   "cell_type": "code",
   "execution_count": 81,
   "metadata": {},
   "outputs": [],
   "source": [
    "df['timing'] = df['hour'].apply(lambda x : bin_hours_into_timing(x))"
   ]
  },
  {
   "cell_type": "code",
   "execution_count": 82,
   "metadata": {},
   "outputs": [
    {
     "data": {
      "text/plain": [
       "Morning (0400-1159 Hours)      29590\n",
       "Afternoon (1200-1659 Hours)    26686\n",
       "Evening (1700-2159 Hours)      20806\n",
       "Night (2200-0359 Hours)        20523\n",
       "Name: timing, dtype: int64"
      ]
     },
     "execution_count": 82,
     "metadata": {},
     "output_type": "execute_result"
    }
   ],
   "source": [
    "df['timing'].value_counts(dropna = False)"
   ]
  },
  {
   "cell_type": "code",
   "execution_count": 83,
   "metadata": {},
   "outputs": [],
   "source": [
    "#del unq_val_cnt_df"
   ]
  },
  {
   "cell_type": "code",
   "execution_count": 84,
   "metadata": {},
   "outputs": [
    {
     "data": {
      "text/plain": [
       "id            97605\n",
       "noted_date    27920\n",
       "temp             31\n",
       "out_in            2\n",
       "month            12\n",
       "day              24\n",
       "day_name          7\n",
       "hour             24\n",
       "season            4\n",
       "month_name       12\n",
       "timing            4\n",
       "dtype: int64"
      ]
     },
     "execution_count": 84,
     "metadata": {},
     "output_type": "execute_result"
    }
   ],
   "source": [
    "df.nunique()"
   ]
  },
  {
   "cell_type": "code",
   "execution_count": 85,
   "metadata": {},
   "outputs": [
    {
     "data": {
      "text/plain": [
       "'Very important to tell yourself all the time :\\n\\nDo the Data Analysis for Inside and Outside temperatures, separately.\\nHow is overall temperature variation across months inside and outside room?'"
      ]
     },
     "execution_count": 85,
     "metadata": {},
     "output_type": "execute_result"
    }
   ],
   "source": [
    "\"\"\"Very important to tell yourself all the time :\n",
    "\n",
    "Do the Data Analysis for Inside and Outside temperatures, separately.\n",
    "How is overall temperature variation across months inside and outside room?\"\"\""
   ]
  },
  {
   "cell_type": "code",
   "execution_count": null,
   "metadata": {},
   "outputs": [],
   "source": []
  },
  {
   "cell_type": "code",
   "execution_count": 86,
   "metadata": {},
   "outputs": [
    {
     "data": {
      "text/plain": [
       "Text(0.5, 1.0, 'Overall Temp. Variation Inside-Outside Room')"
      ]
     },
     "execution_count": 86,
     "metadata": {},
     "output_type": "execute_result"
    },
    {
     "data": {
      "image/png": "[encoded data removed]",
      "text/plain": [
       "<Figure size 864x576 with 1 Axes>"
      ]
     },
     "metadata": {
      "needs_background": "light"
     },
     "output_type": "display_data"
    }
   ],
   "source": [
    "plt.figure(figsize=(12,8))\n",
    "sns.boxplot(data= df, x='out_in',y=\"temp\",hue=\"out_in\")\n",
    "plt.title('Overall Temp. Variation Inside-Outside Room')\n"
   ]
  },
  {
   "cell_type": "code",
   "execution_count": 87,
   "metadata": {},
   "outputs": [
    {
     "data": {
      "text/plain": [
       "'Observations: (assuming there are no outliers)\\n\\nTemperature recorded inside room :\\n Min. temperature : 20°C.\\n Max. temperature : 42°C.\\nTemperature recorded outside room :\\n Min. temperature : 24°C.\\n Max. temperature : 52°C.\\nAverage tempurature recorded inside the room < Average temperature recorded outside the room. This is an obvious thing to observe.\\nTemperature has varied alot outside room when compared to inside.\\nOutside room : Magnitude of temperature variation before and after 37°C is almost same. However, temperature has varied a lot after reaching 40°C in comparison to temperature variation upto 31°C.\\n'"
      ]
     },
     "execution_count": 87,
     "metadata": {},
     "output_type": "execute_result"
    }
   ],
   "source": [
    "\"\"\"Observations: (assuming there are no outliers)\n",
    "\n",
    "Temperature recorded inside room :\n",
    " Min. temperature : 20°C.\n",
    " Max. temperature : 42°C.\n",
    "Temperature recorded outside room :\n",
    " Min. temperature : 24°C.\n",
    " Max. temperature : 52°C.\n",
    "Average tempurature recorded inside the room < Average temperature recorded outside the room. This is an obvious thing to observe.\n",
    "Temperature has varied alot outside room when compared to inside.\n",
    "Outside room : Magnitude of temperature variation before and after 37°C is almost same. However, temperature has varied a lot after reaching 40°C in comparison to temperature variation upto 31°C.\n",
    "\"\"\""
   ]
  },
  {
   "cell_type": "code",
   "execution_count": 88,
   "metadata": {},
   "outputs": [],
   "source": [
    "#How temperature varies across seasons?"
   ]
  },
  {
   "cell_type": "code",
   "execution_count": 89,
   "metadata": {},
   "outputs": [
    {
     "data": {
      "text/plain": [
       "Text(0.5, 1.0, 'Overall Temp. Variation Inside-Outside season wise ')"
      ]
     },
     "execution_count": 89,
     "metadata": {},
     "output_type": "execute_result"
    },
    {
     "data": {
      "image/png": "[encoded data removed]",
      "text/plain": [
       "<Figure size 1080x576 with 1 Axes>"
      ]
     },
     "metadata": {
      "needs_background": "light"
     },
     "output_type": "display_data"
    }
   ],
   "source": [
    "plt.figure(figsize=(15,8))\n",
    "sns.boxplot(data= df, x='season',y=\"temp\",hue=\"out_in\")\n",
    "plt.title('Overall Temp. Variation Inside-Outside season wise ')\n",
    "\n",
    "\n"
   ]
  },
  {
   "cell_type": "code",
   "execution_count": 90,
   "metadata": {},
   "outputs": [
    {
     "data": {
      "text/plain": [
       "'Observations: (assuming there are no outliers)\\n\\nMax. temperature of 51°C has been recorded in Monsoon season which is quite surprising and not expected in rainy season.\\nNote: We have to yet see when was this temperature was recorded; Is it at the start of monsoon season or at the end of the season?\\nAs usual the lowest temperature of 21°C has been recorded in Winter season.\\nMagnitude of temperature variation is observed inside room in Monsoon season is higher compared to Winter and Post Monsoon season.\\nSimilary, maximum temperature variation outside room is observed in Monsoon season.\\nIn comparison to average (median) temperatures of inside and outside room of Winter and Post-Monsoon seasons, average (median) temperature \\nrecorded inside room is higher to that of outside room in the same season.'"
      ]
     },
     "execution_count": 90,
     "metadata": {},
     "output_type": "execute_result"
    }
   ],
   "source": [
    "\"\"\"Observations: (assuming there are no outliers)\n",
    "\n",
    "Max. temperature of 51°C has been recorded in Monsoon season which is quite surprising and not expected in rainy season.\n",
    "Note: We have to yet see when was this temperature was recorded; Is it at the start of monsoon season or at the end of the season?\n",
    "As usual the lowest temperature of 21°C has been recorded in Winter season.\n",
    "Magnitude of temperature variation is observed inside room in Monsoon season is higher compared to Winter and Post Monsoon season.\n",
    "Similary, maximum temperature variation outside room is observed in Monsoon season.\n",
    "In comparison to average (median) temperatures of inside and outside room of Winter and Post-Monsoon seasons, average (median) temperature \n",
    "recorded inside room is higher to that of outside room in the same season.\"\"\""
   ]
  },
  {
   "cell_type": "code",
   "execution_count": 91,
   "metadata": {},
   "outputs": [],
   "source": [
    "#How temperature varies across month?"
   ]
  },
  {
   "cell_type": "code",
   "execution_count": 92,
   "metadata": {},
   "outputs": [
    {
     "data": {
      "text/plain": [
       "Text(0.5, 1.0, 'Overall indoor outdoor Temp. Variation month wise')"
      ]
     },
     "execution_count": 92,
     "metadata": {},
     "output_type": "execute_result"
    },
    {
     "data": {
      "image/png": "[encoded data removed]",
      "text/plain": [
       "<Figure size 1440x720 with 1 Axes>"
      ]
     },
     "metadata": {
      "needs_background": "light"
     },
     "output_type": "display_data"
    }
   ],
   "source": [
    "plt.figure(figsize=(20,10))\n",
    "sns.boxplot(data= df, x='month_name',y=\"temp\",hue=\"out_in\")\n",
    "plt.title('Overall indoor outdoor Temp. Variation month wise')\n"
   ]
  },
  {
   "cell_type": "code",
   "execution_count": 93,
   "metadata": {},
   "outputs": [
    {
     "data": {
      "text/plain": [
       "Text(0.5, 1.0, 'Overall Temp. Variation Inside-Outside Room')"
      ]
     },
     "execution_count": 93,
     "metadata": {},
     "output_type": "execute_result"
    },
    {
     "data": {
      "image/png": "[encoded data removed]",
      "text/plain": [
       "<Figure size 1440x720 with 1 Axes>"
      ]
     },
     "metadata": {
      "needs_background": "light"
     },
     "output_type": "display_data"
    }
   ],
   "source": [
    "plt.figure(figsize=(20,10))\n",
    "sns.lineplot(data= df, x='month_name',y=\"temp\",hue=\"out_in\")\n",
    "plt.title('Overall Temp. Variation Inside-Outside Room')\n",
    "\n"
   ]
  },
  {
   "cell_type": "code",
   "execution_count": 94,
   "metadata": {},
   "outputs": [
    {
     "data": {
      "text/plain": [
       "Text(0.5, 1.0, 'Overall Temp. Variation timing')"
      ]
     },
     "execution_count": 94,
     "metadata": {},
     "output_type": "execute_result"
    },
    {
     "data": {
      "image/png": "[encoded data removed]",
      "text/plain": [
       "<Figure size 1440x720 with 1 Axes>"
      ]
     },
     "metadata": {
      "needs_background": "light"
     },
     "output_type": "display_data"
    }
   ],
   "source": [
    "plt.figure(figsize=(20,10))\n",
    "sns.boxplot(data= df, x='month_name',y=\"temp\",hue=\"timing\")\n",
    "plt.title('Overall Temp. Variation timing')\n"
   ]
  },
  {
   "cell_type": "code",
   "execution_count": 95,
   "metadata": {},
   "outputs": [
    {
     "data": {
      "text/plain": [
       "'Observations: (assuming there are no outliers)\\n(A) Inside room:\\n\\nSeptember month : Maximum temperature variation is observed in morning & evening.\\nOctober month : Highest average (median) temperature of 33°C has been recorded during evening & night.\\nLowest temperature of 21°C is recorded in December month in the morning.\\nHighest temperature of 41°C is recorded in September month in the afternoon between 1400-1500 hours.\\n(B) Outside room:\\n\\nSeptember month : Maximum temperature variation is observed during afternoon.\\nNovember month : Highest average (median) temperature of 42°C has been recorded in morning.\\nLowest temperature of 24°C is recorded in September month in the afternoon.\\nHighest temperature of 51°C is recorded in September month in the evening between 1700-1800 hours.'"
      ]
     },
     "execution_count": 95,
     "metadata": {},
     "output_type": "execute_result"
    }
   ],
   "source": [
    "\"\"\"Observations: (assuming there are no outliers)\n",
    "(A) Inside room:\n",
    "\n",
    "September month : Maximum temperature variation is observed in morning & evening.\n",
    "October month : Highest average (median) temperature of 33°C has been recorded during evening & night.\n",
    "Lowest temperature of 21°C is recorded in December month in the morning.\n",
    "Highest temperature of 41°C is recorded in September month in the afternoon between 1400-1500 hours.\n",
    "(B) Outside room:\n",
    "\n",
    "September month : Maximum temperature variation is observed during afternoon.\n",
    "November month : Highest average (median) temperature of 42°C has been recorded in morning.\n",
    "Lowest temperature of 24°C is recorded in September month in the afternoon.\n",
    "Highest temperature of 51°C is recorded in September month in the evening between 1700-1800 hours.\"\"\""
   ]
  },
  {
   "cell_type": "code",
   "execution_count": 96,
   "metadata": {},
   "outputs": [
    {
     "data": {
      "text/plain": [
       "October      45.7\n",
       "November     16.7\n",
       "September    12.2\n",
       "December      6.5\n",
       "March         4.7\n",
       "April         3.4\n",
       "June          3.0\n",
       "July          2.2\n",
       "August        1.8\n",
       "February      1.3\n",
       "May           1.3\n",
       "January       1.2\n",
       "Name: month_name, dtype: float64"
      ]
     },
     "execution_count": 96,
     "metadata": {},
     "output_type": "execute_result"
    }
   ],
   "source": [
    "round(df['month_name'].value_counts(dropna = False) * 100 / df.shape[0],1)"
   ]
  },
  {
   "cell_type": "code",
   "execution_count": 97,
   "metadata": {},
   "outputs": [
    {
     "data": {
      "text/plain": [
       "'Observations: (assuming there are no outliers)\\n\\nVolume of data we have for July and August months is very very low compared to other months.\\nMaximum temperature variations are observed in September month both inside and outside the room.\\nHighest average temperature (median) of 39°C is observed in November months.\\nLowest temperature of 21°C is recorded in December month.\\nDespite of Point No. 1, Minimum temperature variation is observed in July and August months.'"
      ]
     },
     "execution_count": 97,
     "metadata": {},
     "output_type": "execute_result"
    }
   ],
   "source": [
    "\"\"\"Observations: (assuming there are no outliers)\n",
    "\n",
    "Volume of data we have for July and August months is very very low compared to other months.\n",
    "Maximum temperature variations are observed in September month both inside and outside the room.\n",
    "Highest average temperature (median) of 39°C is observed in November months.\n",
    "Lowest temperature of 21°C is recorded in December month.\n",
    "Despite of Point No. 1, Minimum temperature variation is observed in July and August months.\"\"\""
   ]
  },
  {
   "cell_type": "code",
   "execution_count": 98,
   "metadata": {},
   "outputs": [],
   "source": [
    "#How temperature varies for different timings for all seasons?"
   ]
  },
  {
   "cell_type": "code",
   "execution_count": 99,
   "metadata": {},
   "outputs": [
    {
     "data": {
      "text/html": [
       "<div>\n",
       "<style scoped>\n",
       "    .dataframe tbody tr th:only-of-type {\n",
       "        vertical-align: middle;\n",
       "    }\n",
       "\n",
       "    .dataframe tbody tr th {\n",
       "        vertical-align: top;\n",
       "    }\n",
       "\n",
       "    .dataframe thead th {\n",
       "        text-align: right;\n",
       "    }\n",
       "</style>\n",
       "<table border=\"1\" class=\"dataframe\">\n",
       "  <thead>\n",
       "    <tr style=\"text-align: right;\">\n",
       "      <th></th>\n",
       "      <th>id</th>\n",
       "      <th>noted_date</th>\n",
       "      <th>temp</th>\n",
       "      <th>out_in</th>\n",
       "      <th>month</th>\n",
       "      <th>day</th>\n",
       "      <th>day_name</th>\n",
       "      <th>hour</th>\n",
       "      <th>season</th>\n",
       "      <th>month_name</th>\n",
       "      <th>timing</th>\n",
       "    </tr>\n",
       "  </thead>\n",
       "  <tbody>\n",
       "    <tr>\n",
       "      <th>0</th>\n",
       "      <td>196134</td>\n",
       "      <td>2018-08-12 09:30:00</td>\n",
       "      <td>29</td>\n",
       "      <td>In</td>\n",
       "      <td>8</td>\n",
       "      <td>12</td>\n",
       "      <td>Sunday</td>\n",
       "      <td>9</td>\n",
       "      <td>Monsoon</td>\n",
       "      <td>August</td>\n",
       "      <td>Morning (0400-1159 Hours)</td>\n",
       "    </tr>\n",
       "    <tr>\n",
       "      <th>1</th>\n",
       "      <td>196131</td>\n",
       "      <td>2018-08-12 09:30:00</td>\n",
       "      <td>29</td>\n",
       "      <td>In</td>\n",
       "      <td>8</td>\n",
       "      <td>12</td>\n",
       "      <td>Sunday</td>\n",
       "      <td>9</td>\n",
       "      <td>Monsoon</td>\n",
       "      <td>August</td>\n",
       "      <td>Morning (0400-1159 Hours)</td>\n",
       "    </tr>\n",
       "    <tr>\n",
       "      <th>2</th>\n",
       "      <td>196127</td>\n",
       "      <td>2018-08-12 09:29:00</td>\n",
       "      <td>41</td>\n",
       "      <td>Out</td>\n",
       "      <td>8</td>\n",
       "      <td>12</td>\n",
       "      <td>Sunday</td>\n",
       "      <td>9</td>\n",
       "      <td>Monsoon</td>\n",
       "      <td>August</td>\n",
       "      <td>Morning (0400-1159 Hours)</td>\n",
       "    </tr>\n",
       "    <tr>\n",
       "      <th>3</th>\n",
       "      <td>196128</td>\n",
       "      <td>2018-08-12 09:29:00</td>\n",
       "      <td>41</td>\n",
       "      <td>Out</td>\n",
       "      <td>8</td>\n",
       "      <td>12</td>\n",
       "      <td>Sunday</td>\n",
       "      <td>9</td>\n",
       "      <td>Monsoon</td>\n",
       "      <td>August</td>\n",
       "      <td>Morning (0400-1159 Hours)</td>\n",
       "    </tr>\n",
       "    <tr>\n",
       "      <th>4</th>\n",
       "      <td>196126</td>\n",
       "      <td>2018-08-12 09:29:00</td>\n",
       "      <td>31</td>\n",
       "      <td>In</td>\n",
       "      <td>8</td>\n",
       "      <td>12</td>\n",
       "      <td>Sunday</td>\n",
       "      <td>9</td>\n",
       "      <td>Monsoon</td>\n",
       "      <td>August</td>\n",
       "      <td>Morning (0400-1159 Hours)</td>\n",
       "    </tr>\n",
       "  </tbody>\n",
       "</table>\n",
       "</div>"
      ],
      "text/plain": [
       "       id          noted_date  temp out_in  month  day day_name  hour  \\\n",
       "0  196134 2018-08-12 09:30:00    29     In      8   12   Sunday     9   \n",
       "1  196131 2018-08-12 09:30:00    29     In      8   12   Sunday     9   \n",
       "2  196127 2018-08-12 09:29:00    41    Out      8   12   Sunday     9   \n",
       "3  196128 2018-08-12 09:29:00    41    Out      8   12   Sunday     9   \n",
       "4  196126 2018-08-12 09:29:00    31     In      8   12   Sunday     9   \n",
       "\n",
       "    season month_name                     timing  \n",
       "0  Monsoon     August  Morning (0400-1159 Hours)  \n",
       "1  Monsoon     August  Morning (0400-1159 Hours)  \n",
       "2  Monsoon     August  Morning (0400-1159 Hours)  \n",
       "3  Monsoon     August  Morning (0400-1159 Hours)  \n",
       "4  Monsoon     August  Morning (0400-1159 Hours)  "
      ]
     },
     "execution_count": 99,
     "metadata": {},
     "output_type": "execute_result"
    }
   ],
   "source": [
    "df.head()"
   ]
  },
  {
   "cell_type": "code",
   "execution_count": null,
   "metadata": {},
   "outputs": [],
   "source": []
  },
  {
   "cell_type": "code",
   "execution_count": null,
   "metadata": {},
   "outputs": [],
   "source": []
  },
  {
   "cell_type": "code",
   "execution_count": 100,
   "metadata": {},
   "outputs": [
    {
     "data": {
      "text/html": [
       "<div>\n",
       "<style scoped>\n",
       "    .dataframe tbody tr th:only-of-type {\n",
       "        vertical-align: middle;\n",
       "    }\n",
       "\n",
       "    .dataframe tbody tr th {\n",
       "        vertical-align: top;\n",
       "    }\n",
       "\n",
       "    .dataframe thead th {\n",
       "        text-align: right;\n",
       "    }\n",
       "</style>\n",
       "<table border=\"1\" class=\"dataframe\">\n",
       "  <thead>\n",
       "    <tr style=\"text-align: right;\">\n",
       "      <th></th>\n",
       "      <th>out_in</th>\n",
       "      <th>month</th>\n",
       "      <th>month_name</th>\n",
       "      <th>hour</th>\n",
       "      <th>temp</th>\n",
       "    </tr>\n",
       "  </thead>\n",
       "  <tbody>\n",
       "    <tr>\n",
       "      <th>0</th>\n",
       "      <td>In</td>\n",
       "      <td>1</td>\n",
       "      <td>January</td>\n",
       "      <td>0</td>\n",
       "      <td>32.0</td>\n",
       "    </tr>\n",
       "    <tr>\n",
       "      <th>1</th>\n",
       "      <td>In</td>\n",
       "      <td>1</td>\n",
       "      <td>January</td>\n",
       "      <td>2</td>\n",
       "      <td>31.8</td>\n",
       "    </tr>\n",
       "    <tr>\n",
       "      <th>2</th>\n",
       "      <td>In</td>\n",
       "      <td>1</td>\n",
       "      <td>January</td>\n",
       "      <td>3</td>\n",
       "      <td>30.4</td>\n",
       "    </tr>\n",
       "    <tr>\n",
       "      <th>3</th>\n",
       "      <td>In</td>\n",
       "      <td>1</td>\n",
       "      <td>January</td>\n",
       "      <td>4</td>\n",
       "      <td>30.0</td>\n",
       "    </tr>\n",
       "    <tr>\n",
       "      <th>4</th>\n",
       "      <td>In</td>\n",
       "      <td>1</td>\n",
       "      <td>January</td>\n",
       "      <td>5</td>\n",
       "      <td>30.0</td>\n",
       "    </tr>\n",
       "    <tr>\n",
       "      <th>5</th>\n",
       "      <td>In</td>\n",
       "      <td>1</td>\n",
       "      <td>January</td>\n",
       "      <td>6</td>\n",
       "      <td>30.0</td>\n",
       "    </tr>\n",
       "    <tr>\n",
       "      <th>6</th>\n",
       "      <td>In</td>\n",
       "      <td>1</td>\n",
       "      <td>January</td>\n",
       "      <td>7</td>\n",
       "      <td>30.0</td>\n",
       "    </tr>\n",
       "    <tr>\n",
       "      <th>7</th>\n",
       "      <td>In</td>\n",
       "      <td>1</td>\n",
       "      <td>January</td>\n",
       "      <td>8</td>\n",
       "      <td>29.9</td>\n",
       "    </tr>\n",
       "    <tr>\n",
       "      <th>8</th>\n",
       "      <td>In</td>\n",
       "      <td>1</td>\n",
       "      <td>January</td>\n",
       "      <td>9</td>\n",
       "      <td>30.0</td>\n",
       "    </tr>\n",
       "    <tr>\n",
       "      <th>9</th>\n",
       "      <td>In</td>\n",
       "      <td>1</td>\n",
       "      <td>January</td>\n",
       "      <td>10</td>\n",
       "      <td>30.0</td>\n",
       "    </tr>\n",
       "  </tbody>\n",
       "</table>\n",
       "</div>"
      ],
      "text/plain": [
       "  out_in  month month_name  hour  temp\n",
       "0     In      1    January     0  32.0\n",
       "1     In      1    January     2  31.8\n",
       "2     In      1    January     3  30.4\n",
       "3     In      1    January     4  30.0\n",
       "4     In      1    January     5  30.0\n",
       "5     In      1    January     6  30.0\n",
       "6     In      1    January     7  30.0\n",
       "7     In      1    January     8  29.9\n",
       "8     In      1    January     9  30.0\n",
       "9     In      1    January    10  30.0"
      ]
     },
     "execution_count": 100,
     "metadata": {},
     "output_type": "execute_result"
    }
   ],
   "source": [
    "tmp_df1 = round(df.groupby(['out_in', 'month', 'month_name', 'hour'])['temp'].mean(), 1).reset_index()\n",
    "tmp_df1.head(10)"
   ]
  },
  {
   "cell_type": "code",
   "execution_count": null,
   "metadata": {},
   "outputs": [],
   "source": []
  },
  {
   "cell_type": "code",
   "execution_count": 101,
   "metadata": {},
   "outputs": [
    {
     "data": {
      "text/plain": [
       "\"Observations:\\n(A) Inside room:\\n\\nJan month : Saw Highest Average (Median) temperature of 32.0°C between 2000:2059 hours.\\n\\nDecember month : Saw Lowest Average (Median) temperature of 26.9°C between 0400:0459 hours.\\n(B) Outside room:\\n\\nOctober month : Saw the Highest Average (Median) temperature of 46.6°C between 0800:0859 hours.\\nDecember month : Saw the Lowest Average (Median) temperature of 29.4°C between 1900:1959 hours.\\nCompared to September, October & November months, December month's average temperature per hour has always been on lower side.\""
      ]
     },
     "execution_count": 101,
     "metadata": {},
     "output_type": "execute_result"
    }
   ],
   "source": [
    "\"\"\"Observations:\n",
    "(A) Inside room:\n",
    "\n",
    "Jan month : Saw Highest Average (Median) temperature of 32.0°C between 2000:2059 hours.\n",
    "\n",
    "December month : Saw Lowest Average (Median) temperature of 26.9°C between 0400:0459 hours.\n",
    "(B) Outside room:\n",
    "\n",
    "October month : Saw the Highest Average (Median) temperature of 46.6°C between 0800:0859 hours.\n",
    "December month : Saw the Lowest Average (Median) temperature of 29.4°C between 1900:1959 hours.\n",
    "Compared to September, October & November months, December month's average temperature per hour has always been on lower side.\"\"\""
   ]
  },
  {
   "cell_type": "code",
   "execution_count": 102,
   "metadata": {},
   "outputs": [
    {
     "data": {
      "text/html": [
       "<div>\n",
       "<style scoped>\n",
       "    .dataframe tbody tr th:only-of-type {\n",
       "        vertical-align: middle;\n",
       "    }\n",
       "\n",
       "    .dataframe tbody tr th {\n",
       "        vertical-align: top;\n",
       "    }\n",
       "\n",
       "    .dataframe thead th {\n",
       "        text-align: right;\n",
       "    }\n",
       "</style>\n",
       "<table border=\"1\" class=\"dataframe\">\n",
       "  <thead>\n",
       "    <tr style=\"text-align: right;\">\n",
       "      <th></th>\n",
       "      <th>out_in</th>\n",
       "      <th>month</th>\n",
       "      <th>month_name</th>\n",
       "      <th>day_name</th>\n",
       "      <th>temp</th>\n",
       "    </tr>\n",
       "  </thead>\n",
       "  <tbody>\n",
       "    <tr>\n",
       "      <th>70</th>\n",
       "      <td>Out</td>\n",
       "      <td>9</td>\n",
       "      <td>September</td>\n",
       "      <td>Sunday</td>\n",
       "      <td>30.3</td>\n",
       "    </tr>\n",
       "    <tr>\n",
       "      <th>71</th>\n",
       "      <td>Out</td>\n",
       "      <td>9</td>\n",
       "      <td>September</td>\n",
       "      <td>Thursday</td>\n",
       "      <td>40.8</td>\n",
       "    </tr>\n",
       "    <tr>\n",
       "      <th>72</th>\n",
       "      <td>Out</td>\n",
       "      <td>9</td>\n",
       "      <td>September</td>\n",
       "      <td>Tuesday</td>\n",
       "      <td>41.3</td>\n",
       "    </tr>\n",
       "    <tr>\n",
       "      <th>73</th>\n",
       "      <td>Out</td>\n",
       "      <td>9</td>\n",
       "      <td>September</td>\n",
       "      <td>Wednesday</td>\n",
       "      <td>42.1</td>\n",
       "    </tr>\n",
       "    <tr>\n",
       "      <th>74</th>\n",
       "      <td>Out</td>\n",
       "      <td>10</td>\n",
       "      <td>October</td>\n",
       "      <td>Friday</td>\n",
       "      <td>41.9</td>\n",
       "    </tr>\n",
       "    <tr>\n",
       "      <th>75</th>\n",
       "      <td>Out</td>\n",
       "      <td>10</td>\n",
       "      <td>October</td>\n",
       "      <td>Monday</td>\n",
       "      <td>39.4</td>\n",
       "    </tr>\n",
       "    <tr>\n",
       "      <th>76</th>\n",
       "      <td>Out</td>\n",
       "      <td>10</td>\n",
       "      <td>October</td>\n",
       "      <td>Saturday</td>\n",
       "      <td>43.2</td>\n",
       "    </tr>\n",
       "    <tr>\n",
       "      <th>77</th>\n",
       "      <td>Out</td>\n",
       "      <td>10</td>\n",
       "      <td>October</td>\n",
       "      <td>Sunday</td>\n",
       "      <td>42.5</td>\n",
       "    </tr>\n",
       "    <tr>\n",
       "      <th>78</th>\n",
       "      <td>Out</td>\n",
       "      <td>10</td>\n",
       "      <td>October</td>\n",
       "      <td>Thursday</td>\n",
       "      <td>38.7</td>\n",
       "    </tr>\n",
       "    <tr>\n",
       "      <th>79</th>\n",
       "      <td>Out</td>\n",
       "      <td>10</td>\n",
       "      <td>October</td>\n",
       "      <td>Tuesday</td>\n",
       "      <td>30.9</td>\n",
       "    </tr>\n",
       "    <tr>\n",
       "      <th>80</th>\n",
       "      <td>Out</td>\n",
       "      <td>10</td>\n",
       "      <td>October</td>\n",
       "      <td>Wednesday</td>\n",
       "      <td>39.6</td>\n",
       "    </tr>\n",
       "    <tr>\n",
       "      <th>81</th>\n",
       "      <td>Out</td>\n",
       "      <td>11</td>\n",
       "      <td>November</td>\n",
       "      <td>Friday</td>\n",
       "      <td>31.1</td>\n",
       "    </tr>\n",
       "    <tr>\n",
       "      <th>82</th>\n",
       "      <td>Out</td>\n",
       "      <td>11</td>\n",
       "      <td>November</td>\n",
       "      <td>Monday</td>\n",
       "      <td>39.2</td>\n",
       "    </tr>\n",
       "    <tr>\n",
       "      <th>83</th>\n",
       "      <td>Out</td>\n",
       "      <td>11</td>\n",
       "      <td>November</td>\n",
       "      <td>Saturday</td>\n",
       "      <td>40.7</td>\n",
       "    </tr>\n",
       "    <tr>\n",
       "      <th>84</th>\n",
       "      <td>Out</td>\n",
       "      <td>11</td>\n",
       "      <td>November</td>\n",
       "      <td>Sunday</td>\n",
       "      <td>39.2</td>\n",
       "    </tr>\n",
       "    <tr>\n",
       "      <th>85</th>\n",
       "      <td>Out</td>\n",
       "      <td>11</td>\n",
       "      <td>November</td>\n",
       "      <td>Thursday</td>\n",
       "      <td>39.0</td>\n",
       "    </tr>\n",
       "    <tr>\n",
       "      <th>86</th>\n",
       "      <td>Out</td>\n",
       "      <td>11</td>\n",
       "      <td>November</td>\n",
       "      <td>Tuesday</td>\n",
       "      <td>38.8</td>\n",
       "    </tr>\n",
       "    <tr>\n",
       "      <th>87</th>\n",
       "      <td>Out</td>\n",
       "      <td>11</td>\n",
       "      <td>November</td>\n",
       "      <td>Wednesday</td>\n",
       "      <td>39.7</td>\n",
       "    </tr>\n",
       "    <tr>\n",
       "      <th>88</th>\n",
       "      <td>Out</td>\n",
       "      <td>12</td>\n",
       "      <td>December</td>\n",
       "      <td>Monday</td>\n",
       "      <td>45.7</td>\n",
       "    </tr>\n",
       "    <tr>\n",
       "      <th>89</th>\n",
       "      <td>Out</td>\n",
       "      <td>12</td>\n",
       "      <td>December</td>\n",
       "      <td>Sunday</td>\n",
       "      <td>29.3</td>\n",
       "    </tr>\n",
       "  </tbody>\n",
       "</table>\n",
       "</div>"
      ],
      "text/plain": [
       "   out_in  month month_name   day_name  temp\n",
       "70    Out      9  September     Sunday  30.3\n",
       "71    Out      9  September   Thursday  40.8\n",
       "72    Out      9  September    Tuesday  41.3\n",
       "73    Out      9  September  Wednesday  42.1\n",
       "74    Out     10    October     Friday  41.9\n",
       "75    Out     10    October     Monday  39.4\n",
       "76    Out     10    October   Saturday  43.2\n",
       "77    Out     10    October     Sunday  42.5\n",
       "78    Out     10    October   Thursday  38.7\n",
       "79    Out     10    October    Tuesday  30.9\n",
       "80    Out     10    October  Wednesday  39.6\n",
       "81    Out     11   November     Friday  31.1\n",
       "82    Out     11   November     Monday  39.2\n",
       "83    Out     11   November   Saturday  40.7\n",
       "84    Out     11   November     Sunday  39.2\n",
       "85    Out     11   November   Thursday  39.0\n",
       "86    Out     11   November    Tuesday  38.8\n",
       "87    Out     11   November  Wednesday  39.7\n",
       "88    Out     12   December     Monday  45.7\n",
       "89    Out     12   December     Sunday  29.3"
      ]
     },
     "execution_count": 102,
     "metadata": {},
     "output_type": "execute_result"
    }
   ],
   "source": [
    "tmp_df2 = round(df.groupby(['out_in', 'month', 'month_name', 'day_name'])['temp'].mean(), 1).reset_index()\n",
    "tmp_df2.tail(20)"
   ]
  },
  {
   "cell_type": "code",
   "execution_count": 103,
   "metadata": {},
   "outputs": [
    {
     "data": {
      "text/plain": [
       "'Observation: : No distinct patterns found that provides an evidence to prove that a relation exists between day of the \\nweek and rise or fall in temperature for each month.'"
      ]
     },
     "execution_count": 103,
     "metadata": {},
     "output_type": "execute_result"
    }
   ],
   "source": [
    "\"\"\"Observation: : No distinct patterns found that provides an evidence to prove that a relation exists between day of the \n",
    "week and rise or fall in temperature for each month.\"\"\""
   ]
  },
  {
   "cell_type": "code",
   "execution_count": 104,
   "metadata": {},
   "outputs": [
    {
     "data": {
      "text/plain": [
       "Text(0.5, 1.0, 'mean inside outside  Temp. month wise')"
      ]
     },
     "execution_count": 104,
     "metadata": {},
     "output_type": "execute_result"
    },
    {
     "data": {
      "image/png": "[encoded data removed]",
      "text/plain": [
       "<Figure size 1440x720 with 1 Axes>"
      ]
     },
     "metadata": {
      "needs_background": "light"
     },
     "output_type": "display_data"
    }
   ],
   "source": [
    "plt.figure(figsize=(20,10))\n",
    "sns.boxplot(data= tmp_df2, x='month_name',y=\"temp\",hue=\"out_in\")\n",
    "plt.title('mean inside outside  Temp. month wise')"
   ]
  },
  {
   "cell_type": "code",
   "execution_count": null,
   "metadata": {},
   "outputs": [],
   "source": []
  },
  {
   "cell_type": "code",
   "execution_count": null,
   "metadata": {},
   "outputs": [],
   "source": []
  },
  {
   "cell_type": "code",
   "execution_count": 105,
   "metadata": {},
   "outputs": [],
   "source": [
    "tmp_df3 = df.groupby(['noted_date', 'out_in'])['temp'].mean().round(1).reset_index()"
   ]
  },
  {
   "cell_type": "code",
   "execution_count": 106,
   "metadata": {},
   "outputs": [
    {
     "data": {
      "text/html": [
       "<div>\n",
       "<style scoped>\n",
       "    .dataframe tbody tr th:only-of-type {\n",
       "        vertical-align: middle;\n",
       "    }\n",
       "\n",
       "    .dataframe tbody tr th {\n",
       "        vertical-align: top;\n",
       "    }\n",
       "\n",
       "    .dataframe thead th {\n",
       "        text-align: right;\n",
       "    }\n",
       "</style>\n",
       "<table border=\"1\" class=\"dataframe\">\n",
       "  <thead>\n",
       "    <tr style=\"text-align: right;\">\n",
       "      <th></th>\n",
       "      <th>noted_date</th>\n",
       "      <th>out_in</th>\n",
       "      <th>temp</th>\n",
       "    </tr>\n",
       "  </thead>\n",
       "  <tbody>\n",
       "    <tr>\n",
       "      <th>0</th>\n",
       "      <td>2018-01-11 00:06:00</td>\n",
       "      <td>In</td>\n",
       "      <td>32.0</td>\n",
       "    </tr>\n",
       "    <tr>\n",
       "      <th>1</th>\n",
       "      <td>2018-01-11 00:07:00</td>\n",
       "      <td>Out</td>\n",
       "      <td>40.0</td>\n",
       "    </tr>\n",
       "    <tr>\n",
       "      <th>2</th>\n",
       "      <td>2018-01-11 00:09:00</td>\n",
       "      <td>Out</td>\n",
       "      <td>39.0</td>\n",
       "    </tr>\n",
       "    <tr>\n",
       "      <th>3</th>\n",
       "      <td>2018-01-11 00:13:00</td>\n",
       "      <td>Out</td>\n",
       "      <td>40.0</td>\n",
       "    </tr>\n",
       "    <tr>\n",
       "      <th>4</th>\n",
       "      <td>2018-01-11 00:23:00</td>\n",
       "      <td>Out</td>\n",
       "      <td>40.0</td>\n",
       "    </tr>\n",
       "    <tr>\n",
       "      <th>...</th>\n",
       "      <td>...</td>\n",
       "      <td>...</td>\n",
       "      <td>...</td>\n",
       "    </tr>\n",
       "    <tr>\n",
       "      <th>31333</th>\n",
       "      <td>2018-12-10 23:41:00</td>\n",
       "      <td>Out</td>\n",
       "      <td>44.0</td>\n",
       "    </tr>\n",
       "    <tr>\n",
       "      <th>31334</th>\n",
       "      <td>2018-12-10 23:43:00</td>\n",
       "      <td>Out</td>\n",
       "      <td>44.0</td>\n",
       "    </tr>\n",
       "    <tr>\n",
       "      <th>31335</th>\n",
       "      <td>2018-12-10 23:49:00</td>\n",
       "      <td>Out</td>\n",
       "      <td>44.0</td>\n",
       "    </tr>\n",
       "    <tr>\n",
       "      <th>31336</th>\n",
       "      <td>2018-12-10 23:51:00</td>\n",
       "      <td>Out</td>\n",
       "      <td>45.0</td>\n",
       "    </tr>\n",
       "    <tr>\n",
       "      <th>31337</th>\n",
       "      <td>2018-12-10 23:55:00</td>\n",
       "      <td>Out</td>\n",
       "      <td>44.0</td>\n",
       "    </tr>\n",
       "  </tbody>\n",
       "</table>\n",
       "<p>31338 rows × 3 columns</p>\n",
       "</div>"
      ],
      "text/plain": [
       "               noted_date out_in  temp\n",
       "0     2018-01-11 00:06:00     In  32.0\n",
       "1     2018-01-11 00:07:00    Out  40.0\n",
       "2     2018-01-11 00:09:00    Out  39.0\n",
       "3     2018-01-11 00:13:00    Out  40.0\n",
       "4     2018-01-11 00:23:00    Out  40.0\n",
       "...                   ...    ...   ...\n",
       "31333 2018-12-10 23:41:00    Out  44.0\n",
       "31334 2018-12-10 23:43:00    Out  44.0\n",
       "31335 2018-12-10 23:49:00    Out  44.0\n",
       "31336 2018-12-10 23:51:00    Out  45.0\n",
       "31337 2018-12-10 23:55:00    Out  44.0\n",
       "\n",
       "[31338 rows x 3 columns]"
      ]
     },
     "execution_count": 106,
     "metadata": {},
     "output_type": "execute_result"
    }
   ],
   "source": [
    "tmp_df3"
   ]
  },
  {
   "cell_type": "code",
   "execution_count": null,
   "metadata": {},
   "outputs": [],
   "source": []
  },
  {
   "cell_type": "code",
   "execution_count": null,
   "metadata": {},
   "outputs": [],
   "source": []
  },
  {
   "cell_type": "code",
   "execution_count": null,
   "metadata": {},
   "outputs": [],
   "source": []
  },
  {
   "cell_type": "code",
   "execution_count": null,
   "metadata": {},
   "outputs": [],
   "source": []
  },
  {
   "cell_type": "markdown",
   "metadata": {},
   "source": [
    "# BUILDING MODEL "
   ]
  },
  {
   "cell_type": "code",
   "execution_count": 107,
   "metadata": {},
   "outputs": [
    {
     "data": {
      "text/html": [
       "<div>\n",
       "<style scoped>\n",
       "    .dataframe tbody tr th:only-of-type {\n",
       "        vertical-align: middle;\n",
       "    }\n",
       "\n",
       "    .dataframe tbody tr th {\n",
       "        vertical-align: top;\n",
       "    }\n",
       "\n",
       "    .dataframe thead th {\n",
       "        text-align: right;\n",
       "    }\n",
       "</style>\n",
       "<table border=\"1\" class=\"dataframe\">\n",
       "  <thead>\n",
       "    <tr style=\"text-align: right;\">\n",
       "      <th></th>\n",
       "      <th>id</th>\n",
       "      <th>noted_date</th>\n",
       "      <th>temp</th>\n",
       "      <th>out_in</th>\n",
       "      <th>month</th>\n",
       "      <th>day</th>\n",
       "      <th>day_name</th>\n",
       "      <th>hour</th>\n",
       "      <th>season</th>\n",
       "      <th>month_name</th>\n",
       "      <th>timing</th>\n",
       "    </tr>\n",
       "  </thead>\n",
       "  <tbody>\n",
       "    <tr>\n",
       "      <th>0</th>\n",
       "      <td>196134</td>\n",
       "      <td>2018-08-12 09:30:00</td>\n",
       "      <td>29</td>\n",
       "      <td>In</td>\n",
       "      <td>8</td>\n",
       "      <td>12</td>\n",
       "      <td>Sunday</td>\n",
       "      <td>9</td>\n",
       "      <td>Monsoon</td>\n",
       "      <td>August</td>\n",
       "      <td>Morning (0400-1159 Hours)</td>\n",
       "    </tr>\n",
       "    <tr>\n",
       "      <th>1</th>\n",
       "      <td>196131</td>\n",
       "      <td>2018-08-12 09:30:00</td>\n",
       "      <td>29</td>\n",
       "      <td>In</td>\n",
       "      <td>8</td>\n",
       "      <td>12</td>\n",
       "      <td>Sunday</td>\n",
       "      <td>9</td>\n",
       "      <td>Monsoon</td>\n",
       "      <td>August</td>\n",
       "      <td>Morning (0400-1159 Hours)</td>\n",
       "    </tr>\n",
       "    <tr>\n",
       "      <th>2</th>\n",
       "      <td>196127</td>\n",
       "      <td>2018-08-12 09:29:00</td>\n",
       "      <td>41</td>\n",
       "      <td>Out</td>\n",
       "      <td>8</td>\n",
       "      <td>12</td>\n",
       "      <td>Sunday</td>\n",
       "      <td>9</td>\n",
       "      <td>Monsoon</td>\n",
       "      <td>August</td>\n",
       "      <td>Morning (0400-1159 Hours)</td>\n",
       "    </tr>\n",
       "    <tr>\n",
       "      <th>3</th>\n",
       "      <td>196128</td>\n",
       "      <td>2018-08-12 09:29:00</td>\n",
       "      <td>41</td>\n",
       "      <td>Out</td>\n",
       "      <td>8</td>\n",
       "      <td>12</td>\n",
       "      <td>Sunday</td>\n",
       "      <td>9</td>\n",
       "      <td>Monsoon</td>\n",
       "      <td>August</td>\n",
       "      <td>Morning (0400-1159 Hours)</td>\n",
       "    </tr>\n",
       "    <tr>\n",
       "      <th>4</th>\n",
       "      <td>196126</td>\n",
       "      <td>2018-08-12 09:29:00</td>\n",
       "      <td>31</td>\n",
       "      <td>In</td>\n",
       "      <td>8</td>\n",
       "      <td>12</td>\n",
       "      <td>Sunday</td>\n",
       "      <td>9</td>\n",
       "      <td>Monsoon</td>\n",
       "      <td>August</td>\n",
       "      <td>Morning (0400-1159 Hours)</td>\n",
       "    </tr>\n",
       "    <tr>\n",
       "      <th>...</th>\n",
       "      <td>...</td>\n",
       "      <td>...</td>\n",
       "      <td>...</td>\n",
       "      <td>...</td>\n",
       "      <td>...</td>\n",
       "      <td>...</td>\n",
       "      <td>...</td>\n",
       "      <td>...</td>\n",
       "      <td>...</td>\n",
       "      <td>...</td>\n",
       "      <td>...</td>\n",
       "    </tr>\n",
       "    <tr>\n",
       "      <th>97601</th>\n",
       "      <td>91076</td>\n",
       "      <td>2018-07-28 07:07:00</td>\n",
       "      <td>31</td>\n",
       "      <td>In</td>\n",
       "      <td>7</td>\n",
       "      <td>28</td>\n",
       "      <td>Saturday</td>\n",
       "      <td>7</td>\n",
       "      <td>Monsoon</td>\n",
       "      <td>July</td>\n",
       "      <td>Morning (0400-1159 Hours)</td>\n",
       "    </tr>\n",
       "    <tr>\n",
       "      <th>97602</th>\n",
       "      <td>147733</td>\n",
       "      <td>2018-07-28 07:07:00</td>\n",
       "      <td>31</td>\n",
       "      <td>In</td>\n",
       "      <td>7</td>\n",
       "      <td>28</td>\n",
       "      <td>Saturday</td>\n",
       "      <td>7</td>\n",
       "      <td>Monsoon</td>\n",
       "      <td>July</td>\n",
       "      <td>Morning (0400-1159 Hours)</td>\n",
       "    </tr>\n",
       "    <tr>\n",
       "      <th>97603</th>\n",
       "      <td>100386</td>\n",
       "      <td>2018-07-28 07:06:00</td>\n",
       "      <td>31</td>\n",
       "      <td>In</td>\n",
       "      <td>7</td>\n",
       "      <td>28</td>\n",
       "      <td>Saturday</td>\n",
       "      <td>7</td>\n",
       "      <td>Monsoon</td>\n",
       "      <td>July</td>\n",
       "      <td>Morning (0400-1159 Hours)</td>\n",
       "    </tr>\n",
       "    <tr>\n",
       "      <th>97604</th>\n",
       "      <td>123297</td>\n",
       "      <td>2018-07-28 07:06:00</td>\n",
       "      <td>31</td>\n",
       "      <td>In</td>\n",
       "      <td>7</td>\n",
       "      <td>28</td>\n",
       "      <td>Saturday</td>\n",
       "      <td>7</td>\n",
       "      <td>Monsoon</td>\n",
       "      <td>July</td>\n",
       "      <td>Morning (0400-1159 Hours)</td>\n",
       "    </tr>\n",
       "    <tr>\n",
       "      <th>97605</th>\n",
       "      <td>133741</td>\n",
       "      <td>2018-07-28 07:06:00</td>\n",
       "      <td>31</td>\n",
       "      <td>In</td>\n",
       "      <td>7</td>\n",
       "      <td>28</td>\n",
       "      <td>Saturday</td>\n",
       "      <td>7</td>\n",
       "      <td>Monsoon</td>\n",
       "      <td>July</td>\n",
       "      <td>Morning (0400-1159 Hours)</td>\n",
       "    </tr>\n",
       "  </tbody>\n",
       "</table>\n",
       "<p>97605 rows × 11 columns</p>\n",
       "</div>"
      ],
      "text/plain": [
       "           id          noted_date  temp out_in  month  day  day_name  hour  \\\n",
       "0      196134 2018-08-12 09:30:00    29     In      8   12    Sunday     9   \n",
       "1      196131 2018-08-12 09:30:00    29     In      8   12    Sunday     9   \n",
       "2      196127 2018-08-12 09:29:00    41    Out      8   12    Sunday     9   \n",
       "3      196128 2018-08-12 09:29:00    41    Out      8   12    Sunday     9   \n",
       "4      196126 2018-08-12 09:29:00    31     In      8   12    Sunday     9   \n",
       "...       ...                 ...   ...    ...    ...  ...       ...   ...   \n",
       "97601   91076 2018-07-28 07:07:00    31     In      7   28  Saturday     7   \n",
       "97602  147733 2018-07-28 07:07:00    31     In      7   28  Saturday     7   \n",
       "97603  100386 2018-07-28 07:06:00    31     In      7   28  Saturday     7   \n",
       "97604  123297 2018-07-28 07:06:00    31     In      7   28  Saturday     7   \n",
       "97605  133741 2018-07-28 07:06:00    31     In      7   28  Saturday     7   \n",
       "\n",
       "        season month_name                     timing  \n",
       "0      Monsoon     August  Morning (0400-1159 Hours)  \n",
       "1      Monsoon     August  Morning (0400-1159 Hours)  \n",
       "2      Monsoon     August  Morning (0400-1159 Hours)  \n",
       "3      Monsoon     August  Morning (0400-1159 Hours)  \n",
       "4      Monsoon     August  Morning (0400-1159 Hours)  \n",
       "...        ...        ...                        ...  \n",
       "97601  Monsoon       July  Morning (0400-1159 Hours)  \n",
       "97602  Monsoon       July  Morning (0400-1159 Hours)  \n",
       "97603  Monsoon       July  Morning (0400-1159 Hours)  \n",
       "97604  Monsoon       July  Morning (0400-1159 Hours)  \n",
       "97605  Monsoon       July  Morning (0400-1159 Hours)  \n",
       "\n",
       "[97605 rows x 11 columns]"
      ]
     },
     "execution_count": 107,
     "metadata": {},
     "output_type": "execute_result"
    }
   ],
   "source": [
    "df"
   ]
  },
  {
   "cell_type": "code",
   "execution_count": 108,
   "metadata": {},
   "outputs": [],
   "source": [
    "df_new=df.drop([\"id\",\"noted_date\",\"day_name\",\"season\",\"month_name\",\"timing\"],axis=1)"
   ]
  },
  {
   "cell_type": "code",
   "execution_count": 109,
   "metadata": {},
   "outputs": [
    {
     "data": {
      "text/html": [
       "<div>\n",
       "<style scoped>\n",
       "    .dataframe tbody tr th:only-of-type {\n",
       "        vertical-align: middle;\n",
       "    }\n",
       "\n",
       "    .dataframe tbody tr th {\n",
       "        vertical-align: top;\n",
       "    }\n",
       "\n",
       "    .dataframe thead th {\n",
       "        text-align: right;\n",
       "    }\n",
       "</style>\n",
       "<table border=\"1\" class=\"dataframe\">\n",
       "  <thead>\n",
       "    <tr style=\"text-align: right;\">\n",
       "      <th></th>\n",
       "      <th>temp</th>\n",
       "      <th>out_in</th>\n",
       "      <th>month</th>\n",
       "      <th>day</th>\n",
       "      <th>hour</th>\n",
       "    </tr>\n",
       "  </thead>\n",
       "  <tbody>\n",
       "    <tr>\n",
       "      <th>0</th>\n",
       "      <td>29</td>\n",
       "      <td>In</td>\n",
       "      <td>8</td>\n",
       "      <td>12</td>\n",
       "      <td>9</td>\n",
       "    </tr>\n",
       "    <tr>\n",
       "      <th>1</th>\n",
       "      <td>29</td>\n",
       "      <td>In</td>\n",
       "      <td>8</td>\n",
       "      <td>12</td>\n",
       "      <td>9</td>\n",
       "    </tr>\n",
       "    <tr>\n",
       "      <th>2</th>\n",
       "      <td>41</td>\n",
       "      <td>Out</td>\n",
       "      <td>8</td>\n",
       "      <td>12</td>\n",
       "      <td>9</td>\n",
       "    </tr>\n",
       "    <tr>\n",
       "      <th>3</th>\n",
       "      <td>41</td>\n",
       "      <td>Out</td>\n",
       "      <td>8</td>\n",
       "      <td>12</td>\n",
       "      <td>9</td>\n",
       "    </tr>\n",
       "    <tr>\n",
       "      <th>4</th>\n",
       "      <td>31</td>\n",
       "      <td>In</td>\n",
       "      <td>8</td>\n",
       "      <td>12</td>\n",
       "      <td>9</td>\n",
       "    </tr>\n",
       "    <tr>\n",
       "      <th>...</th>\n",
       "      <td>...</td>\n",
       "      <td>...</td>\n",
       "      <td>...</td>\n",
       "      <td>...</td>\n",
       "      <td>...</td>\n",
       "    </tr>\n",
       "    <tr>\n",
       "      <th>97601</th>\n",
       "      <td>31</td>\n",
       "      <td>In</td>\n",
       "      <td>7</td>\n",
       "      <td>28</td>\n",
       "      <td>7</td>\n",
       "    </tr>\n",
       "    <tr>\n",
       "      <th>97602</th>\n",
       "      <td>31</td>\n",
       "      <td>In</td>\n",
       "      <td>7</td>\n",
       "      <td>28</td>\n",
       "      <td>7</td>\n",
       "    </tr>\n",
       "    <tr>\n",
       "      <th>97603</th>\n",
       "      <td>31</td>\n",
       "      <td>In</td>\n",
       "      <td>7</td>\n",
       "      <td>28</td>\n",
       "      <td>7</td>\n",
       "    </tr>\n",
       "    <tr>\n",
       "      <th>97604</th>\n",
       "      <td>31</td>\n",
       "      <td>In</td>\n",
       "      <td>7</td>\n",
       "      <td>28</td>\n",
       "      <td>7</td>\n",
       "    </tr>\n",
       "    <tr>\n",
       "      <th>97605</th>\n",
       "      <td>31</td>\n",
       "      <td>In</td>\n",
       "      <td>7</td>\n",
       "      <td>28</td>\n",
       "      <td>7</td>\n",
       "    </tr>\n",
       "  </tbody>\n",
       "</table>\n",
       "<p>97605 rows × 5 columns</p>\n",
       "</div>"
      ],
      "text/plain": [
       "       temp out_in  month  day  hour\n",
       "0        29     In      8   12     9\n",
       "1        29     In      8   12     9\n",
       "2        41    Out      8   12     9\n",
       "3        41    Out      8   12     9\n",
       "4        31     In      8   12     9\n",
       "...     ...    ...    ...  ...   ...\n",
       "97601    31     In      7   28     7\n",
       "97602    31     In      7   28     7\n",
       "97603    31     In      7   28     7\n",
       "97604    31     In      7   28     7\n",
       "97605    31     In      7   28     7\n",
       "\n",
       "[97605 rows x 5 columns]"
      ]
     },
     "execution_count": 109,
     "metadata": {},
     "output_type": "execute_result"
    }
   ],
   "source": [
    "df_new"
   ]
  },
  {
   "cell_type": "code",
   "execution_count": null,
   "metadata": {},
   "outputs": [],
   "source": []
  },
  {
   "cell_type": "code",
   "execution_count": 110,
   "metadata": {},
   "outputs": [],
   "source": [
    "df_new[\"out_in\"]=df_new[\"out_in\"].astype(\"category\")\n",
    "df_new[\"out_in\"]=df_new[\"out_in\"].cat.codes"
   ]
  },
  {
   "cell_type": "code",
   "execution_count": 111,
   "metadata": {},
   "outputs": [
    {
     "data": {
      "text/html": [
       "<div>\n",
       "<style scoped>\n",
       "    .dataframe tbody tr th:only-of-type {\n",
       "        vertical-align: middle;\n",
       "    }\n",
       "\n",
       "    .dataframe tbody tr th {\n",
       "        vertical-align: top;\n",
       "    }\n",
       "\n",
       "    .dataframe thead th {\n",
       "        text-align: right;\n",
       "    }\n",
       "</style>\n",
       "<table border=\"1\" class=\"dataframe\">\n",
       "  <thead>\n",
       "    <tr style=\"text-align: right;\">\n",
       "      <th></th>\n",
       "      <th>temp</th>\n",
       "      <th>out_in</th>\n",
       "      <th>month</th>\n",
       "      <th>day</th>\n",
       "      <th>hour</th>\n",
       "    </tr>\n",
       "  </thead>\n",
       "  <tbody>\n",
       "    <tr>\n",
       "      <th>0</th>\n",
       "      <td>29</td>\n",
       "      <td>0</td>\n",
       "      <td>8</td>\n",
       "      <td>12</td>\n",
       "      <td>9</td>\n",
       "    </tr>\n",
       "    <tr>\n",
       "      <th>1</th>\n",
       "      <td>29</td>\n",
       "      <td>0</td>\n",
       "      <td>8</td>\n",
       "      <td>12</td>\n",
       "      <td>9</td>\n",
       "    </tr>\n",
       "    <tr>\n",
       "      <th>2</th>\n",
       "      <td>41</td>\n",
       "      <td>1</td>\n",
       "      <td>8</td>\n",
       "      <td>12</td>\n",
       "      <td>9</td>\n",
       "    </tr>\n",
       "    <tr>\n",
       "      <th>3</th>\n",
       "      <td>41</td>\n",
       "      <td>1</td>\n",
       "      <td>8</td>\n",
       "      <td>12</td>\n",
       "      <td>9</td>\n",
       "    </tr>\n",
       "    <tr>\n",
       "      <th>4</th>\n",
       "      <td>31</td>\n",
       "      <td>0</td>\n",
       "      <td>8</td>\n",
       "      <td>12</td>\n",
       "      <td>9</td>\n",
       "    </tr>\n",
       "    <tr>\n",
       "      <th>...</th>\n",
       "      <td>...</td>\n",
       "      <td>...</td>\n",
       "      <td>...</td>\n",
       "      <td>...</td>\n",
       "      <td>...</td>\n",
       "    </tr>\n",
       "    <tr>\n",
       "      <th>97601</th>\n",
       "      <td>31</td>\n",
       "      <td>0</td>\n",
       "      <td>7</td>\n",
       "      <td>28</td>\n",
       "      <td>7</td>\n",
       "    </tr>\n",
       "    <tr>\n",
       "      <th>97602</th>\n",
       "      <td>31</td>\n",
       "      <td>0</td>\n",
       "      <td>7</td>\n",
       "      <td>28</td>\n",
       "      <td>7</td>\n",
       "    </tr>\n",
       "    <tr>\n",
       "      <th>97603</th>\n",
       "      <td>31</td>\n",
       "      <td>0</td>\n",
       "      <td>7</td>\n",
       "      <td>28</td>\n",
       "      <td>7</td>\n",
       "    </tr>\n",
       "    <tr>\n",
       "      <th>97604</th>\n",
       "      <td>31</td>\n",
       "      <td>0</td>\n",
       "      <td>7</td>\n",
       "      <td>28</td>\n",
       "      <td>7</td>\n",
       "    </tr>\n",
       "    <tr>\n",
       "      <th>97605</th>\n",
       "      <td>31</td>\n",
       "      <td>0</td>\n",
       "      <td>7</td>\n",
       "      <td>28</td>\n",
       "      <td>7</td>\n",
       "    </tr>\n",
       "  </tbody>\n",
       "</table>\n",
       "<p>97605 rows × 5 columns</p>\n",
       "</div>"
      ],
      "text/plain": [
       "       temp  out_in  month  day  hour\n",
       "0        29       0      8   12     9\n",
       "1        29       0      8   12     9\n",
       "2        41       1      8   12     9\n",
       "3        41       1      8   12     9\n",
       "4        31       0      8   12     9\n",
       "...     ...     ...    ...  ...   ...\n",
       "97601    31       0      7   28     7\n",
       "97602    31       0      7   28     7\n",
       "97603    31       0      7   28     7\n",
       "97604    31       0      7   28     7\n",
       "97605    31       0      7   28     7\n",
       "\n",
       "[97605 rows x 5 columns]"
      ]
     },
     "execution_count": 111,
     "metadata": {},
     "output_type": "execute_result"
    }
   ],
   "source": [
    "df_new"
   ]
  },
  {
   "cell_type": "code",
   "execution_count": null,
   "metadata": {},
   "outputs": [],
   "source": []
  },
  {
   "cell_type": "code",
   "execution_count": null,
   "metadata": {},
   "outputs": [],
   "source": []
  },
  {
   "cell_type": "code",
   "execution_count": 112,
   "metadata": {},
   "outputs": [],
   "source": [
    "#CHECKING MISSING VALUE"
   ]
  },
  {
   "cell_type": "code",
   "execution_count": 113,
   "metadata": {},
   "outputs": [
    {
     "data": {
      "text/plain": [
       "temp      0\n",
       "out_in    0\n",
       "month     0\n",
       "day       0\n",
       "hour      0\n",
       "dtype: int64"
      ]
     },
     "execution_count": 113,
     "metadata": {},
     "output_type": "execute_result"
    }
   ],
   "source": [
    "df_new.isnull().sum()"
   ]
  },
  {
   "cell_type": "code",
   "execution_count": 114,
   "metadata": {},
   "outputs": [
    {
     "data": {
      "text/plain": [
       "'There are Two kind of temperature measurement INDOOR and OUTDOOR. But the timing is not same, reference no. is also not same \\n we are calulating the prediction seprately'"
      ]
     },
     "execution_count": 114,
     "metadata": {},
     "output_type": "execute_result"
    }
   ],
   "source": [
    "\"\"\"There are Two kind of temperature measurement INDOOR and OUTDOOR. But the timing is not same, reference no. is also not same \n",
    " we are calulating the prediction seprately\"\"\"\n",
    "# creating dataset for indoor and outdoor measurement saperately."
   ]
  },
  {
   "cell_type": "code",
   "execution_count": 115,
   "metadata": {},
   "outputs": [],
   "source": [
    "df_indoor = df_new[df_new['out_in'] == 0]# indoor measurement"
   ]
  },
  {
   "cell_type": "code",
   "execution_count": 116,
   "metadata": {},
   "outputs": [
    {
     "data": {
      "text/html": [
       "<div>\n",
       "<style scoped>\n",
       "    .dataframe tbody tr th:only-of-type {\n",
       "        vertical-align: middle;\n",
       "    }\n",
       "\n",
       "    .dataframe tbody tr th {\n",
       "        vertical-align: top;\n",
       "    }\n",
       "\n",
       "    .dataframe thead th {\n",
       "        text-align: right;\n",
       "    }\n",
       "</style>\n",
       "<table border=\"1\" class=\"dataframe\">\n",
       "  <thead>\n",
       "    <tr style=\"text-align: right;\">\n",
       "      <th></th>\n",
       "      <th>temp</th>\n",
       "      <th>out_in</th>\n",
       "      <th>month</th>\n",
       "      <th>day</th>\n",
       "      <th>hour</th>\n",
       "    </tr>\n",
       "  </thead>\n",
       "  <tbody>\n",
       "    <tr>\n",
       "      <th>0</th>\n",
       "      <td>29</td>\n",
       "      <td>0</td>\n",
       "      <td>8</td>\n",
       "      <td>12</td>\n",
       "      <td>9</td>\n",
       "    </tr>\n",
       "    <tr>\n",
       "      <th>1</th>\n",
       "      <td>29</td>\n",
       "      <td>0</td>\n",
       "      <td>8</td>\n",
       "      <td>12</td>\n",
       "      <td>9</td>\n",
       "    </tr>\n",
       "    <tr>\n",
       "      <th>4</th>\n",
       "      <td>31</td>\n",
       "      <td>0</td>\n",
       "      <td>8</td>\n",
       "      <td>12</td>\n",
       "      <td>9</td>\n",
       "    </tr>\n",
       "    <tr>\n",
       "      <th>5</th>\n",
       "      <td>31</td>\n",
       "      <td>0</td>\n",
       "      <td>8</td>\n",
       "      <td>12</td>\n",
       "      <td>9</td>\n",
       "    </tr>\n",
       "    <tr>\n",
       "      <th>6</th>\n",
       "      <td>29</td>\n",
       "      <td>0</td>\n",
       "      <td>8</td>\n",
       "      <td>12</td>\n",
       "      <td>9</td>\n",
       "    </tr>\n",
       "    <tr>\n",
       "      <th>...</th>\n",
       "      <td>...</td>\n",
       "      <td>...</td>\n",
       "      <td>...</td>\n",
       "      <td>...</td>\n",
       "      <td>...</td>\n",
       "    </tr>\n",
       "    <tr>\n",
       "      <th>97601</th>\n",
       "      <td>31</td>\n",
       "      <td>0</td>\n",
       "      <td>7</td>\n",
       "      <td>28</td>\n",
       "      <td>7</td>\n",
       "    </tr>\n",
       "    <tr>\n",
       "      <th>97602</th>\n",
       "      <td>31</td>\n",
       "      <td>0</td>\n",
       "      <td>7</td>\n",
       "      <td>28</td>\n",
       "      <td>7</td>\n",
       "    </tr>\n",
       "    <tr>\n",
       "      <th>97603</th>\n",
       "      <td>31</td>\n",
       "      <td>0</td>\n",
       "      <td>7</td>\n",
       "      <td>28</td>\n",
       "      <td>7</td>\n",
       "    </tr>\n",
       "    <tr>\n",
       "      <th>97604</th>\n",
       "      <td>31</td>\n",
       "      <td>0</td>\n",
       "      <td>7</td>\n",
       "      <td>28</td>\n",
       "      <td>7</td>\n",
       "    </tr>\n",
       "    <tr>\n",
       "      <th>97605</th>\n",
       "      <td>31</td>\n",
       "      <td>0</td>\n",
       "      <td>7</td>\n",
       "      <td>28</td>\n",
       "      <td>7</td>\n",
       "    </tr>\n",
       "  </tbody>\n",
       "</table>\n",
       "<p>20345 rows × 5 columns</p>\n",
       "</div>"
      ],
      "text/plain": [
       "       temp  out_in  month  day  hour\n",
       "0        29       0      8   12     9\n",
       "1        29       0      8   12     9\n",
       "4        31       0      8   12     9\n",
       "5        31       0      8   12     9\n",
       "6        29       0      8   12     9\n",
       "...     ...     ...    ...  ...   ...\n",
       "97601    31       0      7   28     7\n",
       "97602    31       0      7   28     7\n",
       "97603    31       0      7   28     7\n",
       "97604    31       0      7   28     7\n",
       "97605    31       0      7   28     7\n",
       "\n",
       "[20345 rows x 5 columns]"
      ]
     },
     "execution_count": 116,
     "metadata": {},
     "output_type": "execute_result"
    }
   ],
   "source": [
    "df_indoor"
   ]
  },
  {
   "cell_type": "code",
   "execution_count": 117,
   "metadata": {},
   "outputs": [
    {
     "data": {
      "image/png": "[encoded data removed]",
      "text/plain": [
       "<Figure size 432x288 with 1 Axes>"
      ]
     },
     "metadata": {
      "needs_background": "light"
     },
     "output_type": "display_data"
    }
   ],
   "source": [
    "sns.histplot(data=df,x=\"temp\",hue=\"out_in\",bins=20,kde=True)\n",
    "plt.show()"
   ]
  },
  {
   "cell_type": "code",
   "execution_count": 118,
   "metadata": {},
   "outputs": [],
   "source": [
    "# its a NON LINEAR DATA"
   ]
  },
  {
   "cell_type": "code",
   "execution_count": 119,
   "metadata": {},
   "outputs": [],
   "source": [
    "df_indoor_final=df_indoor.drop([\"out_in\",\"day\"],axis=1)\n"
   ]
  },
  {
   "cell_type": "code",
   "execution_count": 120,
   "metadata": {},
   "outputs": [
    {
     "data": {
      "text/html": [
       "<div>\n",
       "<style scoped>\n",
       "    .dataframe tbody tr th:only-of-type {\n",
       "        vertical-align: middle;\n",
       "    }\n",
       "\n",
       "    .dataframe tbody tr th {\n",
       "        vertical-align: top;\n",
       "    }\n",
       "\n",
       "    .dataframe thead th {\n",
       "        text-align: right;\n",
       "    }\n",
       "</style>\n",
       "<table border=\"1\" class=\"dataframe\">\n",
       "  <thead>\n",
       "    <tr style=\"text-align: right;\">\n",
       "      <th></th>\n",
       "      <th>temp</th>\n",
       "      <th>month</th>\n",
       "      <th>hour</th>\n",
       "    </tr>\n",
       "  </thead>\n",
       "  <tbody>\n",
       "    <tr>\n",
       "      <th>0</th>\n",
       "      <td>29</td>\n",
       "      <td>8</td>\n",
       "      <td>9</td>\n",
       "    </tr>\n",
       "    <tr>\n",
       "      <th>1</th>\n",
       "      <td>29</td>\n",
       "      <td>8</td>\n",
       "      <td>9</td>\n",
       "    </tr>\n",
       "    <tr>\n",
       "      <th>4</th>\n",
       "      <td>31</td>\n",
       "      <td>8</td>\n",
       "      <td>9</td>\n",
       "    </tr>\n",
       "    <tr>\n",
       "      <th>5</th>\n",
       "      <td>31</td>\n",
       "      <td>8</td>\n",
       "      <td>9</td>\n",
       "    </tr>\n",
       "    <tr>\n",
       "      <th>6</th>\n",
       "      <td>29</td>\n",
       "      <td>8</td>\n",
       "      <td>9</td>\n",
       "    </tr>\n",
       "    <tr>\n",
       "      <th>...</th>\n",
       "      <td>...</td>\n",
       "      <td>...</td>\n",
       "      <td>...</td>\n",
       "    </tr>\n",
       "    <tr>\n",
       "      <th>97601</th>\n",
       "      <td>31</td>\n",
       "      <td>7</td>\n",
       "      <td>7</td>\n",
       "    </tr>\n",
       "    <tr>\n",
       "      <th>97602</th>\n",
       "      <td>31</td>\n",
       "      <td>7</td>\n",
       "      <td>7</td>\n",
       "    </tr>\n",
       "    <tr>\n",
       "      <th>97603</th>\n",
       "      <td>31</td>\n",
       "      <td>7</td>\n",
       "      <td>7</td>\n",
       "    </tr>\n",
       "    <tr>\n",
       "      <th>97604</th>\n",
       "      <td>31</td>\n",
       "      <td>7</td>\n",
       "      <td>7</td>\n",
       "    </tr>\n",
       "    <tr>\n",
       "      <th>97605</th>\n",
       "      <td>31</td>\n",
       "      <td>7</td>\n",
       "      <td>7</td>\n",
       "    </tr>\n",
       "  </tbody>\n",
       "</table>\n",
       "<p>20345 rows × 3 columns</p>\n",
       "</div>"
      ],
      "text/plain": [
       "       temp  month  hour\n",
       "0        29      8     9\n",
       "1        29      8     9\n",
       "4        31      8     9\n",
       "5        31      8     9\n",
       "6        29      8     9\n",
       "...     ...    ...   ...\n",
       "97601    31      7     7\n",
       "97602    31      7     7\n",
       "97603    31      7     7\n",
       "97604    31      7     7\n",
       "97605    31      7     7\n",
       "\n",
       "[20345 rows x 3 columns]"
      ]
     },
     "execution_count": 120,
     "metadata": {},
     "output_type": "execute_result"
    }
   ],
   "source": [
    "df_indoor_final"
   ]
  },
  {
   "cell_type": "code",
   "execution_count": 121,
   "metadata": {},
   "outputs": [],
   "source": [
    "df_outdoor = df_new[df_new['out_in'] == 1]# outdoor measurement\n"
   ]
  },
  {
   "cell_type": "code",
   "execution_count": 122,
   "metadata": {},
   "outputs": [],
   "source": [
    "df_outdoor_final=df_outdoor.drop([\"out_in\",\"day\"],axis=1)\n"
   ]
  },
  {
   "cell_type": "code",
   "execution_count": 123,
   "metadata": {},
   "outputs": [
    {
     "data": {
      "text/html": [
       "<div>\n",
       "<style scoped>\n",
       "    .dataframe tbody tr th:only-of-type {\n",
       "        vertical-align: middle;\n",
       "    }\n",
       "\n",
       "    .dataframe tbody tr th {\n",
       "        vertical-align: top;\n",
       "    }\n",
       "\n",
       "    .dataframe thead th {\n",
       "        text-align: right;\n",
       "    }\n",
       "</style>\n",
       "<table border=\"1\" class=\"dataframe\">\n",
       "  <thead>\n",
       "    <tr style=\"text-align: right;\">\n",
       "      <th></th>\n",
       "      <th>temp</th>\n",
       "      <th>month</th>\n",
       "      <th>hour</th>\n",
       "    </tr>\n",
       "  </thead>\n",
       "  <tbody>\n",
       "    <tr>\n",
       "      <th>2</th>\n",
       "      <td>41</td>\n",
       "      <td>8</td>\n",
       "      <td>9</td>\n",
       "    </tr>\n",
       "    <tr>\n",
       "      <th>3</th>\n",
       "      <td>41</td>\n",
       "      <td>8</td>\n",
       "      <td>9</td>\n",
       "    </tr>\n",
       "    <tr>\n",
       "      <th>10</th>\n",
       "      <td>42</td>\n",
       "      <td>8</td>\n",
       "      <td>9</td>\n",
       "    </tr>\n",
       "    <tr>\n",
       "      <th>16</th>\n",
       "      <td>41</td>\n",
       "      <td>8</td>\n",
       "      <td>9</td>\n",
       "    </tr>\n",
       "    <tr>\n",
       "      <th>17</th>\n",
       "      <td>41</td>\n",
       "      <td>8</td>\n",
       "      <td>9</td>\n",
       "    </tr>\n",
       "    <tr>\n",
       "      <th>...</th>\n",
       "      <td>...</td>\n",
       "      <td>...</td>\n",
       "      <td>...</td>\n",
       "    </tr>\n",
       "    <tr>\n",
       "      <th>97587</th>\n",
       "      <td>32</td>\n",
       "      <td>7</td>\n",
       "      <td>7</td>\n",
       "    </tr>\n",
       "    <tr>\n",
       "      <th>97588</th>\n",
       "      <td>32</td>\n",
       "      <td>7</td>\n",
       "      <td>7</td>\n",
       "    </tr>\n",
       "    <tr>\n",
       "      <th>97594</th>\n",
       "      <td>32</td>\n",
       "      <td>7</td>\n",
       "      <td>7</td>\n",
       "    </tr>\n",
       "    <tr>\n",
       "      <th>97596</th>\n",
       "      <td>32</td>\n",
       "      <td>7</td>\n",
       "      <td>7</td>\n",
       "    </tr>\n",
       "    <tr>\n",
       "      <th>97599</th>\n",
       "      <td>32</td>\n",
       "      <td>7</td>\n",
       "      <td>7</td>\n",
       "    </tr>\n",
       "  </tbody>\n",
       "</table>\n",
       "<p>77260 rows × 3 columns</p>\n",
       "</div>"
      ],
      "text/plain": [
       "       temp  month  hour\n",
       "2        41      8     9\n",
       "3        41      8     9\n",
       "10       42      8     9\n",
       "16       41      8     9\n",
       "17       41      8     9\n",
       "...     ...    ...   ...\n",
       "97587    32      7     7\n",
       "97588    32      7     7\n",
       "97594    32      7     7\n",
       "97596    32      7     7\n",
       "97599    32      7     7\n",
       "\n",
       "[77260 rows x 3 columns]"
      ]
     },
     "execution_count": 123,
     "metadata": {},
     "output_type": "execute_result"
    }
   ],
   "source": [
    "df_outdoor_final"
   ]
  },
  {
   "cell_type": "code",
   "execution_count": null,
   "metadata": {},
   "outputs": [],
   "source": []
  },
  {
   "cell_type": "code",
   "execution_count": null,
   "metadata": {},
   "outputs": [],
   "source": []
  },
  {
   "cell_type": "code",
   "execution_count": null,
   "metadata": {},
   "outputs": [],
   "source": []
  },
  {
   "cell_type": "markdown",
   "metadata": {},
   "source": [
    "# WORKING ON INDOOR TEMPERATURE MONITORING"
   ]
  },
  {
   "cell_type": "code",
   "execution_count": 124,
   "metadata": {},
   "outputs": [
    {
     "data": {
      "text/html": [
       "<div>\n",
       "<style scoped>\n",
       "    .dataframe tbody tr th:only-of-type {\n",
       "        vertical-align: middle;\n",
       "    }\n",
       "\n",
       "    .dataframe tbody tr th {\n",
       "        vertical-align: top;\n",
       "    }\n",
       "\n",
       "    .dataframe thead th {\n",
       "        text-align: right;\n",
       "    }\n",
       "</style>\n",
       "<table border=\"1\" class=\"dataframe\">\n",
       "  <thead>\n",
       "    <tr style=\"text-align: right;\">\n",
       "      <th></th>\n",
       "      <th>temp</th>\n",
       "      <th>month</th>\n",
       "      <th>hour</th>\n",
       "    </tr>\n",
       "  </thead>\n",
       "  <tbody>\n",
       "    <tr>\n",
       "      <th>0</th>\n",
       "      <td>29</td>\n",
       "      <td>8</td>\n",
       "      <td>9</td>\n",
       "    </tr>\n",
       "    <tr>\n",
       "      <th>1</th>\n",
       "      <td>29</td>\n",
       "      <td>8</td>\n",
       "      <td>9</td>\n",
       "    </tr>\n",
       "    <tr>\n",
       "      <th>4</th>\n",
       "      <td>31</td>\n",
       "      <td>8</td>\n",
       "      <td>9</td>\n",
       "    </tr>\n",
       "    <tr>\n",
       "      <th>5</th>\n",
       "      <td>31</td>\n",
       "      <td>8</td>\n",
       "      <td>9</td>\n",
       "    </tr>\n",
       "    <tr>\n",
       "      <th>6</th>\n",
       "      <td>29</td>\n",
       "      <td>8</td>\n",
       "      <td>9</td>\n",
       "    </tr>\n",
       "    <tr>\n",
       "      <th>...</th>\n",
       "      <td>...</td>\n",
       "      <td>...</td>\n",
       "      <td>...</td>\n",
       "    </tr>\n",
       "    <tr>\n",
       "      <th>97601</th>\n",
       "      <td>31</td>\n",
       "      <td>7</td>\n",
       "      <td>7</td>\n",
       "    </tr>\n",
       "    <tr>\n",
       "      <th>97602</th>\n",
       "      <td>31</td>\n",
       "      <td>7</td>\n",
       "      <td>7</td>\n",
       "    </tr>\n",
       "    <tr>\n",
       "      <th>97603</th>\n",
       "      <td>31</td>\n",
       "      <td>7</td>\n",
       "      <td>7</td>\n",
       "    </tr>\n",
       "    <tr>\n",
       "      <th>97604</th>\n",
       "      <td>31</td>\n",
       "      <td>7</td>\n",
       "      <td>7</td>\n",
       "    </tr>\n",
       "    <tr>\n",
       "      <th>97605</th>\n",
       "      <td>31</td>\n",
       "      <td>7</td>\n",
       "      <td>7</td>\n",
       "    </tr>\n",
       "  </tbody>\n",
       "</table>\n",
       "<p>20345 rows × 3 columns</p>\n",
       "</div>"
      ],
      "text/plain": [
       "       temp  month  hour\n",
       "0        29      8     9\n",
       "1        29      8     9\n",
       "4        31      8     9\n",
       "5        31      8     9\n",
       "6        29      8     9\n",
       "...     ...    ...   ...\n",
       "97601    31      7     7\n",
       "97602    31      7     7\n",
       "97603    31      7     7\n",
       "97604    31      7     7\n",
       "97605    31      7     7\n",
       "\n",
       "[20345 rows x 3 columns]"
      ]
     },
     "execution_count": 124,
     "metadata": {},
     "output_type": "execute_result"
    }
   ],
   "source": [
    "\n",
    "\n",
    "\n",
    "df_indoor_final\n"
   ]
  },
  {
   "cell_type": "code",
   "execution_count": 125,
   "metadata": {},
   "outputs": [
    {
     "data": {
      "text/html": [
       "<div>\n",
       "<style scoped>\n",
       "    .dataframe tbody tr th:only-of-type {\n",
       "        vertical-align: middle;\n",
       "    }\n",
       "\n",
       "    .dataframe tbody tr th {\n",
       "        vertical-align: top;\n",
       "    }\n",
       "\n",
       "    .dataframe thead th {\n",
       "        text-align: right;\n",
       "    }\n",
       "</style>\n",
       "<table border=\"1\" class=\"dataframe\">\n",
       "  <thead>\n",
       "    <tr style=\"text-align: right;\">\n",
       "      <th></th>\n",
       "      <th>temp</th>\n",
       "      <th>month</th>\n",
       "      <th>hour</th>\n",
       "    </tr>\n",
       "  </thead>\n",
       "  <tbody>\n",
       "    <tr>\n",
       "      <th>temp</th>\n",
       "      <td>1.000000</td>\n",
       "      <td>0.197042</td>\n",
       "      <td>0.057064</td>\n",
       "    </tr>\n",
       "    <tr>\n",
       "      <th>month</th>\n",
       "      <td>0.197042</td>\n",
       "      <td>1.000000</td>\n",
       "      <td>-0.040284</td>\n",
       "    </tr>\n",
       "    <tr>\n",
       "      <th>hour</th>\n",
       "      <td>0.057064</td>\n",
       "      <td>-0.040284</td>\n",
       "      <td>1.000000</td>\n",
       "    </tr>\n",
       "  </tbody>\n",
       "</table>\n",
       "</div>"
      ],
      "text/plain": [
       "           temp     month      hour\n",
       "temp   1.000000  0.197042  0.057064\n",
       "month  0.197042  1.000000 -0.040284\n",
       "hour   0.057064 -0.040284  1.000000"
      ]
     },
     "execution_count": 125,
     "metadata": {},
     "output_type": "execute_result"
    }
   ],
   "source": [
    "#multicollinearity problems\n",
    "df_indoor_final.corr()"
   ]
  },
  {
   "cell_type": "code",
   "execution_count": 126,
   "metadata": {},
   "outputs": [
    {
     "data": {
      "text/plain": [
       "<AxesSubplot:>"
      ]
     },
     "execution_count": 126,
     "metadata": {},
     "output_type": "execute_result"
    },
    {
     "data": {
      "image/png": "[encoded data removed]",
      "text/plain": [
       "<Figure size 1080x864 with 2 Axes>"
      ]
     },
     "metadata": {
      "needs_background": "light"
     },
     "output_type": "display_data"
    }
   ],
   "source": [
    "#Same data we can plot in heatmap for more better understanding.\n",
    "plt.figure(figsize=(15,12))\n",
    "sns.heatmap(df_indoor_final.corr(),annot=True)"
   ]
  },
  {
   "cell_type": "code",
   "execution_count": null,
   "metadata": {},
   "outputs": [],
   "source": []
  },
  {
   "cell_type": "code",
   "execution_count": 127,
   "metadata": {},
   "outputs": [],
   "source": [
    "# without standarization"
   ]
  },
  {
   "cell_type": "code",
   "execution_count": 128,
   "metadata": {},
   "outputs": [],
   "source": [
    "X_indoor100=df_indoor_final.drop([\"temp\"],axis=1)\n",
    "Y_indoor100=df_indoor_final[\"temp\"]\n",
    "\n",
    "\n",
    "\n",
    "\n",
    "\n",
    "Y_indoor_e=1.0 / (1.0 + np.exp(-Y_indoor100))\n",
    "#X_indoor_log=np.log(X_indoor100)"
   ]
  },
  {
   "cell_type": "code",
   "execution_count": 129,
   "metadata": {},
   "outputs": [
    {
     "data": {
      "text/plain": [
       "0        1.0\n",
       "1        1.0\n",
       "4        1.0\n",
       "5        1.0\n",
       "6        1.0\n",
       "        ... \n",
       "97601    1.0\n",
       "97602    1.0\n",
       "97603    1.0\n",
       "97604    1.0\n",
       "97605    1.0\n",
       "Name: temp, Length: 20345, dtype: float64"
      ]
     },
     "execution_count": 129,
     "metadata": {},
     "output_type": "execute_result"
    }
   ],
   "source": [
    "Y_indoor_e"
   ]
  },
  {
   "cell_type": "code",
   "execution_count": null,
   "metadata": {},
   "outputs": [],
   "source": []
  },
  {
   "cell_type": "code",
   "execution_count": 130,
   "metadata": {},
   "outputs": [],
   "source": [
    "from sklearn.model_selection import train_test_split"
   ]
  },
  {
   "cell_type": "code",
   "execution_count": 131,
   "metadata": {},
   "outputs": [
    {
     "name": "stdout",
     "output_type": "stream",
     "text": [
      "(15258, 2)\n",
      "(15258,)\n",
      "(5087, 2)\n",
      "(5087,)\n"
     ]
    }
   ],
   "source": [
    "#X_train100, X_test100,Y_train100,Y_test100=train_test_split(X_indoor100,Y_indoor100,train_size=0.75,random_state=101)\n",
    "\n",
    "X_train100, X_test100,Y_train100,Y_test100=train_test_split(X_indoor100,Y_indoor_e,train_size=0.75,random_state=101)\n",
    "print(X_train100.shape)\n",
    "print(Y_train100.shape)\n",
    "print(X_test100.shape)\n",
    "print(Y_test100.shape)"
   ]
  },
  {
   "cell_type": "code",
   "execution_count": 132,
   "metadata": {},
   "outputs": [
    {
     "data": {
      "text/html": [
       "<div>\n",
       "<style scoped>\n",
       "    .dataframe tbody tr th:only-of-type {\n",
       "        vertical-align: middle;\n",
       "    }\n",
       "\n",
       "    .dataframe tbody tr th {\n",
       "        vertical-align: top;\n",
       "    }\n",
       "\n",
       "    .dataframe thead th {\n",
       "        text-align: right;\n",
       "    }\n",
       "</style>\n",
       "<table border=\"1\" class=\"dataframe\">\n",
       "  <thead>\n",
       "    <tr style=\"text-align: right;\">\n",
       "      <th></th>\n",
       "      <th>month</th>\n",
       "      <th>hour</th>\n",
       "    </tr>\n",
       "  </thead>\n",
       "  <tbody>\n",
       "    <tr>\n",
       "      <th>94957</th>\n",
       "      <td>3</td>\n",
       "      <td>10</td>\n",
       "    </tr>\n",
       "    <tr>\n",
       "      <th>76353</th>\n",
       "      <td>10</td>\n",
       "      <td>17</td>\n",
       "    </tr>\n",
       "    <tr>\n",
       "      <th>68949</th>\n",
       "      <td>11</td>\n",
       "      <td>16</td>\n",
       "    </tr>\n",
       "    <tr>\n",
       "      <th>95389</th>\n",
       "      <td>8</td>\n",
       "      <td>10</td>\n",
       "    </tr>\n",
       "    <tr>\n",
       "      <th>96712</th>\n",
       "      <td>10</td>\n",
       "      <td>9</td>\n",
       "    </tr>\n",
       "    <tr>\n",
       "      <th>...</th>\n",
       "      <td>...</td>\n",
       "      <td>...</td>\n",
       "    </tr>\n",
       "    <tr>\n",
       "      <th>49640</th>\n",
       "      <td>10</td>\n",
       "      <td>3</td>\n",
       "    </tr>\n",
       "    <tr>\n",
       "      <th>58658</th>\n",
       "      <td>12</td>\n",
       "      <td>8</td>\n",
       "    </tr>\n",
       "    <tr>\n",
       "      <th>91322</th>\n",
       "      <td>4</td>\n",
       "      <td>3</td>\n",
       "    </tr>\n",
       "    <tr>\n",
       "      <th>91668</th>\n",
       "      <td>4</td>\n",
       "      <td>2</td>\n",
       "    </tr>\n",
       "    <tr>\n",
       "      <th>79238</th>\n",
       "      <td>10</td>\n",
       "      <td>12</td>\n",
       "    </tr>\n",
       "  </tbody>\n",
       "</table>\n",
       "<p>15258 rows × 2 columns</p>\n",
       "</div>"
      ],
      "text/plain": [
       "       month  hour\n",
       "94957      3    10\n",
       "76353     10    17\n",
       "68949     11    16\n",
       "95389      8    10\n",
       "96712     10     9\n",
       "...      ...   ...\n",
       "49640     10     3\n",
       "58658     12     8\n",
       "91322      4     3\n",
       "91668      4     2\n",
       "79238     10    12\n",
       "\n",
       "[15258 rows x 2 columns]"
      ]
     },
     "execution_count": 132,
     "metadata": {},
     "output_type": "execute_result"
    }
   ],
   "source": [
    "X_train100"
   ]
  },
  {
   "cell_type": "code",
   "execution_count": 133,
   "metadata": {},
   "outputs": [
    {
     "name": "stdout",
     "output_type": "stream",
     "text": [
      "[1. 1. 1. ... 1. 1. 1.]\n",
      "0.9999999999956665\n",
      "[3.44127646e-13 3.98022028e-14]\n"
     ]
    }
   ],
   "source": [
    "from sklearn.linear_model import LinearRegression\n",
    "lin_mod=LinearRegression()\n",
    "lin_mod.fit(X_train100,Y_train100)\n",
    "predict_LR=lin_mod.predict(X_test100)\n",
    "\n",
    "print(predict_LR)\n",
    "\n",
    "print(lin_mod.intercept_)\n",
    "print(lin_mod.coef_)"
   ]
  },
  {
   "cell_type": "code",
   "execution_count": 134,
   "metadata": {},
   "outputs": [
    {
     "data": {
      "text/plain": [
       "array([1., 1., 1., ..., 1., 1., 1.])"
      ]
     },
     "execution_count": 134,
     "metadata": {},
     "output_type": "execute_result"
    }
   ],
   "source": [
    "# Now predict the Model which we made by the trainging data. We will test the \n",
    "#independent variables of test data set and generate the output \n",
    "# Y dependent variable.\n",
    "\n",
    "linY_predict100=lin_mod.predict(X_test100)\n",
    "linY_predict100"
   ]
  },
  {
   "cell_type": "code",
   "execution_count": 135,
   "metadata": {},
   "outputs": [
    {
     "data": {
      "text/plain": [
       "14024    1.0\n",
       "17993    1.0\n",
       "59612    1.0\n",
       "13976    1.0\n",
       "81436    1.0\n",
       "        ... \n",
       "86822    1.0\n",
       "57912    1.0\n",
       "3438     1.0\n",
       "19903    1.0\n",
       "90463    1.0\n",
       "Name: temp, Length: 5087, dtype: float64"
      ]
     },
     "execution_count": 135,
     "metadata": {},
     "output_type": "execute_result"
    }
   ],
   "source": [
    "Y_test100"
   ]
  },
  {
   "cell_type": "code",
   "execution_count": 136,
   "metadata": {},
   "outputs": [
    {
     "name": "stdout",
     "output_type": "stream",
     "text": [
      "RMSE VALUE FOR LINEAR REGRESSION IS :  1.348027397246746e-11\n"
     ]
    }
   ],
   "source": [
    "# lets calculate root means square error error\n",
    "from sklearn.metrics import mean_squared_error\n",
    "lin_mod_rmse=np.sqrt(mean_squared_error(linY_predict100,Y_test100))\n",
    "print(\"RMSE VALUE FOR LINEAR REGRESSION IS : \",lin_mod_rmse )"
   ]
  },
  {
   "cell_type": "code",
   "execution_count": 137,
   "metadata": {},
   "outputs": [
    {
     "data": {
      "text/html": [
       "<table class=\"simpletable\">\n",
       "<caption>OLS Regression Results</caption>\n",
       "<tr>\n",
       "  <th>Dep. Variable:</th>          <td>temp</td>       <th>  R-squared (uncentered):</th>      <td>   0.935</td> \n",
       "</tr>\n",
       "<tr>\n",
       "  <th>Model:</th>                   <td>OLS</td>       <th>  Adj. R-squared (uncentered):</th> <td>   0.935</td> \n",
       "</tr>\n",
       "<tr>\n",
       "  <th>Method:</th>             <td>Least Squares</td>  <th>  F-statistic:       </th>          <td>1.100e+05</td>\n",
       "</tr>\n",
       "<tr>\n",
       "  <th>Date:</th>             <td>Tue, 27 Sep 2022</td> <th>  Prob (F-statistic):</th>           <td>  0.00</td>  \n",
       "</tr>\n",
       "<tr>\n",
       "  <th>Time:</th>                 <td>18:58:05</td>     <th>  Log-Likelihood:    </th>          <td> -779.06</td> \n",
       "</tr>\n",
       "<tr>\n",
       "  <th>No. Observations:</th>      <td> 15258</td>      <th>  AIC:               </th>          <td>   1562.</td> \n",
       "</tr>\n",
       "<tr>\n",
       "  <th>Df Residuals:</th>          <td> 15256</td>      <th>  BIC:               </th>          <td>   1577.</td> \n",
       "</tr>\n",
       "<tr>\n",
       "  <th>Df Model:</th>              <td>     2</td>      <th>                     </th>              <td> </td>    \n",
       "</tr>\n",
       "<tr>\n",
       "  <th>Covariance Type:</th>      <td>nonrobust</td>    <th>                     </th>              <td> </td>    \n",
       "</tr>\n",
       "</table>\n",
       "<table class=\"simpletable\">\n",
       "<tr>\n",
       "    <td></td>       <th>coef</th>     <th>std err</th>      <th>t</th>      <th>P>|t|</th>  <th>[0.025</th>    <th>0.975]</th>  \n",
       "</tr>\n",
       "<tr>\n",
       "  <th>month</th> <td>    0.0789</td> <td>    0.000</td> <td>  188.681</td> <td> 0.000</td> <td>    0.078</td> <td>    0.080</td>\n",
       "</tr>\n",
       "<tr>\n",
       "  <th>hour</th>  <td>    0.0234</td> <td>    0.000</td> <td>   76.159</td> <td> 0.000</td> <td>    0.023</td> <td>    0.024</td>\n",
       "</tr>\n",
       "</table>\n",
       "<table class=\"simpletable\">\n",
       "<tr>\n",
       "  <th>Omnibus:</th>       <td>1024.505</td> <th>  Durbin-Watson:     </th> <td>   1.887</td> \n",
       "</tr>\n",
       "<tr>\n",
       "  <th>Prob(Omnibus):</th>  <td> 0.000</td>  <th>  Jarque-Bera (JB):  </th> <td>1242.608</td> \n",
       "</tr>\n",
       "<tr>\n",
       "  <th>Skew:</th>           <td> 0.697</td>  <th>  Prob(JB):          </th> <td>1.48e-270</td>\n",
       "</tr>\n",
       "<tr>\n",
       "  <th>Kurtosis:</th>       <td> 2.898</td>  <th>  Cond. No.          </th> <td>    3.56</td> \n",
       "</tr>\n",
       "</table><br/><br/>Notes:<br/>[1] R² is computed without centering (uncentered) since the model does not contain a constant.<br/>[2] Standard Errors assume that the covariance matrix of the errors is correctly specified."
      ],
      "text/plain": [
       "<class 'statsmodels.iolib.summary.Summary'>\n",
       "\"\"\"\n",
       "                                 OLS Regression Results                                \n",
       "=======================================================================================\n",
       "Dep. Variable:                   temp   R-squared (uncentered):                   0.935\n",
       "Model:                            OLS   Adj. R-squared (uncentered):              0.935\n",
       "Method:                 Least Squares   F-statistic:                          1.100e+05\n",
       "Date:                Tue, 27 Sep 2022   Prob (F-statistic):                        0.00\n",
       "Time:                        18:58:05   Log-Likelihood:                         -779.06\n",
       "No. Observations:               15258   AIC:                                      1562.\n",
       "Df Residuals:                   15256   BIC:                                      1577.\n",
       "Df Model:                           2                                                  \n",
       "Covariance Type:            nonrobust                                                  \n",
       "==============================================================================\n",
       "                 coef    std err          t      P>|t|      [0.025      0.975]\n",
       "------------------------------------------------------------------------------\n",
       "month          0.0789      0.000    188.681      0.000       0.078       0.080\n",
       "hour           0.0234      0.000     76.159      0.000       0.023       0.024\n",
       "==============================================================================\n",
       "Omnibus:                     1024.505   Durbin-Watson:                   1.887\n",
       "Prob(Omnibus):                  0.000   Jarque-Bera (JB):             1242.608\n",
       "Skew:                           0.697   Prob(JB):                    1.48e-270\n",
       "Kurtosis:                       2.898   Cond. No.                         3.56\n",
       "==============================================================================\n",
       "\n",
       "Notes:\n",
       "[1] R² is computed without centering (uncentered) since the model does not contain a constant.\n",
       "[2] Standard Errors assume that the covariance matrix of the errors is correctly specified.\n",
       "\"\"\""
      ]
     },
     "execution_count": 137,
     "metadata": {},
     "output_type": "execute_result"
    }
   ],
   "source": [
    "# NOW WE WILL CHECK OUR PREDICTION IS CORRECT OR NOT.\n",
    "# WE WILL DO REGRESSION MODEL EVALUATION BY USING OLS METHOD WHICH IS VERY RELIABLE .\n",
    "# IT WILL GENERATE R SEQUARE VALUE AND OTHER VALUES.\n",
    "from statsmodels.regression.linear_model import OLS\n",
    "import statsmodels.regression.linear_model as smf\n",
    "reg_model=smf.OLS(endog=Y_train100,exog=X_train100).fit()\n",
    "reg_model.summary()"
   ]
  },
  {
   "cell_type": "code",
   "execution_count": 138,
   "metadata": {},
   "outputs": [
    {
     "data": {
      "text/html": [
       "<table class=\"simpletable\">\n",
       "<caption>OLS Regression Results</caption>\n",
       "<tr>\n",
       "  <th>Dep. Variable:</th>          <td>temp</td>       <th>  R-squared (uncentered):</th>      <td>   0.933</td> \n",
       "</tr>\n",
       "<tr>\n",
       "  <th>Model:</th>                   <td>OLS</td>       <th>  Adj. R-squared (uncentered):</th> <td>   0.933</td> \n",
       "</tr>\n",
       "<tr>\n",
       "  <th>Method:</th>             <td>Least Squares</td>  <th>  F-statistic:       </th>          <td>3.558e+04</td>\n",
       "</tr>\n",
       "<tr>\n",
       "  <th>Date:</th>             <td>Tue, 27 Sep 2022</td> <th>  Prob (F-statistic):</th>           <td>  0.00</td>  \n",
       "</tr>\n",
       "<tr>\n",
       "  <th>Time:</th>                 <td>18:58:05</td>     <th>  Log-Likelihood:    </th>          <td> -331.22</td> \n",
       "</tr>\n",
       "<tr>\n",
       "  <th>No. Observations:</th>      <td>  5087</td>      <th>  AIC:               </th>          <td>   666.4</td> \n",
       "</tr>\n",
       "<tr>\n",
       "  <th>Df Residuals:</th>          <td>  5085</td>      <th>  BIC:               </th>          <td>   679.5</td> \n",
       "</tr>\n",
       "<tr>\n",
       "  <th>Df Model:</th>              <td>     2</td>      <th>                     </th>              <td> </td>    \n",
       "</tr>\n",
       "<tr>\n",
       "  <th>Covariance Type:</th>      <td>nonrobust</td>    <th>                     </th>              <td> </td>    \n",
       "</tr>\n",
       "</table>\n",
       "<table class=\"simpletable\">\n",
       "<tr>\n",
       "    <td></td>       <th>coef</th>     <th>std err</th>      <th>t</th>      <th>P>|t|</th>  <th>[0.025</th>    <th>0.975]</th>  \n",
       "</tr>\n",
       "<tr>\n",
       "  <th>month</th> <td>    0.0799</td> <td>    0.001</td> <td>  108.283</td> <td> 0.000</td> <td>    0.078</td> <td>    0.081</td>\n",
       "</tr>\n",
       "<tr>\n",
       "  <th>hour</th>  <td>    0.0226</td> <td>    0.001</td> <td>   41.017</td> <td> 0.000</td> <td>    0.022</td> <td>    0.024</td>\n",
       "</tr>\n",
       "</table>\n",
       "<table class=\"simpletable\">\n",
       "<tr>\n",
       "  <th>Omnibus:</th>       <td>368.597</td> <th>  Durbin-Watson:     </th> <td>   1.889</td>\n",
       "</tr>\n",
       "<tr>\n",
       "  <th>Prob(Omnibus):</th> <td> 0.000</td>  <th>  Jarque-Bera (JB):  </th> <td> 452.263</td>\n",
       "</tr>\n",
       "<tr>\n",
       "  <th>Skew:</th>          <td> 0.728</td>  <th>  Prob(JB):          </th> <td>6.20e-99</td>\n",
       "</tr>\n",
       "<tr>\n",
       "  <th>Kurtosis:</th>      <td> 2.882</td>  <th>  Cond. No.          </th> <td>    3.57</td>\n",
       "</tr>\n",
       "</table><br/><br/>Notes:<br/>[1] R² is computed without centering (uncentered) since the model does not contain a constant.<br/>[2] Standard Errors assume that the covariance matrix of the errors is correctly specified."
      ],
      "text/plain": [
       "<class 'statsmodels.iolib.summary.Summary'>\n",
       "\"\"\"\n",
       "                                 OLS Regression Results                                \n",
       "=======================================================================================\n",
       "Dep. Variable:                   temp   R-squared (uncentered):                   0.933\n",
       "Model:                            OLS   Adj. R-squared (uncentered):              0.933\n",
       "Method:                 Least Squares   F-statistic:                          3.558e+04\n",
       "Date:                Tue, 27 Sep 2022   Prob (F-statistic):                        0.00\n",
       "Time:                        18:58:05   Log-Likelihood:                         -331.22\n",
       "No. Observations:                5087   AIC:                                      666.4\n",
       "Df Residuals:                    5085   BIC:                                      679.5\n",
       "Df Model:                           2                                                  \n",
       "Covariance Type:            nonrobust                                                  \n",
       "==============================================================================\n",
       "                 coef    std err          t      P>|t|      [0.025      0.975]\n",
       "------------------------------------------------------------------------------\n",
       "month          0.0799      0.001    108.283      0.000       0.078       0.081\n",
       "hour           0.0226      0.001     41.017      0.000       0.022       0.024\n",
       "==============================================================================\n",
       "Omnibus:                      368.597   Durbin-Watson:                   1.889\n",
       "Prob(Omnibus):                  0.000   Jarque-Bera (JB):              452.263\n",
       "Skew:                           0.728   Prob(JB):                     6.20e-99\n",
       "Kurtosis:                       2.882   Cond. No.                         3.57\n",
       "==============================================================================\n",
       "\n",
       "Notes:\n",
       "[1] R² is computed without centering (uncentered) since the model does not contain a constant.\n",
       "[2] Standard Errors assume that the covariance matrix of the errors is correctly specified.\n",
       "\"\"\""
      ]
     },
     "execution_count": 138,
     "metadata": {},
     "output_type": "execute_result"
    }
   ],
   "source": [
    "reg_model=smf.OLS(endog=Y_test100,exog=X_test100).fit()\n",
    "reg_model.summary()"
   ]
  },
  {
   "cell_type": "code",
   "execution_count": null,
   "metadata": {},
   "outputs": [],
   "source": []
  },
  {
   "cell_type": "code",
   "execution_count": null,
   "metadata": {},
   "outputs": [],
   "source": []
  },
  {
   "cell_type": "code",
   "execution_count": null,
   "metadata": {},
   "outputs": [],
   "source": []
  },
  {
   "cell_type": "code",
   "execution_count": null,
   "metadata": {},
   "outputs": [],
   "source": []
  },
  {
   "cell_type": "code",
   "execution_count": null,
   "metadata": {},
   "outputs": [],
   "source": []
  },
  {
   "cell_type": "code",
   "execution_count": null,
   "metadata": {},
   "outputs": [],
   "source": []
  },
  {
   "cell_type": "code",
   "execution_count": null,
   "metadata": {},
   "outputs": [],
   "source": []
  },
  {
   "cell_type": "code",
   "execution_count": null,
   "metadata": {},
   "outputs": [],
   "source": []
  },
  {
   "cell_type": "code",
   "execution_count": null,
   "metadata": {},
   "outputs": [],
   "source": []
  },
  {
   "cell_type": "code",
   "execution_count": null,
   "metadata": {},
   "outputs": [],
   "source": []
  },
  {
   "cell_type": "code",
   "execution_count": null,
   "metadata": {},
   "outputs": [],
   "source": []
  },
  {
   "cell_type": "code",
   "execution_count": null,
   "metadata": {},
   "outputs": [],
   "source": []
  },
  {
   "cell_type": "code",
   "execution_count": null,
   "metadata": {},
   "outputs": [],
   "source": []
  },
  {
   "cell_type": "code",
   "execution_count": null,
   "metadata": {},
   "outputs": [],
   "source": []
  },
  {
   "cell_type": "code",
   "execution_count": null,
   "metadata": {},
   "outputs": [],
   "source": []
  },
  {
   "cell_type": "code",
   "execution_count": null,
   "metadata": {},
   "outputs": [],
   "source": []
  },
  {
   "cell_type": "code",
   "execution_count": null,
   "metadata": {},
   "outputs": [],
   "source": []
  },
  {
   "cell_type": "code",
   "execution_count": null,
   "metadata": {},
   "outputs": [],
   "source": []
  },
  {
   "cell_type": "code",
   "execution_count": null,
   "metadata": {},
   "outputs": [],
   "source": []
  },
  {
   "cell_type": "code",
   "execution_count": null,
   "metadata": {},
   "outputs": [],
   "source": []
  },
  {
   "cell_type": "code",
   "execution_count": null,
   "metadata": {},
   "outputs": [],
   "source": []
  },
  {
   "cell_type": "code",
   "execution_count": null,
   "metadata": {},
   "outputs": [],
   "source": []
  },
  {
   "cell_type": "code",
   "execution_count": null,
   "metadata": {},
   "outputs": [],
   "source": []
  },
  {
   "cell_type": "code",
   "execution_count": null,
   "metadata": {},
   "outputs": [],
   "source": []
  },
  {
   "cell_type": "code",
   "execution_count": null,
   "metadata": {},
   "outputs": [],
   "source": []
  },
  {
   "cell_type": "code",
   "execution_count": null,
   "metadata": {},
   "outputs": [],
   "source": []
  },
  {
   "cell_type": "code",
   "execution_count": null,
   "metadata": {},
   "outputs": [],
   "source": []
  },
  {
   "cell_type": "code",
   "execution_count": null,
   "metadata": {},
   "outputs": [],
   "source": []
  },
  {
   "cell_type": "code",
   "execution_count": null,
   "metadata": {},
   "outputs": [],
   "source": []
  },
  {
   "cell_type": "code",
   "execution_count": null,
   "metadata": {},
   "outputs": [],
   "source": []
  },
  {
   "cell_type": "code",
   "execution_count": null,
   "metadata": {},
   "outputs": [],
   "source": []
  },
  {
   "cell_type": "code",
   "execution_count": null,
   "metadata": {},
   "outputs": [],
   "source": []
  },
  {
   "cell_type": "code",
   "execution_count": null,
   "metadata": {},
   "outputs": [],
   "source": []
  },
  {
   "cell_type": "code",
   "execution_count": null,
   "metadata": {},
   "outputs": [],
   "source": []
  },
  {
   "cell_type": "code",
   "execution_count": null,
   "metadata": {},
   "outputs": [],
   "source": []
  },
  {
   "cell_type": "code",
   "execution_count": null,
   "metadata": {},
   "outputs": [],
   "source": []
  },
  {
   "cell_type": "code",
   "execution_count": null,
   "metadata": {},
   "outputs": [],
   "source": []
  },
  {
   "cell_type": "code",
   "execution_count": null,
   "metadata": {},
   "outputs": [],
   "source": []
  },
  {
   "cell_type": "code",
   "execution_count": null,
   "metadata": {},
   "outputs": [],
   "source": []
  },
  {
   "cell_type": "code",
   "execution_count": null,
   "metadata": {},
   "outputs": [],
   "source": []
  },
  {
   "cell_type": "code",
   "execution_count": null,
   "metadata": {},
   "outputs": [],
   "source": []
  },
  {
   "cell_type": "code",
   "execution_count": null,
   "metadata": {},
   "outputs": [],
   "source": []
  },
  {
   "cell_type": "code",
   "execution_count": null,
   "metadata": {},
   "outputs": [],
   "source": []
  },
  {
   "cell_type": "code",
   "execution_count": null,
   "metadata": {},
   "outputs": [],
   "source": []
  },
  {
   "cell_type": "code",
   "execution_count": null,
   "metadata": {},
   "outputs": [],
   "source": []
  },
  {
   "cell_type": "code",
   "execution_count": null,
   "metadata": {},
   "outputs": [],
   "source": []
  },
  {
   "cell_type": "code",
   "execution_count": null,
   "metadata": {},
   "outputs": [],
   "source": []
  },
  {
   "cell_type": "code",
   "execution_count": null,
   "metadata": {},
   "outputs": [],
   "source": []
  },
  {
   "cell_type": "code",
   "execution_count": null,
   "metadata": {},
   "outputs": [],
   "source": []
  },
  {
   "cell_type": "code",
   "execution_count": null,
   "metadata": {},
   "outputs": [],
   "source": []
  },
  {
   "cell_type": "code",
   "execution_count": null,
   "metadata": {},
   "outputs": [],
   "source": []
  },
  {
   "cell_type": "code",
   "execution_count": null,
   "metadata": {},
   "outputs": [],
   "source": []
  },
  {
   "cell_type": "code",
   "execution_count": null,
   "metadata": {},
   "outputs": [],
   "source": []
  },
  {
   "cell_type": "code",
   "execution_count": null,
   "metadata": {},
   "outputs": [],
   "source": []
  },
  {
   "cell_type": "code",
   "execution_count": null,
   "metadata": {},
   "outputs": [],
   "source": []
  },
  {
   "cell_type": "code",
   "execution_count": null,
   "metadata": {},
   "outputs": [],
   "source": []
  },
  {
   "cell_type": "code",
   "execution_count": null,
   "metadata": {},
   "outputs": [],
   "source": []
  },
  {
   "cell_type": "code",
   "execution_count": null,
   "metadata": {},
   "outputs": [],
   "source": []
  },
  {
   "cell_type": "code",
   "execution_count": null,
   "metadata": {},
   "outputs": [],
   "source": []
  },
  {
   "cell_type": "code",
   "execution_count": null,
   "metadata": {},
   "outputs": [],
   "source": []
  },
  {
   "cell_type": "code",
   "execution_count": null,
   "metadata": {},
   "outputs": [],
   "source": []
  },
  {
   "cell_type": "code",
   "execution_count": null,
   "metadata": {},
   "outputs": [],
   "source": []
  },
  {
   "cell_type": "code",
   "execution_count": null,
   "metadata": {},
   "outputs": [],
   "source": [
    "\n"
   ]
  },
  {
   "cell_type": "code",
   "execution_count": null,
   "metadata": {},
   "outputs": [],
   "source": []
  },
  {
   "cell_type": "code",
   "execution_count": null,
   "metadata": {},
   "outputs": [],
   "source": []
  },
  {
   "cell_type": "code",
   "execution_count": null,
   "metadata": {},
   "outputs": [],
   "source": []
  },
  {
   "cell_type": "code",
   "execution_count": null,
   "metadata": {},
   "outputs": [],
   "source": []
  },
  {
   "cell_type": "code",
   "execution_count": null,
   "metadata": {},
   "outputs": [],
   "source": []
  },
  {
   "cell_type": "code",
   "execution_count": null,
   "metadata": {},
   "outputs": [],
   "source": []
  },
  {
   "cell_type": "code",
   "execution_count": null,
   "metadata": {},
   "outputs": [],
   "source": []
  },
  {
   "cell_type": "code",
   "execution_count": null,
   "metadata": {},
   "outputs": [],
   "source": []
  },
  {
   "cell_type": "code",
   "execution_count": null,
   "metadata": {},
   "outputs": [],
   "source": []
  },
  {
   "cell_type": "code",
   "execution_count": null,
   "metadata": {},
   "outputs": [],
   "source": []
  },
  {
   "cell_type": "code",
   "execution_count": null,
   "metadata": {},
   "outputs": [],
   "source": []
  },
  {
   "cell_type": "code",
   "execution_count": null,
   "metadata": {},
   "outputs": [],
   "source": []
  },
  {
   "cell_type": "code",
   "execution_count": null,
   "metadata": {},
   "outputs": [],
   "source": []
  },
  {
   "cell_type": "code",
   "execution_count": null,
   "metadata": {},
   "outputs": [],
   "source": []
  },
  {
   "cell_type": "code",
   "execution_count": null,
   "metadata": {},
   "outputs": [],
   "source": []
  },
  {
   "cell_type": "code",
   "execution_count": null,
   "metadata": {},
   "outputs": [],
   "source": []
  },
  {
   "cell_type": "code",
   "execution_count": null,
   "metadata": {},
   "outputs": [],
   "source": []
  },
  {
   "cell_type": "code",
   "execution_count": null,
   "metadata": {},
   "outputs": [],
   "source": []
  },
  {
   "cell_type": "code",
   "execution_count": null,
   "metadata": {},
   "outputs": [],
   "source": []
  },
  {
   "cell_type": "code",
   "execution_count": null,
   "metadata": {},
   "outputs": [],
   "source": []
  },
  {
   "cell_type": "code",
   "execution_count": null,
   "metadata": {},
   "outputs": [],
   "source": []
  },
  {
   "cell_type": "code",
   "execution_count": null,
   "metadata": {},
   "outputs": [],
   "source": []
  },
  {
   "cell_type": "code",
   "execution_count": null,
   "metadata": {},
   "outputs": [],
   "source": []
  },
  {
   "cell_type": "code",
   "execution_count": null,
   "metadata": {},
   "outputs": [],
   "source": []
  },
  {
   "cell_type": "code",
   "execution_count": null,
   "metadata": {},
   "outputs": [],
   "source": []
  },
  {
   "cell_type": "code",
   "execution_count": null,
   "metadata": {},
   "outputs": [],
   "source": []
  },
  {
   "cell_type": "code",
   "execution_count": null,
   "metadata": {},
   "outputs": [],
   "source": []
  },
  {
   "cell_type": "code",
   "execution_count": null,
   "metadata": {},
   "outputs": [],
   "source": []
  },
  {
   "cell_type": "code",
   "execution_count": null,
   "metadata": {},
   "outputs": [],
   "source": []
  },
  {
   "cell_type": "code",
   "execution_count": null,
   "metadata": {},
   "outputs": [],
   "source": []
  },
  {
   "cell_type": "code",
   "execution_count": null,
   "metadata": {},
   "outputs": [],
   "source": []
  },
  {
   "cell_type": "code",
   "execution_count": null,
   "metadata": {},
   "outputs": [],
   "source": []
  },
  {
   "cell_type": "code",
   "execution_count": null,
   "metadata": {},
   "outputs": [],
   "source": []
  },
  {
   "cell_type": "code",
   "execution_count": null,
   "metadata": {},
   "outputs": [],
   "source": []
  },
  {
   "cell_type": "code",
   "execution_count": null,
   "metadata": {},
   "outputs": [],
   "source": []
  },
  {
   "cell_type": "code",
   "execution_count": null,
   "metadata": {},
   "outputs": [],
   "source": []
  },
  {
   "cell_type": "code",
   "execution_count": null,
   "metadata": {},
   "outputs": [],
   "source": []
  },
  {
   "cell_type": "code",
   "execution_count": null,
   "metadata": {},
   "outputs": [],
   "source": []
  },
  {
   "cell_type": "code",
   "execution_count": null,
   "metadata": {},
   "outputs": [],
   "source": []
  },
  {
   "cell_type": "code",
   "execution_count": null,
   "metadata": {},
   "outputs": [],
   "source": []
  },
  {
   "cell_type": "code",
   "execution_count": null,
   "metadata": {},
   "outputs": [],
   "source": []
  },
  {
   "cell_type": "code",
   "execution_count": null,
   "metadata": {},
   "outputs": [],
   "source": []
  },
  {
   "cell_type": "code",
   "execution_count": null,
   "metadata": {},
   "outputs": [],
   "source": []
  },
  {
   "cell_type": "code",
   "execution_count": null,
   "metadata": {},
   "outputs": [],
   "source": []
  },
  {
   "cell_type": "code",
   "execution_count": null,
   "metadata": {},
   "outputs": [],
   "source": []
  },
  {
   "cell_type": "code",
   "execution_count": null,
   "metadata": {},
   "outputs": [],
   "source": []
  },
  {
   "cell_type": "code",
   "execution_count": null,
   "metadata": {},
   "outputs": [],
   "source": []
  },
  {
   "cell_type": "code",
   "execution_count": null,
   "metadata": {},
   "outputs": [],
   "source": []
  }
 ],
 "metadata": {
  "kernelspec": {
   "display_name": "Python 3",
   "language": "python",
   "name": "python3"
  },
  "language_info": {
   "codemirror_mode": {
    "name": "ipython",
    "version": 3
   },
   "file_extension": ".py",
   "mimetype": "text/x-python",
   "name": "python",
   "nbconvert_exporter": "python",
   "pygments_lexer": "ipython3",
   "version": "3.8.3"
  }
 },
 "nbformat": 4,
 "nbformat_minor": 5
}
