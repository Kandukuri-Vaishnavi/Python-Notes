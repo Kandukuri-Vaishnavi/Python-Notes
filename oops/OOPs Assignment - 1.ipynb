{
 "cells": [
  {
   "cell_type": "code",
   "execution_count": 1,
   "metadata": {},
   "outputs": [],
   "source": [
    "# Q1. \n",
    "# a. Write a program to create a class Rectangle. Initialize the length and breadth of the rectangle \n",
    "# using constructor.\n",
    "\n",
    "# b. Create 2 instance methods: one to return the area and another to \n",
    "# return the perimeter of the given rectangle.\n",
    "\n",
    "# c. Create 3 Rectangle objects. Each object will take 2 values as mentioned above - \n",
    "# length and breadth of that rectangle.\n",
    "\n",
    "# d. print the area and perimeters of each rectangle object.\n",
    "class Rectangle:\n",
    "    def __init__(self,length,breadth):\n",
    "        self.len=length\n",
    "        self.bre=breadth\n",
    "    def area(self):\n",
    "        return f'area is {self.len*self.bre}'\n",
    "    def perimeter(self):\n",
    "        return f'perimeter is{2*(self.len+self.bre)}'\n",
    "        "
   ]
  },
  {
   "cell_type": "code",
   "execution_count": 2,
   "metadata": {},
   "outputs": [],
   "source": [
    "r1=Rectangle(4,5)"
   ]
  },
  {
   "cell_type": "code",
   "execution_count": 3,
   "metadata": {},
   "outputs": [
    {
     "data": {
      "text/plain": [
       "'area is 20'"
      ]
     },
     "execution_count": 3,
     "metadata": {},
     "output_type": "execute_result"
    }
   ],
   "source": [
    "r1.area()"
   ]
  },
  {
   "cell_type": "code",
   "execution_count": 4,
   "metadata": {},
   "outputs": [
    {
     "data": {
      "text/plain": [
       "'perimeter is18'"
      ]
     },
     "execution_count": 4,
     "metadata": {},
     "output_type": "execute_result"
    }
   ],
   "source": [
    "r1.perimeter()"
   ]
  },
  {
   "cell_type": "code",
   "execution_count": 5,
   "metadata": {},
   "outputs": [],
   "source": [
    "r2=Rectangle(3,15)\n",
    "r3=Rectangle(9,6)"
   ]
  },
  {
   "cell_type": "code",
   "execution_count": 6,
   "metadata": {},
   "outputs": [
    {
     "name": "stdout",
     "output_type": "stream",
     "text": [
      "r2 area is area is 45\n",
      "r2 perimeter is perimeter is36\n",
      "r3 area is area is 54\n",
      "r3 perimeter is perimeter is30\n"
     ]
    }
   ],
   "source": [
    "print('r2 area is',r2.area())\n",
    "print('r2 perimeter is' ,r2.perimeter())\n",
    "print('r3 area is', r3.area())\n",
    "print('r3 perimeter is', r3.perimeter())"
   ]
  },
  {
   "cell_type": "code",
   "execution_count": 7,
   "metadata": {},
   "outputs": [],
   "source": [
    "# Q2. \n",
    "# a. Add documentation for class Rectangle.\n",
    "# b. Check the doc using special method\n",
    "# c. Print all the details of the class (Use special attribute)\n",
    "# d. Print all the details of the class (Use help)\n",
    "# Observe the differences\n",
    "class Rectangle:\n",
    "    ''' This method givess area and perimeter of the rectangle\n",
    "    '''\n",
    "    def __init__(self,length,breadth):\n",
    "        self.len=length\n",
    "        self.bre=breadth\n",
    "    def area(self):\n",
    "        return f'area is {self.len*self.bre}'\n",
    "    def perimeter(self):\n",
    "        return f'perimeter is{2*(self.len+self.bre)}'\n",
    "        \n"
   ]
  },
  {
   "cell_type": "code",
   "execution_count": 8,
   "metadata": {},
   "outputs": [
    {
     "data": {
      "text/plain": [
       "' This method givess area and perimeter of the rectangle\\n    '"
      ]
     },
     "execution_count": 8,
     "metadata": {},
     "output_type": "execute_result"
    }
   ],
   "source": [
    "Rectangle.__doc__"
   ]
  },
  {
   "cell_type": "code",
   "execution_count": 9,
   "metadata": {},
   "outputs": [
    {
     "data": {
      "text/plain": [
       "mappingproxy({'__module__': '__main__',\n",
       "              '__doc__': ' This method givess area and perimeter of the rectangle\\n    ',\n",
       "              '__init__': <function __main__.Rectangle.__init__(self, length, breadth)>,\n",
       "              'area': <function __main__.Rectangle.area(self)>,\n",
       "              'perimeter': <function __main__.Rectangle.perimeter(self)>,\n",
       "              '__dict__': <attribute '__dict__' of 'Rectangle' objects>,\n",
       "              '__weakref__': <attribute '__weakref__' of 'Rectangle' objects>})"
      ]
     },
     "execution_count": 9,
     "metadata": {},
     "output_type": "execute_result"
    }
   ],
   "source": [
    "Rectangle.__dict__"
   ]
  },
  {
   "cell_type": "code",
   "execution_count": 10,
   "metadata": {},
   "outputs": [
    {
     "name": "stdout",
     "output_type": "stream",
     "text": [
      "Help on class Rectangle in module __main__:\n",
      "\n",
      "class Rectangle(builtins.object)\n",
      " |  Rectangle(length, breadth)\n",
      " |  \n",
      " |  This method givess area and perimeter of the rectangle\n",
      " |  \n",
      " |  Methods defined here:\n",
      " |  \n",
      " |  __init__(self, length, breadth)\n",
      " |      Initialize self.  See help(type(self)) for accurate signature.\n",
      " |  \n",
      " |  area(self)\n",
      " |  \n",
      " |  perimeter(self)\n",
      " |  \n",
      " |  ----------------------------------------------------------------------\n",
      " |  Data descriptors defined here:\n",
      " |  \n",
      " |  __dict__\n",
      " |      dictionary for instance variables (if defined)\n",
      " |  \n",
      " |  __weakref__\n",
      " |      list of weak references to the object (if defined)\n",
      "\n"
     ]
    }
   ],
   "source": [
    "help(Rectangle)"
   ]
  },
  {
   "cell_type": "code",
   "execution_count": 11,
   "metadata": {},
   "outputs": [],
   "source": [
    "# Q3. \n",
    "# a. Access the attributes using a object\n",
    "# b. Change the height of a rectangle object\n",
    "# c. Check if makes any difference to the height attribute of other objects.\n",
    "# d. Add a new attribute to one of the objects\n",
    "# e. Check if the attribute is available to new objects of the class\n",
    "class Rectangle:\n",
    "    def __init__(self,length,breadth):\n",
    "        self.len=length\n",
    "        self.bre=breadth\n",
    "    def area(self):\n",
    "        return f'area is {self.len*self.bre}'\n",
    "    def perimeter(self):\n",
    "        return f'perimeter is{2*(self.len+self.bre)}'\n",
    "        \n"
   ]
  },
  {
   "cell_type": "code",
   "execution_count": 12,
   "metadata": {},
   "outputs": [
    {
     "data": {
      "text/plain": [
       "4"
      ]
     },
     "execution_count": 12,
     "metadata": {},
     "output_type": "execute_result"
    }
   ],
   "source": [
    "# a. Access the attributes using a object\n",
    "r1.len"
   ]
  },
  {
   "cell_type": "code",
   "execution_count": 13,
   "metadata": {},
   "outputs": [
    {
     "data": {
      "text/plain": [
       "15"
      ]
     },
     "execution_count": 13,
     "metadata": {},
     "output_type": "execute_result"
    }
   ],
   "source": [
    "r2.bre"
   ]
  },
  {
   "cell_type": "code",
   "execution_count": 14,
   "metadata": {},
   "outputs": [],
   "source": [
    "# b. Change the height of a rectangle object(heig=len)\n",
    "r1.len=9"
   ]
  },
  {
   "cell_type": "code",
   "execution_count": 15,
   "metadata": {},
   "outputs": [
    {
     "data": {
      "text/plain": [
       "9"
      ]
     },
     "execution_count": 15,
     "metadata": {},
     "output_type": "execute_result"
    }
   ],
   "source": [
    "r1.len\n"
   ]
  },
  {
   "cell_type": "code",
   "execution_count": 16,
   "metadata": {},
   "outputs": [
    {
     "data": {
      "text/plain": [
       "'area is 45'"
      ]
     },
     "execution_count": 16,
     "metadata": {},
     "output_type": "execute_result"
    }
   ],
   "source": [
    "# c. Check if makes any difference to the height attribute of other objects.\n",
    "r1.area()"
   ]
  },
  {
   "cell_type": "code",
   "execution_count": 17,
   "metadata": {},
   "outputs": [
    {
     "data": {
      "text/plain": [
       "{'len': 9, 'bre': 5}"
      ]
     },
     "execution_count": 17,
     "metadata": {},
     "output_type": "execute_result"
    }
   ],
   "source": [
    "# d. Add a new attribute to one of the objects\n",
    "r1.__dict__"
   ]
  },
  {
   "cell_type": "code",
   "execution_count": 18,
   "metadata": {},
   "outputs": [],
   "source": [
    "r1.col='red'"
   ]
  },
  {
   "cell_type": "code",
   "execution_count": 19,
   "metadata": {},
   "outputs": [
    {
     "data": {
      "text/plain": [
       "{'len': 9, 'bre': 5, 'col': 'red'}"
      ]
     },
     "execution_count": 19,
     "metadata": {},
     "output_type": "execute_result"
    }
   ],
   "source": [
    "r1.__dict__"
   ]
  },
  {
   "cell_type": "code",
   "execution_count": 20,
   "metadata": {},
   "outputs": [],
   "source": [
    "# e. Check if the attribute is available to new objects of the class\n",
    "r4=Rectangle(2,9)\n",
    "#no it will not be available"
   ]
  },
  {
   "cell_type": "code",
   "execution_count": 21,
   "metadata": {},
   "outputs": [],
   "source": [
    "# Q4.\n",
    "# a. Create a class Contacts and define a __init__() method.\n",
    "# Take 2 attributes while initializing - name and mobile number.\n",
    "\n",
    "# b. Define a class variable - contact list - in which the objects of the Contacts class will be \n",
    "# appended at the time of instantiation.\n",
    "\n",
    "# c. Define a method which takes a 'name' of a contact (object) as an argument \n",
    "# and returns the mobile number of that contact (object).\n",
    "# Hint: Use the contact list class variable in which the objects are stored to fetch \n",
    "# the mobile number using the name.\n",
    "class contacts:\n",
    "    contact_list=[]\n",
    "    \n",
    "    def __init__(self,name,mobile):\n",
    "        self.name=name\n",
    "        self.mobile=mobile\n",
    "        contacts.contact_list.append(self)\n",
    "        \n",
    "    def name_mob(self,name):\n",
    "        for i in contacts.contact_list:\n",
    "            if i.name==name:\n",
    "               return i.mobile\n",
    "        \n",
    "            return 'not found'\n",
    "        "
   ]
  },
  {
   "cell_type": "code",
   "execution_count": 22,
   "metadata": {},
   "outputs": [],
   "source": [
    "class contacts:\n",
    "    contact_list=[]\n",
    "    \n",
    "    def __init__(self,name,mobile):\n",
    "        self.name=name\n",
    "        self.mobile=mobile\n",
    "        contacts.contact_list.append(self)\n",
    "        \n",
    "    @classmethod \n",
    "    def name_mob(cls,name):\n",
    "        for i in contacts.contact_list:\n",
    "            if i.name==name:\n",
    "               return i.mobile\n",
    "        \n",
    "            return 'not found'\n",
    "        "
   ]
  },
  {
   "cell_type": "code",
   "execution_count": 23,
   "metadata": {},
   "outputs": [],
   "source": [
    "class Contacts:\n",
    "    contact_list = []\n",
    "    \n",
    "    def __init__(self, name, mobile):\n",
    "        self.name = name\n",
    "        self.mobile = mobile\n",
    "        Contacts.contact_list.append(self)\n",
    "        \n",
    "    \n",
    "    def get_mobile(self, name):\n",
    "        for obj in Contacts.contact_list:\n",
    "            if obj.name == name:\n",
    "                return obj.mobile\n",
    "            \n",
    "            return 'Not found'"
   ]
  },
  {
   "cell_type": "code",
   "execution_count": 24,
   "metadata": {},
   "outputs": [],
   "source": [
    "c1=contacts('ram',111)\n",
    "c2=contacts('sita',112)"
   ]
  },
  {
   "cell_type": "code",
   "execution_count": 25,
   "metadata": {},
   "outputs": [
    {
     "data": {
      "text/plain": [
       "111"
      ]
     },
     "execution_count": 25,
     "metadata": {},
     "output_type": "execute_result"
    }
   ],
   "source": [
    "c1.name_mob('ram')"
   ]
  },
  {
   "cell_type": "code",
   "execution_count": 26,
   "metadata": {},
   "outputs": [
    {
     "data": {
      "text/plain": [
       "111"
      ]
     },
     "execution_count": 26,
     "metadata": {},
     "output_type": "execute_result"
    }
   ],
   "source": [
    "contacts.name_mob('ram')"
   ]
  },
  {
   "cell_type": "code",
   "execution_count": null,
   "metadata": {},
   "outputs": [],
   "source": []
  },
  {
   "cell_type": "code",
   "execution_count": null,
   "metadata": {},
   "outputs": [],
   "source": []
  },
  {
   "cell_type": "code",
   "execution_count": 34,
   "metadata": {},
   "outputs": [],
   "source": [
    "# Q5.\n",
    "# a. Create a class Square. Define a initializer that initializes one attribute - side of the square.\n",
    "# b. Define 2 methods - area and perimeter which returns the area and the perimeter respectively.\n",
    "# c. Change the side attribute to private\n",
    "# d. Create getter and setter methods for side attribute. Write a logic which does not allow \n",
    "# anyone to set the side to a negative or zero value.\n",
    "\n",
    "# Do we need to change the area and perimeter methods after changing the side attibute to private?\n",
    "class square:\n",
    "    def __init__(self,side):\n",
    "        self.__side=side\n",
    "    @property   \n",
    "    def get_side(self): # Getter\n",
    "        return self.__side\n",
    "    @get_side.setter\n",
    "    def set_side(self, s): # Setter\n",
    "        if s < 0:\n",
    "            print(\"side can't be negative\")\n",
    "        else:\n",
    "            self.__side = s\n",
    "        \n",
    "    def area(self):\n",
    "        return f\"area is{self.__side*4}\"\n",
    "    \n",
    "    def perimeter(self):\n",
    "        return f\"perimetr is{self.__side*2}\"\n",
    "    def __gt__(self, other):\n",
    "        return self.area() > other.area()\n",
    "    def __add__(self, other):\n",
    "        return self.area() + other.area() \n",
    "    def __sub__(self,other):\n",
    "        return self.area() - other.area() \n",
    "    def __str__(self):\n",
    "        return f\"Length->{self.side}\"\n",
    "    \n"
   ]
  },
  {
   "cell_type": "code",
   "execution_count": 35,
   "metadata": {},
   "outputs": [],
   "source": [
    "s1=square(3)"
   ]
  },
  {
   "cell_type": "code",
   "execution_count": 36,
   "metadata": {},
   "outputs": [
    {
     "name": "stdout",
     "output_type": "stream",
     "text": [
      "3\n"
     ]
    }
   ],
   "source": [
    "print(s1.get_side)"
   ]
  },
  {
   "cell_type": "code",
   "execution_count": 37,
   "metadata": {},
   "outputs": [
    {
     "name": "stdout",
     "output_type": "stream",
     "text": [
      "side can't be negative\n"
     ]
    }
   ],
   "source": [
    "s1.set_side=-4"
   ]
  },
  {
   "cell_type": "code",
   "execution_count": 38,
   "metadata": {},
   "outputs": [
    {
     "data": {
      "text/plain": [
       "3"
      ]
     },
     "execution_count": 38,
     "metadata": {},
     "output_type": "execute_result"
    }
   ],
   "source": [
    "s1.get_side"
   ]
  },
  {
   "cell_type": "code",
   "execution_count": 39,
   "metadata": {},
   "outputs": [
    {
     "data": {
      "text/plain": [
       "'area is12'"
      ]
     },
     "execution_count": 39,
     "metadata": {},
     "output_type": "execute_result"
    }
   ],
   "source": [
    "s1.area()"
   ]
  },
  {
   "cell_type": "code",
   "execution_count": 40,
   "metadata": {},
   "outputs": [
    {
     "data": {
      "text/plain": [
       "'perimetr is6'"
      ]
     },
     "execution_count": 40,
     "metadata": {},
     "output_type": "execute_result"
    }
   ],
   "source": [
    "s1.perimeter()"
   ]
  },
  {
   "cell_type": "code",
   "execution_count": 42,
   "metadata": {},
   "outputs": [],
   "source": [
    "s2=square(5)"
   ]
  },
  {
   "cell_type": "code",
   "execution_count": 43,
   "metadata": {},
   "outputs": [
    {
     "data": {
      "text/plain": [
       "'area is12area is20'"
      ]
     },
     "execution_count": 43,
     "metadata": {},
     "output_type": "execute_result"
    }
   ],
   "source": [
    "s1+s2"
   ]
  },
  {
   "cell_type": "code",
   "execution_count": null,
   "metadata": {},
   "outputs": [],
   "source": []
  }
 ],
 "metadata": {
  "kernelspec": {
   "display_name": "Python 3",
   "language": "python",
   "name": "python3"
  },
  "language_info": {
   "codemirror_mode": {
    "name": "ipython",
    "version": 3
   },
   "file_extension": ".py",
   "mimetype": "text/x-python",
   "name": "python",
   "nbconvert_exporter": "python",
   "pygments_lexer": "ipython3",
   "version": "3.8.3"
  }
 },
 "nbformat": 4,
 "nbformat_minor": 5
}
